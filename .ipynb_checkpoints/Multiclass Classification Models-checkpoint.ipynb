{
 "cells": [
  {
   "cell_type": "markdown",
   "id": "253a70d0",
   "metadata": {},
   "source": [
    "# Multiclass Classification Models"
   ]
  },
  {
   "cell_type": "markdown",
   "id": "e2cdeca6",
   "metadata": {},
   "source": [
    "Project: **Predicting Shipment Outcomes and Inferring Causes of Potential Disruptions**  \n",
    "Created by: **Fauzan Pasaribu**\n",
    "\n",
    "The objective of the project is to create a model that can predict the shipment outcome of a particular order item. If the model predicts that the shipment of the order item encounters disruptions, the model would then deduce the causes of such disruption.\n",
    "\n",
    "**In this notebook, we will be making multiclass classification models that aims to predict which four shipment outcomes (classes) an order item will fall onto: Late Delivery, Advanced Shipping, Shipping on Time, or Shipping Canceled.**"
   ]
  },
  {
   "cell_type": "markdown",
   "id": "c76ae4fb",
   "metadata": {},
   "source": [
    "# Contents\n",
    "1. [Data Loading](#Data-Loading)<br>\n",
    "2. [Preprocessing](#Preprocessing)<br>\n",
    "    a.[Dropping Duplicate/Redundant Columns and Creating New Features](#Dropping-Duplicate/Redundant-Columns-and-Creating-New-Features)<br>\n",
    "    b.[Consolidating Values](#Consolidating-Values)<br>\n",
    "    c.[Representing the Non-Numerical Features in Numbers](#Representing-the-Non-Numerical-Features-in-Numbers)<br>\n",
    "    d.[Label Encoding the Target Variable](#Label-Encoding-the-Target-Variable)<br>\n",
    "3. [Modeling](#Modeling)<br>\n",
    "    a.[The Baseline](#The-Baseline)<br>\n",
    "    b.[Multi-Class Logistic Regression](#Multi-Class-Logistic-Regression)<br>\n",
    "    c.[Decision Tree](#Decision-Tree)<br>\n",
    "    d.[Modeling with Neural Networks](#Modeling-with-Neural-Networks)<br>\n",
    "    e.[Ensemble Learning](#Ensemble-Learning)<br>\n",
    "4. [Model Summary](#Model-Summary)<br>"
   ]
  },
  {
   "cell_type": "markdown",
   "id": "7134a2a0",
   "metadata": {},
   "source": [
    "## Data Loading"
   ]
  },
  {
   "cell_type": "code",
   "execution_count": 1,
   "id": "5c7b5561",
   "metadata": {},
   "outputs": [],
   "source": [
    "import pandas as pd\n",
    "import numpy as np\n",
    "import matplotlib.pyplot as plt\n",
    "import seaborn as sns\n",
    "from sklearn.model_selection import train_test_split\n",
    "\n",
    "#ignores warnings\n",
    "import warnings\n",
    "warnings.filterwarnings(\"ignore\")"
   ]
  },
  {
   "cell_type": "markdown",
   "id": "e6a41c19",
   "metadata": {},
   "source": [
    "Since we are going to have the original four classes of the target variable, `Delivery Status`, we are going to import the clean dataset instead of the preprocessed one (that was preprocessed for binary classification)."
   ]
  },
  {
   "cell_type": "code",
   "execution_count": 2,
   "id": "ca65534f",
   "metadata": {},
   "outputs": [],
   "source": [
    "#loading the data\n",
    "df = pd.read_csv(\"Datasets/clean_DataCoSupplyChainDataset.csv\")"
   ]
  },
  {
   "cell_type": "code",
   "execution_count": 3,
   "id": "03cb23cf",
   "metadata": {},
   "outputs": [
    {
     "data": {
      "text/html": [
       "<div>\n",
       "<style scoped>\n",
       "    .dataframe tbody tr th:only-of-type {\n",
       "        vertical-align: middle;\n",
       "    }\n",
       "\n",
       "    .dataframe tbody tr th {\n",
       "        vertical-align: top;\n",
       "    }\n",
       "\n",
       "    .dataframe thead th {\n",
       "        text-align: right;\n",
       "    }\n",
       "</style>\n",
       "<table border=\"1\" class=\"dataframe\">\n",
       "  <thead>\n",
       "    <tr style=\"text-align: right;\">\n",
       "      <th></th>\n",
       "      <th>Type</th>\n",
       "      <th>Days for shipping (real)</th>\n",
       "      <th>Days for shipment (scheduled)</th>\n",
       "      <th>Benefit per order</th>\n",
       "      <th>Sales per customer</th>\n",
       "      <th>Delivery Status</th>\n",
       "      <th>Late_delivery_risk</th>\n",
       "      <th>Category Name</th>\n",
       "      <th>Customer City</th>\n",
       "      <th>Customer Country</th>\n",
       "      <th>...</th>\n",
       "      <th>Order Item Quantity</th>\n",
       "      <th>Sales</th>\n",
       "      <th>Order Item Total</th>\n",
       "      <th>Order Region</th>\n",
       "      <th>Order State</th>\n",
       "      <th>Order Status</th>\n",
       "      <th>Product Name</th>\n",
       "      <th>Product Price</th>\n",
       "      <th>shipping date (DateOrders)</th>\n",
       "      <th>Shipping Mode</th>\n",
       "    </tr>\n",
       "  </thead>\n",
       "  <tbody>\n",
       "    <tr>\n",
       "      <th>137107</th>\n",
       "      <td>TRANSFER</td>\n",
       "      <td>3</td>\n",
       "      <td>2</td>\n",
       "      <td>161.270004</td>\n",
       "      <td>335.980011</td>\n",
       "      <td>Late delivery</td>\n",
       "      <td>1</td>\n",
       "      <td>Fishing</td>\n",
       "      <td>Caguas</td>\n",
       "      <td>Puerto Rico</td>\n",
       "      <td>...</td>\n",
       "      <td>1</td>\n",
       "      <td>399.980011</td>\n",
       "      <td>335.980011</td>\n",
       "      <td>South America</td>\n",
       "      <td>Minas Gerais</td>\n",
       "      <td>PROCESSING</td>\n",
       "      <td>Field &amp; Stream Sportsman 16 Gun Fire Safe</td>\n",
       "      <td>399.980011</td>\n",
       "      <td>2017-06-20 01:32:00</td>\n",
       "      <td>Second Class</td>\n",
       "    </tr>\n",
       "    <tr>\n",
       "      <th>105744</th>\n",
       "      <td>TRANSFER</td>\n",
       "      <td>2</td>\n",
       "      <td>1</td>\n",
       "      <td>37.110001</td>\n",
       "      <td>148.440002</td>\n",
       "      <td>Late delivery</td>\n",
       "      <td>1</td>\n",
       "      <td>Indoor/Outdoor Games</td>\n",
       "      <td>Manati</td>\n",
       "      <td>Puerto Rico</td>\n",
       "      <td>...</td>\n",
       "      <td>3</td>\n",
       "      <td>149.940002</td>\n",
       "      <td>148.440002</td>\n",
       "      <td>South America</td>\n",
       "      <td>Pará</td>\n",
       "      <td>PENDING</td>\n",
       "      <td>O'Brien Men's Neoprene Life Vest</td>\n",
       "      <td>49.980000</td>\n",
       "      <td>2017-05-18 14:54:00</td>\n",
       "      <td>First Class</td>\n",
       "    </tr>\n",
       "    <tr>\n",
       "      <th>47902</th>\n",
       "      <td>DEBIT</td>\n",
       "      <td>1</td>\n",
       "      <td>0</td>\n",
       "      <td>-223.190002</td>\n",
       "      <td>278.980011</td>\n",
       "      <td>Late delivery</td>\n",
       "      <td>1</td>\n",
       "      <td>Camping &amp; Hiking</td>\n",
       "      <td>Littleton</td>\n",
       "      <td>EE. UU.</td>\n",
       "      <td>...</td>\n",
       "      <td>1</td>\n",
       "      <td>299.980011</td>\n",
       "      <td>278.980011</td>\n",
       "      <td>Oceania</td>\n",
       "      <td>Hawke's Bay</td>\n",
       "      <td>COMPLETE</td>\n",
       "      <td>Diamondback Women's Serene Classic Comfort Bi</td>\n",
       "      <td>299.980011</td>\n",
       "      <td>2016-03-30 01:33:00</td>\n",
       "      <td>Same Day</td>\n",
       "    </tr>\n",
       "    <tr>\n",
       "      <th>77407</th>\n",
       "      <td>PAYMENT</td>\n",
       "      <td>5</td>\n",
       "      <td>4</td>\n",
       "      <td>8.400000</td>\n",
       "      <td>83.970001</td>\n",
       "      <td>Late delivery</td>\n",
       "      <td>1</td>\n",
       "      <td>Indoor/Outdoor Games</td>\n",
       "      <td>Honolulu</td>\n",
       "      <td>EE. UU.</td>\n",
       "      <td>...</td>\n",
       "      <td>2</td>\n",
       "      <td>99.959999</td>\n",
       "      <td>83.970001</td>\n",
       "      <td>Western Europe</td>\n",
       "      <td>Auvernia-Ródano-Alpes</td>\n",
       "      <td>PENDING_PAYMENT</td>\n",
       "      <td>O'Brien Men's Neoprene Life Vest</td>\n",
       "      <td>49.980000</td>\n",
       "      <td>2017-09-18 09:49:00</td>\n",
       "      <td>Standard Class</td>\n",
       "    </tr>\n",
       "    <tr>\n",
       "      <th>153013</th>\n",
       "      <td>DEBIT</td>\n",
       "      <td>2</td>\n",
       "      <td>2</td>\n",
       "      <td>6.560000</td>\n",
       "      <td>327.980011</td>\n",
       "      <td>Shipping on time</td>\n",
       "      <td>0</td>\n",
       "      <td>Fishing</td>\n",
       "      <td>Tonawanda</td>\n",
       "      <td>EE. UU.</td>\n",
       "      <td>...</td>\n",
       "      <td>1</td>\n",
       "      <td>399.980011</td>\n",
       "      <td>327.980011</td>\n",
       "      <td>South of  USA</td>\n",
       "      <td>Arkansas</td>\n",
       "      <td>COMPLETE</td>\n",
       "      <td>Field &amp; Stream Sportsman 16 Gun Fire Safe</td>\n",
       "      <td>399.980011</td>\n",
       "      <td>2016-04-20 06:10:00</td>\n",
       "      <td>Second Class</td>\n",
       "    </tr>\n",
       "  </tbody>\n",
       "</table>\n",
       "<p>5 rows × 37 columns</p>\n",
       "</div>"
      ],
      "text/plain": [
       "            Type  Days for shipping (real)  Days for shipment (scheduled)  \\\n",
       "137107  TRANSFER                         3                              2   \n",
       "105744  TRANSFER                         2                              1   \n",
       "47902      DEBIT                         1                              0   \n",
       "77407    PAYMENT                         5                              4   \n",
       "153013     DEBIT                         2                              2   \n",
       "\n",
       "        Benefit per order  Sales per customer   Delivery Status  \\\n",
       "137107         161.270004          335.980011     Late delivery   \n",
       "105744          37.110001          148.440002     Late delivery   \n",
       "47902         -223.190002          278.980011     Late delivery   \n",
       "77407            8.400000           83.970001     Late delivery   \n",
       "153013           6.560000          327.980011  Shipping on time   \n",
       "\n",
       "        Late_delivery_risk         Category Name Customer City  \\\n",
       "137107                   1               Fishing        Caguas   \n",
       "105744                   1  Indoor/Outdoor Games        Manati   \n",
       "47902                    1      Camping & Hiking     Littleton   \n",
       "77407                    1  Indoor/Outdoor Games      Honolulu   \n",
       "153013                   0               Fishing     Tonawanda   \n",
       "\n",
       "       Customer Country  ...  Order Item Quantity       Sales  \\\n",
       "137107      Puerto Rico  ...                    1  399.980011   \n",
       "105744      Puerto Rico  ...                    3  149.940002   \n",
       "47902           EE. UU.  ...                    1  299.980011   \n",
       "77407           EE. UU.  ...                    2   99.959999   \n",
       "153013          EE. UU.  ...                    1  399.980011   \n",
       "\n",
       "       Order Item Total    Order Region            Order State  \\\n",
       "137107       335.980011   South America           Minas Gerais   \n",
       "105744       148.440002   South America                   Pará   \n",
       "47902        278.980011         Oceania            Hawke's Bay   \n",
       "77407         83.970001  Western Europe  Auvernia-Ródano-Alpes   \n",
       "153013       327.980011  South of  USA                Arkansas   \n",
       "\n",
       "           Order Status                                   Product Name  \\\n",
       "137107       PROCESSING      Field & Stream Sportsman 16 Gun Fire Safe   \n",
       "105744          PENDING               O'Brien Men's Neoprene Life Vest   \n",
       "47902          COMPLETE  Diamondback Women's Serene Classic Comfort Bi   \n",
       "77407   PENDING_PAYMENT               O'Brien Men's Neoprene Life Vest   \n",
       "153013         COMPLETE      Field & Stream Sportsman 16 Gun Fire Safe   \n",
       "\n",
       "        Product Price shipping date (DateOrders)   Shipping Mode  \n",
       "137107     399.980011        2017-06-20 01:32:00    Second Class  \n",
       "105744      49.980000        2017-05-18 14:54:00     First Class  \n",
       "47902      299.980011        2016-03-30 01:33:00        Same Day  \n",
       "77407       49.980000        2017-09-18 09:49:00  Standard Class  \n",
       "153013     399.980011        2016-04-20 06:10:00    Second Class  \n",
       "\n",
       "[5 rows x 37 columns]"
      ]
     },
     "execution_count": 3,
     "metadata": {},
     "output_type": "execute_result"
    }
   ],
   "source": [
    "df.sample(5)"
   ]
  },
  {
   "cell_type": "code",
   "execution_count": 4,
   "id": "8f49b40b",
   "metadata": {},
   "outputs": [
    {
     "data": {
      "text/plain": [
       "(180516, 37)"
      ]
     },
     "execution_count": 4,
     "metadata": {},
     "output_type": "execute_result"
    }
   ],
   "source": [
    "df.shape"
   ]
  },
  {
   "cell_type": "markdown",
   "id": "53c8181e",
   "metadata": {},
   "source": [
    "We have a total of **37 columns** here."
   ]
  },
  {
   "cell_type": "code",
   "execution_count": 5,
   "id": "44a06c13",
   "metadata": {},
   "outputs": [
    {
     "name": "stdout",
     "output_type": "stream",
     "text": [
      "<class 'pandas.core.frame.DataFrame'>\n",
      "RangeIndex: 180516 entries, 0 to 180515\n",
      "Data columns (total 37 columns):\n",
      " #   Column                         Non-Null Count   Dtype  \n",
      "---  ------                         --------------   -----  \n",
      " 0   Type                           180516 non-null  object \n",
      " 1   Days for shipping (real)       180516 non-null  int64  \n",
      " 2   Days for shipment (scheduled)  180516 non-null  int64  \n",
      " 3   Benefit per order              180516 non-null  float64\n",
      " 4   Sales per customer             180516 non-null  float64\n",
      " 5   Delivery Status                180516 non-null  object \n",
      " 6   Late_delivery_risk             180516 non-null  int64  \n",
      " 7   Category Name                  180516 non-null  object \n",
      " 8   Customer City                  180516 non-null  object \n",
      " 9   Customer Country               180516 non-null  object \n",
      " 10  Customer Id                    180516 non-null  int64  \n",
      " 11  Customer Segment               180516 non-null  object \n",
      " 12  Customer State                 180516 non-null  object \n",
      " 13  Customer Street                180516 non-null  object \n",
      " 14  Customer Zipcode               180516 non-null  float64\n",
      " 15  Department Name                180516 non-null  object \n",
      " 16  Latitude                       180516 non-null  float64\n",
      " 17  Longitude                      180516 non-null  float64\n",
      " 18  Market                         180516 non-null  object \n",
      " 19  Order City                     180516 non-null  object \n",
      " 20  Order Country                  180516 non-null  object \n",
      " 21  order date (DateOrders)        180516 non-null  object \n",
      " 22  Order Id                       180516 non-null  int64  \n",
      " 23  Order Item Discount            180516 non-null  float64\n",
      " 24  Order Item Discount Rate       180516 non-null  float64\n",
      " 25  Order Item Id                  180516 non-null  int64  \n",
      " 26  Order Item Profit Ratio        180516 non-null  float64\n",
      " 27  Order Item Quantity            180516 non-null  int64  \n",
      " 28  Sales                          180516 non-null  float64\n",
      " 29  Order Item Total               180516 non-null  float64\n",
      " 30  Order Region                   180516 non-null  object \n",
      " 31  Order State                    180516 non-null  object \n",
      " 32  Order Status                   180516 non-null  object \n",
      " 33  Product Name                   180516 non-null  object \n",
      " 34  Product Price                  180516 non-null  float64\n",
      " 35  shipping date (DateOrders)     180516 non-null  object \n",
      " 36  Shipping Mode                  180516 non-null  object \n",
      "dtypes: float64(11), int64(7), object(19)\n",
      "memory usage: 51.0+ MB\n"
     ]
    }
   ],
   "source": [
    "df.info()"
   ]
  },
  {
   "cell_type": "markdown",
   "id": "2e7a69e0",
   "metadata": {},
   "source": [
    "To recall, this set dataset is a cleaned version, yet has not been preprocessed in order to use it for modeling."
   ]
  },
  {
   "cell_type": "markdown",
   "id": "0ebcbba1",
   "metadata": {},
   "source": [
    "# Preprocessing"
   ]
  },
  {
   "cell_type": "markdown",
   "id": "5b791285",
   "metadata": {},
   "source": [
    "The following preprocessing steps are identical to the steps we had in the \"Data Preprocessing for Baseline Model.ipynb\" notebook except that the feature engineering of the target variable is different. Before, for the baseline model, we mapped the target variable to have a binary class (0s and 1s). Here, we will be having the original four classes of `Delivery Status`!"
   ]
  },
  {
   "cell_type": "markdown",
   "id": "2cfd4a6d",
   "metadata": {},
   "source": [
    "### Dropping Duplicate/Redundant Columns and Creating New Features"
   ]
  },
  {
   "cell_type": "markdown",
   "id": "d2a80983",
   "metadata": {},
   "source": [
    "Converting dates features into **datetime** data type:"
   ]
  },
  {
   "cell_type": "code",
   "execution_count": 6,
   "id": "d436f832",
   "metadata": {},
   "outputs": [],
   "source": [
    "#convert order date (DateOrders) to datetime data type\n",
    "df[\"order date (DateOrders)\"] = pd.to_datetime(df[\"order date (DateOrders)\"])"
   ]
  },
  {
   "cell_type": "markdown",
   "id": "1fe8daa6",
   "metadata": {},
   "source": [
    "Setting the index to `Order Item Id`:"
   ]
  },
  {
   "cell_type": "code",
   "execution_count": 7,
   "id": "6ba85b8c",
   "metadata": {},
   "outputs": [],
   "source": [
    "#setting the index of the dataset to order item id\n",
    "df = df.set_index(\"Order Item Id\")"
   ]
  },
  {
   "cell_type": "markdown",
   "id": "731d1253",
   "metadata": {},
   "source": [
    "Dropping `Days for shipping (real)` and `shipping data (DateOrders)` because the information is an aftereffect, hence cannot a predictor:"
   ]
  },
  {
   "cell_type": "code",
   "execution_count": 8,
   "id": "78635520",
   "metadata": {},
   "outputs": [],
   "source": [
    "df.drop(\"Days for shipping (real)\", inplace=True, axis=1)\n",
    "df.drop(\"shipping date (DateOrders)\", inplace=True, axis=1)"
   ]
  },
  {
   "cell_type": "markdown",
   "id": "86cc50ee",
   "metadata": {},
   "source": [
    "Dropping `Late_delivery_risk` because it is a derivative of the `Delivery Status` column:"
   ]
  },
  {
   "cell_type": "code",
   "execution_count": 9,
   "id": "98661fcf",
   "metadata": {},
   "outputs": [],
   "source": [
    "df.drop(\"Late_delivery_risk\", inplace=True, axis=1)"
   ]
  },
  {
   "cell_type": "markdown",
   "id": "5eac25c7",
   "metadata": {},
   "source": [
    "Dropping redundant columns:"
   ]
  },
  {
   "cell_type": "code",
   "execution_count": 10,
   "id": "78745f9b",
   "metadata": {},
   "outputs": [],
   "source": [
    "df.drop([\"Product Name\", \"Customer Id\", \"Order Id\", \"Customer Street\", \"Order City\", \"Order State\", \"Customer Zipcode\", \"Customer City\", \"Order Country\"], inplace=True, axis=1)"
   ]
  },
  {
   "cell_type": "markdown",
   "id": "92fd3ff8",
   "metadata": {},
   "source": [
    "Creating two four new features out of the two date columns:"
   ]
  },
  {
   "cell_type": "code",
   "execution_count": 11,
   "id": "1af2a4e3",
   "metadata": {},
   "outputs": [],
   "source": [
    "#makes order month feature\n",
    "df[\"order_month\"] = df[\"order date (DateOrders)\"].dt.month\n",
    "#makes order year feature\n",
    "df[\"order_year\"] = df[\"order date (DateOrders)\"].dt.year"
   ]
  },
  {
   "cell_type": "markdown",
   "id": "7abb78a2",
   "metadata": {},
   "source": [
    "Dropping the two date columns:"
   ]
  },
  {
   "cell_type": "code",
   "execution_count": 12,
   "id": "c996ad66",
   "metadata": {},
   "outputs": [],
   "source": [
    "#drops the date column, since now it is redundant\n",
    "df.drop([\"order date (DateOrders)\"], inplace=True, axis=1)"
   ]
  },
  {
   "cell_type": "code",
   "execution_count": 13,
   "id": "20c75809",
   "metadata": {
    "scrolled": true
   },
   "outputs": [
    {
     "data": {
      "text/plain": [
       "(180516, 25)"
      ]
     },
     "execution_count": 13,
     "metadata": {},
     "output_type": "execute_result"
    }
   ],
   "source": [
    "#sanity check: should now have 25 columns\n",
    "df.shape"
   ]
  },
  {
   "cell_type": "markdown",
   "id": "dbec30e2",
   "metadata": {},
   "source": [
    "### Consolidating Values"
   ]
  },
  {
   "cell_type": "code",
   "execution_count": 14,
   "id": "a6a07088",
   "metadata": {},
   "outputs": [
    {
     "data": {
      "text/plain": [
       "Index(['Type', 'Category Name', 'Customer Country', 'Customer Segment',\n",
       "       'Customer State', 'Department Name', 'Market', 'Order Region',\n",
       "       'Order Status', 'Shipping Mode'],\n",
       "      dtype='object')"
      ]
     },
     "execution_count": 14,
     "metadata": {},
     "output_type": "execute_result"
    }
   ],
   "source": [
    "#return only non-numeric column names\n",
    "non_numeric = df.drop(\"Delivery Status\", axis=1)\n",
    "#dropping the target variable: Delivery Status\n",
    "non_numeric = non_numeric.select_dtypes(\"object\").columns\n",
    "non_numeric"
   ]
  },
  {
   "cell_type": "code",
   "execution_count": 15,
   "id": "f52575b8",
   "metadata": {},
   "outputs": [
    {
     "data": {
      "text/plain": [
       "Customer Country     2\n",
       "Customer Segment     3\n",
       "Type                 4\n",
       "Shipping Mode        4\n",
       "Market               5\n",
       "Order Status         9\n",
       "Department Name     11\n",
       "Order Region        23\n",
       "Customer State      44\n",
       "Category Name       50\n",
       "dtype: int64"
      ]
     },
     "execution_count": 15,
     "metadata": {},
     "output_type": "execute_result"
    }
   ],
   "source": [
    "#gets the number of unique values in each non_numeric columns\n",
    "df[non_numeric].nunique().sort_values()"
   ]
  },
  {
   "cell_type": "markdown",
   "id": "8ca7199a",
   "metadata": {},
   "source": [
    "Reducing the number of unique values in `Category Name`, `Customer State`, `Order Region`, and `Department Name`:"
   ]
  },
  {
   "cell_type": "code",
   "execution_count": 16,
   "id": "c2906104",
   "metadata": {},
   "outputs": [],
   "source": [
    "#category names above top 9\n",
    "other = df[\"Category Name\"].value_counts(ascending=True).head(50-9)\n",
    "#consolidate 41 category names into \"Others\"\n",
    "df[\"Category Name\"] = np.where(df[\"Category Name\"].isin(other.index),\"Others Categories\", df['Category Name'])"
   ]
  },
  {
   "cell_type": "code",
   "execution_count": 17,
   "id": "3e362210",
   "metadata": {},
   "outputs": [],
   "source": [
    "#customer states above top 2\n",
    "other = df[\"Customer State\"].value_counts(ascending=True).head(44-2)\n",
    "#consolidate 42 customer states into \"Others\"\n",
    "df[\"Customer State\"] = np.where(df[\"Customer State\"].isin(other.index),\"Others States\", df['Customer State'])"
   ]
  },
  {
   "cell_type": "code",
   "execution_count": 18,
   "id": "484d8402",
   "metadata": {},
   "outputs": [],
   "source": [
    "### DEFINING THE REGIONS ###\n",
    "#lists all african region\n",
    "africa = [\"Central Africa\",\"East Africa\",\"Southern Africa\",\"North Africa\",\"West Africa\"]\n",
    "#lists all north american region\n",
    "na = [\"West of USA \", \"East of USA\", \"South of  USA \", \"US Center \", \"Canada\"]\n",
    "#lists all asian region\n",
    "asia = [\"Southeast Asia\", \"Eastern Asia\", \"West Asia\", \"Central Asia\", \"South Asia\"]\n",
    "#lists all central america region\n",
    "ca = [\"Caribbean\"]\n",
    "\n",
    "### CONSOLIDATE###\n",
    "#consolidate the african regions into \"Africa\"\n",
    "df[\"Order Region\"] = np.where(df[\"Order Region\"].isin(africa), \"Africa\",df[\"Order Region\"])\n",
    "#consolidate the north american regions into \"North America\"\n",
    "df[\"Order Region\"] = np.where(df[\"Order Region\"].isin(na), \"North America\",df[\"Order Region\"])\n",
    "#consolidate the asian regions into \"Asia\"\n",
    "df[\"Order Region\"] = np.where(df[\"Order Region\"].isin(asia), \"Asia\",df[\"Order Region\"])\n",
    "#consolidate the central america regions into \"Central America\"\n",
    "df[\"Order Region\"] = np.where(df[\"Order Region\"].isin(ca), \"Central America\",df[\"Order Region\"])"
   ]
  },
  {
   "cell_type": "code",
   "execution_count": 19,
   "id": "32521674",
   "metadata": {},
   "outputs": [],
   "source": [
    "#Department Name above top 5\n",
    "other = df[\"Department Name\"].value_counts(ascending=True).head(11-5)\n",
    "#consolidate the variables above top 5\n",
    "df[\"Department Name\"] = np.where(df[\"Department Name\"].isin(other.index), \"Other Departments\",df[\"Department Name\"])"
   ]
  },
  {
   "cell_type": "code",
   "execution_count": 20,
   "id": "8138cb40",
   "metadata": {},
   "outputs": [
    {
     "data": {
      "text/plain": [
       "Customer Country     2\n",
       "Customer Segment     3\n",
       "Customer State       3\n",
       "Type                 4\n",
       "Shipping Mode        4\n",
       "Market               5\n",
       "Department Name      6\n",
       "Order Status         9\n",
       "Category Name       10\n",
       "Order Region        10\n",
       "dtype: int64"
      ]
     },
     "execution_count": 20,
     "metadata": {},
     "output_type": "execute_result"
    }
   ],
   "source": [
    "#now each features with \"object\" data type have 10 or less unique values\n",
    "df[non_numeric].nunique().sort_values()"
   ]
  },
  {
   "cell_type": "markdown",
   "id": "5b0f563c",
   "metadata": {},
   "source": [
    "### Representing the Non-Numerical Features in Numbers "
   ]
  },
  {
   "cell_type": "markdown",
   "id": "dcd1f940",
   "metadata": {},
   "source": [
    "Representing each non-numerical feature with 1s and 0s by using the `get_dummies` function:"
   ]
  },
  {
   "cell_type": "code",
   "execution_count": 21,
   "id": "a7d07000",
   "metadata": {},
   "outputs": [],
   "source": [
    "df = pd.get_dummies(data=df,columns=non_numeric, drop_first=True)"
   ]
  },
  {
   "cell_type": "code",
   "execution_count": 22,
   "id": "df44b620",
   "metadata": {},
   "outputs": [
    {
     "data": {
      "text/html": [
       "<div>\n",
       "<style scoped>\n",
       "    .dataframe tbody tr th:only-of-type {\n",
       "        vertical-align: middle;\n",
       "    }\n",
       "\n",
       "    .dataframe tbody tr th {\n",
       "        vertical-align: top;\n",
       "    }\n",
       "\n",
       "    .dataframe thead th {\n",
       "        text-align: right;\n",
       "    }\n",
       "</style>\n",
       "<table border=\"1\" class=\"dataframe\">\n",
       "  <thead>\n",
       "    <tr style=\"text-align: right;\">\n",
       "      <th></th>\n",
       "      <th>Days for shipment (scheduled)</th>\n",
       "      <th>Benefit per order</th>\n",
       "      <th>Sales per customer</th>\n",
       "      <th>Delivery Status</th>\n",
       "      <th>Latitude</th>\n",
       "      <th>Longitude</th>\n",
       "      <th>Order Item Discount</th>\n",
       "      <th>Order Item Discount Rate</th>\n",
       "      <th>Order Item Profit Ratio</th>\n",
       "      <th>Order Item Quantity</th>\n",
       "      <th>...</th>\n",
       "      <th>Order Status_COMPLETE</th>\n",
       "      <th>Order Status_ON_HOLD</th>\n",
       "      <th>Order Status_PAYMENT_REVIEW</th>\n",
       "      <th>Order Status_PENDING</th>\n",
       "      <th>Order Status_PENDING_PAYMENT</th>\n",
       "      <th>Order Status_PROCESSING</th>\n",
       "      <th>Order Status_SUSPECTED_FRAUD</th>\n",
       "      <th>Shipping Mode_Same Day</th>\n",
       "      <th>Shipping Mode_Second Class</th>\n",
       "      <th>Shipping Mode_Standard Class</th>\n",
       "    </tr>\n",
       "    <tr>\n",
       "      <th>Order Item Id</th>\n",
       "      <th></th>\n",
       "      <th></th>\n",
       "      <th></th>\n",
       "      <th></th>\n",
       "      <th></th>\n",
       "      <th></th>\n",
       "      <th></th>\n",
       "      <th></th>\n",
       "      <th></th>\n",
       "      <th></th>\n",
       "      <th></th>\n",
       "      <th></th>\n",
       "      <th></th>\n",
       "      <th></th>\n",
       "      <th></th>\n",
       "      <th></th>\n",
       "      <th></th>\n",
       "      <th></th>\n",
       "      <th></th>\n",
       "      <th></th>\n",
       "      <th></th>\n",
       "    </tr>\n",
       "  </thead>\n",
       "  <tbody>\n",
       "    <tr>\n",
       "      <th>180517</th>\n",
       "      <td>4</td>\n",
       "      <td>91.250000</td>\n",
       "      <td>314.640015</td>\n",
       "      <td>Advance shipping</td>\n",
       "      <td>18.251453</td>\n",
       "      <td>-66.037056</td>\n",
       "      <td>13.110000</td>\n",
       "      <td>0.04</td>\n",
       "      <td>0.29</td>\n",
       "      <td>1</td>\n",
       "      <td>...</td>\n",
       "      <td>1</td>\n",
       "      <td>0</td>\n",
       "      <td>0</td>\n",
       "      <td>0</td>\n",
       "      <td>0</td>\n",
       "      <td>0</td>\n",
       "      <td>0</td>\n",
       "      <td>0</td>\n",
       "      <td>0</td>\n",
       "      <td>1</td>\n",
       "    </tr>\n",
       "    <tr>\n",
       "      <th>179254</th>\n",
       "      <td>4</td>\n",
       "      <td>-249.089996</td>\n",
       "      <td>311.359985</td>\n",
       "      <td>Late delivery</td>\n",
       "      <td>18.279451</td>\n",
       "      <td>-66.037064</td>\n",
       "      <td>16.389999</td>\n",
       "      <td>0.05</td>\n",
       "      <td>-0.80</td>\n",
       "      <td>1</td>\n",
       "      <td>...</td>\n",
       "      <td>0</td>\n",
       "      <td>0</td>\n",
       "      <td>0</td>\n",
       "      <td>1</td>\n",
       "      <td>0</td>\n",
       "      <td>0</td>\n",
       "      <td>0</td>\n",
       "      <td>0</td>\n",
       "      <td>0</td>\n",
       "      <td>1</td>\n",
       "    </tr>\n",
       "    <tr>\n",
       "      <th>179253</th>\n",
       "      <td>4</td>\n",
       "      <td>-247.779999</td>\n",
       "      <td>309.720001</td>\n",
       "      <td>Shipping on time</td>\n",
       "      <td>37.292233</td>\n",
       "      <td>-121.881279</td>\n",
       "      <td>18.030001</td>\n",
       "      <td>0.06</td>\n",
       "      <td>-0.80</td>\n",
       "      <td>1</td>\n",
       "      <td>...</td>\n",
       "      <td>0</td>\n",
       "      <td>0</td>\n",
       "      <td>0</td>\n",
       "      <td>0</td>\n",
       "      <td>0</td>\n",
       "      <td>0</td>\n",
       "      <td>0</td>\n",
       "      <td>0</td>\n",
       "      <td>0</td>\n",
       "      <td>1</td>\n",
       "    </tr>\n",
       "    <tr>\n",
       "      <th>179252</th>\n",
       "      <td>4</td>\n",
       "      <td>22.860001</td>\n",
       "      <td>304.809998</td>\n",
       "      <td>Advance shipping</td>\n",
       "      <td>34.125946</td>\n",
       "      <td>-118.291016</td>\n",
       "      <td>22.940001</td>\n",
       "      <td>0.07</td>\n",
       "      <td>0.08</td>\n",
       "      <td>1</td>\n",
       "      <td>...</td>\n",
       "      <td>1</td>\n",
       "      <td>0</td>\n",
       "      <td>0</td>\n",
       "      <td>0</td>\n",
       "      <td>0</td>\n",
       "      <td>0</td>\n",
       "      <td>0</td>\n",
       "      <td>0</td>\n",
       "      <td>0</td>\n",
       "      <td>1</td>\n",
       "    </tr>\n",
       "    <tr>\n",
       "      <th>179251</th>\n",
       "      <td>4</td>\n",
       "      <td>134.210007</td>\n",
       "      <td>298.250000</td>\n",
       "      <td>Advance shipping</td>\n",
       "      <td>18.253769</td>\n",
       "      <td>-66.037048</td>\n",
       "      <td>29.500000</td>\n",
       "      <td>0.09</td>\n",
       "      <td>0.45</td>\n",
       "      <td>1</td>\n",
       "      <td>...</td>\n",
       "      <td>0</td>\n",
       "      <td>0</td>\n",
       "      <td>0</td>\n",
       "      <td>0</td>\n",
       "      <td>1</td>\n",
       "      <td>0</td>\n",
       "      <td>0</td>\n",
       "      <td>0</td>\n",
       "      <td>0</td>\n",
       "      <td>1</td>\n",
       "    </tr>\n",
       "    <tr>\n",
       "      <th>...</th>\n",
       "      <td>...</td>\n",
       "      <td>...</td>\n",
       "      <td>...</td>\n",
       "      <td>...</td>\n",
       "      <td>...</td>\n",
       "      <td>...</td>\n",
       "      <td>...</td>\n",
       "      <td>...</td>\n",
       "      <td>...</td>\n",
       "      <td>...</td>\n",
       "      <td>...</td>\n",
       "      <td>...</td>\n",
       "      <td>...</td>\n",
       "      <td>...</td>\n",
       "      <td>...</td>\n",
       "      <td>...</td>\n",
       "      <td>...</td>\n",
       "      <td>...</td>\n",
       "      <td>...</td>\n",
       "      <td>...</td>\n",
       "      <td>...</td>\n",
       "    </tr>\n",
       "    <tr>\n",
       "      <th>65177</th>\n",
       "      <td>4</td>\n",
       "      <td>40.000000</td>\n",
       "      <td>399.980011</td>\n",
       "      <td>Shipping on time</td>\n",
       "      <td>40.640930</td>\n",
       "      <td>-73.942711</td>\n",
       "      <td>0.000000</td>\n",
       "      <td>0.00</td>\n",
       "      <td>0.10</td>\n",
       "      <td>1</td>\n",
       "      <td>...</td>\n",
       "      <td>0</td>\n",
       "      <td>0</td>\n",
       "      <td>0</td>\n",
       "      <td>0</td>\n",
       "      <td>0</td>\n",
       "      <td>0</td>\n",
       "      <td>0</td>\n",
       "      <td>0</td>\n",
       "      <td>0</td>\n",
       "      <td>1</td>\n",
       "    </tr>\n",
       "    <tr>\n",
       "      <th>65161</th>\n",
       "      <td>2</td>\n",
       "      <td>-613.770019</td>\n",
       "      <td>395.980011</td>\n",
       "      <td>Late delivery</td>\n",
       "      <td>35.362545</td>\n",
       "      <td>-119.018700</td>\n",
       "      <td>4.000000</td>\n",
       "      <td>0.01</td>\n",
       "      <td>-1.55</td>\n",
       "      <td>1</td>\n",
       "      <td>...</td>\n",
       "      <td>1</td>\n",
       "      <td>0</td>\n",
       "      <td>0</td>\n",
       "      <td>0</td>\n",
       "      <td>0</td>\n",
       "      <td>0</td>\n",
       "      <td>0</td>\n",
       "      <td>0</td>\n",
       "      <td>1</td>\n",
       "      <td>0</td>\n",
       "    </tr>\n",
       "    <tr>\n",
       "      <th>65129</th>\n",
       "      <td>4</td>\n",
       "      <td>141.110001</td>\n",
       "      <td>391.980011</td>\n",
       "      <td>Late delivery</td>\n",
       "      <td>41.629959</td>\n",
       "      <td>-72.967155</td>\n",
       "      <td>8.000000</td>\n",
       "      <td>0.02</td>\n",
       "      <td>0.36</td>\n",
       "      <td>1</td>\n",
       "      <td>...</td>\n",
       "      <td>0</td>\n",
       "      <td>0</td>\n",
       "      <td>0</td>\n",
       "      <td>1</td>\n",
       "      <td>0</td>\n",
       "      <td>0</td>\n",
       "      <td>0</td>\n",
       "      <td>0</td>\n",
       "      <td>0</td>\n",
       "      <td>1</td>\n",
       "    </tr>\n",
       "    <tr>\n",
       "      <th>65126</th>\n",
       "      <td>4</td>\n",
       "      <td>186.229996</td>\n",
       "      <td>387.980011</td>\n",
       "      <td>Advance shipping</td>\n",
       "      <td>18.213350</td>\n",
       "      <td>-66.370575</td>\n",
       "      <td>12.000000</td>\n",
       "      <td>0.03</td>\n",
       "      <td>0.48</td>\n",
       "      <td>1</td>\n",
       "      <td>...</td>\n",
       "      <td>0</td>\n",
       "      <td>0</td>\n",
       "      <td>0</td>\n",
       "      <td>0</td>\n",
       "      <td>1</td>\n",
       "      <td>0</td>\n",
       "      <td>0</td>\n",
       "      <td>0</td>\n",
       "      <td>0</td>\n",
       "      <td>1</td>\n",
       "    </tr>\n",
       "    <tr>\n",
       "      <th>65113</th>\n",
       "      <td>4</td>\n",
       "      <td>168.949997</td>\n",
       "      <td>383.980011</td>\n",
       "      <td>Shipping on time</td>\n",
       "      <td>18.290380</td>\n",
       "      <td>-66.370613</td>\n",
       "      <td>16.000000</td>\n",
       "      <td>0.04</td>\n",
       "      <td>0.44</td>\n",
       "      <td>1</td>\n",
       "      <td>...</td>\n",
       "      <td>0</td>\n",
       "      <td>0</td>\n",
       "      <td>0</td>\n",
       "      <td>0</td>\n",
       "      <td>1</td>\n",
       "      <td>0</td>\n",
       "      <td>0</td>\n",
       "      <td>0</td>\n",
       "      <td>0</td>\n",
       "      <td>1</td>\n",
       "    </tr>\n",
       "  </tbody>\n",
       "</table>\n",
       "<p>180516 rows × 61 columns</p>\n",
       "</div>"
      ],
      "text/plain": [
       "               Days for shipment (scheduled)  Benefit per order  \\\n",
       "Order Item Id                                                     \n",
       "180517                                     4          91.250000   \n",
       "179254                                     4        -249.089996   \n",
       "179253                                     4        -247.779999   \n",
       "179252                                     4          22.860001   \n",
       "179251                                     4         134.210007   \n",
       "...                                      ...                ...   \n",
       "65177                                      4          40.000000   \n",
       "65161                                      2        -613.770019   \n",
       "65129                                      4         141.110001   \n",
       "65126                                      4         186.229996   \n",
       "65113                                      4         168.949997   \n",
       "\n",
       "               Sales per customer   Delivery Status   Latitude   Longitude  \\\n",
       "Order Item Id                                                                \n",
       "180517                 314.640015  Advance shipping  18.251453  -66.037056   \n",
       "179254                 311.359985     Late delivery  18.279451  -66.037064   \n",
       "179253                 309.720001  Shipping on time  37.292233 -121.881279   \n",
       "179252                 304.809998  Advance shipping  34.125946 -118.291016   \n",
       "179251                 298.250000  Advance shipping  18.253769  -66.037048   \n",
       "...                           ...               ...        ...         ...   \n",
       "65177                  399.980011  Shipping on time  40.640930  -73.942711   \n",
       "65161                  395.980011     Late delivery  35.362545 -119.018700   \n",
       "65129                  391.980011     Late delivery  41.629959  -72.967155   \n",
       "65126                  387.980011  Advance shipping  18.213350  -66.370575   \n",
       "65113                  383.980011  Shipping on time  18.290380  -66.370613   \n",
       "\n",
       "               Order Item Discount  Order Item Discount Rate  \\\n",
       "Order Item Id                                                  \n",
       "180517                   13.110000                      0.04   \n",
       "179254                   16.389999                      0.05   \n",
       "179253                   18.030001                      0.06   \n",
       "179252                   22.940001                      0.07   \n",
       "179251                   29.500000                      0.09   \n",
       "...                            ...                       ...   \n",
       "65177                     0.000000                      0.00   \n",
       "65161                     4.000000                      0.01   \n",
       "65129                     8.000000                      0.02   \n",
       "65126                    12.000000                      0.03   \n",
       "65113                    16.000000                      0.04   \n",
       "\n",
       "               Order Item Profit Ratio  Order Item Quantity  ...  \\\n",
       "Order Item Id                                                ...   \n",
       "180517                            0.29                    1  ...   \n",
       "179254                           -0.80                    1  ...   \n",
       "179253                           -0.80                    1  ...   \n",
       "179252                            0.08                    1  ...   \n",
       "179251                            0.45                    1  ...   \n",
       "...                                ...                  ...  ...   \n",
       "65177                             0.10                    1  ...   \n",
       "65161                            -1.55                    1  ...   \n",
       "65129                             0.36                    1  ...   \n",
       "65126                             0.48                    1  ...   \n",
       "65113                             0.44                    1  ...   \n",
       "\n",
       "               Order Status_COMPLETE  Order Status_ON_HOLD  \\\n",
       "Order Item Id                                                \n",
       "180517                             1                     0   \n",
       "179254                             0                     0   \n",
       "179253                             0                     0   \n",
       "179252                             1                     0   \n",
       "179251                             0                     0   \n",
       "...                              ...                   ...   \n",
       "65177                              0                     0   \n",
       "65161                              1                     0   \n",
       "65129                              0                     0   \n",
       "65126                              0                     0   \n",
       "65113                              0                     0   \n",
       "\n",
       "               Order Status_PAYMENT_REVIEW  Order Status_PENDING  \\\n",
       "Order Item Id                                                      \n",
       "180517                                   0                     0   \n",
       "179254                                   0                     1   \n",
       "179253                                   0                     0   \n",
       "179252                                   0                     0   \n",
       "179251                                   0                     0   \n",
       "...                                    ...                   ...   \n",
       "65177                                    0                     0   \n",
       "65161                                    0                     0   \n",
       "65129                                    0                     1   \n",
       "65126                                    0                     0   \n",
       "65113                                    0                     0   \n",
       "\n",
       "               Order Status_PENDING_PAYMENT  Order Status_PROCESSING  \\\n",
       "Order Item Id                                                          \n",
       "180517                                    0                        0   \n",
       "179254                                    0                        0   \n",
       "179253                                    0                        0   \n",
       "179252                                    0                        0   \n",
       "179251                                    1                        0   \n",
       "...                                     ...                      ...   \n",
       "65177                                     0                        0   \n",
       "65161                                     0                        0   \n",
       "65129                                     0                        0   \n",
       "65126                                     1                        0   \n",
       "65113                                     1                        0   \n",
       "\n",
       "               Order Status_SUSPECTED_FRAUD  Shipping Mode_Same Day  \\\n",
       "Order Item Id                                                         \n",
       "180517                                    0                       0   \n",
       "179254                                    0                       0   \n",
       "179253                                    0                       0   \n",
       "179252                                    0                       0   \n",
       "179251                                    0                       0   \n",
       "...                                     ...                     ...   \n",
       "65177                                     0                       0   \n",
       "65161                                     0                       0   \n",
       "65129                                     0                       0   \n",
       "65126                                     0                       0   \n",
       "65113                                     0                       0   \n",
       "\n",
       "               Shipping Mode_Second Class  Shipping Mode_Standard Class  \n",
       "Order Item Id                                                            \n",
       "180517                                  0                             1  \n",
       "179254                                  0                             1  \n",
       "179253                                  0                             1  \n",
       "179252                                  0                             1  \n",
       "179251                                  0                             1  \n",
       "...                                   ...                           ...  \n",
       "65177                                   0                             1  \n",
       "65161                                   1                             0  \n",
       "65129                                   0                             1  \n",
       "65126                                   0                             1  \n",
       "65113                                   0                             1  \n",
       "\n",
       "[180516 rows x 61 columns]"
      ]
     },
     "execution_count": 22,
     "metadata": {},
     "output_type": "execute_result"
    }
   ],
   "source": [
    "df"
   ]
  },
  {
   "cell_type": "code",
   "execution_count": 23,
   "id": "f2d650de",
   "metadata": {},
   "outputs": [
    {
     "data": {
      "text/plain": [
       "(180516, 61)"
      ]
     },
     "execution_count": 23,
     "metadata": {},
     "output_type": "execute_result"
    }
   ],
   "source": [
    "df.shape"
   ]
  },
  {
   "cell_type": "code",
   "execution_count": 24,
   "id": "5dbae3a7",
   "metadata": {},
   "outputs": [
    {
     "name": "stdout",
     "output_type": "stream",
     "text": [
      "<class 'pandas.core.frame.DataFrame'>\n",
      "Int64Index: 180516 entries, 180517 to 65113\n",
      "Data columns (total 61 columns):\n",
      " #   Column                              Non-Null Count   Dtype  \n",
      "---  ------                              --------------   -----  \n",
      " 0   Days for shipment (scheduled)       180516 non-null  int64  \n",
      " 1   Benefit per order                   180516 non-null  float64\n",
      " 2   Sales per customer                  180516 non-null  float64\n",
      " 3   Delivery Status                     180516 non-null  object \n",
      " 4   Latitude                            180516 non-null  float64\n",
      " 5   Longitude                           180516 non-null  float64\n",
      " 6   Order Item Discount                 180516 non-null  float64\n",
      " 7   Order Item Discount Rate            180516 non-null  float64\n",
      " 8   Order Item Profit Ratio             180516 non-null  float64\n",
      " 9   Order Item Quantity                 180516 non-null  int64  \n",
      " 10  Sales                               180516 non-null  float64\n",
      " 11  Order Item Total                    180516 non-null  float64\n",
      " 12  Product Price                       180516 non-null  float64\n",
      " 13  order_month                         180516 non-null  int64  \n",
      " 14  order_year                          180516 non-null  int64  \n",
      " 15  Type_DEBIT                          180516 non-null  uint8  \n",
      " 16  Type_PAYMENT                        180516 non-null  uint8  \n",
      " 17  Type_TRANSFER                       180516 non-null  uint8  \n",
      " 18  Category Name_Cardio Equipment      180516 non-null  uint8  \n",
      " 19  Category Name_Cleats                180516 non-null  uint8  \n",
      " 20  Category Name_Fishing               180516 non-null  uint8  \n",
      " 21  Category Name_Indoor/Outdoor Games  180516 non-null  uint8  \n",
      " 22  Category Name_Men's Footwear        180516 non-null  uint8  \n",
      " 23  Category Name_Others Categories     180516 non-null  uint8  \n",
      " 24  Category Name_Shop By Sport         180516 non-null  uint8  \n",
      " 25  Category Name_Water Sports          180516 non-null  uint8  \n",
      " 26  Category Name_Women's Apparel       180516 non-null  uint8  \n",
      " 27  Customer Country_Puerto Rico        180516 non-null  uint8  \n",
      " 28  Customer Segment_Corporate          180516 non-null  uint8  \n",
      " 29  Customer Segment_Home Office        180516 non-null  uint8  \n",
      " 30  Customer State_Others States        180516 non-null  uint8  \n",
      " 31  Customer State_PR                   180516 non-null  uint8  \n",
      " 32  Department Name_Fan Shop            180516 non-null  uint8  \n",
      " 33  Department Name_Footwear            180516 non-null  uint8  \n",
      " 34  Department Name_Golf                180516 non-null  uint8  \n",
      " 35  Department Name_Other Departments   180516 non-null  uint8  \n",
      " 36  Department Name_Outdoors            180516 non-null  uint8  \n",
      " 37  Market_Europe                       180516 non-null  uint8  \n",
      " 38  Market_LATAM                        180516 non-null  uint8  \n",
      " 39  Market_Pacific Asia                 180516 non-null  uint8  \n",
      " 40  Market_USCA                         180516 non-null  uint8  \n",
      " 41  Order Region_Asia                   180516 non-null  uint8  \n",
      " 42  Order Region_Central America        180516 non-null  uint8  \n",
      " 43  Order Region_Eastern Europe         180516 non-null  uint8  \n",
      " 44  Order Region_North America          180516 non-null  uint8  \n",
      " 45  Order Region_Northern Europe        180516 non-null  uint8  \n",
      " 46  Order Region_Oceania                180516 non-null  uint8  \n",
      " 47  Order Region_South America          180516 non-null  uint8  \n",
      " 48  Order Region_Southern Europe        180516 non-null  uint8  \n",
      " 49  Order Region_Western Europe         180516 non-null  uint8  \n",
      " 50  Order Status_CLOSED                 180516 non-null  uint8  \n",
      " 51  Order Status_COMPLETE               180516 non-null  uint8  \n",
      " 52  Order Status_ON_HOLD                180516 non-null  uint8  \n",
      " 53  Order Status_PAYMENT_REVIEW         180516 non-null  uint8  \n",
      " 54  Order Status_PENDING                180516 non-null  uint8  \n",
      " 55  Order Status_PENDING_PAYMENT        180516 non-null  uint8  \n",
      " 56  Order Status_PROCESSING             180516 non-null  uint8  \n",
      " 57  Order Status_SUSPECTED_FRAUD        180516 non-null  uint8  \n",
      " 58  Shipping Mode_Same Day              180516 non-null  uint8  \n",
      " 59  Shipping Mode_Second Class          180516 non-null  uint8  \n",
      " 60  Shipping Mode_Standard Class        180516 non-null  uint8  \n",
      "dtypes: float64(10), int64(4), object(1), uint8(46)\n",
      "memory usage: 30.0+ MB\n"
     ]
    }
   ],
   "source": [
    "df.info()"
   ]
  },
  {
   "cell_type": "markdown",
   "id": "4974061f",
   "metadata": {},
   "source": [
    "Now, we have **61 columns** in which all 60 of our feature variables are numeric. The target variable, `Delivery Status`, however, is still an object column."
   ]
  },
  {
   "cell_type": "markdown",
   "id": "7880751c",
   "metadata": {},
   "source": [
    "### Label Encoding the Target Variable"
   ]
  },
  {
   "cell_type": "markdown",
   "id": "cfa678e3",
   "metadata": {},
   "source": [
    "I am going to use **Label Encoder** to represent each of the four classes in `Delivery Status` with numbers in order to make it a multi-class classification problem."
   ]
  },
  {
   "cell_type": "code",
   "execution_count": 25,
   "id": "9e99a9a4",
   "metadata": {},
   "outputs": [],
   "source": [
    "#label encoder on delivery status\n",
    "from sklearn.preprocessing import LabelEncoder\n",
    "\n",
    "le = LabelEncoder()\n",
    "\n",
    "le.fit(df[\"Delivery Status\"])\n",
    "df[\"Delivery Status\"] = le.transform(df[\"Delivery Status\"])"
   ]
  },
  {
   "cell_type": "code",
   "execution_count": 26,
   "id": "4c393351",
   "metadata": {},
   "outputs": [
    {
     "data": {
      "text/plain": [
       "['Advance shipping', 'Late delivery', 'Shipping canceled', 'Shipping on time']"
      ]
     },
     "execution_count": 26,
     "metadata": {},
     "output_type": "execute_result"
    }
   ],
   "source": [
    "#listing the four classes\n",
    "list(le.classes_)"
   ]
  },
  {
   "cell_type": "markdown",
   "id": "c25bea13",
   "metadata": {},
   "source": [
    "Now, out target variable is numerically encoded:"
   ]
  },
  {
   "cell_type": "code",
   "execution_count": 27,
   "id": "0f3b5148",
   "metadata": {},
   "outputs": [
    {
     "data": {
      "text/plain": [
       "Order Item Id\n",
       "180517    0\n",
       "179254    1\n",
       "179253    3\n",
       "179252    0\n",
       "179251    0\n",
       "         ..\n",
       "65177     3\n",
       "65161     1\n",
       "65129     1\n",
       "65126     0\n",
       "65113     3\n",
       "Name: Delivery Status, Length: 180516, dtype: int32"
      ]
     },
     "execution_count": 27,
     "metadata": {},
     "output_type": "execute_result"
    }
   ],
   "source": [
    "df[\"Delivery Status\"]"
   ]
  },
  {
   "cell_type": "code",
   "execution_count": 28,
   "id": "ad56a470",
   "metadata": {},
   "outputs": [
    {
     "name": "stdout",
     "output_type": "stream",
     "text": [
      "<class 'pandas.core.frame.DataFrame'>\n",
      "Int64Index: 180516 entries, 180517 to 65113\n",
      "Data columns (total 61 columns):\n",
      " #   Column                              Non-Null Count   Dtype  \n",
      "---  ------                              --------------   -----  \n",
      " 0   Days for shipment (scheduled)       180516 non-null  int64  \n",
      " 1   Benefit per order                   180516 non-null  float64\n",
      " 2   Sales per customer                  180516 non-null  float64\n",
      " 3   Delivery Status                     180516 non-null  int32  \n",
      " 4   Latitude                            180516 non-null  float64\n",
      " 5   Longitude                           180516 non-null  float64\n",
      " 6   Order Item Discount                 180516 non-null  float64\n",
      " 7   Order Item Discount Rate            180516 non-null  float64\n",
      " 8   Order Item Profit Ratio             180516 non-null  float64\n",
      " 9   Order Item Quantity                 180516 non-null  int64  \n",
      " 10  Sales                               180516 non-null  float64\n",
      " 11  Order Item Total                    180516 non-null  float64\n",
      " 12  Product Price                       180516 non-null  float64\n",
      " 13  order_month                         180516 non-null  int64  \n",
      " 14  order_year                          180516 non-null  int64  \n",
      " 15  Type_DEBIT                          180516 non-null  uint8  \n",
      " 16  Type_PAYMENT                        180516 non-null  uint8  \n",
      " 17  Type_TRANSFER                       180516 non-null  uint8  \n",
      " 18  Category Name_Cardio Equipment      180516 non-null  uint8  \n",
      " 19  Category Name_Cleats                180516 non-null  uint8  \n",
      " 20  Category Name_Fishing               180516 non-null  uint8  \n",
      " 21  Category Name_Indoor/Outdoor Games  180516 non-null  uint8  \n",
      " 22  Category Name_Men's Footwear        180516 non-null  uint8  \n",
      " 23  Category Name_Others Categories     180516 non-null  uint8  \n",
      " 24  Category Name_Shop By Sport         180516 non-null  uint8  \n",
      " 25  Category Name_Water Sports          180516 non-null  uint8  \n",
      " 26  Category Name_Women's Apparel       180516 non-null  uint8  \n",
      " 27  Customer Country_Puerto Rico        180516 non-null  uint8  \n",
      " 28  Customer Segment_Corporate          180516 non-null  uint8  \n",
      " 29  Customer Segment_Home Office        180516 non-null  uint8  \n",
      " 30  Customer State_Others States        180516 non-null  uint8  \n",
      " 31  Customer State_PR                   180516 non-null  uint8  \n",
      " 32  Department Name_Fan Shop            180516 non-null  uint8  \n",
      " 33  Department Name_Footwear            180516 non-null  uint8  \n",
      " 34  Department Name_Golf                180516 non-null  uint8  \n",
      " 35  Department Name_Other Departments   180516 non-null  uint8  \n",
      " 36  Department Name_Outdoors            180516 non-null  uint8  \n",
      " 37  Market_Europe                       180516 non-null  uint8  \n",
      " 38  Market_LATAM                        180516 non-null  uint8  \n",
      " 39  Market_Pacific Asia                 180516 non-null  uint8  \n",
      " 40  Market_USCA                         180516 non-null  uint8  \n",
      " 41  Order Region_Asia                   180516 non-null  uint8  \n",
      " 42  Order Region_Central America        180516 non-null  uint8  \n",
      " 43  Order Region_Eastern Europe         180516 non-null  uint8  \n",
      " 44  Order Region_North America          180516 non-null  uint8  \n",
      " 45  Order Region_Northern Europe        180516 non-null  uint8  \n",
      " 46  Order Region_Oceania                180516 non-null  uint8  \n",
      " 47  Order Region_South America          180516 non-null  uint8  \n",
      " 48  Order Region_Southern Europe        180516 non-null  uint8  \n",
      " 49  Order Region_Western Europe         180516 non-null  uint8  \n",
      " 50  Order Status_CLOSED                 180516 non-null  uint8  \n",
      " 51  Order Status_COMPLETE               180516 non-null  uint8  \n",
      " 52  Order Status_ON_HOLD                180516 non-null  uint8  \n",
      " 53  Order Status_PAYMENT_REVIEW         180516 non-null  uint8  \n",
      " 54  Order Status_PENDING                180516 non-null  uint8  \n",
      " 55  Order Status_PENDING_PAYMENT        180516 non-null  uint8  \n",
      " 56  Order Status_PROCESSING             180516 non-null  uint8  \n",
      " 57  Order Status_SUSPECTED_FRAUD        180516 non-null  uint8  \n",
      " 58  Shipping Mode_Same Day              180516 non-null  uint8  \n",
      " 59  Shipping Mode_Second Class          180516 non-null  uint8  \n",
      " 60  Shipping Mode_Standard Class        180516 non-null  uint8  \n",
      "dtypes: float64(10), int32(1), int64(4), uint8(46)\n",
      "memory usage: 29.3 MB\n"
     ]
    }
   ],
   "source": [
    "#checking that none of the data types are 'object'\n",
    "df.info()"
   ]
  },
  {
   "cell_type": "markdown",
   "id": "a3329329",
   "metadata": {},
   "source": [
    "### Dropping multicolinear features"
   ]
  },
  {
   "cell_type": "markdown",
   "id": "1e58076e",
   "metadata": {},
   "source": [
    "In the **\"Baseline Model\"** notebook, I have listed the features that should be dropped due to multicolinearity. Here I am going to do the same thing before the actual modeling:"
   ]
  },
  {
   "cell_type": "code",
   "execution_count": 29,
   "id": "58c9eae7",
   "metadata": {},
   "outputs": [],
   "source": [
    "#dropping the 18 columns\n",
    "drop_cols = [\"Market_USCA\", \n",
    "             \"Days for shipment (scheduled)\", \"Type_DEBIT\", \"Order Item Total\", \n",
    "             \"Sales\", \"Product Price\", \"Type_PAYMENT\", \n",
    "             \"Department Name_Footwear\", \n",
    "             \"Market_LATAM\", \"Market_Pacific Asia\", \"Latitude\", \"Benefit per order\",\n",
    "             \"Department Name_Golf\", \"Customer Country_Puerto Rico\",\n",
    "             \"Order Item Discount\", \"Customer State_PR\",\n",
    "             \"Category Name_Others Categories\", \"Market_Europe\"]\n",
    "\n",
    "\n",
    "df.drop(drop_cols, inplace=True, axis=1)"
   ]
  },
  {
   "cell_type": "markdown",
   "id": "545dbfc3",
   "metadata": {},
   "source": [
    "We are going to save the dataset for future simulation of the model:"
   ]
  },
  {
   "cell_type": "code",
   "execution_count": 30,
   "id": "cf6b8711",
   "metadata": {},
   "outputs": [],
   "source": [
    "#save dataframe into csv\n",
    "df.to_csv(\"Datasets/simulation_DataCoSupplyChainDataset.csv\", index = False)"
   ]
  },
  {
   "cell_type": "markdown",
   "id": "c19cfaa8",
   "metadata": {},
   "source": [
    "Now that all columns are independent and represented with numbers, we can start modeling using multi-class classification."
   ]
  },
  {
   "cell_type": "markdown",
   "id": "5da1c3da",
   "metadata": {},
   "source": [
    "# Modeling"
   ]
  },
  {
   "cell_type": "markdown",
   "id": "1ddeb71b",
   "metadata": {},
   "source": [
    "Let's start modeling using Multi-Class Classification!"
   ]
  },
  {
   "cell_type": "markdown",
   "id": "886bb7a3",
   "metadata": {},
   "source": [
    "I am going to define some helpful functions to streamline some evaluation and modeling process."
   ]
  },
  {
   "cell_type": "code",
   "execution_count": 31,
   "id": "a96f662b",
   "metadata": {},
   "outputs": [],
   "source": [
    "from sklearn.linear_model import LogisticRegression\n",
    "from sklearn.metrics import roc_auc_score"
   ]
  },
  {
   "cell_type": "code",
   "execution_count": 32,
   "id": "9347d02d",
   "metadata": {},
   "outputs": [],
   "source": [
    "#Getting AUC score\n",
    "def auc_evaluation(X_train, X_test, y_train, y_test, model):\n",
    "\n",
    "    # Fitting the model\n",
    "    model.fit(X_train, y_train)\n",
    "\n",
    "    # Predict Probabilities\n",
    "    y_pred_train = model.predict_proba(X_train)\n",
    "    y_pred_test = model.predict_proba(X_test)\n",
    "\n",
    "    # Calculate the AUC score\n",
    "    train_auc_score = roc_auc_score(y_train, y_pred_train, multi_class='ovr')\n",
    "    test_auc_score = roc_auc_score(y_test, y_pred_test, multi_class='ovr')\n",
    "\n",
    "    print(\"Train AUC Score:\", train_auc_score)\n",
    "    print(\"Test AUC Score:\", test_auc_score)"
   ]
  },
  {
   "cell_type": "markdown",
   "id": "303417af",
   "metadata": {},
   "source": [
    "Here, I used the One-vs-Rest(OvR) AUC because we have great class imbalance. In OvR, we calculate the AUC for each class against the rest of the classes. This approach is suitable for class imbalance, as it allows for separate evaluation of each class against the majority class. OvR provides class-specific insights, allowing us to identify classes that perform well even in the presence of imbalance."
   ]
  },
  {
   "cell_type": "code",
   "execution_count": 33,
   "id": "dfaf3258",
   "metadata": {},
   "outputs": [],
   "source": [
    "#Getting model accuracy\n",
    "def model_accuracy(X_train, X_test, y_train, y_test, model):\n",
    "       \n",
    "    model.fit(X_train, y_train)\n",
    "    \n",
    "    trainacc = model.score(X_train, y_train)\n",
    "    testacc = model.score(X_test, y_test)\n",
    "    \n",
    "    print(f\"Train Accuracy: {trainacc}\")\n",
    "    print(f\"Test Accuracy: {testacc}\")"
   ]
  },
  {
   "cell_type": "markdown",
   "id": "edb4e4f3",
   "metadata": {},
   "source": [
    "### The Baseline"
   ]
  },
  {
   "cell_type": "code",
   "execution_count": 34,
   "id": "d4766e4f",
   "metadata": {},
   "outputs": [
    {
     "data": {
      "text/plain": [
       "1    0.548295\n",
       "0    0.230406\n",
       "3    0.178344\n",
       "2    0.042955\n",
       "Name: Delivery Status, dtype: float64"
      ]
     },
     "execution_count": 34,
     "metadata": {},
     "output_type": "execute_result"
    }
   ],
   "source": [
    "df[\"Delivery Status\"].value_counts()/df.shape[0]"
   ]
  },
  {
   "cell_type": "code",
   "execution_count": 35,
   "id": "fdf41851",
   "metadata": {},
   "outputs": [
    {
     "data": {
      "text/plain": [
       "['Advance shipping', 'Late delivery', 'Shipping canceled', 'Shipping on time']"
      ]
     },
     "execution_count": 35,
     "metadata": {},
     "output_type": "execute_result"
    }
   ],
   "source": [
    "#listing the four classes in order 0-3\n",
    "list(le.classes_)"
   ]
  },
  {
   "cell_type": "markdown",
   "id": "939ef5b2",
   "metadata": {},
   "source": [
    "We see that we have a class imbalance, and we have dicussed about this in the EDA notebook. Most of the data is in the Late delivery class (54.83%), and only 4.30% is in the Shipping canceled class. Since the majority class is Late Delivery with a  proportion of 54.83%, the baseline for our models should be an accuracy above **54.83%**."
   ]
  },
  {
   "cell_type": "markdown",
   "id": "08e72a3c",
   "metadata": {},
   "source": [
    "### Multi-Class Logistic Regression"
   ]
  },
  {
   "cell_type": "code",
   "execution_count": 36,
   "id": "e430c26c",
   "metadata": {},
   "outputs": [],
   "source": [
    "from sklearn.preprocessing import StandardScaler\n",
    "from sklearn.preprocessing import MinMaxScaler\n",
    "from sklearn.preprocessing import RobustScaler\n",
    "from sklearn.linear_model import LogisticRegression\n",
    "from sklearn.pipeline import Pipeline\n",
    "from sklearn.model_selection import GridSearchCV"
   ]
  },
  {
   "cell_type": "markdown",
   "id": "1c32b33c",
   "metadata": {},
   "source": [
    "I am going to start with a vanilla multiclass logistic regression:"
   ]
  },
  {
   "cell_type": "markdown",
   "id": "4f8adaa4",
   "metadata": {},
   "source": [
    "**Model 6.0**"
   ]
  },
  {
   "cell_type": "code",
   "execution_count": 100,
   "id": "7885ca09",
   "metadata": {},
   "outputs": [],
   "source": [
    "X = df.drop(\"Delivery Status\", axis=1)\n",
    "y = df[\"Delivery Status\"]"
   ]
  },
  {
   "cell_type": "code",
   "execution_count": 101,
   "id": "5486ef7c",
   "metadata": {},
   "outputs": [],
   "source": [
    "X_train, X_test, y_train, y_test = \\\n",
    "    train_test_split(X, y, test_size = 0.3,\n",
    "                        random_state=123)"
   ]
  },
  {
   "cell_type": "code",
   "execution_count": 102,
   "id": "bc280bc0",
   "metadata": {},
   "outputs": [],
   "source": [
    "model = LogisticRegression(random_state=123)"
   ]
  },
  {
   "cell_type": "code",
   "execution_count": 103,
   "id": "765f8962",
   "metadata": {},
   "outputs": [
    {
     "name": "stdout",
     "output_type": "stream",
     "text": [
      "Train Accuracy: 0.5471229255862172\n",
      "Test Accuracy: 0.5441418151601883\n"
     ]
    }
   ],
   "source": [
    "model_accuracy(X_train, X_test, y_train, y_test, model)"
   ]
  },
  {
   "cell_type": "code",
   "execution_count": 104,
   "id": "5a5af8f5",
   "metadata": {},
   "outputs": [
    {
     "name": "stdout",
     "output_type": "stream",
     "text": [
      "Train AUC Score: 0.6397996243753994\n",
      "Test AUC Score: 0.6351613518031924\n"
     ]
    }
   ],
   "source": [
    "auc_evaluation(X_train, X_test, y_train, y_test, model)"
   ]
  },
  {
   "cell_type": "markdown",
   "id": "f11bbb15",
   "metadata": {},
   "source": [
    "The first multiclass classification model (Model 6.0) that we have is a vanila logistic regression model. This model performs worse than the baseline that we set in terms of accuracy (54.83%). This model has a test accuracy of **54.42%** and an AUC score of **0.6352**."
   ]
  },
  {
   "cell_type": "markdown",
   "id": "b6f1b3c5",
   "metadata": {},
   "source": [
    "#### Optimized Hyperparameters"
   ]
  },
  {
   "cell_type": "code",
   "execution_count": 42,
   "id": "9b731649",
   "metadata": {},
   "outputs": [],
   "source": [
    "X = df.drop(\"Delivery Status\", axis=1)\n",
    "y = df[\"Delivery Status\"]"
   ]
  },
  {
   "cell_type": "code",
   "execution_count": 43,
   "id": "e7eddf73",
   "metadata": {},
   "outputs": [],
   "source": [
    "X_train, X_test, y_train, y_test = \\\n",
    "    train_test_split(X, y, test_size = 0.3,\n",
    "                        random_state=123)"
   ]
  },
  {
   "cell_type": "markdown",
   "id": "ed583e0f",
   "metadata": {},
   "source": [
    "I am going to narrow down which C hyperparamter does not overfit first before running the gridsearch."
   ]
  },
  {
   "cell_type": "code",
   "execution_count": 44,
   "id": "203acffe",
   "metadata": {
    "scrolled": false
   },
   "outputs": [
    {
     "data": {
      "image/png": "[encoded data removed]",
      "text/plain": [
       "<Figure size 640x480 with 1 Axes>"
      ]
     },
     "metadata": {},
     "output_type": "display_data"
    }
   ],
   "source": [
    "test_scores = []\n",
    "train_scores = []\n",
    "\n",
    "C_range = np.array([.00000001,.0000001,.000001,.00001,.0001,.001,0.1,\\\n",
    "                1,10,100,1000,10000,100000,1000000,10000000,100000000,1000000000])\n",
    "\n",
    "for c in C_range:\n",
    "    my_logreg = LogisticRegression(C = c,random_state=123)\n",
    "    my_logreg.fit(X_train,y_train)\n",
    "    \n",
    "    # train on traning set\n",
    "    train_scores.append(my_logreg.score(X_train,y_train))\n",
    "    # score on test set\n",
    "    test_scores.append(my_logreg.score(X_test,y_test))\n",
    "    \n",
    "plt.figure()\n",
    "plt.plot(C_range, train_scores,label=\"Train Score\",marker='.')\n",
    "plt.plot(C_range, test_scores,label=\"Test Scores\",marker='.')\n",
    "plt.xscale('log')\n",
    "plt.xlabel('C')\n",
    "plt.ylabel('Accuracy')\n",
    "plt.legend()\n",
    "plt.show()"
   ]
  },
  {
   "cell_type": "markdown",
   "id": "dd875e22",
   "metadata": {},
   "source": [
    "From this graph, it seems like the model overfits along these ranges of C; however, looking at the scale of the data, the difference between the train and test scores are not very different at every point."
   ]
  },
  {
   "cell_type": "markdown",
   "id": "73019fb3",
   "metadata": {},
   "source": [
    "Now I am going to use GridSearchCV to get the best hyperparameters:"
   ]
  },
  {
   "cell_type": "code",
   "execution_count": 45,
   "id": "42cfade7",
   "metadata": {
    "id": "bPWhVVJV8kXm"
   },
   "outputs": [],
   "source": [
    "# Create placeholders\n",
    "estimators = [\n",
    "    ('scaler', StandardScaler()),\n",
    "    ('model', LogisticRegression())\n",
    "]\n",
    "\n",
    "my_pipe = Pipeline(estimators)"
   ]
  },
  {
   "cell_type": "markdown",
   "id": "f25ccb19",
   "metadata": {
    "id": "rFmrMljCL23p"
   },
   "source": [
    "We can then specify the combinations to try out in our grid search:"
   ]
  },
  {
   "cell_type": "code",
   "execution_count": 46,
   "id": "f2e6f258",
   "metadata": {
    "id": "G0AewSv88kXn"
   },
   "outputs": [],
   "source": [
    "# One model, 4 scalers, 3 C-values, 5 solvers\n",
    "# 5-fold Cross Validation\n",
    "\n",
    "\n",
    "param_grid = [\n",
    "    {\n",
    "        'scaler': [StandardScaler(), RobustScaler(), MinMaxScaler(), None],\n",
    "        'model': [LogisticRegression()], \n",
    "        'model__C': [0.000001, 0.00001, 0.0001],\n",
    "        'model__solver' : ['saga', 'liblinear', 'lbfgs', 'newton-cg', 'sag']\n",
    "    }\n",
    "]\n",
    "\n",
    "grid = GridSearchCV(my_pipe, param_grid, cv=5)\n",
    "\n",
    "fittedgrid = grid.fit(X_train, y_train)"
   ]
  },
  {
   "cell_type": "code",
   "execution_count": 47,
   "id": "0430c05f",
   "metadata": {},
   "outputs": [
    {
     "data": {
      "text/html": [
       "<style>#sk-container-id-1 {color: black;background-color: white;}#sk-container-id-1 pre{padding: 0;}#sk-container-id-1 div.sk-toggleable {background-color: white;}#sk-container-id-1 label.sk-toggleable__label {cursor: pointer;display: block;width: 100%;margin-bottom: 0;padding: 0.3em;box-sizing: border-box;text-align: center;}#sk-container-id-1 label.sk-toggleable__label-arrow:before {content: \"▸\";float: left;margin-right: 0.25em;color: #696969;}#sk-container-id-1 label.sk-toggleable__label-arrow:hover:before {color: black;}#sk-container-id-1 div.sk-estimator:hover label.sk-toggleable__label-arrow:before {color: black;}#sk-container-id-1 div.sk-toggleable__content {max-height: 0;max-width: 0;overflow: hidden;text-align: left;background-color: #f0f8ff;}#sk-container-id-1 div.sk-toggleable__content pre {margin: 0.2em;color: black;border-radius: 0.25em;background-color: #f0f8ff;}#sk-container-id-1 input.sk-toggleable__control:checked~div.sk-toggleable__content {max-height: 200px;max-width: 100%;overflow: auto;}#sk-container-id-1 input.sk-toggleable__control:checked~label.sk-toggleable__label-arrow:before {content: \"▾\";}#sk-container-id-1 div.sk-estimator input.sk-toggleable__control:checked~label.sk-toggleable__label {background-color: #d4ebff;}#sk-container-id-1 div.sk-label input.sk-toggleable__control:checked~label.sk-toggleable__label {background-color: #d4ebff;}#sk-container-id-1 input.sk-hidden--visually {border: 0;clip: rect(1px 1px 1px 1px);clip: rect(1px, 1px, 1px, 1px);height: 1px;margin: -1px;overflow: hidden;padding: 0;position: absolute;width: 1px;}#sk-container-id-1 div.sk-estimator {font-family: monospace;background-color: #f0f8ff;border: 1px dotted black;border-radius: 0.25em;box-sizing: border-box;margin-bottom: 0.5em;}#sk-container-id-1 div.sk-estimator:hover {background-color: #d4ebff;}#sk-container-id-1 div.sk-parallel-item::after {content: \"\";width: 100%;border-bottom: 1px solid gray;flex-grow: 1;}#sk-container-id-1 div.sk-label:hover label.sk-toggleable__label {background-color: #d4ebff;}#sk-container-id-1 div.sk-serial::before {content: \"\";position: absolute;border-left: 1px solid gray;box-sizing: border-box;top: 0;bottom: 0;left: 50%;z-index: 0;}#sk-container-id-1 div.sk-serial {display: flex;flex-direction: column;align-items: center;background-color: white;padding-right: 0.2em;padding-left: 0.2em;position: relative;}#sk-container-id-1 div.sk-item {position: relative;z-index: 1;}#sk-container-id-1 div.sk-parallel {display: flex;align-items: stretch;justify-content: center;background-color: white;position: relative;}#sk-container-id-1 div.sk-item::before, #sk-container-id-1 div.sk-parallel-item::before {content: \"\";position: absolute;border-left: 1px solid gray;box-sizing: border-box;top: 0;bottom: 0;left: 50%;z-index: -1;}#sk-container-id-1 div.sk-parallel-item {display: flex;flex-direction: column;z-index: 1;position: relative;background-color: white;}#sk-container-id-1 div.sk-parallel-item:first-child::after {align-self: flex-end;width: 50%;}#sk-container-id-1 div.sk-parallel-item:last-child::after {align-self: flex-start;width: 50%;}#sk-container-id-1 div.sk-parallel-item:only-child::after {width: 0;}#sk-container-id-1 div.sk-dashed-wrapped {border: 1px dashed gray;margin: 0 0.4em 0.5em 0.4em;box-sizing: border-box;padding-bottom: 0.4em;background-color: white;}#sk-container-id-1 div.sk-label label {font-family: monospace;font-weight: bold;display: inline-block;line-height: 1.2em;}#sk-container-id-1 div.sk-label-container {text-align: center;}#sk-container-id-1 div.sk-container {/* jupyter's `normalize.less` sets `[hidden] { display: none; }` but bootstrap.min.css set `[hidden] { display: none !important; }` so we also need the `!important` here to be able to override the default hidden behavior on the sphinx rendered scikit-learn.org. See: https://github.com/scikit-learn/scikit-learn/issues/21755 */display: inline-block !important;position: relative;}#sk-container-id-1 div.sk-text-repr-fallback {display: none;}</style><div id=\"sk-container-id-1\" class=\"sk-top-container\"><div class=\"sk-text-repr-fallback\"><pre>Pipeline(steps=[(&#x27;scaler&#x27;, StandardScaler()),\n",
       "                (&#x27;model&#x27;, LogisticRegression(C=1e-06, solver=&#x27;liblinear&#x27;))])</pre><b>In a Jupyter environment, please rerun this cell to show the HTML representation or trust the notebook. <br />On GitHub, the HTML representation is unable to render, please try loading this page with nbviewer.org.</b></div><div class=\"sk-container\" hidden><div class=\"sk-item sk-dashed-wrapped\"><div class=\"sk-label-container\"><div class=\"sk-label sk-toggleable\"><input class=\"sk-toggleable__control sk-hidden--visually\" id=\"sk-estimator-id-1\" type=\"checkbox\" ><label for=\"sk-estimator-id-1\" class=\"sk-toggleable__label sk-toggleable__label-arrow\">Pipeline</label><div class=\"sk-toggleable__content\"><pre>Pipeline(steps=[(&#x27;scaler&#x27;, StandardScaler()),\n",
       "                (&#x27;model&#x27;, LogisticRegression(C=1e-06, solver=&#x27;liblinear&#x27;))])</pre></div></div></div><div class=\"sk-serial\"><div class=\"sk-item\"><div class=\"sk-estimator sk-toggleable\"><input class=\"sk-toggleable__control sk-hidden--visually\" id=\"sk-estimator-id-2\" type=\"checkbox\" ><label for=\"sk-estimator-id-2\" class=\"sk-toggleable__label sk-toggleable__label-arrow\">StandardScaler</label><div class=\"sk-toggleable__content\"><pre>StandardScaler()</pre></div></div></div><div class=\"sk-item\"><div class=\"sk-estimator sk-toggleable\"><input class=\"sk-toggleable__control sk-hidden--visually\" id=\"sk-estimator-id-3\" type=\"checkbox\" ><label for=\"sk-estimator-id-3\" class=\"sk-toggleable__label sk-toggleable__label-arrow\">LogisticRegression</label><div class=\"sk-toggleable__content\"><pre>LogisticRegression(C=1e-06, solver=&#x27;liblinear&#x27;)</pre></div></div></div></div></div></div></div>"
      ],
      "text/plain": [
       "Pipeline(steps=[('scaler', StandardScaler()),\n",
       "                ('model', LogisticRegression(C=1e-06, solver='liblinear'))])"
      ]
     },
     "execution_count": 47,
     "metadata": {},
     "output_type": "execute_result"
    }
   ],
   "source": [
    "fittedgrid.best_estimator_"
   ]
  },
  {
   "cell_type": "markdown",
   "id": "651018f4",
   "metadata": {},
   "source": [
    "The best parameters for the logistic regression model are:\n",
    "- C = **0.000001**\n",
    "- solver = **'liblinear'**\n",
    "- scaler = **StandardScaler**"
   ]
  },
  {
   "cell_type": "markdown",
   "id": "c7e88fd2",
   "metadata": {},
   "source": [
    "#### Model 6.1"
   ]
  },
  {
   "cell_type": "code",
   "execution_count": 48,
   "id": "6c5b80f3",
   "metadata": {},
   "outputs": [],
   "source": [
    "scaler = StandardScaler()\n",
    "X_train = scaler.fit_transform(X_train)\n",
    "X_test = scaler.fit_transform(X_test)"
   ]
  },
  {
   "cell_type": "code",
   "execution_count": 49,
   "id": "9e976bc5",
   "metadata": {},
   "outputs": [
    {
     "name": "stdout",
     "output_type": "stream",
     "text": [
      "Train Accuracy: 0.5988160904076416\n",
      "Test Accuracy: 0.5931862247253255\n"
     ]
    }
   ],
   "source": [
    "model_accuracy(X_train, X_test, y_train, y_test, model)"
   ]
  },
  {
   "cell_type": "code",
   "execution_count": 50,
   "id": "e4b7ca42",
   "metadata": {},
   "outputs": [
    {
     "name": "stdout",
     "output_type": "stream",
     "text": [
      "Train AUC Score: 0.8061000723212127\n",
      "Test AUC Score: 0.802841208550138\n"
     ]
    }
   ],
   "source": [
    "auc_evaluation(X_train, X_test, y_train, y_test, model)"
   ]
  },
  {
   "cell_type": "markdown",
   "id": "8e6377b1",
   "metadata": {},
   "source": [
    "This hyperparameter-optimized logistic regression model has an accuracy of **59.32%** and an AUC score of **0.8028**. Although the accuracy only increased by about 5 percentage point, the AUC score increased significantly."
   ]
  },
  {
   "cell_type": "markdown",
   "id": "f3bd7d41",
   "metadata": {},
   "source": [
    "### Decision Tree"
   ]
  },
  {
   "cell_type": "markdown",
   "id": "3d2191c2",
   "metadata": {},
   "source": [
    "Next, we will be modeling with Decision Tree."
   ]
  },
  {
   "cell_type": "code",
   "execution_count": 51,
   "id": "04cb939a",
   "metadata": {},
   "outputs": [],
   "source": [
    "from sklearn.tree import DecisionTreeClassifier"
   ]
  },
  {
   "cell_type": "code",
   "execution_count": 52,
   "id": "9c8877de",
   "metadata": {},
   "outputs": [],
   "source": [
    "#setting the variables\n",
    "X = df.drop(\"Delivery Status\", axis=1)\n",
    "y = df[\"Delivery Status\"]"
   ]
  },
  {
   "cell_type": "code",
   "execution_count": 53,
   "id": "2d8c3de5",
   "metadata": {},
   "outputs": [],
   "source": [
    "#70-30 train-test split\n",
    "X_train, X_test, y_train, y_test = \\\n",
    "    train_test_split(X, y, test_size = 0.3,\n",
    "                        random_state=123)"
   ]
  },
  {
   "cell_type": "code",
   "execution_count": 54,
   "id": "ed1cc498",
   "metadata": {},
   "outputs": [
    {
     "name": "stdout",
     "output_type": "stream",
     "text": [
      "Train Accuracy: 0.9999841723316529\n",
      "Test Accuracy: 0.6660696149939987\n"
     ]
    }
   ],
   "source": [
    "# Instantiate & fit the DT model\n",
    "model = DecisionTreeClassifier(random_state = 123)\n",
    "\n",
    "model_accuracy(X_train, X_test, y_train, y_test, model)"
   ]
  },
  {
   "cell_type": "markdown",
   "id": "af3b327b",
   "metadata": {},
   "source": [
    "Here, we heavily overfit the train data because we did not specify the max_depth parameter. Let's find the optimal max_depth parameter ensuring no overfitting."
   ]
  },
  {
   "cell_type": "code",
   "execution_count": 55,
   "id": "55d8da23",
   "metadata": {},
   "outputs": [
    {
     "name": "stdout",
     "output_type": "stream",
     "text": [
      "Best test scores given by:\n",
      "    Depth  Test Score  Train Score\n",
      "18   19.0    0.647549     0.756705 \n",
      "\n",
      "\n"
     ]
    },
    {
     "data": {
      "image/png": "[encoded data removed]",
      "text/plain": [
       "<Figure size 1000x500 with 1 Axes>"
      ]
     },
     "metadata": {},
     "output_type": "display_data"
    }
   ],
   "source": [
    "scores = pd.DataFrame()\n",
    "\n",
    "depth_range = 20\n",
    "\n",
    "# loop through the max depth values\n",
    "for max_depth in range(1, depth_range):\n",
    "    dt_model = DecisionTreeClassifier(max_depth=max_depth)\n",
    "    dt_model.fit(X_train, y_train)\n",
    "    \n",
    "    # scoring\n",
    "    train_score = dt_model.score(X_train, y_train)\n",
    "    test_score = dt_model.score(X_test, y_test)\n",
    "    \n",
    "    # append results\n",
    "    scores = scores.append({'Depth': max_depth, 'Train Score': train_score, 'Test Score': test_score}, ignore_index=True)\n",
    "\n",
    "# best parameter\n",
    "best_score = scores['Test Score'].max()\n",
    "print(\"Best test scores given by:\")\n",
    "print(scores[scores['Test Score'] == best_score], \"\\n\\n\")\n",
    "\n",
    "# comparison plot\n",
    "plt.figure(figsize=(10,5))\n",
    "plt.plot('Depth', 'Train Score', data=scores)\n",
    "plt.plot('Depth', 'Test Score', data=scores)\n",
    "plt.title('Accuracies as Depth Changes')\n",
    "plt.xlabel('Depth')\n",
    "plt.xticks(range(1,depth_range, 2))\n",
    "plt.ylabel('Accuracy Score')\n",
    "plt.legend()\n",
    "plt.show()"
   ]
  },
  {
   "cell_type": "markdown",
   "id": "efb34afe",
   "metadata": {},
   "source": [
    "Here, although the test score keeps rising, I would say that the optimal depth is at 9 considering robust fit."
   ]
  },
  {
   "cell_type": "markdown",
   "id": "b08b6025",
   "metadata": {},
   "source": [
    "#### Model 7.0"
   ]
  },
  {
   "cell_type": "code",
   "execution_count": 56,
   "id": "30f0f382",
   "metadata": {},
   "outputs": [],
   "source": [
    "#setting the variables\n",
    "X = df.drop(\"Delivery Status\", axis=1)\n",
    "y = df[\"Delivery Status\"]"
   ]
  },
  {
   "cell_type": "code",
   "execution_count": 57,
   "id": "7ea04d91",
   "metadata": {},
   "outputs": [],
   "source": [
    "#70-30 train-test split\n",
    "X_train, X_test, y_train, y_test = \\\n",
    "    train_test_split(X, y, test_size = 0.3,\n",
    "                        random_state=123)"
   ]
  },
  {
   "cell_type": "code",
   "execution_count": 58,
   "id": "683d6e5f",
   "metadata": {},
   "outputs": [
    {
     "name": "stdout",
     "output_type": "stream",
     "text": [
      "Train Accuracy: 0.6160128520666978\n",
      "Test Accuracy: 0.607884775182347\n"
     ]
    }
   ],
   "source": [
    "model = DecisionTreeClassifier(max_depth = 9, random_state = 123)\n",
    "\n",
    "model_accuracy(X_train, X_test, y_train, y_test, model)"
   ]
  },
  {
   "cell_type": "code",
   "execution_count": 59,
   "id": "aa706484",
   "metadata": {},
   "outputs": [
    {
     "name": "stdout",
     "output_type": "stream",
     "text": [
      "Train AUC Score: 0.818291380143497\n",
      "Test AUC Score: 0.8092633058795374\n"
     ]
    }
   ],
   "source": [
    "auc_evaluation(X_train, X_test, y_train, y_test, model)"
   ]
  },
  {
   "cell_type": "markdown",
   "id": "9e3ccf20",
   "metadata": {},
   "source": [
    "This decision tree model has a test accuracy of **60.79%** and an AUC score of **0.8093**. Both metrics are slightly improved compared to the previous logistic regression model."
   ]
  },
  {
   "cell_type": "markdown",
   "id": "ab36164a",
   "metadata": {},
   "source": [
    "## Modeling with Neural Networks"
   ]
  },
  {
   "cell_type": "markdown",
   "id": "b35d278e",
   "metadata": {},
   "source": [
    "I am going to experiment with neural network models!"
   ]
  },
  {
   "cell_type": "code",
   "execution_count": 105,
   "id": "268a9aab",
   "metadata": {},
   "outputs": [],
   "source": [
    "import tensorflow as tf\n",
    "from tensorflow import keras\n",
    "from tensorflow.keras import layers\n",
    "from tensorflow.keras.callbacks import EarlyStopping"
   ]
  },
  {
   "cell_type": "code",
   "execution_count": 106,
   "id": "c8c9640b",
   "metadata": {},
   "outputs": [],
   "source": [
    "X = df.drop(\"Delivery Status\", axis=1)\n",
    "y = df[\"Delivery Status\"]"
   ]
  },
  {
   "cell_type": "code",
   "execution_count": 107,
   "id": "13c3dba7",
   "metadata": {},
   "outputs": [],
   "source": [
    "X_train, X_test, y_train, y_test = \\\n",
    "    train_test_split(X, y, test_size = 0.3,\n",
    "                        random_state=123)"
   ]
  },
  {
   "cell_type": "code",
   "execution_count": 108,
   "id": "36c02e42",
   "metadata": {},
   "outputs": [],
   "source": [
    "#scaling the data\n",
    "scaler = RobustScaler()\n",
    "scaler.fit(X_train)\n",
    "X_train = scaler.transform(X_train)\n",
    "X_test = scaler.transform(X_test)"
   ]
  },
  {
   "cell_type": "markdown",
   "id": "672d1d69",
   "metadata": {},
   "source": [
    "### Simple Neural Network"
   ]
  },
  {
   "cell_type": "markdown",
   "id": "43af5259",
   "metadata": {},
   "source": [
    "For the first nerual network model, I am going to start with a simple architecture. Here is a summary of the neural network architecture that I will build:\n",
    "- 1 hidden layer with 40 nodes\n",
    "- Activation funtions = softmax (output), relu (hidden layers)\n",
    "- Optimizer = Adam\n",
    "- Loss function = Sparse Categorical Crossentropy\n",
    "- Metrics = Sparse Categorical Accuracy\n",
    "- Epochs = 200"
   ]
  },
  {
   "cell_type": "code",
   "execution_count": 109,
   "id": "ea4ac438",
   "metadata": {},
   "outputs": [
    {
     "name": "stdout",
     "output_type": "stream",
     "text": [
      "Epoch 1/200\n",
      "3949/3949 [==============================] - 2s 478us/step - loss: 0.7845 - sparse_categorical_accuracy: 0.5869 - val_loss: 0.7422 - val_sparse_categorical_accuracy: 0.5945\n",
      "Epoch 2/200\n",
      "3949/3949 [==============================] - 2s 452us/step - loss: 0.7384 - sparse_categorical_accuracy: 0.5987 - val_loss: 0.7387 - val_sparse_categorical_accuracy: 0.5973\n",
      "Epoch 3/200\n",
      "3949/3949 [==============================] - 2s 442us/step - loss: 0.7362 - sparse_categorical_accuracy: 0.6002 - val_loss: 0.7453 - val_sparse_categorical_accuracy: 0.5994\n",
      "Epoch 4/200\n",
      "3949/3949 [==============================] - 2s 438us/step - loss: 0.7348 - sparse_categorical_accuracy: 0.6019 - val_loss: 0.7384 - val_sparse_categorical_accuracy: 0.5986\n",
      "Epoch 5/200\n",
      "3949/3949 [==============================] - 2s 437us/step - loss: 0.7336 - sparse_categorical_accuracy: 0.6033 - val_loss: 0.7421 - val_sparse_categorical_accuracy: 0.6005\n",
      "Epoch 6/200\n",
      "3949/3949 [==============================] - 2s 442us/step - loss: 0.7333 - sparse_categorical_accuracy: 0.6035 - val_loss: 0.7375 - val_sparse_categorical_accuracy: 0.6005\n",
      "Epoch 7/200\n",
      "3949/3949 [==============================] - 2s 455us/step - loss: 0.7321 - sparse_categorical_accuracy: 0.6053 - val_loss: 0.7364 - val_sparse_categorical_accuracy: 0.6011\n",
      "Epoch 8/200\n",
      "3949/3949 [==============================] - 2s 468us/step - loss: 0.7313 - sparse_categorical_accuracy: 0.6085 - val_loss: 0.7364 - val_sparse_categorical_accuracy: 0.6027\n",
      "Epoch 9/200\n",
      "3949/3949 [==============================] - 2s 482us/step - loss: 0.7311 - sparse_categorical_accuracy: 0.6085 - val_loss: 0.7376 - val_sparse_categorical_accuracy: 0.6038\n",
      "Epoch 10/200\n",
      "3949/3949 [==============================] - 2s 461us/step - loss: 0.7305 - sparse_categorical_accuracy: 0.6096 - val_loss: 0.7351 - val_sparse_categorical_accuracy: 0.6030\n",
      "Epoch 11/200\n",
      "3949/3949 [==============================] - 2s 443us/step - loss: 0.7299 - sparse_categorical_accuracy: 0.6093 - val_loss: 0.7377 - val_sparse_categorical_accuracy: 0.6047\n",
      "Epoch 12/200\n",
      "3949/3949 [==============================] - 2s 445us/step - loss: 0.7294 - sparse_categorical_accuracy: 0.6107 - val_loss: 0.7358 - val_sparse_categorical_accuracy: 0.6064\n",
      "Epoch 13/200\n",
      "3949/3949 [==============================] - 2s 455us/step - loss: 0.7289 - sparse_categorical_accuracy: 0.6131 - val_loss: 0.7360 - val_sparse_categorical_accuracy: 0.6022\n",
      "Epoch 14/200\n",
      "3949/3949 [==============================] - 2s 450us/step - loss: 0.7285 - sparse_categorical_accuracy: 0.6124 - val_loss: 0.7362 - val_sparse_categorical_accuracy: 0.6045\n",
      "Epoch 15/200\n",
      "3949/3949 [==============================] - 2s 451us/step - loss: 0.7283 - sparse_categorical_accuracy: 0.6131 - val_loss: 0.7368 - val_sparse_categorical_accuracy: 0.6027\n",
      "Epoch 16/200\n",
      "3949/3949 [==============================] - 2s 445us/step - loss: 0.7279 - sparse_categorical_accuracy: 0.6132 - val_loss: 0.7346 - val_sparse_categorical_accuracy: 0.6065\n",
      "Epoch 17/200\n",
      "3949/3949 [==============================] - 2s 452us/step - loss: 0.7275 - sparse_categorical_accuracy: 0.6146 - val_loss: 0.7360 - val_sparse_categorical_accuracy: 0.6050\n",
      "Epoch 18/200\n",
      "3949/3949 [==============================] - 2s 451us/step - loss: 0.7274 - sparse_categorical_accuracy: 0.6140 - val_loss: 0.7371 - val_sparse_categorical_accuracy: 0.6054\n",
      "Epoch 19/200\n",
      "3949/3949 [==============================] - 2s 467us/step - loss: 0.7270 - sparse_categorical_accuracy: 0.6151 - val_loss: 0.7370 - val_sparse_categorical_accuracy: 0.6036\n",
      "Epoch 20/200\n",
      "3949/3949 [==============================] - 2s 486us/step - loss: 0.7269 - sparse_categorical_accuracy: 0.6140 - val_loss: 0.7368 - val_sparse_categorical_accuracy: 0.6042\n",
      "Epoch 21/200\n",
      "3949/3949 [==============================] - 2s 464us/step - loss: 0.7265 - sparse_categorical_accuracy: 0.6144 - val_loss: 0.7353 - val_sparse_categorical_accuracy: 0.6067\n",
      "Epoch 22/200\n",
      "3949/3949 [==============================] - 2s 481us/step - loss: 0.7265 - sparse_categorical_accuracy: 0.6147 - val_loss: 0.7350 - val_sparse_categorical_accuracy: 0.6069\n",
      "Epoch 23/200\n",
      "3949/3949 [==============================] - 2s 472us/step - loss: 0.7259 - sparse_categorical_accuracy: 0.6161 - val_loss: 0.7360 - val_sparse_categorical_accuracy: 0.6034\n",
      "Epoch 24/200\n",
      "3949/3949 [==============================] - 2s 457us/step - loss: 0.7259 - sparse_categorical_accuracy: 0.6163 - val_loss: 0.7353 - val_sparse_categorical_accuracy: 0.6065\n",
      "Epoch 25/200\n",
      "3949/3949 [==============================] - 2s 502us/step - loss: 0.7254 - sparse_categorical_accuracy: 0.6172 - val_loss: 0.7348 - val_sparse_categorical_accuracy: 0.6073\n",
      "Epoch 26/200\n",
      "3949/3949 [==============================] - 2s 475us/step - loss: 0.7255 - sparse_categorical_accuracy: 0.6166 - val_loss: 0.7370 - val_sparse_categorical_accuracy: 0.6062\n",
      "Epoch 27/200\n",
      "3949/3949 [==============================] - 2s 445us/step - loss: 0.7253 - sparse_categorical_accuracy: 0.6167 - val_loss: 0.7357 - val_sparse_categorical_accuracy: 0.6038\n",
      "Epoch 28/200\n",
      "3949/3949 [==============================] - 2s 475us/step - loss: 0.7250 - sparse_categorical_accuracy: 0.6184 - val_loss: 0.7352 - val_sparse_categorical_accuracy: 0.6072\n",
      "Epoch 29/200\n",
      "3949/3949 [==============================] - 2s 458us/step - loss: 0.7248 - sparse_categorical_accuracy: 0.6174 - val_loss: 0.7349 - val_sparse_categorical_accuracy: 0.6059\n",
      "Epoch 30/200\n",
      "3949/3949 [==============================] - 2s 456us/step - loss: 0.7247 - sparse_categorical_accuracy: 0.6174 - val_loss: 0.7360 - val_sparse_categorical_accuracy: 0.6076\n",
      "Epoch 31/200\n",
      "3949/3949 [==============================] - 2s 461us/step - loss: 0.7245 - sparse_categorical_accuracy: 0.6180 - val_loss: 0.7366 - val_sparse_categorical_accuracy: 0.6070\n",
      "Epoch 32/200\n",
      "3949/3949 [==============================] - 2s 451us/step - loss: 0.7245 - sparse_categorical_accuracy: 0.6186 - val_loss: 0.7347 - val_sparse_categorical_accuracy: 0.6085\n",
      "Epoch 33/200\n",
      "3949/3949 [==============================] - 2s 462us/step - loss: 0.7243 - sparse_categorical_accuracy: 0.6180 - val_loss: 0.7358 - val_sparse_categorical_accuracy: 0.6060\n",
      "Epoch 34/200\n",
      "3949/3949 [==============================] - 2s 447us/step - loss: 0.7240 - sparse_categorical_accuracy: 0.6175 - val_loss: 0.7354 - val_sparse_categorical_accuracy: 0.6055\n",
      "Epoch 35/200\n",
      "3949/3949 [==============================] - 2s 437us/step - loss: 0.7241 - sparse_categorical_accuracy: 0.6185 - val_loss: 0.7369 - val_sparse_categorical_accuracy: 0.6048\n",
      "Epoch 36/200\n",
      "3949/3949 [==============================] - 2s 438us/step - loss: 0.7238 - sparse_categorical_accuracy: 0.6197 - val_loss: 0.7358 - val_sparse_categorical_accuracy: 0.6056\n",
      "Epoch 37/200\n",
      "3949/3949 [==============================] - 2s 438us/step - loss: 0.7237 - sparse_categorical_accuracy: 0.6195 - val_loss: 0.7347 - val_sparse_categorical_accuracy: 0.6083\n",
      "Epoch 38/200\n",
      "3949/3949 [==============================] - 2s 426us/step - loss: 0.7235 - sparse_categorical_accuracy: 0.6189 - val_loss: 0.7348 - val_sparse_categorical_accuracy: 0.6078\n",
      "Epoch 39/200\n",
      "3949/3949 [==============================] - 2s 424us/step - loss: 0.7235 - sparse_categorical_accuracy: 0.6192 - val_loss: 0.7352 - val_sparse_categorical_accuracy: 0.6065\n",
      "Epoch 40/200\n",
      "3949/3949 [==============================] - 2s 423us/step - loss: 0.7234 - sparse_categorical_accuracy: 0.6184 - val_loss: 0.7376 - val_sparse_categorical_accuracy: 0.6072\n",
      "Epoch 41/200\n",
      "3949/3949 [==============================] - 2s 424us/step - loss: 0.7234 - sparse_categorical_accuracy: 0.6186 - val_loss: 0.7349 - val_sparse_categorical_accuracy: 0.6075\n",
      "Epoch 42/200\n",
      "3949/3949 [==============================] - 2s 422us/step - loss: 0.7232 - sparse_categorical_accuracy: 0.6192 - val_loss: 0.7356 - val_sparse_categorical_accuracy: 0.6083\n",
      "Epoch 43/200\n",
      "3949/3949 [==============================] - 2s 422us/step - loss: 0.7231 - sparse_categorical_accuracy: 0.6195 - val_loss: 0.7350 - val_sparse_categorical_accuracy: 0.6066\n",
      "Epoch 44/200\n",
      "3949/3949 [==============================] - 2s 430us/step - loss: 0.7232 - sparse_categorical_accuracy: 0.6183 - val_loss: 0.7349 - val_sparse_categorical_accuracy: 0.6063\n",
      "Epoch 45/200\n",
      "3949/3949 [==============================] - 2s 424us/step - loss: 0.7230 - sparse_categorical_accuracy: 0.6191 - val_loss: 0.7354 - val_sparse_categorical_accuracy: 0.6073\n",
      "Epoch 46/200\n",
      "3949/3949 [==============================] - 2s 424us/step - loss: 0.7229 - sparse_categorical_accuracy: 0.6201 - val_loss: 0.7359 - val_sparse_categorical_accuracy: 0.6067\n",
      "Epoch 47/200\n",
      "3949/3949 [==============================] - 2s 423us/step - loss: 0.7225 - sparse_categorical_accuracy: 0.6192 - val_loss: 0.7356 - val_sparse_categorical_accuracy: 0.6075\n",
      "Epoch 48/200\n",
      "3949/3949 [==============================] - 2s 421us/step - loss: 0.7227 - sparse_categorical_accuracy: 0.6203 - val_loss: 0.7358 - val_sparse_categorical_accuracy: 0.6066\n",
      "Epoch 49/200\n",
      "3949/3949 [==============================] - 2s 421us/step - loss: 0.7225 - sparse_categorical_accuracy: 0.6204 - val_loss: 0.7368 - val_sparse_categorical_accuracy: 0.6055\n",
      "Epoch 50/200\n",
      "3949/3949 [==============================] - 2s 424us/step - loss: 0.7226 - sparse_categorical_accuracy: 0.6185 - val_loss: 0.7352 - val_sparse_categorical_accuracy: 0.6063\n",
      "Epoch 51/200\n",
      "3949/3949 [==============================] - 2s 424us/step - loss: 0.7222 - sparse_categorical_accuracy: 0.6214 - val_loss: 0.7354 - val_sparse_categorical_accuracy: 0.6080\n",
      "Epoch 52/200\n",
      "3949/3949 [==============================] - 2s 426us/step - loss: 0.7222 - sparse_categorical_accuracy: 0.6201 - val_loss: 0.7361 - val_sparse_categorical_accuracy: 0.6071\n",
      "Epoch 53/200\n",
      "3949/3949 [==============================] - 2s 426us/step - loss: 0.7224 - sparse_categorical_accuracy: 0.6195 - val_loss: 0.7343 - val_sparse_categorical_accuracy: 0.6077\n",
      "Epoch 54/200\n",
      "3949/3949 [==============================] - 2s 428us/step - loss: 0.7222 - sparse_categorical_accuracy: 0.6206 - val_loss: 0.7350 - val_sparse_categorical_accuracy: 0.6064\n",
      "Epoch 55/200\n",
      "3949/3949 [==============================] - 2s 425us/step - loss: 0.7221 - sparse_categorical_accuracy: 0.6202 - val_loss: 0.7345 - val_sparse_categorical_accuracy: 0.6058\n",
      "Epoch 56/200\n",
      "3949/3949 [==============================] - 2s 430us/step - loss: 0.7222 - sparse_categorical_accuracy: 0.6211 - val_loss: 0.7357 - val_sparse_categorical_accuracy: 0.6082\n",
      "Epoch 57/200\n",
      "3949/3949 [==============================] - 2s 425us/step - loss: 0.7220 - sparse_categorical_accuracy: 0.6208 - val_loss: 0.7348 - val_sparse_categorical_accuracy: 0.6059\n",
      "Epoch 58/200\n",
      "3949/3949 [==============================] - 2s 422us/step - loss: 0.7218 - sparse_categorical_accuracy: 0.6208 - val_loss: 0.7353 - val_sparse_categorical_accuracy: 0.6077\n",
      "Epoch 59/200\n",
      "3949/3949 [==============================] - 2s 424us/step - loss: 0.7217 - sparse_categorical_accuracy: 0.6216 - val_loss: 0.7346 - val_sparse_categorical_accuracy: 0.6069\n",
      "Epoch 60/200\n",
      "3949/3949 [==============================] - 2s 425us/step - loss: 0.7216 - sparse_categorical_accuracy: 0.6211 - val_loss: 0.7359 - val_sparse_categorical_accuracy: 0.6061\n",
      "Epoch 61/200\n",
      "3949/3949 [==============================] - 2s 425us/step - loss: 0.7218 - sparse_categorical_accuracy: 0.6209 - val_loss: 0.7357 - val_sparse_categorical_accuracy: 0.6080\n",
      "Epoch 62/200\n",
      "3949/3949 [==============================] - 2s 423us/step - loss: 0.7213 - sparse_categorical_accuracy: 0.6214 - val_loss: 0.7362 - val_sparse_categorical_accuracy: 0.6084\n",
      "Epoch 63/200\n",
      "3949/3949 [==============================] - 2s 427us/step - loss: 0.7214 - sparse_categorical_accuracy: 0.6202 - val_loss: 0.7365 - val_sparse_categorical_accuracy: 0.6066\n",
      "Epoch 64/200\n",
      "3949/3949 [==============================] - 2s 448us/step - loss: 0.7214 - sparse_categorical_accuracy: 0.6212 - val_loss: 0.7354 - val_sparse_categorical_accuracy: 0.6079\n",
      "Epoch 65/200\n",
      "3949/3949 [==============================] - 2s 425us/step - loss: 0.7215 - sparse_categorical_accuracy: 0.6216 - val_loss: 0.7356 - val_sparse_categorical_accuracy: 0.6089\n",
      "Epoch 66/200\n",
      "3949/3949 [==============================] - 2s 423us/step - loss: 0.7215 - sparse_categorical_accuracy: 0.6217 - val_loss: 0.7346 - val_sparse_categorical_accuracy: 0.6077\n",
      "Epoch 67/200\n",
      "3949/3949 [==============================] - 2s 425us/step - loss: 0.7211 - sparse_categorical_accuracy: 0.6220 - val_loss: 0.7357 - val_sparse_categorical_accuracy: 0.6089\n",
      "Epoch 68/200\n",
      "3949/3949 [==============================] - 2s 427us/step - loss: 0.7213 - sparse_categorical_accuracy: 0.6223 - val_loss: 0.7357 - val_sparse_categorical_accuracy: 0.6070\n",
      "Epoch 69/200\n",
      "3949/3949 [==============================] - 2s 425us/step - loss: 0.7211 - sparse_categorical_accuracy: 0.6214 - val_loss: 0.7355 - val_sparse_categorical_accuracy: 0.6067\n",
      "Epoch 70/200\n",
      "3949/3949 [==============================] - 2s 427us/step - loss: 0.7211 - sparse_categorical_accuracy: 0.6226 - val_loss: 0.7360 - val_sparse_categorical_accuracy: 0.6080\n",
      "Epoch 71/200\n",
      "3949/3949 [==============================] - 2s 431us/step - loss: 0.7211 - sparse_categorical_accuracy: 0.6229 - val_loss: 0.7371 - val_sparse_categorical_accuracy: 0.6074\n",
      "Epoch 72/200\n",
      "3949/3949 [==============================] - 2s 424us/step - loss: 0.7210 - sparse_categorical_accuracy: 0.6228 - val_loss: 0.7362 - val_sparse_categorical_accuracy: 0.6084\n",
      "Epoch 73/200\n",
      "3949/3949 [==============================] - 2s 426us/step - loss: 0.7211 - sparse_categorical_accuracy: 0.6214 - val_loss: 0.7364 - val_sparse_categorical_accuracy: 0.6052\n",
      "Epoch 74/200\n",
      "3949/3949 [==============================] - 2s 426us/step - loss: 0.7209 - sparse_categorical_accuracy: 0.6234 - val_loss: 0.7359 - val_sparse_categorical_accuracy: 0.6069\n",
      "Epoch 75/200\n",
      "3949/3949 [==============================] - 2s 423us/step - loss: 0.7210 - sparse_categorical_accuracy: 0.6214 - val_loss: 0.7360 - val_sparse_categorical_accuracy: 0.6101\n",
      "Epoch 76/200\n",
      "3949/3949 [==============================] - 2s 429us/step - loss: 0.7208 - sparse_categorical_accuracy: 0.6232 - val_loss: 0.7365 - val_sparse_categorical_accuracy: 0.6065\n",
      "Epoch 77/200\n",
      "3949/3949 [==============================] - 2s 442us/step - loss: 0.7208 - sparse_categorical_accuracy: 0.6225 - val_loss: 0.7358 - val_sparse_categorical_accuracy: 0.6069\n",
      "Epoch 78/200\n",
      "3949/3949 [==============================] - 2s 446us/step - loss: 0.7208 - sparse_categorical_accuracy: 0.6218 - val_loss: 0.7354 - val_sparse_categorical_accuracy: 0.6083\n",
      "Epoch 79/200\n",
      "3949/3949 [==============================] - 2s 425us/step - loss: 0.7207 - sparse_categorical_accuracy: 0.6230 - val_loss: 0.7363 - val_sparse_categorical_accuracy: 0.6096\n",
      "Epoch 80/200\n",
      "3949/3949 [==============================] - 2s 423us/step - loss: 0.7206 - sparse_categorical_accuracy: 0.6211 - val_loss: 0.7357 - val_sparse_categorical_accuracy: 0.6073\n",
      "Epoch 81/200\n",
      "3949/3949 [==============================] - 2s 421us/step - loss: 0.7204 - sparse_categorical_accuracy: 0.6226 - val_loss: 0.7378 - val_sparse_categorical_accuracy: 0.6087\n",
      "Epoch 82/200\n",
      "3949/3949 [==============================] - 2s 422us/step - loss: 0.7207 - sparse_categorical_accuracy: 0.6225 - val_loss: 0.7370 - val_sparse_categorical_accuracy: 0.6086\n",
      "Epoch 83/200\n",
      "3949/3949 [==============================] - 2s 431us/step - loss: 0.7204 - sparse_categorical_accuracy: 0.6237 - val_loss: 0.7368 - val_sparse_categorical_accuracy: 0.6066\n",
      "Epoch 84/200\n",
      "3949/3949 [==============================] - 2s 424us/step - loss: 0.7204 - sparse_categorical_accuracy: 0.6235 - val_loss: 0.7359 - val_sparse_categorical_accuracy: 0.6092\n",
      "Epoch 85/200\n",
      "3949/3949 [==============================] - 2s 440us/step - loss: 0.7205 - sparse_categorical_accuracy: 0.6223 - val_loss: 0.7363 - val_sparse_categorical_accuracy: 0.6078\n",
      "Epoch 86/200\n",
      "3949/3949 [==============================] - 2s 440us/step - loss: 0.7204 - sparse_categorical_accuracy: 0.6227 - val_loss: 0.7355 - val_sparse_categorical_accuracy: 0.6081\n",
      "Epoch 87/200\n",
      "3949/3949 [==============================] - 2s 429us/step - loss: 0.7203 - sparse_categorical_accuracy: 0.6231 - val_loss: 0.7363 - val_sparse_categorical_accuracy: 0.6091\n",
      "Epoch 88/200\n",
      "3949/3949 [==============================] - 2s 447us/step - loss: 0.7204 - sparse_categorical_accuracy: 0.6227 - val_loss: 0.7373 - val_sparse_categorical_accuracy: 0.6065\n",
      "Epoch 89/200\n"
     ]
    },
    {
     "name": "stdout",
     "output_type": "stream",
     "text": [
      "3949/3949 [==============================] - 2s 424us/step - loss: 0.7200 - sparse_categorical_accuracy: 0.6239 - val_loss: 0.7356 - val_sparse_categorical_accuracy: 0.6082\n",
      "Epoch 90/200\n",
      "3949/3949 [==============================] - 2s 432us/step - loss: 0.7204 - sparse_categorical_accuracy: 0.6230 - val_loss: 0.7373 - val_sparse_categorical_accuracy: 0.6066\n",
      "Epoch 91/200\n",
      "3949/3949 [==============================] - 2s 445us/step - loss: 0.7202 - sparse_categorical_accuracy: 0.6223 - val_loss: 0.7359 - val_sparse_categorical_accuracy: 0.6068\n",
      "Epoch 92/200\n",
      "3949/3949 [==============================] - 2s 423us/step - loss: 0.7202 - sparse_categorical_accuracy: 0.6232 - val_loss: 0.7357 - val_sparse_categorical_accuracy: 0.6091\n",
      "Epoch 93/200\n",
      "3949/3949 [==============================] - 2s 425us/step - loss: 0.7202 - sparse_categorical_accuracy: 0.6226 - val_loss: 0.7356 - val_sparse_categorical_accuracy: 0.6075\n",
      "Epoch 94/200\n",
      "3949/3949 [==============================] - 2s 426us/step - loss: 0.7199 - sparse_categorical_accuracy: 0.6231 - val_loss: 0.7351 - val_sparse_categorical_accuracy: 0.6086\n",
      "Epoch 95/200\n",
      "3949/3949 [==============================] - 2s 427us/step - loss: 0.7202 - sparse_categorical_accuracy: 0.6234 - val_loss: 0.7358 - val_sparse_categorical_accuracy: 0.6078\n",
      "Epoch 96/200\n",
      "3949/3949 [==============================] - 2s 427us/step - loss: 0.7200 - sparse_categorical_accuracy: 0.6231 - val_loss: 0.7350 - val_sparse_categorical_accuracy: 0.6090\n",
      "Epoch 97/200\n",
      "3949/3949 [==============================] - 2s 428us/step - loss: 0.7201 - sparse_categorical_accuracy: 0.6226 - val_loss: 0.7360 - val_sparse_categorical_accuracy: 0.6085\n",
      "Epoch 98/200\n",
      "3949/3949 [==============================] - 2s 424us/step - loss: 0.7198 - sparse_categorical_accuracy: 0.6229 - val_loss: 0.7351 - val_sparse_categorical_accuracy: 0.6095\n",
      "Epoch 99/200\n",
      "3949/3949 [==============================] - 2s 426us/step - loss: 0.7199 - sparse_categorical_accuracy: 0.6242 - val_loss: 0.7357 - val_sparse_categorical_accuracy: 0.6077\n",
      "Epoch 100/200\n",
      "3949/3949 [==============================] - 2s 424us/step - loss: 0.7200 - sparse_categorical_accuracy: 0.6234 - val_loss: 0.7352 - val_sparse_categorical_accuracy: 0.6089\n",
      "Epoch 101/200\n",
      "3949/3949 [==============================] - 2s 479us/step - loss: 0.7202 - sparse_categorical_accuracy: 0.6237 - val_loss: 0.7364 - val_sparse_categorical_accuracy: 0.6066\n",
      "Epoch 102/200\n",
      "3949/3949 [==============================] - 2s 467us/step - loss: 0.7200 - sparse_categorical_accuracy: 0.6231 - val_loss: 0.7359 - val_sparse_categorical_accuracy: 0.6085\n",
      "Epoch 103/200\n",
      "3949/3949 [==============================] - 2s 466us/step - loss: 0.7198 - sparse_categorical_accuracy: 0.6231 - val_loss: 0.7380 - val_sparse_categorical_accuracy: 0.6077\n",
      "Epoch 104/200\n",
      "3949/3949 [==============================] - 2s 459us/step - loss: 0.7199 - sparse_categorical_accuracy: 0.6243 - val_loss: 0.7364 - val_sparse_categorical_accuracy: 0.6090\n",
      "Epoch 105/200\n",
      "3949/3949 [==============================] - 2s 423us/step - loss: 0.7199 - sparse_categorical_accuracy: 0.6238 - val_loss: 0.7355 - val_sparse_categorical_accuracy: 0.6100\n",
      "Epoch 106/200\n",
      "3949/3949 [==============================] - 2s 436us/step - loss: 0.7196 - sparse_categorical_accuracy: 0.6230 - val_loss: 0.7364 - val_sparse_categorical_accuracy: 0.6086\n",
      "Epoch 107/200\n",
      "3949/3949 [==============================] - 2s 422us/step - loss: 0.7199 - sparse_categorical_accuracy: 0.6237 - val_loss: 0.7368 - val_sparse_categorical_accuracy: 0.6093\n",
      "Epoch 108/200\n",
      "3949/3949 [==============================] - 2s 435us/step - loss: 0.7197 - sparse_categorical_accuracy: 0.6235 - val_loss: 0.7369 - val_sparse_categorical_accuracy: 0.6065\n",
      "Epoch 109/200\n",
      "3949/3949 [==============================] - 2s 459us/step - loss: 0.7197 - sparse_categorical_accuracy: 0.6234 - val_loss: 0.7363 - val_sparse_categorical_accuracy: 0.6093\n",
      "Epoch 110/200\n",
      "3949/3949 [==============================] - 2s 444us/step - loss: 0.7196 - sparse_categorical_accuracy: 0.6236 - val_loss: 0.7361 - val_sparse_categorical_accuracy: 0.6076\n",
      "Epoch 111/200\n",
      "3949/3949 [==============================] - 2s 455us/step - loss: 0.7197 - sparse_categorical_accuracy: 0.6221 - val_loss: 0.7367 - val_sparse_categorical_accuracy: 0.6102\n",
      "Epoch 112/200\n",
      "3949/3949 [==============================] - 2s 464us/step - loss: 0.7196 - sparse_categorical_accuracy: 0.6235 - val_loss: 0.7360 - val_sparse_categorical_accuracy: 0.6083\n",
      "Epoch 113/200\n",
      "3949/3949 [==============================] - 2s 451us/step - loss: 0.7195 - sparse_categorical_accuracy: 0.6238 - val_loss: 0.7363 - val_sparse_categorical_accuracy: 0.6079\n",
      "Epoch 114/200\n",
      "3949/3949 [==============================] - 2s 429us/step - loss: 0.7194 - sparse_categorical_accuracy: 0.6239 - val_loss: 0.7353 - val_sparse_categorical_accuracy: 0.6091\n",
      "Epoch 115/200\n",
      "3949/3949 [==============================] - 2s 450us/step - loss: 0.7194 - sparse_categorical_accuracy: 0.6247 - val_loss: 0.7369 - val_sparse_categorical_accuracy: 0.6108\n",
      "Epoch 116/200\n",
      "3949/3949 [==============================] - 2s 476us/step - loss: 0.7194 - sparse_categorical_accuracy: 0.6249 - val_loss: 0.7364 - val_sparse_categorical_accuracy: 0.6081\n",
      "Epoch 117/200\n",
      "3949/3949 [==============================] - 2s 467us/step - loss: 0.7195 - sparse_categorical_accuracy: 0.6241 - val_loss: 0.7360 - val_sparse_categorical_accuracy: 0.6069\n",
      "Epoch 118/200\n",
      "3949/3949 [==============================] - 2s 457us/step - loss: 0.7194 - sparse_categorical_accuracy: 0.6236 - val_loss: 0.7358 - val_sparse_categorical_accuracy: 0.6090\n",
      "Epoch 119/200\n",
      "3949/3949 [==============================] - 2s 447us/step - loss: 0.7195 - sparse_categorical_accuracy: 0.6234 - val_loss: 0.7356 - val_sparse_categorical_accuracy: 0.6087\n",
      "Epoch 120/200\n",
      "3949/3949 [==============================] - 2s 472us/step - loss: 0.7192 - sparse_categorical_accuracy: 0.6245 - val_loss: 0.7367 - val_sparse_categorical_accuracy: 0.6091\n",
      "Epoch 121/200\n",
      "3949/3949 [==============================] - 2s 441us/step - loss: 0.7196 - sparse_categorical_accuracy: 0.6233 - val_loss: 0.7364 - val_sparse_categorical_accuracy: 0.6072\n",
      "Epoch 122/200\n",
      "3949/3949 [==============================] - 2s 442us/step - loss: 0.7193 - sparse_categorical_accuracy: 0.6243 - val_loss: 0.7369 - val_sparse_categorical_accuracy: 0.6079\n",
      "Epoch 123/200\n",
      "3949/3949 [==============================] - 2s 452us/step - loss: 0.7193 - sparse_categorical_accuracy: 0.6247 - val_loss: 0.7363 - val_sparse_categorical_accuracy: 0.6089\n",
      "Epoch 124/200\n",
      "3949/3949 [==============================] - 2s 487us/step - loss: 0.7191 - sparse_categorical_accuracy: 0.6243 - val_loss: 0.7355 - val_sparse_categorical_accuracy: 0.6095\n",
      "Epoch 125/200\n",
      "3949/3949 [==============================] - 2s 473us/step - loss: 0.7192 - sparse_categorical_accuracy: 0.6235 - val_loss: 0.7362 - val_sparse_categorical_accuracy: 0.6069\n",
      "Epoch 126/200\n",
      "3949/3949 [==============================] - 2s 479us/step - loss: 0.7192 - sparse_categorical_accuracy: 0.6253 - val_loss: 0.7357 - val_sparse_categorical_accuracy: 0.6075\n",
      "Epoch 127/200\n",
      "3949/3949 [==============================] - 2s 489us/step - loss: 0.7191 - sparse_categorical_accuracy: 0.6248 - val_loss: 0.7393 - val_sparse_categorical_accuracy: 0.6057\n",
      "Epoch 128/200\n",
      "3949/3949 [==============================] - 2s 497us/step - loss: 0.7192 - sparse_categorical_accuracy: 0.6240 - val_loss: 0.7368 - val_sparse_categorical_accuracy: 0.6098\n",
      "Epoch 129/200\n",
      "3949/3949 [==============================] - 2s 465us/step - loss: 0.7192 - sparse_categorical_accuracy: 0.6247 - val_loss: 0.7365 - val_sparse_categorical_accuracy: 0.6096\n",
      "Epoch 130/200\n",
      "3949/3949 [==============================] - 2s 506us/step - loss: 0.7191 - sparse_categorical_accuracy: 0.6253 - val_loss: 0.7356 - val_sparse_categorical_accuracy: 0.6094\n",
      "Epoch 131/200\n",
      "3949/3949 [==============================] - 2s 467us/step - loss: 0.7191 - sparse_categorical_accuracy: 0.6249 - val_loss: 0.7362 - val_sparse_categorical_accuracy: 0.6092\n",
      "Epoch 132/200\n",
      "3949/3949 [==============================] - 2s 490us/step - loss: 0.7191 - sparse_categorical_accuracy: 0.6243 - val_loss: 0.7356 - val_sparse_categorical_accuracy: 0.6088\n"
     ]
    },
    {
     "name": "stdout",
     "output_type": "stream",
     "text": [
      "Epoch 133/200\n",
      "3949/3949 [==============================] - 2s 539us/step - loss: 0.7191 - sparse_categorical_accuracy: 0.6245 - val_loss: 0.7350 - val_sparse_categorical_accuracy: 0.6104\n",
      "Epoch 134/200\n",
      "3949/3949 [==============================] - 2s 460us/step - loss: 0.7193 - sparse_categorical_accuracy: 0.6238 - val_loss: 0.7355 - val_sparse_categorical_accuracy: 0.6076\n",
      "Epoch 135/200\n",
      "3949/3949 [==============================] - 2s 465us/step - loss: 0.7191 - sparse_categorical_accuracy: 0.6244 - val_loss: 0.7358 - val_sparse_categorical_accuracy: 0.6094\n",
      "Epoch 136/200\n",
      "3949/3949 [==============================] - 2s 441us/step - loss: 0.7192 - sparse_categorical_accuracy: 0.6259 - val_loss: 0.7375 - val_sparse_categorical_accuracy: 0.6088\n",
      "Epoch 137/200\n",
      "3949/3949 [==============================] - 2s 473us/step - loss: 0.7190 - sparse_categorical_accuracy: 0.6247 - val_loss: 0.7363 - val_sparse_categorical_accuracy: 0.6088\n",
      "Epoch 138/200\n",
      "3949/3949 [==============================] - 2s 443us/step - loss: 0.7188 - sparse_categorical_accuracy: 0.6250 - val_loss: 0.7364 - val_sparse_categorical_accuracy: 0.6076\n",
      "Epoch 139/200\n",
      "3949/3949 [==============================] - 2s 442us/step - loss: 0.7189 - sparse_categorical_accuracy: 0.6251 - val_loss: 0.7355 - val_sparse_categorical_accuracy: 0.6088\n",
      "Epoch 140/200\n",
      "3949/3949 [==============================] - 2s 441us/step - loss: 0.7189 - sparse_categorical_accuracy: 0.6246 - val_loss: 0.7364 - val_sparse_categorical_accuracy: 0.6087\n",
      "Epoch 141/200\n",
      "3949/3949 [==============================] - 2s 431us/step - loss: 0.7189 - sparse_categorical_accuracy: 0.6252 - val_loss: 0.7361 - val_sparse_categorical_accuracy: 0.6089\n",
      "Epoch 142/200\n",
      "3949/3949 [==============================] - 2s 428us/step - loss: 0.7190 - sparse_categorical_accuracy: 0.6240 - val_loss: 0.7380 - val_sparse_categorical_accuracy: 0.6056\n",
      "Epoch 143/200\n",
      "3949/3949 [==============================] - 2s 429us/step - loss: 0.7189 - sparse_categorical_accuracy: 0.6247 - val_loss: 0.7361 - val_sparse_categorical_accuracy: 0.6097\n",
      "Epoch 144/200\n",
      "3949/3949 [==============================] - 2s 433us/step - loss: 0.7190 - sparse_categorical_accuracy: 0.6253 - val_loss: 0.7357 - val_sparse_categorical_accuracy: 0.6089\n",
      "Epoch 145/200\n",
      "3949/3949 [==============================] - 2s 479us/step - loss: 0.7187 - sparse_categorical_accuracy: 0.6251 - val_loss: 0.7388 - val_sparse_categorical_accuracy: 0.6065\n",
      "Epoch 146/200\n",
      "3949/3949 [==============================] - 2s 462us/step - loss: 0.7189 - sparse_categorical_accuracy: 0.6248 - val_loss: 0.7367 - val_sparse_categorical_accuracy: 0.6064\n",
      "Epoch 147/200\n",
      "3949/3949 [==============================] - 2s 430us/step - loss: 0.7187 - sparse_categorical_accuracy: 0.6240 - val_loss: 0.7380 - val_sparse_categorical_accuracy: 0.6081\n",
      "Epoch 148/200\n",
      "3949/3949 [==============================] - 2s 444us/step - loss: 0.7187 - sparse_categorical_accuracy: 0.6249 - val_loss: 0.7371 - val_sparse_categorical_accuracy: 0.6081\n",
      "Epoch 149/200\n",
      "3949/3949 [==============================] - 2s 482us/step - loss: 0.7188 - sparse_categorical_accuracy: 0.6255 - val_loss: 0.7353 - val_sparse_categorical_accuracy: 0.6087\n",
      "Epoch 150/200\n",
      "3949/3949 [==============================] - 2s 430us/step - loss: 0.7187 - sparse_categorical_accuracy: 0.6258 - val_loss: 0.7352 - val_sparse_categorical_accuracy: 0.6101\n",
      "Epoch 151/200\n",
      "3949/3949 [==============================] - 2s 446us/step - loss: 0.7188 - sparse_categorical_accuracy: 0.6250 - val_loss: 0.7351 - val_sparse_categorical_accuracy: 0.6094\n",
      "Epoch 152/200\n",
      "3949/3949 [==============================] - 2s 429us/step - loss: 0.7186 - sparse_categorical_accuracy: 0.6241 - val_loss: 0.7361 - val_sparse_categorical_accuracy: 0.6096\n",
      "Epoch 153/200\n",
      "3949/3949 [==============================] - 2s 478us/step - loss: 0.7187 - sparse_categorical_accuracy: 0.6247 - val_loss: 0.7381 - val_sparse_categorical_accuracy: 0.6069\n",
      "Epoch 154/200\n",
      "3949/3949 [==============================] - 2s 431us/step - loss: 0.7188 - sparse_categorical_accuracy: 0.6245 - val_loss: 0.7366 - val_sparse_categorical_accuracy: 0.6077\n",
      "Epoch 155/200\n",
      "3949/3949 [==============================] - 2s 456us/step - loss: 0.7191 - sparse_categorical_accuracy: 0.6231 - val_loss: 0.7367 - val_sparse_categorical_accuracy: 0.6078\n",
      "Epoch 156/200\n",
      "3949/3949 [==============================] - 2s 441us/step - loss: 0.7185 - sparse_categorical_accuracy: 0.6263 - val_loss: 0.7388 - val_sparse_categorical_accuracy: 0.6081\n",
      "Epoch 157/200\n",
      "3949/3949 [==============================] - 2s 428us/step - loss: 0.7187 - sparse_categorical_accuracy: 0.6255 - val_loss: 0.7357 - val_sparse_categorical_accuracy: 0.6068\n",
      "Epoch 158/200\n",
      "3949/3949 [==============================] - 2s 436us/step - loss: 0.7186 - sparse_categorical_accuracy: 0.6252 - val_loss: 0.7362 - val_sparse_categorical_accuracy: 0.6080\n",
      "Epoch 159/200\n",
      "3949/3949 [==============================] - 2s 477us/step - loss: 0.7183 - sparse_categorical_accuracy: 0.6259 - val_loss: 0.7363 - val_sparse_categorical_accuracy: 0.6091\n",
      "Epoch 160/200\n",
      "3949/3949 [==============================] - 2s 425us/step - loss: 0.7183 - sparse_categorical_accuracy: 0.6261 - val_loss: 0.7360 - val_sparse_categorical_accuracy: 0.6082\n",
      "Epoch 161/200\n",
      "3949/3949 [==============================] - 2s 434us/step - loss: 0.7187 - sparse_categorical_accuracy: 0.6245 - val_loss: 0.7360 - val_sparse_categorical_accuracy: 0.6078\n",
      "Epoch 162/200\n",
      "3949/3949 [==============================] - 2s 434us/step - loss: 0.7188 - sparse_categorical_accuracy: 0.6241 - val_loss: 0.7380 - val_sparse_categorical_accuracy: 0.6077\n",
      "Epoch 163/200\n",
      "3949/3949 [==============================] - 2s 431us/step - loss: 0.7187 - sparse_categorical_accuracy: 0.6256 - val_loss: 0.7351 - val_sparse_categorical_accuracy: 0.6090\n",
      "Epoch 164/200\n",
      "3949/3949 [==============================] - 2s 467us/step - loss: 0.7186 - sparse_categorical_accuracy: 0.6258 - val_loss: 0.7376 - val_sparse_categorical_accuracy: 0.6063\n",
      "Epoch 165/200\n",
      "3949/3949 [==============================] - 2s 461us/step - loss: 0.7183 - sparse_categorical_accuracy: 0.6252 - val_loss: 0.7392 - val_sparse_categorical_accuracy: 0.6089\n",
      "Epoch 166/200\n",
      "3949/3949 [==============================] - 2s 486us/step - loss: 0.7186 - sparse_categorical_accuracy: 0.6246 - val_loss: 0.7370 - val_sparse_categorical_accuracy: 0.6071\n",
      "Epoch 167/200\n",
      "3949/3949 [==============================] - 2s 543us/step - loss: 0.7185 - sparse_categorical_accuracy: 0.6262 - val_loss: 0.7360 - val_sparse_categorical_accuracy: 0.6071\n",
      "Epoch 168/200\n",
      "3949/3949 [==============================] - 2s 509us/step - loss: 0.7186 - sparse_categorical_accuracy: 0.6264 - val_loss: 0.7372 - val_sparse_categorical_accuracy: 0.6088\n",
      "Epoch 169/200\n",
      "3949/3949 [==============================] - 2s 484us/step - loss: 0.7185 - sparse_categorical_accuracy: 0.6256 - val_loss: 0.7362 - val_sparse_categorical_accuracy: 0.6088\n",
      "Epoch 170/200\n",
      "3949/3949 [==============================] - 2s 481us/step - loss: 0.7184 - sparse_categorical_accuracy: 0.6258 - val_loss: 0.7369 - val_sparse_categorical_accuracy: 0.6091\n",
      "Epoch 171/200\n",
      "3949/3949 [==============================] - 2s 452us/step - loss: 0.7185 - sparse_categorical_accuracy: 0.6250 - val_loss: 0.7377 - val_sparse_categorical_accuracy: 0.6076\n",
      "Epoch 172/200\n",
      "3949/3949 [==============================] - 2s 482us/step - loss: 0.7182 - sparse_categorical_accuracy: 0.6259 - val_loss: 0.7414 - val_sparse_categorical_accuracy: 0.6067\n",
      "Epoch 173/200\n",
      "3949/3949 [==============================] - 2s 456us/step - loss: 0.7186 - sparse_categorical_accuracy: 0.6249 - val_loss: 0.7357 - val_sparse_categorical_accuracy: 0.6085\n",
      "Epoch 174/200\n",
      "3949/3949 [==============================] - 2s 441us/step - loss: 0.7183 - sparse_categorical_accuracy: 0.6258 - val_loss: 0.7378 - val_sparse_categorical_accuracy: 0.6085\n",
      "Epoch 175/200\n",
      "3949/3949 [==============================] - 2s 579us/step - loss: 0.7185 - sparse_categorical_accuracy: 0.6249 - val_loss: 0.7355 - val_sparse_categorical_accuracy: 0.6086\n",
      "Epoch 176/200\n",
      "3949/3949 [==============================] - 2s 547us/step - loss: 0.7184 - sparse_categorical_accuracy: 0.6258 - val_loss: 0.7367 - val_sparse_categorical_accuracy: 0.6082\n"
     ]
    },
    {
     "name": "stdout",
     "output_type": "stream",
     "text": [
      "Epoch 177/200\n",
      "3949/3949 [==============================] - 2s 435us/step - loss: 0.7182 - sparse_categorical_accuracy: 0.6249 - val_loss: 0.7381 - val_sparse_categorical_accuracy: 0.6080\n",
      "Epoch 178/200\n",
      "3949/3949 [==============================] - 2s 432us/step - loss: 0.7183 - sparse_categorical_accuracy: 0.6260 - val_loss: 0.7375 - val_sparse_categorical_accuracy: 0.6091\n",
      "Epoch 179/200\n",
      "3949/3949 [==============================] - 2s 423us/step - loss: 0.7184 - sparse_categorical_accuracy: 0.6251 - val_loss: 0.7374 - val_sparse_categorical_accuracy: 0.6101\n",
      "Epoch 180/200\n",
      "3949/3949 [==============================] - 2s 421us/step - loss: 0.7182 - sparse_categorical_accuracy: 0.6253 - val_loss: 0.7371 - val_sparse_categorical_accuracy: 0.6078\n",
      "Epoch 181/200\n",
      "3949/3949 [==============================] - 2s 422us/step - loss: 0.7184 - sparse_categorical_accuracy: 0.6248 - val_loss: 0.7379 - val_sparse_categorical_accuracy: 0.6088\n",
      "Epoch 182/200\n",
      "3949/3949 [==============================] - 2s 424us/step - loss: 0.7180 - sparse_categorical_accuracy: 0.6252 - val_loss: 0.7366 - val_sparse_categorical_accuracy: 0.6080\n",
      "Epoch 183/200\n",
      "3949/3949 [==============================] - 2s 423us/step - loss: 0.7181 - sparse_categorical_accuracy: 0.6257 - val_loss: 0.7386 - val_sparse_categorical_accuracy: 0.6093\n",
      "Epoch 184/200\n",
      "3949/3949 [==============================] - 2s 422us/step - loss: 0.7183 - sparse_categorical_accuracy: 0.6256 - val_loss: 0.7370 - val_sparse_categorical_accuracy: 0.6077\n",
      "Epoch 185/200\n",
      "3949/3949 [==============================] - 2s 422us/step - loss: 0.7182 - sparse_categorical_accuracy: 0.6252 - val_loss: 0.7369 - val_sparse_categorical_accuracy: 0.6080\n",
      "Epoch 186/200\n",
      "3949/3949 [==============================] - 2s 425us/step - loss: 0.7179 - sparse_categorical_accuracy: 0.6263 - val_loss: 0.7376 - val_sparse_categorical_accuracy: 0.6067\n",
      "Epoch 187/200\n",
      "3949/3949 [==============================] - 2s 425us/step - loss: 0.7181 - sparse_categorical_accuracy: 0.6253 - val_loss: 0.7378 - val_sparse_categorical_accuracy: 0.6097\n",
      "Epoch 188/200\n",
      "3949/3949 [==============================] - 2s 437us/step - loss: 0.7184 - sparse_categorical_accuracy: 0.6249 - val_loss: 0.7365 - val_sparse_categorical_accuracy: 0.6097\n",
      "Epoch 189/200\n",
      "3949/3949 [==============================] - 2s 423us/step - loss: 0.7181 - sparse_categorical_accuracy: 0.6256 - val_loss: 0.7388 - val_sparse_categorical_accuracy: 0.6071\n",
      "Epoch 190/200\n",
      "3949/3949 [==============================] - 2s 437us/step - loss: 0.7181 - sparse_categorical_accuracy: 0.6263 - val_loss: 0.7365 - val_sparse_categorical_accuracy: 0.6075\n",
      "Epoch 191/200\n",
      "3949/3949 [==============================] - 2s 496us/step - loss: 0.7181 - sparse_categorical_accuracy: 0.6253 - val_loss: 0.7381 - val_sparse_categorical_accuracy: 0.6091\n",
      "Epoch 192/200\n",
      "3949/3949 [==============================] - 2s 446us/step - loss: 0.7183 - sparse_categorical_accuracy: 0.6257 - val_loss: 0.7381 - val_sparse_categorical_accuracy: 0.6091\n",
      "Epoch 193/200\n",
      "3949/3949 [==============================] - 2s 446us/step - loss: 0.7180 - sparse_categorical_accuracy: 0.6248 - val_loss: 0.7366 - val_sparse_categorical_accuracy: 0.6076\n",
      "Epoch 194/200\n",
      "3949/3949 [==============================] - 2s 453us/step - loss: 0.7181 - sparse_categorical_accuracy: 0.6249 - val_loss: 0.7368 - val_sparse_categorical_accuracy: 0.6101\n",
      "Epoch 195/200\n",
      "3949/3949 [==============================] - 2s 493us/step - loss: 0.7181 - sparse_categorical_accuracy: 0.6263 - val_loss: 0.7373 - val_sparse_categorical_accuracy: 0.6084\n",
      "Epoch 196/200\n",
      "3949/3949 [==============================] - 2s 433us/step - loss: 0.7181 - sparse_categorical_accuracy: 0.6263 - val_loss: 0.7368 - val_sparse_categorical_accuracy: 0.6086\n",
      "Epoch 197/200\n",
      "3949/3949 [==============================] - 2s 435us/step - loss: 0.7180 - sparse_categorical_accuracy: 0.6274 - val_loss: 0.7369 - val_sparse_categorical_accuracy: 0.6089\n",
      "Epoch 198/200\n",
      "3949/3949 [==============================] - 2s 440us/step - loss: 0.7180 - sparse_categorical_accuracy: 0.6249 - val_loss: 0.7379 - val_sparse_categorical_accuracy: 0.6063\n",
      "Epoch 199/200\n",
      "3949/3949 [==============================] - 2s 429us/step - loss: 0.7182 - sparse_categorical_accuracy: 0.6249 - val_loss: 0.7370 - val_sparse_categorical_accuracy: 0.6082\n",
      "Epoch 200/200\n",
      "3949/3949 [==============================] - 2s 428us/step - loss: 0.7183 - sparse_categorical_accuracy: 0.6243 - val_loss: 0.7374 - val_sparse_categorical_accuracy: 0.6076\n"
     ]
    }
   ],
   "source": [
    "# random seeds for reproducibility\n",
    "tf.random.set_seed(123)\n",
    "\n",
    "# Create a new sequential model\n",
    "model = keras.Sequential()\n",
    "\n",
    "# Declare the hidden layers\n",
    "###START WITH 40 NODES, 1 HIDDEN LAYER\n",
    "model.add(layers.Dense(40, activation=\"relu\"))\n",
    "\n",
    "# Declare the output layer\n",
    "model.add(layers.Dense(4, activation=\"softmax\"))\n",
    "\n",
    "# Compile the model\n",
    "model.compile(\n",
    "    # Optimizer\n",
    "    optimizer=keras.optimizers.Adam(),  \n",
    "    # Loss function to minimize\n",
    "    loss=keras.losses.SparseCategoricalCrossentropy(),\n",
    "    # Metric used to evaluate model\n",
    "    metrics=[keras.metrics.SparseCategoricalAccuracy()]\n",
    ")\n",
    "\n",
    "#stops training once val_loss drops by at least 0.005 twice in a row\n",
    "early_stop = EarlyStopping(monitor='val_loss', \n",
    "                           patience=2,\n",
    "                           min_delta=0.005, \n",
    "                           verbose=1)\n",
    "\n",
    "# Train the model\n",
    "history = model.fit(X_train, \n",
    "                    y_train, \n",
    "                    epochs=200, \n",
    "                    verbose=1, \n",
    "                    # Pass in a validation data set to test each epoch.\n",
    "                    validation_data=(X_test, y_test)) "
   ]
  },
  {
   "cell_type": "code",
   "execution_count": 110,
   "id": "863c5d25",
   "metadata": {},
   "outputs": [
    {
     "name": "stdout",
     "output_type": "stream",
     "text": [
      "Train Accuracy: 0.6243\n",
      "Test Accuracy: 0.6076\n"
     ]
    }
   ],
   "source": [
    "# Evaluate the network\n",
    "train_accuracy = history.history[\"sparse_categorical_accuracy\"][-1]\n",
    "result = model.evaluate(X_test,y_test, verbose=0)\n",
    "\n",
    "print(f\"Train Accuracy: {train_accuracy:.4f}\")\n",
    "print(f\"Test Accuracy: {result[1]:.4f}\")"
   ]
  },
  {
   "cell_type": "markdown",
   "id": "56e3963f",
   "metadata": {},
   "source": [
    "### More Complex Neural Network"
   ]
  },
  {
   "cell_type": "markdown",
   "id": "8c75052b",
   "metadata": {},
   "source": [
    "For the first nerual network model, I am going to start with a simple architecture. Here is a summary of the neural network architecture that I will build:\n",
    "- 5 hidden layers starting with 100 nodes\n",
    "- Activation funtions = softmax (output), relu (hidden layers)\n",
    "- Optimizer = Adam\n",
    "- Loss function = Sparse Categorical Crossentropy\n",
    "- Metrics = Sparse Categorical Accuracy\n",
    "- Epochs = 200"
   ]
  },
  {
   "cell_type": "code",
   "execution_count": 111,
   "id": "2e5236ed",
   "metadata": {
    "scrolled": true
   },
   "outputs": [
    {
     "name": "stdout",
     "output_type": "stream",
     "text": [
      "Epoch 1/200\n",
      "3949/3949 [==============================] - 3s 855us/step - loss: 0.7914 - sparse_categorical_accuracy: 0.5863 - val_loss: 0.7369 - val_sparse_categorical_accuracy: 0.5886\n",
      "Epoch 2/200\n",
      "3949/3949 [==============================] - 3s 844us/step - loss: 0.7369 - sparse_categorical_accuracy: 0.5933 - val_loss: 0.7368 - val_sparse_categorical_accuracy: 0.5894\n",
      "Epoch 3/200\n",
      "3949/3949 [==============================] - 3s 857us/step - loss: 0.7355 - sparse_categorical_accuracy: 0.5953 - val_loss: 0.7353 - val_sparse_categorical_accuracy: 0.5902\n",
      "Epoch 4/200\n",
      "3949/3949 [==============================] - 3s 823us/step - loss: 0.7352 - sparse_categorical_accuracy: 0.5952 - val_loss: 0.7346 - val_sparse_categorical_accuracy: 0.5947\n",
      "Epoch 5/200\n",
      "3949/3949 [==============================] - 3s 830us/step - loss: 0.7335 - sparse_categorical_accuracy: 0.5944 - val_loss: 0.7360 - val_sparse_categorical_accuracy: 0.5979\n",
      "Epoch 6/200\n",
      "3949/3949 [==============================] - 3s 841us/step - loss: 0.7341 - sparse_categorical_accuracy: 0.5957 - val_loss: 0.7347 - val_sparse_categorical_accuracy: 0.5887\n",
      "Epoch 7/200\n",
      "3949/3949 [==============================] - 4s 897us/step - loss: 0.7334 - sparse_categorical_accuracy: 0.5948 - val_loss: 0.7341 - val_sparse_categorical_accuracy: 0.5955\n",
      "Epoch 8/200\n",
      "3949/3949 [==============================] - 3s 868us/step - loss: 0.7356 - sparse_categorical_accuracy: 0.5954 - val_loss: 0.7344 - val_sparse_categorical_accuracy: 0.5889\n",
      "Epoch 9/200\n",
      "3949/3949 [==============================] - 3s 847us/step - loss: 0.7331 - sparse_categorical_accuracy: 0.5957 - val_loss: 0.7339 - val_sparse_categorical_accuracy: 0.5987\n",
      "Epoch 10/200\n",
      "3949/3949 [==============================] - 3s 838us/step - loss: 0.7330 - sparse_categorical_accuracy: 0.5954 - val_loss: 0.7338 - val_sparse_categorical_accuracy: 0.5957\n",
      "Epoch 11/200\n",
      "3949/3949 [==============================] - 3s 849us/step - loss: 0.7327 - sparse_categorical_accuracy: 0.5976 - val_loss: 0.7347 - val_sparse_categorical_accuracy: 0.5958\n",
      "Epoch 12/200\n",
      "3949/3949 [==============================] - 4s 897us/step - loss: 0.7325 - sparse_categorical_accuracy: 0.5970 - val_loss: 0.7342 - val_sparse_categorical_accuracy: 0.5965\n",
      "Epoch 13/200\n",
      "3949/3949 [==============================] - 3s 862us/step - loss: 0.7320 - sparse_categorical_accuracy: 0.5969 - val_loss: 0.7347 - val_sparse_categorical_accuracy: 0.5934\n",
      "Epoch 14/200\n",
      "3949/3949 [==============================] - 3s 838us/step - loss: 0.7408 - sparse_categorical_accuracy: 0.5976 - val_loss: 0.7343 - val_sparse_categorical_accuracy: 0.5935\n",
      "Epoch 15/200\n",
      "3949/3949 [==============================] - 3s 873us/step - loss: 0.7315 - sparse_categorical_accuracy: 0.5974 - val_loss: 0.7343 - val_sparse_categorical_accuracy: 0.5916\n",
      "Epoch 16/200\n",
      "3949/3949 [==============================] - 4s 898us/step - loss: 0.7322 - sparse_categorical_accuracy: 0.5970 - val_loss: 0.7335 - val_sparse_categorical_accuracy: 0.5932\n",
      "Epoch 17/200\n",
      "3949/3949 [==============================] - 3s 853us/step - loss: 0.7314 - sparse_categorical_accuracy: 0.5991 - val_loss: 0.7331 - val_sparse_categorical_accuracy: 0.5992\n",
      "Epoch 18/200\n",
      "3949/3949 [==============================] - 3s 861us/step - loss: 0.7323 - sparse_categorical_accuracy: 0.6003 - val_loss: 0.7334 - val_sparse_categorical_accuracy: 0.5992\n",
      "Epoch 19/200\n",
      "3949/3949 [==============================] - 3s 857us/step - loss: 0.7311 - sparse_categorical_accuracy: 0.5993 - val_loss: 0.7335 - val_sparse_categorical_accuracy: 0.5931\n",
      "Epoch 20/200\n",
      "3949/3949 [==============================] - 3s 824us/step - loss: 0.7317 - sparse_categorical_accuracy: 0.5977 - val_loss: 0.7335 - val_sparse_categorical_accuracy: 0.5929\n",
      "Epoch 21/200\n",
      "3949/3949 [==============================] - 3s 828us/step - loss: 0.7304 - sparse_categorical_accuracy: 0.5989 - val_loss: 0.7341 - val_sparse_categorical_accuracy: 0.5925\n",
      "Epoch 22/200\n",
      "3949/3949 [==============================] - 3s 816us/step - loss: 0.7308 - sparse_categorical_accuracy: 0.5971 - val_loss: 0.7333 - val_sparse_categorical_accuracy: 0.5931\n",
      "Epoch 23/200\n",
      "3949/3949 [==============================] - 3s 817us/step - loss: 0.7302 - sparse_categorical_accuracy: 0.5988 - val_loss: 0.7343 - val_sparse_categorical_accuracy: 0.5993\n",
      "Epoch 24/200\n",
      "3949/3949 [==============================] - 3s 813us/step - loss: 0.7305 - sparse_categorical_accuracy: 0.6003 - val_loss: 0.7393 - val_sparse_categorical_accuracy: 0.5991\n",
      "Epoch 25/200\n",
      "3949/3949 [==============================] - 3s 811us/step - loss: 0.7332 - sparse_categorical_accuracy: 0.5986 - val_loss: 0.7334 - val_sparse_categorical_accuracy: 0.5996\n",
      "Epoch 26/200\n",
      "3949/3949 [==============================] - 3s 816us/step - loss: 0.7300 - sparse_categorical_accuracy: 0.6011 - val_loss: 0.7340 - val_sparse_categorical_accuracy: 0.5990\n",
      "Epoch 27/200\n",
      "3949/3949 [==============================] - 3s 813us/step - loss: 0.7312 - sparse_categorical_accuracy: 0.6001 - val_loss: 0.7340 - val_sparse_categorical_accuracy: 0.5921\n",
      "Epoch 28/200\n",
      "3949/3949 [==============================] - 3s 815us/step - loss: 0.7294 - sparse_categorical_accuracy: 0.6007 - val_loss: 0.7342 - val_sparse_categorical_accuracy: 0.5967\n",
      "Epoch 29/200\n",
      "3949/3949 [==============================] - 3s 828us/step - loss: 0.7353 - sparse_categorical_accuracy: 0.6004 - val_loss: 0.7343 - val_sparse_categorical_accuracy: 0.5991\n",
      "Epoch 30/200\n",
      "3949/3949 [==============================] - 3s 815us/step - loss: 0.7306 - sparse_categorical_accuracy: 0.6019 - val_loss: 0.7345 - val_sparse_categorical_accuracy: 0.5990\n",
      "Epoch 31/200\n",
      "3949/3949 [==============================] - 4s 900us/step - loss: 0.7293 - sparse_categorical_accuracy: 0.5998 - val_loss: 0.7339 - val_sparse_categorical_accuracy: 0.5937\n",
      "Epoch 32/200\n",
      "3949/3949 [==============================] - 4s 906us/step - loss: 0.7315 - sparse_categorical_accuracy: 0.6007 - val_loss: 0.7338 - val_sparse_categorical_accuracy: 0.5935\n",
      "Epoch 33/200\n",
      "3949/3949 [==============================] - 4s 891us/step - loss: 0.7290 - sparse_categorical_accuracy: 0.6006 - val_loss: 0.7331 - val_sparse_categorical_accuracy: 0.5995\n",
      "Epoch 34/200\n",
      "3949/3949 [==============================] - 4s 909us/step - loss: 0.7297 - sparse_categorical_accuracy: 0.6001 - val_loss: 0.7340 - val_sparse_categorical_accuracy: 0.5988\n",
      "Epoch 35/200\n",
      "3949/3949 [==============================] - 4s 927us/step - loss: 0.7291 - sparse_categorical_accuracy: 0.5996 - val_loss: 0.7343 - val_sparse_categorical_accuracy: 0.5974\n",
      "Epoch 36/200\n",
      "3949/3949 [==============================] - 4s 953us/step - loss: 0.7287 - sparse_categorical_accuracy: 0.6018 - val_loss: 0.7345 - val_sparse_categorical_accuracy: 0.5912\n",
      "Epoch 37/200\n",
      "3949/3949 [==============================] - 4s 1ms/step - loss: 0.7295 - sparse_categorical_accuracy: 0.6029 - val_loss: 0.7337 - val_sparse_categorical_accuracy: 0.5991\n",
      "Epoch 38/200\n",
      "3949/3949 [==============================] - 3s 823us/step - loss: 0.7295 - sparse_categorical_accuracy: 0.6013 - val_loss: 0.7335 - val_sparse_categorical_accuracy: 0.5950\n",
      "Epoch 39/200\n",
      "3949/3949 [==============================] - 3s 825us/step - loss: 0.7285 - sparse_categorical_accuracy: 0.6000 - val_loss: 0.7339 - val_sparse_categorical_accuracy: 0.5989\n",
      "Epoch 40/200\n",
      "3949/3949 [==============================] - 4s 919us/step - loss: 0.7289 - sparse_categorical_accuracy: 0.6009 - val_loss: 0.7337 - val_sparse_categorical_accuracy: 0.5999\n",
      "Epoch 41/200\n",
      "3949/3949 [==============================] - 3s 822us/step - loss: 0.7288 - sparse_categorical_accuracy: 0.6005 - val_loss: 0.7330 - val_sparse_categorical_accuracy: 0.6003\n",
      "Epoch 42/200\n",
      "3949/3949 [==============================] - 3s 867us/step - loss: 0.7297 - sparse_categorical_accuracy: 0.6007 - val_loss: 0.7350 - val_sparse_categorical_accuracy: 0.5996\n",
      "Epoch 43/200\n",
      "3949/3949 [==============================] - 4s 969us/step - loss: 0.7281 - sparse_categorical_accuracy: 0.6022 - val_loss: 0.7334 - val_sparse_categorical_accuracy: 0.5991\n",
      "Epoch 44/200\n",
      "3949/3949 [==============================] - 4s 996us/step - loss: 0.7287 - sparse_categorical_accuracy: 0.6007 - val_loss: 0.7334 - val_sparse_categorical_accuracy: 0.5928\n",
      "Epoch 45/200\n",
      "3949/3949 [==============================] - 4s 895us/step - loss: 0.7292 - sparse_categorical_accuracy: 0.6011 - val_loss: 0.7344 - val_sparse_categorical_accuracy: 0.5984\n",
      "Epoch 46/200\n",
      "3949/3949 [==============================] - 3s 867us/step - loss: 0.7280 - sparse_categorical_accuracy: 0.6023 - val_loss: 0.7337 - val_sparse_categorical_accuracy: 0.5931\n",
      "Epoch 47/200\n",
      "3949/3949 [==============================] - 3s 850us/step - loss: 0.7287 - sparse_categorical_accuracy: 0.6006 - val_loss: 0.7341 - val_sparse_categorical_accuracy: 0.5996\n",
      "Epoch 48/200\n",
      "3949/3949 [==============================] - 3s 828us/step - loss: 0.7283 - sparse_categorical_accuracy: 0.6014 - val_loss: 0.7340 - val_sparse_categorical_accuracy: 0.5988\n",
      "Epoch 49/200\n",
      "3949/3949 [==============================] - 3s 824us/step - loss: 0.7295 - sparse_categorical_accuracy: 0.6007 - val_loss: 0.7334 - val_sparse_categorical_accuracy: 0.5924\n",
      "Epoch 50/200\n",
      "3949/3949 [==============================] - 3s 822us/step - loss: 0.7287 - sparse_categorical_accuracy: 0.6009 - val_loss: 0.7342 - val_sparse_categorical_accuracy: 0.5935\n",
      "Epoch 51/200\n",
      "3949/3949 [==============================] - 3s 836us/step - loss: 0.7297 - sparse_categorical_accuracy: 0.6011 - val_loss: 0.7342 - val_sparse_categorical_accuracy: 0.5982\n",
      "Epoch 52/200\n",
      "3949/3949 [==============================] - 3s 859us/step - loss: 0.7276 - sparse_categorical_accuracy: 0.6005 - val_loss: 0.7342 - val_sparse_categorical_accuracy: 0.5991\n",
      "Epoch 53/200\n",
      "3949/3949 [==============================] - 3s 860us/step - loss: 0.7311 - sparse_categorical_accuracy: 0.5996 - val_loss: 0.7333 - val_sparse_categorical_accuracy: 0.5998\n",
      "Epoch 54/200\n",
      "3949/3949 [==============================] - 4s 891us/step - loss: 0.7268 - sparse_categorical_accuracy: 0.6034 - val_loss: 0.7340 - val_sparse_categorical_accuracy: 0.5993\n",
      "Epoch 55/200\n",
      "3949/3949 [==============================] - 4s 912us/step - loss: 0.7278 - sparse_categorical_accuracy: 0.6017 - val_loss: 0.7334 - val_sparse_categorical_accuracy: 0.5943\n",
      "Epoch 56/200\n",
      "3949/3949 [==============================] - 3s 855us/step - loss: 0.7276 - sparse_categorical_accuracy: 0.6008 - val_loss: 0.7337 - val_sparse_categorical_accuracy: 0.6002\n",
      "Epoch 57/200\n",
      "3949/3949 [==============================] - 3s 858us/step - loss: 0.7291 - sparse_categorical_accuracy: 0.6023 - val_loss: 0.7333 - val_sparse_categorical_accuracy: 0.6001\n",
      "Epoch 58/200\n",
      "3949/3949 [==============================] - 3s 842us/step - loss: 0.7284 - sparse_categorical_accuracy: 0.6012 - val_loss: 0.7338 - val_sparse_categorical_accuracy: 0.5938\n",
      "Epoch 59/200\n",
      "3949/3949 [==============================] - 3s 847us/step - loss: 0.7285 - sparse_categorical_accuracy: 0.6018 - val_loss: 0.7342 - val_sparse_categorical_accuracy: 0.5939\n",
      "Epoch 60/200\n",
      "3949/3949 [==============================] - 3s 840us/step - loss: 0.7270 - sparse_categorical_accuracy: 0.6028 - val_loss: 0.7363 - val_sparse_categorical_accuracy: 0.5991\n",
      "Epoch 61/200\n",
      "3949/3949 [==============================] - 3s 837us/step - loss: 0.7256 - sparse_categorical_accuracy: 0.6039 - val_loss: 0.7393 - val_sparse_categorical_accuracy: 0.5931\n",
      "Epoch 62/200\n",
      "3949/3949 [==============================] - 3s 840us/step - loss: 0.7269 - sparse_categorical_accuracy: 0.6027 - val_loss: 0.7346 - val_sparse_categorical_accuracy: 0.5980\n",
      "Epoch 63/200\n",
      "3949/3949 [==============================] - 3s 864us/step - loss: 0.7275 - sparse_categorical_accuracy: 0.6015 - val_loss: 0.7340 - val_sparse_categorical_accuracy: 0.5980\n",
      "Epoch 64/200\n",
      "3949/3949 [==============================] - 3s 851us/step - loss: 0.7268 - sparse_categorical_accuracy: 0.6021 - val_loss: 0.7348 - val_sparse_categorical_accuracy: 0.5995\n",
      "Epoch 65/200\n",
      "3949/3949 [==============================] - 3s 871us/step - loss: 0.7263 - sparse_categorical_accuracy: 0.6022 - val_loss: 0.7344 - val_sparse_categorical_accuracy: 0.5988\n",
      "Epoch 66/200\n",
      "3949/3949 [==============================] - 3s 870us/step - loss: 0.7268 - sparse_categorical_accuracy: 0.6028 - val_loss: 0.7341 - val_sparse_categorical_accuracy: 0.5999\n",
      "Epoch 67/200\n",
      "3949/3949 [==============================] - 4s 904us/step - loss: 0.7254 - sparse_categorical_accuracy: 0.6040 - val_loss: 0.7342 - val_sparse_categorical_accuracy: 0.5999\n",
      "Epoch 68/200\n",
      "3949/3949 [==============================] - 4s 926us/step - loss: 0.7268 - sparse_categorical_accuracy: 0.6033 - val_loss: 0.7339 - val_sparse_categorical_accuracy: 0.5941\n",
      "Epoch 69/200\n",
      "3949/3949 [==============================] - 4s 898us/step - loss: 0.7272 - sparse_categorical_accuracy: 0.6025 - val_loss: 0.7336 - val_sparse_categorical_accuracy: 0.5993\n",
      "Epoch 70/200\n",
      "3949/3949 [==============================] - 3s 836us/step - loss: 0.7274 - sparse_categorical_accuracy: 0.6022 - val_loss: 0.7345 - val_sparse_categorical_accuracy: 0.5989\n",
      "Epoch 71/200\n",
      "3949/3949 [==============================] - 3s 847us/step - loss: 0.7253 - sparse_categorical_accuracy: 0.6039 - val_loss: 0.7343 - val_sparse_categorical_accuracy: 0.5999\n",
      "Epoch 72/200\n",
      "3949/3949 [==============================] - 3s 870us/step - loss: 0.7264 - sparse_categorical_accuracy: 0.6025 - val_loss: 0.7351 - val_sparse_categorical_accuracy: 0.5998\n",
      "Epoch 73/200\n",
      "3949/3949 [==============================] - 3s 866us/step - loss: 0.7302 - sparse_categorical_accuracy: 0.6027 - val_loss: 0.7352 - val_sparse_categorical_accuracy: 0.5995\n",
      "Epoch 74/200\n",
      "3949/3949 [==============================] - 3s 856us/step - loss: 0.7260 - sparse_categorical_accuracy: 0.6025 - val_loss: 0.7338 - val_sparse_categorical_accuracy: 0.5940\n",
      "Epoch 75/200\n",
      "3949/3949 [==============================] - 3s 840us/step - loss: 0.7255 - sparse_categorical_accuracy: 0.6026 - val_loss: 0.7354 - val_sparse_categorical_accuracy: 0.6000\n",
      "Epoch 76/200\n",
      "3949/3949 [==============================] - 3s 840us/step - loss: 0.7261 - sparse_categorical_accuracy: 0.6032 - val_loss: 0.7337 - val_sparse_categorical_accuracy: 0.5941\n",
      "Epoch 77/200\n",
      "3949/3949 [==============================] - 3s 851us/step - loss: 0.7266 - sparse_categorical_accuracy: 0.6024 - val_loss: 0.7341 - val_sparse_categorical_accuracy: 0.5988\n",
      "Epoch 78/200\n",
      "3949/3949 [==============================] - 3s 833us/step - loss: 0.7303 - sparse_categorical_accuracy: 0.6028 - val_loss: 0.7336 - val_sparse_categorical_accuracy: 0.5996\n",
      "Epoch 79/200\n",
      "3949/3949 [==============================] - 3s 840us/step - loss: 0.7256 - sparse_categorical_accuracy: 0.6036 - val_loss: 0.7340 - val_sparse_categorical_accuracy: 0.5938\n",
      "Epoch 80/200\n",
      "3949/3949 [==============================] - 3s 869us/step - loss: 0.7276 - sparse_categorical_accuracy: 0.6037 - val_loss: 0.7348 - val_sparse_categorical_accuracy: 0.6004\n",
      "Epoch 81/200\n",
      "3949/3949 [==============================] - 3s 851us/step - loss: 0.7279 - sparse_categorical_accuracy: 0.6033 - val_loss: 0.7353 - val_sparse_categorical_accuracy: 0.5941\n",
      "Epoch 82/200\n",
      "3949/3949 [==============================] - 3s 859us/step - loss: 0.7251 - sparse_categorical_accuracy: 0.6029 - val_loss: 0.7344 - val_sparse_categorical_accuracy: 0.6000\n",
      "Epoch 83/200\n",
      "3949/3949 [==============================] - 3s 845us/step - loss: 0.7254 - sparse_categorical_accuracy: 0.6032 - val_loss: 0.7348 - val_sparse_categorical_accuracy: 0.5937\n",
      "Epoch 84/200\n",
      "3949/3949 [==============================] - 3s 833us/step - loss: 0.7250 - sparse_categorical_accuracy: 0.6031 - val_loss: 0.7353 - val_sparse_categorical_accuracy: 0.5992\n",
      "Epoch 85/200\n",
      "3949/3949 [==============================] - 4s 896us/step - loss: 0.7257 - sparse_categorical_accuracy: 0.6036 - val_loss: 0.7335 - val_sparse_categorical_accuracy: 0.5933\n",
      "Epoch 86/200\n",
      "3949/3949 [==============================] - 4s 954us/step - loss: 0.7257 - sparse_categorical_accuracy: 0.6035 - val_loss: 0.7343 - val_sparse_categorical_accuracy: 0.5940\n",
      "Epoch 87/200\n",
      "3949/3949 [==============================] - 3s 850us/step - loss: 0.7252 - sparse_categorical_accuracy: 0.6026 - val_loss: 0.7345 - val_sparse_categorical_accuracy: 0.5939\n",
      "Epoch 88/200\n",
      "3949/3949 [==============================] - 4s 895us/step - loss: 0.7258 - sparse_categorical_accuracy: 0.6041 - val_loss: 0.7340 - val_sparse_categorical_accuracy: 0.5944\n",
      "Epoch 89/200\n"
     ]
    },
    {
     "name": "stdout",
     "output_type": "stream",
     "text": [
      "3949/3949 [==============================] - 3s 866us/step - loss: 0.7273 - sparse_categorical_accuracy: 0.6037 - val_loss: 0.7335 - val_sparse_categorical_accuracy: 0.6001\n",
      "Epoch 90/200\n",
      "3949/3949 [==============================] - 3s 872us/step - loss: 0.7255 - sparse_categorical_accuracy: 0.6038 - val_loss: 0.7355 - val_sparse_categorical_accuracy: 0.5990\n",
      "Epoch 91/200\n",
      "3949/3949 [==============================] - 3s 834us/step - loss: 0.7244 - sparse_categorical_accuracy: 0.6034 - val_loss: 0.7349 - val_sparse_categorical_accuracy: 0.5994\n",
      "Epoch 92/200\n",
      "3949/3949 [==============================] - 3s 840us/step - loss: 0.7301 - sparse_categorical_accuracy: 0.6026 - val_loss: 0.7346 - val_sparse_categorical_accuracy: 0.5940\n",
      "Epoch 93/200\n",
      "3949/3949 [==============================] - 3s 834us/step - loss: 0.7253 - sparse_categorical_accuracy: 0.6028 - val_loss: 0.7351 - val_sparse_categorical_accuracy: 0.5997\n",
      "Epoch 94/200\n",
      "1321/3949 [=========>....................] - ETA: 2s - loss: 0.7228 - sparse_categorical_accuracy: 0.6040"
     ]
    }
   ],
   "source": [
    "# random seeds for reproducibility\n",
    "tf.random.set_seed(123)\n",
    "\n",
    "# Create a new sequential model\n",
    "model = keras.Sequential()\n",
    "\n",
    "# Declare the hidden layers\n",
    "###START WITH 100 NODES, 5 HIDDEN LAYERS\n",
    "model.add(layers.Dense(100, activation=\"relu\"))\n",
    "model.add(layers.Dropout(0.2)) # Set 20% of the nodes to 0. \n",
    "model.add(layers.Dense(80, activation=\"relu\"))\n",
    "model.add(layers.Dropout(0.2))\n",
    "model.add(layers.Dense(60, activation=\"relu\"))\n",
    "model.add(layers.Dropout(0.2))\n",
    "model.add(layers.Dense(40, activation=\"relu\"))\n",
    "model.add(layers.Dropout(0.2))\n",
    "model.add(layers.Dense(20, activation=\"relu\"))\n",
    "model.add(layers.Dropout(0.2))\n",
    "\n",
    "# Declare the output layer\n",
    "model.add(layers.Dense(4, activation=\"softmax\"))\n",
    "\n",
    "# Compile the model\n",
    "model.compile(\n",
    "    # Optimizer\n",
    "    optimizer=keras.optimizers.Adam(),  \n",
    "    # Loss function to minimize\n",
    "    loss=keras.losses.SparseCategoricalCrossentropy(),\n",
    "    # Metric used to evaluate model\n",
    "    metrics=[keras.metrics.SparseCategoricalAccuracy()]\n",
    ")\n",
    "\n",
    "early_stop = EarlyStopping(monitor='val_loss', \n",
    "                           patience=2,\n",
    "                           min_delta=0.005, \n",
    "                           verbose=1)\n",
    "\n",
    "# Train the model\n",
    "history = model.fit(X_train, \n",
    "                    y_train, \n",
    "                    epochs=200, \n",
    "                    verbose=1, \n",
    "                    # Pass in a validation data set to test each epoch.\n",
    "                    validation_data=(X_test, y_test)) "
   ]
  },
  {
   "cell_type": "code",
   "execution_count": 112,
   "id": "49a69a28",
   "metadata": {},
   "outputs": [],
   "source": [
    "# Evaluate the network\n",
    "train_accuracy = history.history[\"sparse_categorical_accuracy\"][-1]\n",
    "result = model.evaluate(X_test,y_test, verbose=0)\n",
    "\n",
    "print(f\"Train Accuracy: {train_accuracy:.4f}\")\n",
    "print(f\"Test Accuracy: {result[1]:.4f}\")"
   ]
  },
  {
   "cell_type": "markdown",
   "id": "60266eec",
   "metadata": {},
   "source": [
    "Even after making the architecture more complex, the model's loss is consistently high. This indicates that the model is not effectively learning from the data. Let's explore other models other than Neural Networks."
   ]
  },
  {
   "cell_type": "markdown",
   "id": "1b670e6f",
   "metadata": {},
   "source": [
    "## Ensemble Learning"
   ]
  },
  {
   "cell_type": "markdown",
   "id": "4c20dfbd",
   "metadata": {},
   "source": [
    "I am going to experiment with Ensemble Learning models."
   ]
  },
  {
   "cell_type": "code",
   "execution_count": 39,
   "id": "858dfeb5",
   "metadata": {},
   "outputs": [],
   "source": [
    "from sklearn.metrics import accuracy_score, confusion_matrix, classification_report\n",
    "from xgboost import XGBClassifier\n",
    "from sklearn.ensemble import AdaBoostClassifier\n",
    "from sklearn.ensemble import RandomForestClassifier"
   ]
  },
  {
   "cell_type": "code",
   "execution_count": 40,
   "id": "76a68fbe",
   "metadata": {},
   "outputs": [],
   "source": [
    "X = df.drop(\"Delivery Status\", axis=1)\n",
    "y = df[\"Delivery Status\"]"
   ]
  },
  {
   "cell_type": "code",
   "execution_count": 41,
   "id": "0c2d4734",
   "metadata": {},
   "outputs": [],
   "source": [
    "X_train, X_test, y_train, y_test = \\\n",
    "    train_test_split(X, y, test_size = 0.3,\n",
    "                        random_state=123)"
   ]
  },
  {
   "cell_type": "markdown",
   "id": "c13dc04b",
   "metadata": {},
   "source": [
    "Here, I have three ensemble learning methods: XGBoost, AdaBoost, and Random Forest. These methods are based on decision trees, and decision trees are not sensitive to the scale of the input features. Therefore, it is not necessary to scale the data. "
   ]
  },
  {
   "cell_type": "markdown",
   "id": "5aabff5a",
   "metadata": {},
   "source": [
    "Let's see how accurate each ensemble learning method is:"
   ]
  },
  {
   "cell_type": "code",
   "execution_count": 34,
   "id": "0fbdcb7c",
   "metadata": {},
   "outputs": [
    {
     "name": "stdout",
     "output_type": "stream",
     "text": [
      "Train Set Scores:\n",
      "XG Boost score: 0.7004851180348367\n",
      "AdaBoost score: 0.5948354318183616\n",
      "Random Forest score: 0.999968344663306\n",
      "\n",
      "Test Set Scores:\n",
      "XG Boost score: 0.6358231003600776\n",
      "AdaBoost score: 0.5942387591173484\n",
      "Random Forest score: 0.6459237374203675\n"
     ]
    }
   ],
   "source": [
    "#Fit each method and return its accuracy score\n",
    "xgb_model = XGBClassifier(random_state=123)\n",
    "ab_model = AdaBoostClassifier(random_state=123)\n",
    "rf_model = RandomForestClassifier(random_state=123)\n",
    "\n",
    "xgb_model.fit(X_train, y_train)\n",
    "ab_model.fit(X_train, y_train)\n",
    "rf_model.fit(X_train, y_train)\n",
    "\n",
    "print(\"Train Set Scores:\")\n",
    "print(f\"XG Boost score: {xgb_model.score(X_train, y_train)}\")\n",
    "print(f\"AdaBoost score: {ab_model.score(X_train, y_train)}\")\n",
    "print(f\"Random Forest score: {rf_model.score(X_train, y_train)}\\n\")\n",
    "\n",
    "print(\"Test Set Scores:\")\n",
    "print(f\"XG Boost score: {xgb_model.score(X_test, y_test)}\")\n",
    "print(f\"AdaBoost score: {ab_model.score(X_test, y_test)}\")\n",
    "print(f\"Random Forest score: {rf_model.score(X_test, y_test)}\")"
   ]
  },
  {
   "cell_type": "markdown",
   "id": "49e7ef9c",
   "metadata": {},
   "source": [
    "Random Forest can be seen heavily overfitting the train data. Based on the test scores only, Random Forest performs the best followed by XGBoost. Next, let's see how each method's f-1 scores."
   ]
  },
  {
   "cell_type": "code",
   "execution_count": 35,
   "id": "c9f67c5e",
   "metadata": {},
   "outputs": [
    {
     "name": "stdout",
     "output_type": "stream",
     "text": [
      "XGBoost\n",
      "              precision    recall  f1-score   support\n",
      "\n",
      "           0       0.47      0.58      0.52     12670\n",
      "           1       0.69      0.80      0.74     29544\n",
      "           2       1.00      1.00      1.00      2328\n",
      "           3       0.62      0.13      0.21      9613\n",
      "\n",
      "    accuracy                           0.64     54155\n",
      "   macro avg       0.69      0.63      0.62     54155\n",
      "weighted avg       0.64      0.64      0.60     54155\n",
      " \n",
      "\n",
      "AdaBoost\n",
      "              precision    recall  f1-score   support\n",
      "\n",
      "           0       0.41      0.88      0.56     12670\n",
      "           1       0.77      0.63      0.69     29544\n",
      "           2       1.00      1.00      1.00      2328\n",
      "           3       0.00      0.00      0.00      9613\n",
      "\n",
      "    accuracy                           0.59     54155\n",
      "   macro avg       0.54      0.63      0.56     54155\n",
      "weighted avg       0.56      0.59      0.55     54155\n",
      " \n",
      "\n",
      "Random Forest\n",
      "              precision    recall  f1-score   support\n",
      "\n",
      "           0       0.49      0.57      0.53     12670\n",
      "           1       0.70      0.80      0.75     29544\n",
      "           2       1.00      1.00      1.00      2328\n",
      "           3       0.55      0.18      0.27      9613\n",
      "\n",
      "    accuracy                           0.65     54155\n",
      "   macro avg       0.68      0.64      0.64     54155\n",
      "weighted avg       0.64      0.65      0.62     54155\n",
      " \n",
      "\n"
     ]
    }
   ],
   "source": [
    "#getting the precision, recall, and f1 score of each ensemble learning method\n",
    "y_pred_xgb = xgb_model.predict(X_test)\n",
    "y_pred_ab = ab_model.predict(X_test)\n",
    "y_pred_rf = rf_model.predict(X_test)\n",
    "\n",
    "print(\"XGBoost\")\n",
    "print(classification_report(y_test, y_pred_xgb),\"\\n\")\n",
    "print(\"AdaBoost\")\n",
    "print(classification_report(y_test, y_pred_ab),\"\\n\")\n",
    "print(\"Random Forest\")\n",
    "print(classification_report(y_test, y_pred_rf),\"\\n\")"
   ]
  },
  {
   "cell_type": "markdown",
   "id": "2e8261b4",
   "metadata": {},
   "source": [
    "Random Forest still wins looking at the f-1 scores. XGBoost still comes second as well. Lastly, let's see how each AUC scores look like."
   ]
  },
  {
   "cell_type": "code",
   "execution_count": 40,
   "id": "26123601",
   "metadata": {},
   "outputs": [
    {
     "name": "stdout",
     "output_type": "stream",
     "text": [
      "XGBoost\n",
      "Train AUC Score: 0.8958257795879243\n",
      "Test AUC Score: 0.839909437673733\n",
      "None \n",
      "\n",
      "AdaBoost\n",
      "Train AUC Score: 0.7564147744452476\n",
      "Test AUC Score: 0.7559459266436237\n",
      "None \n",
      "\n",
      "Random Forest\n",
      "Train AUC Score: 0.9999999994846215\n",
      "Test AUC Score: 0.845781530787217\n",
      "None \n",
      "\n"
     ]
    }
   ],
   "source": [
    "#AUC score for XGBoost\n",
    "print(\"XGBoost\")\n",
    "print(auc_evaluation(X_train, X_test, y_train, y_test, xgb_model),\"\\n\")\n",
    "\n",
    "#AUC score for AdaBoost\n",
    "print(\"AdaBoost\")\n",
    "print(auc_evaluation(X_train, X_test, y_train, y_test, ab_model),\"\\n\")\n",
    "\n",
    "#AUC score for Random Forest\n",
    "print(\"Random Forest\")\n",
    "print(auc_evaluation(X_train, X_test, y_train, y_test, rf_model),\"\\n\")"
   ]
  },
  {
   "cell_type": "markdown",
   "id": "b33a6847",
   "metadata": {},
   "source": [
    "As expected, Random Forest has the highest AUC score because it also had the best f-1 scores. However, it should be noted that Random Forest is greatly overfitting. Since AdaBoost did not give great performance on accuracy and AUC score, we are only going to explore Random Forest and XGBoost further."
   ]
  },
  {
   "cell_type": "markdown",
   "id": "aa9620fb",
   "metadata": {},
   "source": [
    "### Random Forest Classifier"
   ]
  },
  {
   "cell_type": "markdown",
   "id": "c2eedaab",
   "metadata": {},
   "source": [
    "To resolve the overfitting issue of Random Forest, let's tune its hyperparameters starting with `n_estimators`."
   ]
  },
  {
   "cell_type": "code",
   "execution_count": 41,
   "id": "1496adb3",
   "metadata": {},
   "outputs": [
    {
     "data": {
      "image/png": "[encoded data removed]",
      "text/plain": [
       "<Figure size 640x480 with 1 Axes>"
      ]
     },
     "metadata": {},
     "output_type": "display_data"
    }
   ],
   "source": [
    "#plots the accuracy as number of component (n_component) increases\n",
    "train_scores = []\n",
    "test_scores = []\n",
    "n_range = range(5, 101, 5)\n",
    "for n in n_range:\n",
    "    rf_model = RandomForestClassifier(n_estimators = n)\n",
    "    rf_model.fit(X_train, y_train)\n",
    "    train_scores.append(rf_model.score(X_train, y_train))\n",
    "    test_scores.append(rf_model.score(X_test, y_test))\n",
    "    \n",
    "plt.plot(n_range, train_scores, label = 'Train')\n",
    "plt.plot(n_range, test_scores, label = 'Test')\n",
    "plt.xlabel(\"Number of estimators\")\n",
    "plt.ylabel(\"Accuracy\")\n",
    "plt.title(\"Accuracy as number of component models increases\")\n",
    "plt.legend();"
   ]
  },
  {
   "cell_type": "markdown",
   "id": "f3f52b54",
   "metadata": {},
   "source": [
    "We see that at every point, the model overfits. So, let's explore another hyperparameter, `max_depth`:"
   ]
  },
  {
   "cell_type": "code",
   "execution_count": 42,
   "id": "9b0cd358",
   "metadata": {},
   "outputs": [
    {
     "data": {
      "image/png": "[encoded data removed]",
      "text/plain": [
       "<Figure size 640x480 with 1 Axes>"
      ]
     },
     "metadata": {},
     "output_type": "display_data"
    }
   ],
   "source": [
    "#plots the relationship between accuracy and the max_depth\n",
    "train_scores = []\n",
    "test_scores = []\n",
    "n_range = range(5, 50, 5)\n",
    "for n in n_range:\n",
    "    rf_model = RandomForestClassifier(max_depth = n)\n",
    "    rf_model.fit(X_train, y_train)\n",
    "    train_scores.append(rf_model.score(X_train, y_train))\n",
    "    test_scores.append(rf_model.score(X_test, y_test))\n",
    "    \n",
    "plt.plot(n_range, train_scores, label = 'Train')\n",
    "plt.plot(n_range, test_scores, label = 'Test')\n",
    "plt.xlabel(\"Depth\")\n",
    "plt.ylabel(\"Accuracy\")\n",
    "plt.title(\"Accuracy as max_depth increases\")\n",
    "plt.legend();"
   ]
  },
  {
   "cell_type": "markdown",
   "id": "a4a3ef98",
   "metadata": {},
   "source": [
    "From the graph above, I am going to choose `max_depth` = 15 because that is where the test accuracy elbowed, and any point above that the model overfits heavily. Now, let's go back and see what the best `n_estimators` is for a random forest with max_depth of 15."
   ]
  },
  {
   "cell_type": "markdown",
   "id": "ad31c130",
   "metadata": {},
   "source": [
    "##### Random Forest: max_depth = 15"
   ]
  },
  {
   "cell_type": "code",
   "execution_count": 42,
   "id": "3a66f145",
   "metadata": {},
   "outputs": [
    {
     "data": {
      "image/png": "[encoded data removed]",
      "text/plain": [
       "<Figure size 640x480 with 1 Axes>"
      ]
     },
     "metadata": {},
     "output_type": "display_data"
    }
   ],
   "source": [
    "train_scores = []\n",
    "test_scores = []\n",
    "n_range = range(5, 101, 5)\n",
    "for n in n_range:\n",
    "    rf_model = RandomForestClassifier(n_estimators = n, max_depth = 15)\n",
    "    rf_model.fit(X_train, y_train)\n",
    "    train_scores.append(rf_model.score(X_train, y_train))\n",
    "    test_scores.append(rf_model.score(X_test, y_test))\n",
    "    \n",
    "plt.plot(n_range, train_scores, label = 'Train')\n",
    "plt.plot(n_range, test_scores, label = 'Test')\n",
    "plt.xlabel(\"Number of estimators\")\n",
    "plt.ylabel(\"Accuracy\")\n",
    "plt.title(\"Accuracy as number of component models increases\")\n",
    "plt.legend();"
   ]
  },
  {
   "cell_type": "markdown",
   "id": "02ffa2b5",
   "metadata": {},
   "source": [
    "As we can see, there is still no point of convergence here, but the model still overfits less than before. I am going to choose `n_estimators` = 30 because of the small peak there in the test set."
   ]
  },
  {
   "cell_type": "markdown",
   "id": "accf5ea9",
   "metadata": {},
   "source": [
    "#### Model 8.0"
   ]
  },
  {
   "cell_type": "code",
   "execution_count": 43,
   "id": "9e8efad8",
   "metadata": {},
   "outputs": [
    {
     "name": "stdout",
     "output_type": "stream",
     "text": [
      "Train Accuracy: 0.7548610726410839\n",
      "Test Accuracy: 0.6229711014680085\n"
     ]
    }
   ],
   "source": [
    "model = RandomForestClassifier(n_estimators = 30, max_depth = 15, random_state=123)\n",
    "model_accuracy(X_train, X_test, y_train, y_test, model)"
   ]
  },
  {
   "cell_type": "code",
   "execution_count": 44,
   "id": "07fdf486",
   "metadata": {},
   "outputs": [
    {
     "name": "stdout",
     "output_type": "stream",
     "text": [
      "Train AUC Score: 0.9449704674435756\n",
      "Test AUC Score: 0.8284272451763369\n"
     ]
    }
   ],
   "source": [
    "auc_evaluation(X_train, X_test, y_train, y_test, model)"
   ]
  },
  {
   "cell_type": "markdown",
   "id": "9b77cc4b",
   "metadata": {},
   "source": [
    "The Random Forest model has a test accuracy of **62.30%** and an AUC Score of **0.8284**. This is so far our best multiclass classification model!"
   ]
  },
  {
   "cell_type": "markdown",
   "id": "1533972f",
   "metadata": {},
   "source": [
    "This performance is somewhat expected because Random Forests are robust to outliers and can handle a wide range of features, including categorical variables. As we have found out from our EDA, the dataset has many outliers and its features contain many categorical variables and other types of features. A big benefit of using Random Forests is that they have built-in methods for feature selection and can provide information about feature importance. This will be important for looking at what causes delivery failure (either late delivery or canceled delivery)."
   ]
  },
  {
   "cell_type": "markdown",
   "id": "f0c93435",
   "metadata": {},
   "source": [
    "### XGBoost"
   ]
  },
  {
   "cell_type": "markdown",
   "id": "5d01ea0a",
   "metadata": {},
   "source": [
    "The next ensemble learning method we experiment with is XGBoost. The first hyperparameter we will fine-tune is the `max_depth` before looking at the n_estimators:"
   ]
  },
  {
   "cell_type": "code",
   "execution_count": 45,
   "id": "5fa436a2",
   "metadata": {},
   "outputs": [
    {
     "data": {
      "image/png": "[encoded data removed]",
      "text/plain": [
       "<Figure size 640x480 with 1 Axes>"
      ]
     },
     "metadata": {},
     "output_type": "display_data"
    }
   ],
   "source": [
    "train_scores = []\n",
    "test_scores = []\n",
    "n_range = range(1, 20, 1)\n",
    "for n in n_range:\n",
    "    xgb_model = XGBClassifier(max_depth = n)\n",
    "    xgb_model.fit(X_train, y_train)\n",
    "    train_scores.append(xgb_model.score(X_train, y_train))\n",
    "    test_scores.append(xgb_model.score(X_test, y_test))\n",
    "    \n",
    "plt.plot(n_range, train_scores, label = 'Train')\n",
    "plt.plot(n_range, test_scores, label = 'Test')\n",
    "plt.xlabel(\"Depth\")\n",
    "plt.ylabel(\"Accuracy\")\n",
    "plt.title(\"Accuracy as max_depth increases\")\n",
    "plt.legend();"
   ]
  },
  {
   "cell_type": "markdown",
   "id": "9b9f2ca2",
   "metadata": {},
   "source": [
    "In the graph above, there is not any elbow for the test accuracy line making it abit harder for us to choose what max_depth is best. However, I would choose a max_depth between a range of 2 to 8, as this range gives a robust fit. I am going to create a 4-fold cross validation for checking which max_depth would give the best accuracy without overfitting."
   ]
  },
  {
   "cell_type": "code",
   "execution_count": 46,
   "id": "94266587",
   "metadata": {},
   "outputs": [
    {
     "data": {
      "image/png": "[encoded data removed]",
      "text/plain": [
       "<Figure size 640x480 with 1 Axes>"
      ]
     },
     "metadata": {},
     "output_type": "display_data"
    }
   ],
   "source": [
    "from sklearn.model_selection import cross_val_score\n",
    "# Define our list of values to try out\n",
    "max_depth = range(1, 20, 1)\n",
    "\n",
    "# Create a list to hold our cross-validation scores\n",
    "cv_scores = []\n",
    "\n",
    "for n in max_depth:\n",
    "    \n",
    "    # Instantiate a XGBoost classifier\n",
    "    model = XGBClassifier(max_depth = n)\n",
    "    # Calculate the 4 validation scores via cross-val & append average to list\n",
    "    scores = cross_val_score(model, X_test, y_test, cv=4)\n",
    "    cv_scores.append(np.mean(scores))\n",
    "    \n",
    "plt.figure()\n",
    "plt.plot(max_depth, cv_scores)\n",
    "plt.title(\"4-fold Cross Validation\")\n",
    "plt.xlabel('max_depth')\n",
    "plt.ylabel('accuracy') \n",
    "plt.show()"
   ]
  },
  {
   "cell_type": "markdown",
   "id": "1438de4e",
   "metadata": {},
   "source": [
    "Here, we can see that there is a peak of accuracy at `max_depth` = 8; therefore, I will choose that as the best value for the parameter."
   ]
  },
  {
   "cell_type": "markdown",
   "id": "e7b85026",
   "metadata": {},
   "source": [
    "##### XGBoost: max_depth = 8"
   ]
  },
  {
   "cell_type": "code",
   "execution_count": null,
   "id": "dd6b8c18",
   "metadata": {},
   "outputs": [],
   "source": [
    "train_scores = []\n",
    "test_scores = []\n",
    "n_range = range(10, 301, 10)\n",
    "for n in n_range:\n",
    "    xgb_model = XGBClassifier(n_estimators = n, max_depth = 8)\n",
    "    xgb_model.fit(X_train, y_train)\n",
    "    train_scores.append(xgb_model.score(X_train, y_train))\n",
    "    test_scores.append(xgb_model.score(X_test, y_test))\n",
    "    \n",
    "plt.plot(n_range, train_scores, label = 'Train')\n",
    "plt.plot(n_range, test_scores, label = 'Test')\n",
    "plt.xlabel(\"Number of estimators\")\n",
    "plt.ylabel(\"Accuracy\")\n",
    "plt.title(\"Accuracy as number of component models increases\")\n",
    "plt.legend();"
   ]
  },
  {
   "cell_type": "markdown",
   "id": "ebab0dbf",
   "metadata": {},
   "source": [
    "Here, we have the same problem as before where the test accuracy does not have a visible elbow. I am going to, again, perform a 4-fold cross validation to find the best number of estimators (n_estimators) with an XGBoost of max_depth of 8."
   ]
  },
  {
   "cell_type": "code",
   "execution_count": null,
   "id": "b75a42be",
   "metadata": {},
   "outputs": [],
   "source": [
    "from sklearn.model_selection import cross_val_score\n",
    "# Define our list of values to try out\n",
    "n_estimators = range(5, 100, 5)\n",
    "\n",
    "# Create a list to hold our cross-validation scores\n",
    "cv_scores = []\n",
    "\n",
    "for n in n_estimators:\n",
    "    \n",
    "    # Instantiate a XGBoost classifier\n",
    "    model = XGBClassifier(n_estimators = n, max_depth = 8)\n",
    "    # Calculate the 4 validation scores via cross-val & append average to list\n",
    "    scores = cross_val_score(model, X_test, y_test, cv=4)\n",
    "    cv_scores.append(np.mean(scores))\n",
    "    \n",
    "plt.figure()\n",
    "plt.plot(n_estimators, cv_scores)\n",
    "plt.title(\"4-fold Cross Validation\")\n",
    "plt.xlabel('Number of Estimators')\n",
    "plt.ylabel('accuracy') \n",
    "plt.show()"
   ]
  },
  {
   "cell_type": "markdown",
   "id": "9f33b5fe",
   "metadata": {},
   "source": [
    "There is a peak at n_estimators = 40, and anything above 50 is overfitting. Therefore, I will choose `n_estimators` = 40 as the best value for the n_estimators hyperparameter."
   ]
  },
  {
   "cell_type": "markdown",
   "id": "d1b82b86",
   "metadata": {},
   "source": [
    "#### Model 8.1"
   ]
  },
  {
   "cell_type": "code",
   "execution_count": null,
   "id": "aa49cf4d",
   "metadata": {},
   "outputs": [],
   "source": [
    "model = XGBClassifier(n_estimators = 40, max_depth = 8, random_state=123)\n",
    "model_accuracy(X_train, X_test, y_train, y_test, model)"
   ]
  },
  {
   "cell_type": "code",
   "execution_count": null,
   "id": "d635430a",
   "metadata": {},
   "outputs": [],
   "source": [
    "auc_evaluation(X_train, X_test, y_train, y_test, model)"
   ]
  },
  {
   "cell_type": "markdown",
   "id": "5c679070",
   "metadata": {},
   "source": [
    "The XGBoost model has a test accuracy of **63.65%** and an AUC Score of **0.8400**. This is even better than the Random Forest model!"
   ]
  },
  {
   "cell_type": "markdown",
   "id": "9fe28a11",
   "metadata": {},
   "source": [
    "Although both XGBoost and Random Forests are known to handle class imbalance in its own ways, in our case, the XGBoost approach perform it better."
   ]
  },
  {
   "cell_type": "markdown",
   "id": "c60a656f",
   "metadata": {},
   "source": [
    "## Model Summary and Conclusion"
   ]
  },
  {
   "cell_type": "markdown",
   "id": "3e46424c",
   "metadata": {},
   "source": [
    "\n",
    "| Model | Variables                                 | Test Accuracy    | AUC Score | Type |\n",
    "|-------|--------------------------------------------|-------|------|----|\n",
    "| 6.0   | All                                        | 54.42% | 0.6352 | Vanilla Multiclass Logreg|\n",
    "| 6.1   | All                     | 59.32% | 0.8028 | Optimized Multiclass Logreg |\n",
    "| 7.0 | All  |  60.79% | 0.8093| Decision Tree |\n",
    "| 8.0 | All |  62.30% | 0.8284| Random Forest Classifier |\n",
    "| 8.1 | All | 63.65% | 0.8400|XGBoost |"
   ]
  },
  {
   "cell_type": "markdown",
   "id": "23b832b2",
   "metadata": {},
   "source": [
    "From all the multiclass classification models we created, the most accurate and the one that has the highest AUC score out of all is Model 8.1 that uses XGBoost. Model 8.0 which uses a Random Forest Classifier comes second for both metrics. Although XGBoost performs better in both metrics, Random Forest Classifier provides more interpretability that will be very useful for the \"inferring\" of causes. Therefore, I am going to put forward both models where XGBoost will be a predictor, and Random Forest Classifier will be the interpretor."
   ]
  }
 ],
 "metadata": {
  "kernelspec": {
   "display_name": "capstone",
   "language": "python",
   "name": "capstone"
  },
  "language_info": {
   "codemirror_mode": {
    "name": "ipython",
    "version": 3
   },
   "file_extension": ".py",
   "mimetype": "text/x-python",
   "name": "python",
   "nbconvert_exporter": "python",
   "pygments_lexer": "ipython3",
   "version": "3.8.16"
  }
 },
 "nbformat": 4,
 "nbformat_minor": 5
}
