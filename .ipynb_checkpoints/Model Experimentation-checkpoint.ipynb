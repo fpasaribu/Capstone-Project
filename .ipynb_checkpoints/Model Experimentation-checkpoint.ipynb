{
 "cells": [
  {
   "cell_type": "markdown",
   "id": "253a70d0",
   "metadata": {},
   "source": [
    "# Model Experimentation"
   ]
  },
  {
   "cell_type": "markdown",
   "id": "e2cdeca6",
   "metadata": {},
   "source": [
    "Project: **Predicting Supply Chain Outcomes and Inferring Root Causes from Disruptions**  \n",
    "Created by: **Fauzan Pasaribu**\n",
    "\n",
    "The objective of the project is to create a model that can predict whether a particular shipment order would encounter disruptions in the supply chain. The model would then predict the what, where, and how the disruptions will happen.\n",
    "\n",
    "**In this notebook, we are expanding our baseline model and experimenting with other machine learning models in order to come up with the best possible model.**"
   ]
  },
  {
   "cell_type": "markdown",
   "id": "c76ae4fb",
   "metadata": {},
   "source": [
    "# Contents\n",
    "1. [Data Loading](#Data-Loading)<br>\n",
    "2. [Model Evaluation Functions](#Model-Evaluation-Functions)<br>\n",
    "3. [Expanding on our Baseline Model](#Expanding-on-our-Baseline-Model)<br>\n",
    "    a.[Optimizing the Hyperparameters](#Optimizing-the-Hyperparameters)<br>\n",
    "4. [Logistic Regression on All Features](#Logistic-Regression-on-All-Features)<br>\n",
    "5. [Decision Tree](#Decision-Tree)<br>\n",
    "6. [Incorporating PCA on the Models](#Incorporating-PCA-on-the-Models)<br>\n",
    "7. [Model Summary](#Model-Summary)<br>"
   ]
  },
  {
   "cell_type": "markdown",
   "id": "7134a2a0",
   "metadata": {},
   "source": [
    "## Data Loading"
   ]
  },
  {
   "cell_type": "code",
   "execution_count": 1,
   "id": "5c7b5561",
   "metadata": {},
   "outputs": [],
   "source": [
    "import pandas as pd\n",
    "import numpy as np\n",
    "import matplotlib.pyplot as plt\n",
    "import seaborn as sns\n",
    "from sklearn.model_selection import train_test_split\n",
    "\n",
    "#ignores warnings\n",
    "import warnings\n",
    "warnings.filterwarnings(\"ignore\")"
   ]
  },
  {
   "cell_type": "code",
   "execution_count": 2,
   "id": "ca65534f",
   "metadata": {},
   "outputs": [],
   "source": [
    "#loading the data\n",
    "df = pd.read_csv(\"Datasets/independent_DataCoSupplyChainDataset.csv\")"
   ]
  },
  {
   "cell_type": "code",
   "execution_count": 3,
   "id": "03cb23cf",
   "metadata": {},
   "outputs": [
    {
     "data": {
      "text/html": [
       "<div>\n",
       "<style scoped>\n",
       "    .dataframe tbody tr th:only-of-type {\n",
       "        vertical-align: middle;\n",
       "    }\n",
       "\n",
       "    .dataframe tbody tr th {\n",
       "        vertical-align: top;\n",
       "    }\n",
       "\n",
       "    .dataframe thead th {\n",
       "        text-align: right;\n",
       "    }\n",
       "</style>\n",
       "<table border=\"1\" class=\"dataframe\">\n",
       "  <thead>\n",
       "    <tr style=\"text-align: right;\">\n",
       "      <th></th>\n",
       "      <th>Sales per customer</th>\n",
       "      <th>Delivery Status</th>\n",
       "      <th>Longitude</th>\n",
       "      <th>Order Item Discount Rate</th>\n",
       "      <th>Order Item Profit Ratio</th>\n",
       "      <th>Order Item Quantity</th>\n",
       "      <th>Type_TRANSFER</th>\n",
       "      <th>Category Name_Cardio Equipment</th>\n",
       "      <th>Category Name_Cleats</th>\n",
       "      <th>Category Name_Fishing</th>\n",
       "      <th>...</th>\n",
       "      <th>Order Status_PAYMENT_REVIEW</th>\n",
       "      <th>Order Status_PENDING</th>\n",
       "      <th>Order Status_PENDING_PAYMENT</th>\n",
       "      <th>Order Status_PROCESSING</th>\n",
       "      <th>Order Status_SUSPECTED_FRAUD</th>\n",
       "      <th>Shipping Mode_Same Day</th>\n",
       "      <th>Shipping Mode_Second Class</th>\n",
       "      <th>Shipping Mode_Standard Class</th>\n",
       "      <th>order_month</th>\n",
       "      <th>order_year</th>\n",
       "    </tr>\n",
       "  </thead>\n",
       "  <tbody>\n",
       "    <tr>\n",
       "      <th>89179</th>\n",
       "      <td>110.489998</td>\n",
       "      <td>1</td>\n",
       "      <td>-118.299713</td>\n",
       "      <td>0.15</td>\n",
       "      <td>0.25</td>\n",
       "      <td>1</td>\n",
       "      <td>0</td>\n",
       "      <td>0</td>\n",
       "      <td>0</td>\n",
       "      <td>0</td>\n",
       "      <td>...</td>\n",
       "      <td>0</td>\n",
       "      <td>0</td>\n",
       "      <td>1</td>\n",
       "      <td>0</td>\n",
       "      <td>0</td>\n",
       "      <td>0</td>\n",
       "      <td>0</td>\n",
       "      <td>1</td>\n",
       "      <td>4</td>\n",
       "      <td>2016</td>\n",
       "    </tr>\n",
       "    <tr>\n",
       "      <th>117736</th>\n",
       "      <td>296.950012</td>\n",
       "      <td>0</td>\n",
       "      <td>-75.644211</td>\n",
       "      <td>0.01</td>\n",
       "      <td>0.08</td>\n",
       "      <td>5</td>\n",
       "      <td>1</td>\n",
       "      <td>0</td>\n",
       "      <td>1</td>\n",
       "      <td>0</td>\n",
       "      <td>...</td>\n",
       "      <td>0</td>\n",
       "      <td>1</td>\n",
       "      <td>0</td>\n",
       "      <td>0</td>\n",
       "      <td>0</td>\n",
       "      <td>1</td>\n",
       "      <td>0</td>\n",
       "      <td>0</td>\n",
       "      <td>11</td>\n",
       "      <td>2015</td>\n",
       "    </tr>\n",
       "    <tr>\n",
       "      <th>118181</th>\n",
       "      <td>109.190002</td>\n",
       "      <td>0</td>\n",
       "      <td>-75.606262</td>\n",
       "      <td>0.16</td>\n",
       "      <td>0.22</td>\n",
       "      <td>1</td>\n",
       "      <td>1</td>\n",
       "      <td>0</td>\n",
       "      <td>0</td>\n",
       "      <td>0</td>\n",
       "      <td>...</td>\n",
       "      <td>0</td>\n",
       "      <td>0</td>\n",
       "      <td>0</td>\n",
       "      <td>0</td>\n",
       "      <td>1</td>\n",
       "      <td>0</td>\n",
       "      <td>1</td>\n",
       "      <td>0</td>\n",
       "      <td>6</td>\n",
       "      <td>2015</td>\n",
       "    </tr>\n",
       "    <tr>\n",
       "      <th>24950</th>\n",
       "      <td>251.979996</td>\n",
       "      <td>0</td>\n",
       "      <td>-116.953514</td>\n",
       "      <td>0.16</td>\n",
       "      <td>0.25</td>\n",
       "      <td>1</td>\n",
       "      <td>0</td>\n",
       "      <td>0</td>\n",
       "      <td>0</td>\n",
       "      <td>0</td>\n",
       "      <td>...</td>\n",
       "      <td>0</td>\n",
       "      <td>0</td>\n",
       "      <td>0</td>\n",
       "      <td>0</td>\n",
       "      <td>0</td>\n",
       "      <td>0</td>\n",
       "      <td>0</td>\n",
       "      <td>0</td>\n",
       "      <td>2</td>\n",
       "      <td>2015</td>\n",
       "    </tr>\n",
       "    <tr>\n",
       "      <th>124579</th>\n",
       "      <td>93.000000</td>\n",
       "      <td>0</td>\n",
       "      <td>-66.370514</td>\n",
       "      <td>0.07</td>\n",
       "      <td>0.31</td>\n",
       "      <td>2</td>\n",
       "      <td>1</td>\n",
       "      <td>0</td>\n",
       "      <td>0</td>\n",
       "      <td>0</td>\n",
       "      <td>...</td>\n",
       "      <td>0</td>\n",
       "      <td>0</td>\n",
       "      <td>0</td>\n",
       "      <td>1</td>\n",
       "      <td>0</td>\n",
       "      <td>0</td>\n",
       "      <td>0</td>\n",
       "      <td>1</td>\n",
       "      <td>9</td>\n",
       "      <td>2017</td>\n",
       "    </tr>\n",
       "  </tbody>\n",
       "</table>\n",
       "<p>5 rows × 43 columns</p>\n",
       "</div>"
      ],
      "text/plain": [
       "        Sales per customer  Delivery Status   Longitude  \\\n",
       "89179           110.489998                1 -118.299713   \n",
       "117736          296.950012                0  -75.644211   \n",
       "118181          109.190002                0  -75.606262   \n",
       "24950           251.979996                0 -116.953514   \n",
       "124579           93.000000                0  -66.370514   \n",
       "\n",
       "        Order Item Discount Rate  Order Item Profit Ratio  \\\n",
       "89179                       0.15                     0.25   \n",
       "117736                      0.01                     0.08   \n",
       "118181                      0.16                     0.22   \n",
       "24950                       0.16                     0.25   \n",
       "124579                      0.07                     0.31   \n",
       "\n",
       "        Order Item Quantity  Type_TRANSFER  Category Name_Cardio Equipment  \\\n",
       "89179                     1              0                               0   \n",
       "117736                    5              1                               0   \n",
       "118181                    1              1                               0   \n",
       "24950                     1              0                               0   \n",
       "124579                    2              1                               0   \n",
       "\n",
       "        Category Name_Cleats  Category Name_Fishing  ...  \\\n",
       "89179                      0                      0  ...   \n",
       "117736                     1                      0  ...   \n",
       "118181                     0                      0  ...   \n",
       "24950                      0                      0  ...   \n",
       "124579                     0                      0  ...   \n",
       "\n",
       "        Order Status_PAYMENT_REVIEW  Order Status_PENDING  \\\n",
       "89179                             0                     0   \n",
       "117736                            0                     1   \n",
       "118181                            0                     0   \n",
       "24950                             0                     0   \n",
       "124579                            0                     0   \n",
       "\n",
       "        Order Status_PENDING_PAYMENT  Order Status_PROCESSING  \\\n",
       "89179                              1                        0   \n",
       "117736                             0                        0   \n",
       "118181                             0                        0   \n",
       "24950                              0                        0   \n",
       "124579                             0                        1   \n",
       "\n",
       "        Order Status_SUSPECTED_FRAUD  Shipping Mode_Same Day  \\\n",
       "89179                              0                       0   \n",
       "117736                             0                       1   \n",
       "118181                             1                       0   \n",
       "24950                              0                       0   \n",
       "124579                             0                       0   \n",
       "\n",
       "        Shipping Mode_Second Class  Shipping Mode_Standard Class  order_month  \\\n",
       "89179                            0                             1            4   \n",
       "117736                           0                             0           11   \n",
       "118181                           1                             0            6   \n",
       "24950                            0                             0            2   \n",
       "124579                           0                             1            9   \n",
       "\n",
       "        order_year  \n",
       "89179         2016  \n",
       "117736        2015  \n",
       "118181        2015  \n",
       "24950         2015  \n",
       "124579        2017  \n",
       "\n",
       "[5 rows x 43 columns]"
      ]
     },
     "execution_count": 3,
     "metadata": {},
     "output_type": "execute_result"
    }
   ],
   "source": [
    "df.sample(5)"
   ]
  },
  {
   "cell_type": "code",
   "execution_count": 4,
   "id": "8f49b40b",
   "metadata": {},
   "outputs": [
    {
     "data": {
      "text/plain": [
       "(180516, 43)"
      ]
     },
     "execution_count": 4,
     "metadata": {},
     "output_type": "execute_result"
    }
   ],
   "source": [
    "df.shape"
   ]
  },
  {
   "cell_type": "markdown",
   "id": "c7141682",
   "metadata": {},
   "source": [
    "## Model Evaluation Functions"
   ]
  },
  {
   "cell_type": "markdown",
   "id": "319ace34",
   "metadata": {},
   "source": [
    "I am going to define functions that would help streamline the model evaluation process"
   ]
  },
  {
   "cell_type": "code",
   "execution_count": 5,
   "id": "a15f587c",
   "metadata": {},
   "outputs": [],
   "source": [
    "#define our own false positive rate calculation, as sklearn does not have this functionality\n",
    "def false_positive_rate(y_true, y_pred):\n",
    "    \n",
    "    false_positives = (y_true == 0) & (y_pred == 1) # find all values where y is negative\n",
    "                                                    # but we predicted positive\n",
    "    false_positive_number = false_positives.sum()\n",
    "\n",
    "    true_negatives = (y_true == 0) & (y_pred == 0)  # find all values where y is negative\n",
    "                                                    # and we predicted negative\n",
    "    true_negative_number = true_negatives.sum()\n",
    "\n",
    "    # Finally, find the ratio of (FP) to (TN + FP)\n",
    "    FPR = false_positive_number/(true_negative_number + false_positive_number)\n",
    "    \n",
    "    return FPR"
   ]
  },
  {
   "cell_type": "code",
   "execution_count": 6,
   "id": "9347d02d",
   "metadata": {},
   "outputs": [],
   "source": [
    "#Getting AUC score\n",
    "def auc_evaluation(X_train, X_test, y_train, y_test, model):\n",
    "    \n",
    "    from sklearn.metrics import recall_score\n",
    "\n",
    "    #Get the probability for each point in the test set.\n",
    "    y_proba = model.fit(X_train, y_train).predict_proba(X_test)[:,1]\n",
    "    thresholds = np.linspace(0, 1, 100)\n",
    "\n",
    "    # Iterate over the thresholds and compute the positive and negative recall\n",
    "    true_positive_rates = []\n",
    "    false_positive_rates = []\n",
    "\n",
    "    thresholds = np.linspace(0, 1, 50)\n",
    "    for threshold in thresholds:\n",
    "\n",
    "        # Apply the cutoff and calculate the positive and negative recall\n",
    "        y_pred = np.where(y_proba > threshold, 1, 0)\n",
    "\n",
    "        tpr = recall_score(y_test, y_pred)\n",
    "        fpr = false_positive_rate(y_test, y_pred)\n",
    "\n",
    "        true_positive_rates.append(tpr)\n",
    "        false_positive_rates.append(fpr)\n",
    "\n",
    "    # True positive rate (TPR) = recall\n",
    "    tprs = np.array(true_positive_rates)\n",
    "\n",
    "    # False positive rate (FPR)\n",
    "    fprs = np.array(false_positive_rates)\n",
    "\n",
    "    from sklearn.metrics import roc_curve, roc_auc_score\n",
    "\n",
    "    #Get the probability for each point in the train set.\n",
    "    y_proba_train = model.predict_proba(X_train)[:,1]\n",
    "\n",
    "    # Compute ROC curve and AUC for for the one class\n",
    "    fprs_train, tprs_train, thresholds_train = roc_curve(y_train, y_proba_train)\n",
    "    roc_auc_train = roc_auc_score(y_train, y_proba_train)\n",
    "    roc_auc_test = roc_auc_score(y_test, y_proba)\n",
    "\n",
    "    # Plot the ROC curve.\n",
    "    plt.figure()\n",
    "    plt.plot(fprs_train, tprs_train, color='darkorange', lw=2, label='train')\n",
    "    plt.plot(fprs, tprs, lw=2, label='test')\n",
    "    plt.plot([0, 1], [0, 1], color='navy', lw=2, linestyle='--')\n",
    "    plt.xlabel('False Positive Rate')\n",
    "    plt.ylabel('True Positive Rate')\n",
    "    plt.title('ROC and AUC')\n",
    "    plt.legend(loc=\"best\")\n",
    "    plt.show()\n",
    "    print(f\"Train AUC score: {roc_auc_train}\")\n",
    "    print(f\"Test AUC score: {roc_auc_test}\")"
   ]
  },
  {
   "cell_type": "code",
   "execution_count": 7,
   "id": "b9071329",
   "metadata": {},
   "outputs": [],
   "source": [
    "#Getting model accuracy\n",
    "def model_accuracy(X_train, X_test, y_train, y_test, model):\n",
    "       \n",
    "    model.fit(X_train, y_train)\n",
    "    \n",
    "    trainacc = model.score(X_train, y_train)\n",
    "    testacc = model.score(X_test, y_test)\n",
    "    \n",
    "    print(f\"Train Accuracy: {trainacc}\")\n",
    "    print(f\"Test Accuracy: {testacc}\")"
   ]
  },
  {
   "cell_type": "markdown",
   "id": "d4b8be9f",
   "metadata": {},
   "source": [
    "## Expanding on our Baseline Model"
   ]
  },
  {
   "cell_type": "markdown",
   "id": "c47113bf",
   "metadata": {},
   "source": [
    "Let's optimize our baseline model by modifying its hyperparameters and experiment with scaling the features."
   ]
  },
  {
   "cell_type": "markdown",
   "id": "fa6526fe",
   "metadata": {},
   "source": [
    "To recall, the baseline model has the following structure:\n",
    "- Vanilla logistic regression\n",
    "- 1 feature: Shipping Mode_Standard Class\n",
    "- Binary target variable: 0 - Failed Delivery; 1 - Successful Delivery"
   ]
  },
  {
   "cell_type": "code",
   "execution_count": 8,
   "id": "2de04535",
   "metadata": {},
   "outputs": [],
   "source": [
    "#Our baseline model\n",
    "X = df[[\"Shipping Mode_Standard Class\"]]\n",
    "y = df[\"Delivery Status\"]"
   ]
  },
  {
   "cell_type": "markdown",
   "id": "ee1dee57",
   "metadata": {},
   "source": [
    "I am going to split the data into train-test sets with a **70-30 split**:"
   ]
  },
  {
   "cell_type": "code",
   "execution_count": 9,
   "id": "6fee03cd",
   "metadata": {
    "colab": {},
    "colab_type": "code",
    "id": "Qv2QyDdvFcGT"
   },
   "outputs": [],
   "source": [
    "#70-30 split\n",
    "X_train, X_test, y_train, y_test = \\\n",
    "    train_test_split(X, y, test_size = 0.3,\n",
    "                     random_state=123, stratify = y)"
   ]
  },
  {
   "cell_type": "markdown",
   "id": "69a9f481",
   "metadata": {},
   "source": [
    "### Optimizing the Hyperparameters"
   ]
  },
  {
   "cell_type": "code",
   "execution_count": 10,
   "id": "9b957f42",
   "metadata": {},
   "outputs": [],
   "source": [
    "from sklearn.preprocessing import StandardScaler\n",
    "from sklearn.preprocessing import RobustScaler\n",
    "from sklearn.preprocessing import MinMaxScaler\n",
    "from sklearn.linear_model import LogisticRegression\n",
    "from sklearn.pipeline import Pipeline\n",
    "from sklearn.model_selection import GridSearchCV"
   ]
  },
  {
   "cell_type": "markdown",
   "id": "8d284917",
   "metadata": {},
   "source": [
    "Here, I am going to optimize a hyperparameter of logistic regression:"
   ]
  },
  {
   "cell_type": "code",
   "execution_count": 11,
   "id": "42cfade7",
   "metadata": {
    "id": "bPWhVVJV8kXm"
   },
   "outputs": [],
   "source": [
    "# Create placeholders\n",
    "estimators = [\n",
    "    ('scaler', StandardScaler()),\n",
    "    ('model', LogisticRegression())\n",
    "]\n",
    "\n",
    "my_pipe = Pipeline(estimators)"
   ]
  },
  {
   "cell_type": "markdown",
   "id": "f25ccb19",
   "metadata": {
    "id": "rFmrMljCL23p"
   },
   "source": [
    "We can then specify the combinations to try out in our grid search:"
   ]
  },
  {
   "cell_type": "code",
   "execution_count": 12,
   "id": "f2e6f258",
   "metadata": {
    "id": "G0AewSv88kXn"
   },
   "outputs": [],
   "source": [
    "# One model, 4 scalers, 11 C-values, 5 solvers\n",
    "# 5-fold Cross Validation\n",
    "\n",
    "\n",
    "param_grid = [\n",
    "    {\n",
    "        'scaler': [StandardScaler(), RobustScaler(), MinMaxScaler(), None],\n",
    "        'model': [LogisticRegression()], \n",
    "        'model__C': [0.000001, 0.00001, 0.0001, 0.001, 0.01, 0.1, 1, 10, 100, 1000, 10000],\n",
    "        'model__solver' : ['saga', 'liblinear', 'lbfgs', 'newton-cg', 'sag']\n",
    "    }\n",
    "]\n",
    "\n",
    "grid = GridSearchCV(my_pipe, param_grid, cv=5)\n",
    "\n",
    "fittedgrid = grid.fit(X_train, y_train)"
   ]
  },
  {
   "cell_type": "code",
   "execution_count": 13,
   "id": "0430c05f",
   "metadata": {},
   "outputs": [
    {
     "data": {
      "text/plain": [
       "Pipeline(steps=[('scaler', StandardScaler()),\n",
       "                ('model', LogisticRegression(C=1e-06, solver='liblinear'))])"
      ]
     },
     "execution_count": 13,
     "metadata": {},
     "output_type": "execute_result"
    }
   ],
   "source": [
    "fittedgrid.best_estimator_"
   ]
  },
  {
   "cell_type": "markdown",
   "id": "651018f4",
   "metadata": {},
   "source": [
    "The best parameters for our baseline model are:\n",
    "- C = **0.000001**\n",
    "- solver = **liblinear**\n",
    "- scaler = **StandardScaler**"
   ]
  },
  {
   "cell_type": "markdown",
   "id": "32b70168",
   "metadata": {},
   "source": [
    "#### Model 1.6"
   ]
  },
  {
   "cell_type": "code",
   "execution_count": 14,
   "id": "eb6feed2",
   "metadata": {},
   "outputs": [],
   "source": [
    "#scaling the data\n",
    "scaler = StandardScaler()\n",
    "X_train = scaler.fit_transform(X_train)\n",
    "X_test = scaler.fit_transform(X_test)"
   ]
  },
  {
   "cell_type": "code",
   "execution_count": 15,
   "id": "ed218ce7",
   "metadata": {},
   "outputs": [],
   "source": [
    "model = LogisticRegression(C=0.00001, solver='liblinear', random_state=123)"
   ]
  },
  {
   "cell_type": "code",
   "execution_count": 16,
   "id": "9e976bc5",
   "metadata": {},
   "outputs": [
    {
     "name": "stdout",
     "output_type": "stream",
     "text": [
      "Train Accuracy: 0.6819904875713234\n",
      "Test Accuracy: 0.6843135444557289\n"
     ]
    }
   ],
   "source": [
    "model_accuracy(X_train, X_test, y_train, y_test, model)"
   ]
  },
  {
   "cell_type": "code",
   "execution_count": 17,
   "id": "e4b7ca42",
   "metadata": {},
   "outputs": [
    {
     "data": {
      "image/png": "[encoded data removed]",
      "text/plain": [
       "<Figure size 640x480 with 1 Axes>"
      ]
     },
     "metadata": {},
     "output_type": "display_data"
    },
    {
     "name": "stdout",
     "output_type": "stream",
     "text": [
      "Train AUC score: 0.7067473615628121\n",
      "Test AUC score: 0.7085063253518847\n"
     ]
    }
   ],
   "source": [
    "auc_evaluation(X_train, X_test, y_train, y_test, model)"
   ]
  },
  {
   "cell_type": "markdown",
   "id": "00262faa",
   "metadata": {},
   "source": [
    "We get a model test accuracy of **68.43%** and a test AUC score of **0.7085**. This optimized version of the baseline model does not increase the accuracy and did not improve the AUC score at all."
   ]
  },
  {
   "cell_type": "markdown",
   "id": "9eff96e0",
   "metadata": {},
   "source": [
    "## Logistic Regression on All Features"
   ]
  },
  {
   "cell_type": "markdown",
   "id": "fdd7d908",
   "metadata": {},
   "source": [
    "We fine tuned our baseline model which has only one feature variable. Here, I will fine tune a logistic regression model with all the processed features that we have."
   ]
  },
  {
   "cell_type": "code",
   "execution_count": 18,
   "id": "49b64de3",
   "metadata": {},
   "outputs": [],
   "source": [
    "X = df.drop(\"Delivery Status\", axis=1)\n",
    "y = df[\"Delivery Status\"]"
   ]
  },
  {
   "cell_type": "code",
   "execution_count": 19,
   "id": "6e1b3aab",
   "metadata": {},
   "outputs": [],
   "source": [
    "#70-30 split\n",
    "X_train, X_test, y_train, y_test = \\\n",
    "    train_test_split(X, y, test_size = 0.3,\n",
    "                     random_state=123, stratify = y)"
   ]
  },
  {
   "cell_type": "code",
   "execution_count": 20,
   "id": "0324eb0e",
   "metadata": {},
   "outputs": [],
   "source": [
    "#Scaling using RobustScaler\n",
    "scaler = RobustScaler()\n",
    "X_train = scaler.fit_transform(X_train)\n",
    "X_test = scaler.fit_transform(X_test)"
   ]
  },
  {
   "cell_type": "markdown",
   "id": "ffad7d38",
   "metadata": {},
   "source": [
    "Optimizing the C:"
   ]
  },
  {
   "cell_type": "code",
   "execution_count": 21,
   "id": "11605c27",
   "metadata": {},
   "outputs": [
    {
     "data": {
      "image/png": "[encoded data removed]",
      "text/plain": [
       "<Figure size 640x480 with 1 Axes>"
      ]
     },
     "metadata": {},
     "output_type": "display_data"
    }
   ],
   "source": [
    "test_scores = []\n",
    "train_scores = []\n",
    "\n",
    "C_range = np.array([.00000001,.0000001,.000001,.00001,.0001,.001,0.1,\\\n",
    "                1,10,100,1000,10000,100000,1000000,10000000,100000000,1000000000])\n",
    "\n",
    "for c in C_range:\n",
    "    my_logreg = LogisticRegression(C = c,random_state=123)\n",
    "    my_logreg.fit(X_train,y_train)\n",
    "    \n",
    "    # train on traning set\n",
    "    train_scores.append(my_logreg.score(X_train,y_train))\n",
    "    # score on test set\n",
    "    test_scores.append(my_logreg.score(X_test,y_test))\n",
    "    \n",
    "plt.figure()\n",
    "plt.plot(C_range, train_scores,label=\"Train Score\",marker='.')\n",
    "plt.plot(C_range, test_scores,label=\"Test Scores\",marker='.')\n",
    "plt.xscale('log')\n",
    "plt.xlabel('C')\n",
    "plt.ylabel('Accuracy')\n",
    "plt.legend()\n",
    "plt.show()"
   ]
  },
  {
   "cell_type": "markdown",
   "id": "3e92ce72",
   "metadata": {},
   "source": [
    "We can see the C gets better above C = 0.001."
   ]
  },
  {
   "cell_type": "markdown",
   "id": "7ba3dbbe",
   "metadata": {},
   "source": [
    "Optimizing all the hyperparameters:"
   ]
  },
  {
   "cell_type": "code",
   "execution_count": 22,
   "id": "49041ee4",
   "metadata": {},
   "outputs": [],
   "source": [
    "#70-30 split\n",
    "X_train, X_test, y_train, y_test = \\\n",
    "    train_test_split(X, y, test_size = 0.3,\n",
    "                     random_state=123, stratify = y)"
   ]
  },
  {
   "cell_type": "code",
   "execution_count": 23,
   "id": "3ee965b9",
   "metadata": {},
   "outputs": [],
   "source": [
    "# Create placeholders\n",
    "estimators = [\n",
    "    ('scaler', StandardScaler()),\n",
    "    ('model', LogisticRegression())\n",
    "]\n",
    "\n",
    "my_pipe = Pipeline(estimators)"
   ]
  },
  {
   "cell_type": "code",
   "execution_count": 24,
   "id": "69c478f5",
   "metadata": {},
   "outputs": [],
   "source": [
    "# One model, 3 scalers, 7 C-values, 3 solvers\n",
    "# 5-fold Cross Validation\n",
    "\n",
    "\n",
    "param_grid = [\n",
    "    {\n",
    "        'scaler': [StandardScaler(), RobustScaler(), None],\n",
    "        'model': [LogisticRegression()], \n",
    "        'model__C': [0.001, 0.01, 0.1, 1, 10, 100],\n",
    "        'model__solver' : ['saga', 'liblinear', 'lbfgs']\n",
    "    }\n",
    "]\n",
    "\n",
    "grid = GridSearchCV(my_pipe, param_grid, cv=5)\n",
    "\n",
    "fittedgrid = grid.fit(X_train, y_train)"
   ]
  },
  {
   "cell_type": "code",
   "execution_count": 25,
   "id": "63011059",
   "metadata": {},
   "outputs": [
    {
     "data": {
      "text/plain": [
       "Pipeline(steps=[('scaler', None),\n",
       "                ('model', LogisticRegression(C=100, solver='liblinear'))])"
      ]
     },
     "execution_count": 25,
     "metadata": {},
     "output_type": "execute_result"
    }
   ],
   "source": [
    "fittedgrid.best_estimator_"
   ]
  },
  {
   "cell_type": "markdown",
   "id": "61fb0a15",
   "metadata": {},
   "source": [
    "The best parameters for the Logistic Regression model with all features:\n",
    "\n",
    "- C = **100**\n",
    "- solver = **lbfgs** (Default)\n",
    "- scaler = **RobustScaler**"
   ]
  },
  {
   "cell_type": "markdown",
   "id": "10d38c6e",
   "metadata": {},
   "source": [
    "**Model 2.0**"
   ]
  },
  {
   "cell_type": "code",
   "execution_count": 66,
   "id": "c7f968e8",
   "metadata": {},
   "outputs": [],
   "source": [
    "scaler = RobustScaler() \n",
    "X_train = scaler.fit_transform(X_train)\n",
    "X_test = scaler.fit_transform(X_test)"
   ]
  },
  {
   "cell_type": "code",
   "execution_count": 67,
   "id": "2783b638",
   "metadata": {},
   "outputs": [],
   "source": [
    "model = LogisticRegression(C=10, solver='lbfgs', random_state=123)"
   ]
  },
  {
   "cell_type": "code",
   "execution_count": 68,
   "id": "06ec81e4",
   "metadata": {
    "scrolled": true
   },
   "outputs": [
    {
     "name": "stdout",
     "output_type": "stream",
     "text": [
      "Train Accuracy: 0.7088421269220725\n",
      "Test Accuracy: 0.713359800572431\n"
     ]
    }
   ],
   "source": [
    "model_accuracy(X_train, X_test, y_train, y_test, model)"
   ]
  },
  {
   "cell_type": "code",
   "execution_count": 69,
   "id": "c2416f06",
   "metadata": {},
   "outputs": [
    {
     "data": {
      "image/png": "[encoded data removed]",
      "text/plain": [
       "<Figure size 640x480 with 1 Axes>"
      ]
     },
     "metadata": {},
     "output_type": "display_data"
    },
    {
     "name": "stdout",
     "output_type": "stream",
     "text": [
      "Train AUC score: 0.7523969467219559\n",
      "Test AUC score: 0.7520841014922779\n"
     ]
    }
   ],
   "source": [
    "auc_evaluation(X_train, X_test, y_train, y_test, model)"
   ]
  },
  {
   "cell_type": "markdown",
   "id": "1008589d",
   "metadata": {},
   "source": [
    "For model 2.0 using Logistic Regression on all our preprocessed features, we get a Test Accuracy of **71.34%** and an AUC score of **0.7521**. This is quite an improvement from our baseline!"
   ]
  },
  {
   "cell_type": "markdown",
   "id": "59c802a6",
   "metadata": {},
   "source": [
    "## Decision Tree"
   ]
  },
  {
   "cell_type": "markdown",
   "id": "67f8f63c",
   "metadata": {},
   "source": [
    "Next, I am going to experiment with another model: Decision Tree"
   ]
  },
  {
   "cell_type": "code",
   "execution_count": 22,
   "id": "04cb939a",
   "metadata": {},
   "outputs": [],
   "source": [
    "from sklearn.tree import DecisionTreeClassifier"
   ]
  },
  {
   "cell_type": "markdown",
   "id": "672cd319",
   "metadata": {},
   "source": [
    "I am going to get all the features from the preprocessed data as our independent variables."
   ]
  },
  {
   "cell_type": "code",
   "execution_count": 19,
   "id": "9c8877de",
   "metadata": {},
   "outputs": [],
   "source": [
    "X = df.drop(\"Delivery Status\", axis=1)\n",
    "y = df[\"Delivery Status\"]"
   ]
  },
  {
   "cell_type": "code",
   "execution_count": 20,
   "id": "2d8c3de5",
   "metadata": {},
   "outputs": [],
   "source": [
    "X_train, X_test, y_train, y_test = \\\n",
    "    train_test_split(X, y, test_size = 0.3,\n",
    "                        random_state=123)"
   ]
  },
  {
   "cell_type": "code",
   "execution_count": 54,
   "id": "ed1cc498",
   "metadata": {},
   "outputs": [
    {
     "name": "stdout",
     "output_type": "stream",
     "text": [
      "Train Accuracy: 0.9994935146128948\n",
      "Test Accuracy: 0.6396639276151787\n"
     ]
    }
   ],
   "source": [
    "# Instantiate & fit the DT\n",
    "DT_model = DecisionTreeClassifier(random_state = 123)\n",
    "\n",
    "model_accuracy(X_train, X_test, y_train, y_test, DT_model)"
   ]
  },
  {
   "cell_type": "markdown",
   "id": "e77425ca",
   "metadata": {},
   "source": [
    "With max_depth equals the number of features we have, we get a model that heavily overfits the train data, and this is expected for a Decision Tree model. Therefore, let's find the optimal max_depth paramater next."
   ]
  },
  {
   "cell_type": "code",
   "execution_count": 55,
   "id": "55d8da23",
   "metadata": {},
   "outputs": [
    {
     "name": "stdout",
     "output_type": "stream",
     "text": [
      "Best test scores given by:\n",
      "   Depth  Train Score  Test Score\n",
      "8    9.0     0.714057    0.708928 \n",
      "\n",
      "\n"
     ]
    },
    {
     "data": {
      "image/png": "[encoded data removed]",
      "text/plain": [
       "<Figure size 1000x500 with 1 Axes>"
      ]
     },
     "metadata": {},
     "output_type": "display_data"
    }
   ],
   "source": [
    "# plotting the train and test score\n",
    "scores = pd.DataFrame()\n",
    "\n",
    "depth_range = 20\n",
    "\n",
    "# loop through the max depth values\n",
    "for max_depth in range(1, depth_range):\n",
    "    dt_model = DecisionTreeClassifier(max_depth=max_depth)\n",
    "    dt_model.fit(X_train, y_train)\n",
    "    \n",
    "    # scoring\n",
    "    train_score = dt_model.score(X_train, y_train)\n",
    "    test_score = dt_model.score(X_test, y_test)\n",
    "    \n",
    "    # append results\n",
    "    scores = scores.append({'Depth': max_depth, 'Train Score': train_score, 'Test Score': test_score}, ignore_index=True)\n",
    "\n",
    "# best parameter\n",
    "best_score = scores['Test Score'].max()\n",
    "print(\"Best test scores given by:\")\n",
    "print(scores[scores['Test Score'] == best_score], \"\\n\\n\")\n",
    "\n",
    "# comparison plot\n",
    "plt.figure(figsize=(10,5))\n",
    "plt.plot('Depth', 'Train Score', data=scores, marker='.')\n",
    "plt.plot('Depth', 'Test Score', data=scores, marker='.')\n",
    "plt.title('Accuracies as Depth Changes')\n",
    "plt.xlabel('Depth')\n",
    "plt.xticks(range(1,depth_range, 2))\n",
    "plt.ylabel('Accuracy Score')\n",
    "plt.legend()\n",
    "plt.show()"
   ]
  },
  {
   "cell_type": "markdown",
   "id": "e0d115ab",
   "metadata": {},
   "source": [
    "We get the best max_depth at 9 where it does not overfit!"
   ]
  },
  {
   "cell_type": "markdown",
   "id": "87e3354a",
   "metadata": {},
   "source": [
    "Let's run a GridSearchCV to find the best hyperparameters for our decision tree model."
   ]
  },
  {
   "cell_type": "code",
   "execution_count": 23,
   "id": "36a19839",
   "metadata": {},
   "outputs": [],
   "source": [
    "# Create placeholders\n",
    "estimators = [\n",
    "    ('scaler', RobustScaler()),\n",
    "    ('model', DecisionTreeClassifier())\n",
    "]\n",
    "\n",
    "my_pipe = Pipeline(estimators)"
   ]
  },
  {
   "cell_type": "code",
   "execution_count": 24,
   "id": "a5de488c",
   "metadata": {},
   "outputs": [],
   "source": [
    "#One model, 3 scalers, 5 max_depths\n",
    "#5-fold Cross Validation\n",
    "\n",
    "\n",
    "param_grid = [\n",
    "    {\n",
    "        'scaler' : [None, StandardScaler(), RobustScaler()],\n",
    "        'model' : [DecisionTreeClassifier()],\n",
    "        'model__max_depth': [7, 8, 9, 10, 11]\n",
    "    }\n",
    "]\n",
    "\n",
    "grid = GridSearchCV(my_pipe, param_grid, cv=5)\n",
    "\n",
    "fittedgrid = grid.fit(X_train, y_train)"
   ]
  },
  {
   "cell_type": "code",
   "execution_count": 27,
   "id": "83d7f954",
   "metadata": {},
   "outputs": [
    {
     "data": {
      "text/html": [
       "<style>#sk-container-id-2 {color: black;background-color: white;}#sk-container-id-2 pre{padding: 0;}#sk-container-id-2 div.sk-toggleable {background-color: white;}#sk-container-id-2 label.sk-toggleable__label {cursor: pointer;display: block;width: 100%;margin-bottom: 0;padding: 0.3em;box-sizing: border-box;text-align: center;}#sk-container-id-2 label.sk-toggleable__label-arrow:before {content: \"▸\";float: left;margin-right: 0.25em;color: #696969;}#sk-container-id-2 label.sk-toggleable__label-arrow:hover:before {color: black;}#sk-container-id-2 div.sk-estimator:hover label.sk-toggleable__label-arrow:before {color: black;}#sk-container-id-2 div.sk-toggleable__content {max-height: 0;max-width: 0;overflow: hidden;text-align: left;background-color: #f0f8ff;}#sk-container-id-2 div.sk-toggleable__content pre {margin: 0.2em;color: black;border-radius: 0.25em;background-color: #f0f8ff;}#sk-container-id-2 input.sk-toggleable__control:checked~div.sk-toggleable__content {max-height: 200px;max-width: 100%;overflow: auto;}#sk-container-id-2 input.sk-toggleable__control:checked~label.sk-toggleable__label-arrow:before {content: \"▾\";}#sk-container-id-2 div.sk-estimator input.sk-toggleable__control:checked~label.sk-toggleable__label {background-color: #d4ebff;}#sk-container-id-2 div.sk-label input.sk-toggleable__control:checked~label.sk-toggleable__label {background-color: #d4ebff;}#sk-container-id-2 input.sk-hidden--visually {border: 0;clip: rect(1px 1px 1px 1px);clip: rect(1px, 1px, 1px, 1px);height: 1px;margin: -1px;overflow: hidden;padding: 0;position: absolute;width: 1px;}#sk-container-id-2 div.sk-estimator {font-family: monospace;background-color: #f0f8ff;border: 1px dotted black;border-radius: 0.25em;box-sizing: border-box;margin-bottom: 0.5em;}#sk-container-id-2 div.sk-estimator:hover {background-color: #d4ebff;}#sk-container-id-2 div.sk-parallel-item::after {content: \"\";width: 100%;border-bottom: 1px solid gray;flex-grow: 1;}#sk-container-id-2 div.sk-label:hover label.sk-toggleable__label {background-color: #d4ebff;}#sk-container-id-2 div.sk-serial::before {content: \"\";position: absolute;border-left: 1px solid gray;box-sizing: border-box;top: 0;bottom: 0;left: 50%;z-index: 0;}#sk-container-id-2 div.sk-serial {display: flex;flex-direction: column;align-items: center;background-color: white;padding-right: 0.2em;padding-left: 0.2em;position: relative;}#sk-container-id-2 div.sk-item {position: relative;z-index: 1;}#sk-container-id-2 div.sk-parallel {display: flex;align-items: stretch;justify-content: center;background-color: white;position: relative;}#sk-container-id-2 div.sk-item::before, #sk-container-id-2 div.sk-parallel-item::before {content: \"\";position: absolute;border-left: 1px solid gray;box-sizing: border-box;top: 0;bottom: 0;left: 50%;z-index: -1;}#sk-container-id-2 div.sk-parallel-item {display: flex;flex-direction: column;z-index: 1;position: relative;background-color: white;}#sk-container-id-2 div.sk-parallel-item:first-child::after {align-self: flex-end;width: 50%;}#sk-container-id-2 div.sk-parallel-item:last-child::after {align-self: flex-start;width: 50%;}#sk-container-id-2 div.sk-parallel-item:only-child::after {width: 0;}#sk-container-id-2 div.sk-dashed-wrapped {border: 1px dashed gray;margin: 0 0.4em 0.5em 0.4em;box-sizing: border-box;padding-bottom: 0.4em;background-color: white;}#sk-container-id-2 div.sk-label label {font-family: monospace;font-weight: bold;display: inline-block;line-height: 1.2em;}#sk-container-id-2 div.sk-label-container {text-align: center;}#sk-container-id-2 div.sk-container {/* jupyter's `normalize.less` sets `[hidden] { display: none; }` but bootstrap.min.css set `[hidden] { display: none !important; }` so we also need the `!important` here to be able to override the default hidden behavior on the sphinx rendered scikit-learn.org. See: https://github.com/scikit-learn/scikit-learn/issues/21755 */display: inline-block !important;position: relative;}#sk-container-id-2 div.sk-text-repr-fallback {display: none;}</style><div id=\"sk-container-id-2\" class=\"sk-top-container\"><div class=\"sk-text-repr-fallback\"><pre>Pipeline(steps=[(&#x27;scaler&#x27;, None),\n",
       "                (&#x27;model&#x27;, DecisionTreeClassifier(max_depth=9))])</pre><b>In a Jupyter environment, please rerun this cell to show the HTML representation or trust the notebook. <br />On GitHub, the HTML representation is unable to render, please try loading this page with nbviewer.org.</b></div><div class=\"sk-container\" hidden><div class=\"sk-item sk-dashed-wrapped\"><div class=\"sk-label-container\"><div class=\"sk-label sk-toggleable\"><input class=\"sk-toggleable__control sk-hidden--visually\" id=\"sk-estimator-id-4\" type=\"checkbox\" ><label for=\"sk-estimator-id-4\" class=\"sk-toggleable__label sk-toggleable__label-arrow\">Pipeline</label><div class=\"sk-toggleable__content\"><pre>Pipeline(steps=[(&#x27;scaler&#x27;, None),\n",
       "                (&#x27;model&#x27;, DecisionTreeClassifier(max_depth=9))])</pre></div></div></div><div class=\"sk-serial\"><div class=\"sk-item\"><div class=\"sk-estimator sk-toggleable\"><input class=\"sk-toggleable__control sk-hidden--visually\" id=\"sk-estimator-id-5\" type=\"checkbox\" ><label for=\"sk-estimator-id-5\" class=\"sk-toggleable__label sk-toggleable__label-arrow\">None</label><div class=\"sk-toggleable__content\"><pre>None</pre></div></div></div><div class=\"sk-item\"><div class=\"sk-estimator sk-toggleable\"><input class=\"sk-toggleable__control sk-hidden--visually\" id=\"sk-estimator-id-6\" type=\"checkbox\" ><label for=\"sk-estimator-id-6\" class=\"sk-toggleable__label sk-toggleable__label-arrow\">DecisionTreeClassifier</label><div class=\"sk-toggleable__content\"><pre>DecisionTreeClassifier(max_depth=9)</pre></div></div></div></div></div></div></div>"
      ],
      "text/plain": [
       "Pipeline(steps=[('scaler', None),\n",
       "                ('model', DecisionTreeClassifier(max_depth=9))])"
      ]
     },
     "execution_count": 27,
     "metadata": {},
     "output_type": "execute_result"
    }
   ],
   "source": [
    "fittedgrid.best_estimator_"
   ]
  },
  {
   "cell_type": "markdown",
   "id": "465e672e",
   "metadata": {},
   "source": [
    "We also got an optimal **max_depth of 9** with **no scaler**, which is expected because Decision Tree is not supposed to affected by scalers."
   ]
  },
  {
   "cell_type": "markdown",
   "id": "50178024",
   "metadata": {},
   "source": [
    "#### Model 3.0"
   ]
  },
  {
   "cell_type": "code",
   "execution_count": 26,
   "id": "b4da590e",
   "metadata": {},
   "outputs": [
    {
     "name": "stdout",
     "output_type": "stream",
     "text": [
      "Train Accuracy: 0.7140573436424213\n",
      "Test Accuracy: 0.708891145785246\n"
     ]
    }
   ],
   "source": [
    "# Max_depth = 9\n",
    "# Instantiate & fit the DT\n",
    "DT_model = DecisionTreeClassifier(max_depth = 9, random_state = 123)\n",
    "\n",
    "model_accuracy(X_train, X_test, y_train, y_test, DT_model)"
   ]
  },
  {
   "cell_type": "code",
   "execution_count": 27,
   "id": "2234f3b4",
   "metadata": {},
   "outputs": [
    {
     "data": {
      "image/png": "[encoded data removed]",
      "text/plain": [
       "<Figure size 640x480 with 1 Axes>"
      ]
     },
     "metadata": {},
     "output_type": "display_data"
    },
    {
     "name": "stdout",
     "output_type": "stream",
     "text": [
      "Train AUC score: 0.7677877177789476\n",
      "Test AUC score: 0.7533811169148162\n"
     ]
    }
   ],
   "source": [
    "auc_evaluation(X_train, X_test, y_train, y_test, DT_model)"
   ]
  },
  {
   "cell_type": "markdown",
   "id": "788770c8",
   "metadata": {},
   "source": [
    "So, for our Model 3.0, we have a decision tree with a **max_depth of 9** where the test accuracy is at **70.89%** and a test AUC score of **0.7534**. This model did not have a better accuracy than our previous logistic regression model (model 2.0), and only improved a little bit on AUC score."
   ]
  },
  {
   "cell_type": "markdown",
   "id": "db1aaeff",
   "metadata": {},
   "source": [
    "## Incorporating PCA on the Models"
   ]
  },
  {
   "cell_type": "markdown",
   "id": "cf5b64bd",
   "metadata": {},
   "source": [
    "I want to look at how reducing the dimensionality affects the performance of the models we have tested so far. We will be used **Principal Component Analysis** (PCA) as the dimensionality reduction technique."
   ]
  },
  {
   "cell_type": "code",
   "execution_count": 14,
   "id": "3f4594a0",
   "metadata": {},
   "outputs": [],
   "source": [
    "from sklearn.decomposition import PCA"
   ]
  },
  {
   "cell_type": "code",
   "execution_count": 15,
   "id": "83bc1e36",
   "metadata": {},
   "outputs": [],
   "source": [
    "X = df.drop(\"Delivery Status\", axis=1)\n",
    "y = df[\"Delivery Status\"]"
   ]
  },
  {
   "cell_type": "code",
   "execution_count": 16,
   "id": "0d792467",
   "metadata": {},
   "outputs": [],
   "source": [
    "X_train, X_test, y_train, y_test = \\\n",
    "    train_test_split(X, y, test_size = 0.3,\n",
    "                        random_state=123)"
   ]
  },
  {
   "cell_type": "markdown",
   "id": "8d94c0ec",
   "metadata": {},
   "source": [
    "Let's fit our data to PCA:"
   ]
  },
  {
   "cell_type": "code",
   "execution_count": 17,
   "id": "057f713b",
   "metadata": {},
   "outputs": [],
   "source": [
    "#scaling the data first\n",
    "scaler = RobustScaler()\n",
    "X_train = scaler.fit_transform(X_train)\n",
    "X_test = scaler.fit_transform(X_test)"
   ]
  },
  {
   "cell_type": "markdown",
   "id": "fec932df",
   "metadata": {},
   "source": [
    "I chose Robust Scaler here because I know from our EDA that our data has many outliers, and Robust Scaler is known for a scaler that best deals data with many outliers."
   ]
  },
  {
   "cell_type": "code",
   "execution_count": 18,
   "id": "1085d99f",
   "metadata": {},
   "outputs": [],
   "source": [
    "#fit and transform PCA\n",
    "pca = PCA()\n",
    "pca.fit(X_train)\n",
    "X_train = pca.transform(X_train)\n",
    "X_test = pca.transform(X_test)"
   ]
  },
  {
   "cell_type": "code",
   "execution_count": 19,
   "id": "1e4dd4c1",
   "metadata": {},
   "outputs": [
    {
     "data": {
      "text/plain": [
       "array([3.30631601e-01, 9.51784572e-02, 7.28662599e-02, 4.74985342e-02,\n",
       "       4.08497645e-02, 3.33248543e-02, 3.06964102e-02, 2.95581757e-02,\n",
       "       2.90552704e-02, 2.82306858e-02, 2.07292043e-02, 2.05162175e-02,\n",
       "       1.96921045e-02, 1.79824862e-02, 1.53074669e-02, 1.52043399e-02,\n",
       "       1.40661093e-02, 1.38559988e-02, 1.32172506e-02, 1.31292074e-02,\n",
       "       1.13424378e-02, 1.05145981e-02, 9.17280960e-03, 7.88369821e-03,\n",
       "       7.46637267e-03, 7.38795394e-03, 6.71670592e-03, 6.41797025e-03,\n",
       "       6.06247404e-03, 5.58457714e-03, 5.50088983e-03, 3.81976014e-03,\n",
       "       3.10443874e-03, 2.71112938e-03, 1.85943151e-03, 1.44233338e-03,\n",
       "       7.13735414e-04, 4.20966500e-04, 2.87318576e-04])"
      ]
     },
     "execution_count": 19,
     "metadata": {},
     "output_type": "execute_result"
    }
   ],
   "source": [
    "#returns the explained variance ratio of each principal components\n",
    "expl_var = pca.explained_variance_ratio_\n",
    "expl_var"
   ]
  },
  {
   "cell_type": "code",
   "execution_count": 20,
   "id": "308100b8",
   "metadata": {},
   "outputs": [
    {
     "data": {
      "text/plain": [
       "array([0.3306316 , 0.42581006, 0.49867632, 0.54617485, 0.58702462,\n",
       "       0.62034947, 0.65104588, 0.68060406, 0.70965933, 0.73789001,\n",
       "       0.75861922, 0.77913544, 0.79882754, 0.81681003, 0.83211749,\n",
       "       0.84732183, 0.86138794, 0.87524394, 0.88846119, 0.9015904 ,\n",
       "       0.91293284, 0.92344743, 0.93262024, 0.94050394, 0.94797032,\n",
       "       0.95535827, 0.96207498, 0.96849295, 0.97455542, 0.98014   ,\n",
       "       0.98564089, 0.98946065, 0.99256509, 0.99527621, 0.99713565,\n",
       "       0.99857798, 0.99929171, 0.99971268, 1.        ])"
      ]
     },
     "execution_count": 20,
     "metadata": {},
     "output_type": "execute_result"
    }
   ],
   "source": [
    "#returns the cumulative sum of the explained variance ratio\n",
    "cumulative_sum = np.cumsum(expl_var)\n",
    "cumulative_sum"
   ]
  },
  {
   "cell_type": "markdown",
   "id": "355936e6",
   "metadata": {},
   "source": [
    "Here we see that we need at least **20 Principal Components** to get at least a cumulative explained variance ratio of 0.90."
   ]
  },
  {
   "cell_type": "markdown",
   "id": "f53581a7",
   "metadata": {},
   "source": [
    "The amount of principal components needed to get a cum. explained variance ratio of 0.90 may differ as we change scalers."
   ]
  },
  {
   "cell_type": "markdown",
   "id": "2a6b358b",
   "metadata": {},
   "source": [
    "I am going to perform a GridSearchCV on multiple models while incorporating PCA as the dimensionality reduction technique:"
   ]
  },
  {
   "cell_type": "code",
   "execution_count": 24,
   "id": "ffd15d9f",
   "metadata": {
    "id": "bPWhVVJV8kXm"
   },
   "outputs": [],
   "source": [
    "# Create placeholders\n",
    "estimators = [\n",
    "    ('scaler', RobustScaler()),\n",
    "    ('reduce_dim', PCA()),\n",
    "    ('model', DecisionTreeClassifier())\n",
    "]\n",
    "\n",
    "my_pipe = Pipeline(estimators)"
   ]
  },
  {
   "cell_type": "markdown",
   "id": "f9a1d448",
   "metadata": {
    "id": "rFmrMljCL23p"
   },
   "source": [
    "We can then specify the combinations to try out in our grid search:"
   ]
  },
  {
   "cell_type": "code",
   "execution_count": 25,
   "id": "612a4c40",
   "metadata": {
    "id": "G0AewSv88kXn"
   },
   "outputs": [],
   "source": [
    "# Two models, 2 scalers, 3 n_components\n",
    "# Decision Tree has 3 max_depths\n",
    "# Logistic regression has 4 Cs\n",
    "# 5-fold Cross Validation\n",
    "\n",
    "\n",
    "param_grid = [\n",
    "    {\n",
    "        'scaler' : [StandardScaler(), RobustScaler()],\n",
    "        'reduce_dim' : [PCA()],\n",
    "        'model' : [DecisionTreeClassifier()],\n",
    "        'model__max_depth': [8, 9, 10],\n",
    "        'reduce_dim__n_components': [0.90, 0.87, 0.85]\n",
    "    },\n",
    "    {\n",
    "        'scaler' : [StandardScaler(), RobustScaler()],\n",
    "        'reduce_dim' : [PCA()],\n",
    "        'model' : [LogisticRegression()],\n",
    "        'model__C': [0.1, 1, 10, 100],\n",
    "        'reduce_dim__n_components': [0.90, 0.87, 0.85]\n",
    "    }\n",
    "]\n",
    "\n",
    "grid = GridSearchCV(my_pipe, param_grid, cv=5)\n",
    "\n",
    "fittedgrid = grid.fit(X_train, y_train)"
   ]
  },
  {
   "cell_type": "code",
   "execution_count": 27,
   "id": "5daf5e11",
   "metadata": {},
   "outputs": [
    {
     "data": {
      "text/plain": [
       "Pipeline(steps=[('scaler', StandardScaler()),\n",
       "                ('reduce_dim', PCA(n_components=0.9)),\n",
       "                ('model', LogisticRegression(C=0.1))])"
      ]
     },
     "execution_count": 27,
     "metadata": {},
     "output_type": "execute_result"
    }
   ],
   "source": [
    "fittedgrid.best_estimator_"
   ]
  },
  {
   "cell_type": "markdown",
   "id": "c7895a97",
   "metadata": {},
   "source": [
    "The best model for our the PCA-incorporated model is the following:\n",
    "- model = **Logistic Regression**\n",
    "- scaler = **Standard Scaler**\n",
    "- n_components = **0.90**\n",
    "- C = **1**"
   ]
  },
  {
   "cell_type": "markdown",
   "id": "f1ea7e20",
   "metadata": {},
   "source": [
    "Let's see what the how many Principal Components there are using this model:"
   ]
  },
  {
   "cell_type": "code",
   "execution_count": 28,
   "id": "fbe8650b",
   "metadata": {},
   "outputs": [],
   "source": [
    "X = df.drop(\"Delivery Status\", axis=1)\n",
    "y = df[\"Delivery Status\"]"
   ]
  },
  {
   "cell_type": "code",
   "execution_count": 29,
   "id": "b2fae4a0",
   "metadata": {},
   "outputs": [],
   "source": [
    "X_train, X_test, y_train, y_test = \\\n",
    "    train_test_split(X, y, test_size = 0.3,\n",
    "                        random_state=123)"
   ]
  },
  {
   "cell_type": "code",
   "execution_count": 30,
   "id": "209f36cf",
   "metadata": {},
   "outputs": [],
   "source": [
    "#scaling the data first\n",
    "scaler = StandardScaler()\n",
    "X_train = scaler.fit_transform(X_train)\n",
    "X_test = scaler.fit_transform(X_test)"
   ]
  },
  {
   "cell_type": "code",
   "execution_count": 31,
   "id": "6eba65c0",
   "metadata": {},
   "outputs": [],
   "source": [
    "#fit and transform\n",
    "pca = PCA(n_components=0.90)\n",
    "pca.fit(X_train)\n",
    "X_train = pca.transform(X_train)\n",
    "X_test = pca.transform(X_test)"
   ]
  },
  {
   "cell_type": "code",
   "execution_count": 32,
   "id": "5f4d1c7e",
   "metadata": {},
   "outputs": [
    {
     "data": {
      "text/plain": [
       "array([0.05912046, 0.1044803 , 0.14642542, 0.18505096, 0.22091318,\n",
       "       0.25453682, 0.28770864, 0.32075552, 0.35197252, 0.38230596,\n",
       "       0.41215036, 0.44150614, 0.4706367 , 0.49962143, 0.52843792,\n",
       "       0.55702455, 0.58512568, 0.61312741, 0.64073601, 0.66817651,\n",
       "       0.69536113, 0.72251817, 0.74939542, 0.77591317, 0.80225325,\n",
       "       0.82819243, 0.85387641, 0.8794466 , 0.90491133])"
      ]
     },
     "execution_count": 32,
     "metadata": {},
     "output_type": "execute_result"
    }
   ],
   "source": [
    "expl_var = pca.explained_variance_ratio_\n",
    "\n",
    "#returns the cumulative sum of the explained variance ratio\n",
    "cumulative_sum = np.cumsum(expl_var)\n",
    "cumulative_sum"
   ]
  },
  {
   "cell_type": "code",
   "execution_count": 46,
   "id": "535a7a16",
   "metadata": {},
   "outputs": [
    {
     "name": "stdout",
     "output_type": "stream",
     "text": [
      "The number of original feature variables is: 39\n",
      "The number of principal components is: 29\n"
     ]
    }
   ],
   "source": [
    "#returns the number of features and principal components\n",
    "print(f\"The number of original feature variables is: {X.shape[1]}\")\n",
    "print(f\"The number of principal components is: {cumulative_sum.shape[0]}\")"
   ]
  },
  {
   "cell_type": "markdown",
   "id": "2be86a2a",
   "metadata": {},
   "source": [
    "There are a total of 29 Principal Components to make up a cumulative explained variance ratio of 0.90. We originialy had 39 feature variables, so PCA only reduced the dimensionality by 10."
   ]
  },
  {
   "cell_type": "markdown",
   "id": "468d8982",
   "metadata": {},
   "source": [
    "**Model 4.0**"
   ]
  },
  {
   "cell_type": "code",
   "execution_count": 38,
   "id": "61973a59",
   "metadata": {},
   "outputs": [
    {
     "name": "stdout",
     "output_type": "stream",
     "text": [
      "Train Accuracy: 0.6497970101534493\n",
      "Test Accuracy: 0.654639460806943\n"
     ]
    }
   ],
   "source": [
    "model = LogisticRegression(C=1, random_state=123)\n",
    "model_accuracy(X_train, X_test, y_train, y_test, model)"
   ]
  },
  {
   "cell_type": "code",
   "execution_count": 39,
   "id": "2da5490c",
   "metadata": {},
   "outputs": [
    {
     "data": {
      "image/png": "[encoded data removed]",
      "text/plain": [
       "<Figure size 640x480 with 1 Axes>"
      ]
     },
     "metadata": {},
     "output_type": "display_data"
    },
    {
     "name": "stdout",
     "output_type": "stream",
     "text": [
      "Train AUC score: 0.7194284324156568\n",
      "Test AUC score: 0.7231709818450754\n"
     ]
    }
   ],
   "source": [
    "auc_evaluation(X_train, X_test, y_train, y_test, model)"
   ]
  },
  {
   "cell_type": "markdown",
   "id": "422b5243",
   "metadata": {},
   "source": [
    "Model 4.0 uses PCA as a dimensionality reducer and use it on several versions of models. The best one we got has a test accuracy of **65.46%** and an AUC score of **0.7232**. This model is not any better than our baseline model in terms of accuracy and barely has improvement in AUC score; therefore using PCA in this case did not help in improving the performance of the models."
   ]
  },
  {
   "cell_type": "markdown",
   "id": "6a78ba94",
   "metadata": {},
   "source": [
    "## Model Summary"
   ]
  },
  {
   "cell_type": "markdown",
   "id": "5b77ef31",
   "metadata": {},
   "source": [
    "\n",
    "| Model | Variables                                 | Test Accuracy    | AUC Score | Type |\n",
    "|-------|--------------------------------------------|-------|------|----|\n",
    "| 1.0 (Baseline)   | Shipping Mode_Standard Class                                        | 68.27% | 0.7085 | Vanilla Logreg\n",
    "| 1.6   | Shipping Mode_Standard Class                    | 68.43% | 0.7085 | Optimized Logreg |\n",
    "| 2.0 | All (39 features) |  71.34% | 0.7521| Optimized Logreg |\n",
    "| 3.0 | All |  70.89% | 0.7534| Optimized Decision Tree |\n",
    "| 4.0 | 29 PCA components | 65.46% | 0.7232|Optimized Logreg with PCA |"
   ]
  },
  {
   "cell_type": "markdown",
   "id": "411072c3",
   "metadata": {},
   "source": [
    "According to our tests so far, the model with the highest accuracy is Model 2.0, and the model with the highest AUC Score is Model 3.0. We have established that a better AUC Score is a better metric for model performance in our case; therefore, the best model out of all the above is **Model 3.0** that uses a decision tree model."
   ]
  }
 ],
 "metadata": {
  "kernelspec": {
   "display_name": "Python 3 (ipykernel)",
   "language": "python",
   "name": "python3"
  },
  "language_info": {
   "codemirror_mode": {
    "name": "ipython",
    "version": 3
   },
   "file_extension": ".py",
   "mimetype": "text/x-python",
   "name": "python",
   "nbconvert_exporter": "python",
   "pygments_lexer": "ipython3",
   "version": "3.9.13"
  }
 },
 "nbformat": 4,
 "nbformat_minor": 5
}
