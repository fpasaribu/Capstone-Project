{
 "cells": [
  {
   "cell_type": "markdown",
   "id": "253a70d0",
   "metadata": {},
   "source": [
    "# Data Preprocessing for Baseline Model"
   ]
  },
  {
   "cell_type": "markdown",
   "id": "e2cdeca6",
   "metadata": {},
   "source": [
    "Project: **Predicting Shipment Outcomes and Inferring Causes of Potential Disruptions**  \n",
    "Created by: **Fauzan Pasaribu**\n",
    "\n",
    "The objective of the project is to create a model that can predict the shipment outcome of a particular order item. If the model predicts that the shipment of the order item encounters disruptions, the model would then deduce the causes of such disruption.\n",
    "\n",
    "**The aim of this notebook is to preprocess the cleaned dataset to make it ready for modelling our baseline model.**"
   ]
  },
  {
   "cell_type": "markdown",
   "id": "c76ae4fb",
   "metadata": {},
   "source": [
    "# Contents\n",
    "1. [Data Dictionary](#Data-Dictionary)<br>\n",
    "3. [Data Loading](#Data-Loading)<br>\n",
    "4. [Data Wrangling](#Data-Wrangling)<br>\n",
    "5. [Understanding the Dataset](#Understanding-the-Dataset)<br>\n",
    "6. [Data Preprocessing](#Data-Preprocessing)<br>\n",
    "    a. [Feature Engineering](#Feature-Engineering)<br>"
   ]
  },
  {
   "cell_type": "markdown",
   "id": "0e834437",
   "metadata": {},
   "source": [
    "## Data Dictionary"
   ]
  },
  {
   "cell_type": "markdown",
   "id": "155a3084",
   "metadata": {},
   "source": [
    "The data dictionary reflects only the fields that made it through the cleaning process. The original dataset can be found [here](https://www.kaggle.com/datasets/shashwatwork/dataco-smart-supply-chain-for-big-data-analysis)."
   ]
  },
  {
   "cell_type": "markdown",
   "id": "645d3b65",
   "metadata": {},
   "source": [
    "FIELDS                       |DESCRIPTION                                                                                                                                                                                                                                                                                                                                                                                    \n",
    "-----------------------------|-----------------------------------------------------------------------------------------------------------------------------------------------------------------------------------------------------------------------------------------------------------------------------------------------------------------------------------------------------------------------------------------------\n",
    "Type                         |  Type of transaction made                                                                                                                                                                                                                                                                                                                                                                    \n",
    "Days for shipping (real)     |  Actual shipping days of the purchased product                                                                                                                                                                                                                                                                                                                                               \n",
    "Days for shipment (scheduled)|  Days of scheduled delivery of the purchased product                                                                                                                                                                                                                                                                                                                                         \n",
    "Benefit per order            |  Earnings per order placed                                                                                                                                                                                                                                                                                                                                                                   \n",
    "Sales per customer           |  Total sales per customer made per customer                                                                                                                                                                                                                                                                                                                                                  \n",
    "Delivery Status              |  Delivery status of orders: Advance shipping , Late delivery , Shipping canceled , Shipping on time                                                                                                                                                                                                                                                                                          \n",
    "Late_delivery_risk           |  Categorical variable that indicates if sending is late (1), it is not late (0).                                                                                                                                                                                                                                                                                                                                                                                                                                                                                                                                                                                                                                      \n",
    "Category Name                |  Description of the product category                                                                                                                                                                                                                                                                                                                                                         \n",
    "Customer City                |  City where the customer made the purchase                                                                                                                                                                                                                                                                                                                                                   \n",
    "Customer Country             |  Country where the customer made the purchase                                                                                                                                                                                                                                                                                                                                                                                                                                                                                                                                                                                                                                                                                                                        \n",
    "Customer Id                  |  Customer ID                                                                                                                                                                                                                                                                                                                                                                                                                                                                                                                                                                                                                                                                                                           \n",
    "Customer Segment             |  Types of Customers: Consumer , Corporate , Home Office                                                                                                                                                                                                                                                                                                                                     \n",
    "Customer State               |  State to which the store where the purchase is registered belongs                                                                                                                                                                                                                                                                                                                           \n",
    "Customer Street              |  Street to which the store where the purchase is registered belongs                                                                                                                                                                                                                                                                                                                          \n",
    "Customer Zipcode             |  Customer Zipcode                                                                                                                                                                                                                                                                                                                                                                                                                                                                                                                                                                     \n",
    "Department Name              |  Department name of store                                                                                                                                                                                                                                                                                                                                                                   \n",
    "Latitude                     |  Latitude corresponding to location of store                                                                                                                                                                                                                                                                                                                                                 \n",
    "Longitude                    |  Longitude corresponding to location of store                                                                                                                                                                                                                                                                                                                                                \n",
    "Market                       |  Market to where the order is delivered : Africa , Europe , LATAM , Pacific Asia , USCA                                                                                                                                                                                                                                                                                                      \n",
    "Order City                   |  Destination city of the order                                                                                                                                                                                                                                                                                                                                                               \n",
    "Order Country                |  Destination country of the order                                                                                                                                                                                                                                                                                                                                                                                                                                                                                                                                                     \n",
    "order date (DateOrders)      |  Date on which the order is made                                                                                                                                                                                                                                                                                                                                                             \n",
    "Order Id                     |  Order code                                                                                                                                                                                                                                                                                                                                                                                                                                                                                                                                                                                                                                                                                  \n",
    "Order Item Discount          |  Order item discount value                                                                                                                                                                                                                                                                                                                                                                   \n",
    "Order Item Discount Rate     |  Order item discount percentage                                                                                                                                                                                                                                                                                                                                                              \n",
    "Order Item Id                |  Order item code                                                                                                                                                                                                                                                                                                                                                                                                                                                                                                                                                                                                                                                                                         \n",
    "Order Item Profit Ratio      |  Order Item Profit Ratio                                                                                                                                                                                                                                                                                                                                                                     \n",
    "Order Item Quantity          |  Number of products per order                                                                                                                                                                                                                                                                                                                                                                \n",
    "Sales                        |  Value in sales                                                                                                                                                                                                                                                                                                                                                                              \n",
    "Order Item Total             |  Total amount per order                                                                                                                                                                                                                                                                                                                                                                                                                                                                                                                                                            \n",
    "Order Region                 |  Region of the world where the order is delivered :  Southeast Asia ,South Asia ,Oceania ,Eastern Asia, West Asia , West of USA , US Center , West Africa, Central Africa ,North Africa ,Western Europe ,Northern , Caribbean , South America ,East Africa ,Southern Europe , East of USA ,Canada ,Southern Africa , Central Asia ,  Europe , Central America, Eastern Europe , South of  USA\n",
    "Order State                  |  State of the region where the order is delivered                                                                                                                                                                                                                                                                                                                                            \n",
    "Order Status                 |  Order Status : COMPLETE , PENDING , CLOSED , PENDING_PAYMENT ,CANCELED , PROCESSING ,SUSPECTED_FRAUD ,ON_HOLD ,PAYMENT_REVIEW                                                                                                                                                                                                                                                                                                                                                                                                                                                                                                                                                                                                                                                                                                                                                                                                                                                                                                                                                                                                                                                                                                                                              \n",
    "Product Name                 |  Product Name                                                                                                                                                                                                                                                                                                                                                                                \n",
    "Product Price                |  Product Price                                                                                                                                                                                                                                                                                                                                                                                                                                                                                                                                                                                                                                               \n",
    "Shipping date (DateOrders)   |  Exact date and time of shipment                                                                                                                                                                                                                                                                                                                                                             \n",
    "Shipping Mode                |  The following shipping modes are presented : Standard Class , First Class , Second Class , Same Day                                                                                                                                                                                                                                                                                         "
   ]
  },
  {
   "cell_type": "markdown",
   "id": "7134a2a0",
   "metadata": {},
   "source": [
    "## Data Loading"
   ]
  },
  {
   "cell_type": "code",
   "execution_count": 3,
   "id": "5c7b5561",
   "metadata": {},
   "outputs": [],
   "source": [
    "import pandas as pd\n",
    "import numpy as np\n",
    "import matplotlib.pyplot as plt\n",
    "import seaborn as sns\n",
    "\n",
    "#ignores warnings\n",
    "import warnings\n",
    "warnings.filterwarnings(\"ignore\")"
   ]
  },
  {
   "cell_type": "code",
   "execution_count": 4,
   "id": "ca65534f",
   "metadata": {},
   "outputs": [],
   "source": [
    "#loading data\n",
    "df = pd.read_csv(\"Datasets\\clean_DataCoSupplyChainDataset.csv\")"
   ]
  },
  {
   "cell_type": "code",
   "execution_count": 5,
   "id": "459df01d",
   "metadata": {
    "scrolled": false
   },
   "outputs": [
    {
     "data": {
      "text/html": [
       "<div>\n",
       "<style scoped>\n",
       "    .dataframe tbody tr th:only-of-type {\n",
       "        vertical-align: middle;\n",
       "    }\n",
       "\n",
       "    .dataframe tbody tr th {\n",
       "        vertical-align: top;\n",
       "    }\n",
       "\n",
       "    .dataframe thead th {\n",
       "        text-align: right;\n",
       "    }\n",
       "</style>\n",
       "<table border=\"1\" class=\"dataframe\">\n",
       "  <thead>\n",
       "    <tr style=\"text-align: right;\">\n",
       "      <th></th>\n",
       "      <th>Type</th>\n",
       "      <th>Days for shipping (real)</th>\n",
       "      <th>Days for shipment (scheduled)</th>\n",
       "      <th>Benefit per order</th>\n",
       "      <th>Sales per customer</th>\n",
       "      <th>Delivery Status</th>\n",
       "      <th>Late_delivery_risk</th>\n",
       "      <th>Category Name</th>\n",
       "      <th>Customer City</th>\n",
       "      <th>Customer Country</th>\n",
       "      <th>...</th>\n",
       "      <th>Order Item Quantity</th>\n",
       "      <th>Sales</th>\n",
       "      <th>Order Item Total</th>\n",
       "      <th>Order Region</th>\n",
       "      <th>Order State</th>\n",
       "      <th>Order Status</th>\n",
       "      <th>Product Name</th>\n",
       "      <th>Product Price</th>\n",
       "      <th>shipping date (DateOrders)</th>\n",
       "      <th>Shipping Mode</th>\n",
       "    </tr>\n",
       "  </thead>\n",
       "  <tbody>\n",
       "    <tr>\n",
       "      <th>3328</th>\n",
       "      <td>DEBIT</td>\n",
       "      <td>5</td>\n",
       "      <td>2</td>\n",
       "      <td>12.930000</td>\n",
       "      <td>114.389999</td>\n",
       "      <td>Late delivery</td>\n",
       "      <td>1</td>\n",
       "      <td>Men's Footwear</td>\n",
       "      <td>Caguas</td>\n",
       "      <td>Puerto Rico</td>\n",
       "      <td>...</td>\n",
       "      <td>1</td>\n",
       "      <td>129.990005</td>\n",
       "      <td>114.389999</td>\n",
       "      <td>Caribbean</td>\n",
       "      <td>Santo Domingo</td>\n",
       "      <td>COMPLETE</td>\n",
       "      <td>Nike Men's CJ Elite 2 TD Football Cleat</td>\n",
       "      <td>129.990005</td>\n",
       "      <td>2017-05-27 00:52:00</td>\n",
       "      <td>Second Class</td>\n",
       "    </tr>\n",
       "    <tr>\n",
       "      <th>8535</th>\n",
       "      <td>DEBIT</td>\n",
       "      <td>6</td>\n",
       "      <td>4</td>\n",
       "      <td>10.580000</td>\n",
       "      <td>37.790001</td>\n",
       "      <td>Late delivery</td>\n",
       "      <td>1</td>\n",
       "      <td>Shop By Sport</td>\n",
       "      <td>Fort Worth</td>\n",
       "      <td>EE. UU.</td>\n",
       "      <td>...</td>\n",
       "      <td>1</td>\n",
       "      <td>39.990002</td>\n",
       "      <td>37.790001</td>\n",
       "      <td>East of USA</td>\n",
       "      <td>Ohio</td>\n",
       "      <td>COMPLETE</td>\n",
       "      <td>Under Armour Girls' Toddler Spine Surge Runni</td>\n",
       "      <td>39.990002</td>\n",
       "      <td>2016-05-16 05:05:00</td>\n",
       "      <td>Standard Class</td>\n",
       "    </tr>\n",
       "    <tr>\n",
       "      <th>65652</th>\n",
       "      <td>DEBIT</td>\n",
       "      <td>6</td>\n",
       "      <td>2</td>\n",
       "      <td>28.790001</td>\n",
       "      <td>76.779999</td>\n",
       "      <td>Late delivery</td>\n",
       "      <td>1</td>\n",
       "      <td>Shop By Sport</td>\n",
       "      <td>Campbell</td>\n",
       "      <td>EE. UU.</td>\n",
       "      <td>...</td>\n",
       "      <td>2</td>\n",
       "      <td>79.980003</td>\n",
       "      <td>76.779999</td>\n",
       "      <td>Central America</td>\n",
       "      <td>Distrito Federal</td>\n",
       "      <td>COMPLETE</td>\n",
       "      <td>Under Armour Girls' Toddler Spine Surge Runni</td>\n",
       "      <td>39.990002</td>\n",
       "      <td>2015-02-20 22:42:00</td>\n",
       "      <td>Second Class</td>\n",
       "    </tr>\n",
       "    <tr>\n",
       "      <th>103687</th>\n",
       "      <td>PAYMENT</td>\n",
       "      <td>2</td>\n",
       "      <td>4</td>\n",
       "      <td>16.400000</td>\n",
       "      <td>163.990005</td>\n",
       "      <td>Advance shipping</td>\n",
       "      <td>0</td>\n",
       "      <td>Water Sports</td>\n",
       "      <td>Broken Arrow</td>\n",
       "      <td>EE. UU.</td>\n",
       "      <td>...</td>\n",
       "      <td>1</td>\n",
       "      <td>199.990005</td>\n",
       "      <td>163.990005</td>\n",
       "      <td>Northern Europe</td>\n",
       "      <td>Inglaterra</td>\n",
       "      <td>PENDING_PAYMENT</td>\n",
       "      <td>Pelican Sunstream 100 Kayak</td>\n",
       "      <td>199.990005</td>\n",
       "      <td>2015-08-27 11:34:00</td>\n",
       "      <td>Standard Class</td>\n",
       "    </tr>\n",
       "    <tr>\n",
       "      <th>129172</th>\n",
       "      <td>DEBIT</td>\n",
       "      <td>6</td>\n",
       "      <td>4</td>\n",
       "      <td>68.709999</td>\n",
       "      <td>149.380005</td>\n",
       "      <td>Late delivery</td>\n",
       "      <td>1</td>\n",
       "      <td>Cleats</td>\n",
       "      <td>Phoenix</td>\n",
       "      <td>EE. UU.</td>\n",
       "      <td>...</td>\n",
       "      <td>3</td>\n",
       "      <td>179.970001</td>\n",
       "      <td>149.380005</td>\n",
       "      <td>Oceania</td>\n",
       "      <td>Nueva Gales del Sur</td>\n",
       "      <td>COMPLETE</td>\n",
       "      <td>Perfect Fitness Perfect Rip Deck</td>\n",
       "      <td>59.990002</td>\n",
       "      <td>2016-03-12 21:49:00</td>\n",
       "      <td>Standard Class</td>\n",
       "    </tr>\n",
       "  </tbody>\n",
       "</table>\n",
       "<p>5 rows × 37 columns</p>\n",
       "</div>"
      ],
      "text/plain": [
       "           Type  Days for shipping (real)  Days for shipment (scheduled)  \\\n",
       "3328      DEBIT                         5                              2   \n",
       "8535      DEBIT                         6                              4   \n",
       "65652     DEBIT                         6                              2   \n",
       "103687  PAYMENT                         2                              4   \n",
       "129172    DEBIT                         6                              4   \n",
       "\n",
       "        Benefit per order  Sales per customer   Delivery Status  \\\n",
       "3328            12.930000          114.389999     Late delivery   \n",
       "8535            10.580000           37.790001     Late delivery   \n",
       "65652           28.790001           76.779999     Late delivery   \n",
       "103687          16.400000          163.990005  Advance shipping   \n",
       "129172          68.709999          149.380005     Late delivery   \n",
       "\n",
       "        Late_delivery_risk   Category Name Customer City Customer Country  \\\n",
       "3328                     1  Men's Footwear        Caguas      Puerto Rico   \n",
       "8535                     1   Shop By Sport    Fort Worth          EE. UU.   \n",
       "65652                    1   Shop By Sport      Campbell          EE. UU.   \n",
       "103687                   0    Water Sports  Broken Arrow          EE. UU.   \n",
       "129172                   1          Cleats       Phoenix          EE. UU.   \n",
       "\n",
       "        ...  Order Item Quantity       Sales Order Item Total  \\\n",
       "3328    ...                    1  129.990005       114.389999   \n",
       "8535    ...                    1   39.990002        37.790001   \n",
       "65652   ...                    2   79.980003        76.779999   \n",
       "103687  ...                    1  199.990005       163.990005   \n",
       "129172  ...                    3  179.970001       149.380005   \n",
       "\n",
       "           Order Region          Order State     Order Status  \\\n",
       "3328          Caribbean        Santo Domingo         COMPLETE   \n",
       "8535        East of USA                 Ohio         COMPLETE   \n",
       "65652   Central America     Distrito Federal         COMPLETE   \n",
       "103687  Northern Europe           Inglaterra  PENDING_PAYMENT   \n",
       "129172          Oceania  Nueva Gales del Sur         COMPLETE   \n",
       "\n",
       "                                         Product Name  Product Price  \\\n",
       "3328          Nike Men's CJ Elite 2 TD Football Cleat     129.990005   \n",
       "8535    Under Armour Girls' Toddler Spine Surge Runni      39.990002   \n",
       "65652   Under Armour Girls' Toddler Spine Surge Runni      39.990002   \n",
       "103687                    Pelican Sunstream 100 Kayak     199.990005   \n",
       "129172               Perfect Fitness Perfect Rip Deck      59.990002   \n",
       "\n",
       "       shipping date (DateOrders)   Shipping Mode  \n",
       "3328          2017-05-27 00:52:00    Second Class  \n",
       "8535          2016-05-16 05:05:00  Standard Class  \n",
       "65652         2015-02-20 22:42:00    Second Class  \n",
       "103687        2015-08-27 11:34:00  Standard Class  \n",
       "129172        2016-03-12 21:49:00  Standard Class  \n",
       "\n",
       "[5 rows x 37 columns]"
      ]
     },
     "execution_count": 5,
     "metadata": {},
     "output_type": "execute_result"
    }
   ],
   "source": [
    "#view data\n",
    "df.sample(5)"
   ]
  },
  {
   "cell_type": "code",
   "execution_count": 6,
   "id": "9a3779ca",
   "metadata": {},
   "outputs": [
    {
     "data": {
      "text/plain": [
       "(180516, 37)"
      ]
     },
     "execution_count": 6,
     "metadata": {},
     "output_type": "execute_result"
    }
   ],
   "source": [
    "df.shape"
   ]
  },
  {
   "cell_type": "markdown",
   "id": "7b7fd729",
   "metadata": {},
   "source": [
    "After cleaning, our dataset has **180,516 observations (rows)** and **37 features (columns)**"
   ]
  },
  {
   "cell_type": "markdown",
   "id": "ec58beee",
   "metadata": {},
   "source": [
    "## Data Wrangling"
   ]
  },
  {
   "cell_type": "code",
   "execution_count": 7,
   "id": "fbc6302f",
   "metadata": {},
   "outputs": [
    {
     "name": "stdout",
     "output_type": "stream",
     "text": [
      "<class 'pandas.core.frame.DataFrame'>\n",
      "RangeIndex: 180516 entries, 0 to 180515\n",
      "Data columns (total 37 columns):\n",
      " #   Column                         Non-Null Count   Dtype  \n",
      "---  ------                         --------------   -----  \n",
      " 0   Type                           180516 non-null  object \n",
      " 1   Days for shipping (real)       180516 non-null  int64  \n",
      " 2   Days for shipment (scheduled)  180516 non-null  int64  \n",
      " 3   Benefit per order              180516 non-null  float64\n",
      " 4   Sales per customer             180516 non-null  float64\n",
      " 5   Delivery Status                180516 non-null  object \n",
      " 6   Late_delivery_risk             180516 non-null  int64  \n",
      " 7   Category Name                  180516 non-null  object \n",
      " 8   Customer City                  180516 non-null  object \n",
      " 9   Customer Country               180516 non-null  object \n",
      " 10  Customer Id                    180516 non-null  int64  \n",
      " 11  Customer Segment               180516 non-null  object \n",
      " 12  Customer State                 180516 non-null  object \n",
      " 13  Customer Street                180516 non-null  object \n",
      " 14  Customer Zipcode               180516 non-null  float64\n",
      " 15  Department Name                180516 non-null  object \n",
      " 16  Latitude                       180516 non-null  float64\n",
      " 17  Longitude                      180516 non-null  float64\n",
      " 18  Market                         180516 non-null  object \n",
      " 19  Order City                     180516 non-null  object \n",
      " 20  Order Country                  180516 non-null  object \n",
      " 21  order date (DateOrders)        180516 non-null  object \n",
      " 22  Order Id                       180516 non-null  int64  \n",
      " 23  Order Item Discount            180516 non-null  float64\n",
      " 24  Order Item Discount Rate       180516 non-null  float64\n",
      " 25  Order Item Id                  180516 non-null  int64  \n",
      " 26  Order Item Profit Ratio        180516 non-null  float64\n",
      " 27  Order Item Quantity            180516 non-null  int64  \n",
      " 28  Sales                          180516 non-null  float64\n",
      " 29  Order Item Total               180516 non-null  float64\n",
      " 30  Order Region                   180516 non-null  object \n",
      " 31  Order State                    180516 non-null  object \n",
      " 32  Order Status                   180516 non-null  object \n",
      " 33  Product Name                   180516 non-null  object \n",
      " 34  Product Price                  180516 non-null  float64\n",
      " 35  shipping date (DateOrders)     180516 non-null  object \n",
      " 36  Shipping Mode                  180516 non-null  object \n",
      "dtypes: float64(11), int64(7), object(19)\n",
      "memory usage: 51.0+ MB\n"
     ]
    }
   ],
   "source": [
    "df.info()"
   ]
  },
  {
   "cell_type": "markdown",
   "id": "b4c68ac0",
   "metadata": {},
   "source": [
    "The data type of that was casted in the data preparation process is not reflected here. I am going to cast them again before processing the data just like I did in the data preparation process. Here are the wrangling steps:\n",
    "\n",
    "1. `shipping date (DateOrders)` : object -> datetime\n",
    "    \n",
    "2. `order date (DateOrders)` : object -> datetime\n",
    "    \n",
    "3. `Customer Id` : int -> object\n",
    "    \n",
    "4. `Customer Zipcode` : int -> object\n",
    "    \n",
    "5. `Order Id` : int -> object\n",
    "    \n",
    "6. `Order Item Id` : int -> object"
   ]
  },
  {
   "cell_type": "code",
   "execution_count": 8,
   "id": "78e503cc",
   "metadata": {},
   "outputs": [],
   "source": [
    "#convert shipping date (DateOrders) to datetime data type\n",
    "df[\"shipping date (DateOrders)\"] = pd.to_datetime(df[\"shipping date (DateOrders)\"])\n",
    "#convert order date (DateOrders) to datetime data type\n",
    "df[\"order date (DateOrders)\"] = pd.to_datetime(df[\"order date (DateOrders)\"])\n",
    "#convert all ID columns and Zipcodes to object data type\n",
    "ID_columns = [\"Customer Id\", \"Order Id\", \"Order Item Id\", \"Customer Zipcode\"]\n",
    "df[ID_columns] = df[ID_columns].astype(\"object\")"
   ]
  },
  {
   "cell_type": "code",
   "execution_count": 9,
   "id": "31e6464f",
   "metadata": {},
   "outputs": [
    {
     "name": "stdout",
     "output_type": "stream",
     "text": [
      "<class 'pandas.core.frame.DataFrame'>\n",
      "RangeIndex: 180516 entries, 0 to 180515\n",
      "Data columns (total 37 columns):\n",
      " #   Column                         Non-Null Count   Dtype         \n",
      "---  ------                         --------------   -----         \n",
      " 0   Type                           180516 non-null  object        \n",
      " 1   Days for shipping (real)       180516 non-null  int64         \n",
      " 2   Days for shipment (scheduled)  180516 non-null  int64         \n",
      " 3   Benefit per order              180516 non-null  float64       \n",
      " 4   Sales per customer             180516 non-null  float64       \n",
      " 5   Delivery Status                180516 non-null  object        \n",
      " 6   Late_delivery_risk             180516 non-null  int64         \n",
      " 7   Category Name                  180516 non-null  object        \n",
      " 8   Customer City                  180516 non-null  object        \n",
      " 9   Customer Country               180516 non-null  object        \n",
      " 10  Customer Id                    180516 non-null  object        \n",
      " 11  Customer Segment               180516 non-null  object        \n",
      " 12  Customer State                 180516 non-null  object        \n",
      " 13  Customer Street                180516 non-null  object        \n",
      " 14  Customer Zipcode               180516 non-null  object        \n",
      " 15  Department Name                180516 non-null  object        \n",
      " 16  Latitude                       180516 non-null  float64       \n",
      " 17  Longitude                      180516 non-null  float64       \n",
      " 18  Market                         180516 non-null  object        \n",
      " 19  Order City                     180516 non-null  object        \n",
      " 20  Order Country                  180516 non-null  object        \n",
      " 21  order date (DateOrders)        180516 non-null  datetime64[ns]\n",
      " 22  Order Id                       180516 non-null  object        \n",
      " 23  Order Item Discount            180516 non-null  float64       \n",
      " 24  Order Item Discount Rate       180516 non-null  float64       \n",
      " 25  Order Item Id                  180516 non-null  object        \n",
      " 26  Order Item Profit Ratio        180516 non-null  float64       \n",
      " 27  Order Item Quantity            180516 non-null  int64         \n",
      " 28  Sales                          180516 non-null  float64       \n",
      " 29  Order Item Total               180516 non-null  float64       \n",
      " 30  Order Region                   180516 non-null  object        \n",
      " 31  Order State                    180516 non-null  object        \n",
      " 32  Order Status                   180516 non-null  object        \n",
      " 33  Product Name                   180516 non-null  object        \n",
      " 34  Product Price                  180516 non-null  float64       \n",
      " 35  shipping date (DateOrders)     180516 non-null  datetime64[ns]\n",
      " 36  Shipping Mode                  180516 non-null  object        \n",
      "dtypes: datetime64[ns](2), float64(10), int64(4), object(21)\n",
      "memory usage: 51.0+ MB\n"
     ]
    }
   ],
   "source": [
    "#sanity check: now all ID columns and Zipcodes are object dtype, and date columns are datetime dtype.\n",
    "df.info()"
   ]
  },
  {
   "cell_type": "markdown",
   "id": "d128321c",
   "metadata": {},
   "source": [
    "## Understanding the Dataset"
   ]
  },
  {
   "cell_type": "markdown",
   "id": "ee9849bf",
   "metadata": {},
   "source": [
    "Before the actual processing of the dataset, let's fully understand our dataset. The dataset entails information of order items that are delivered from the \"customer\" (the entity who made purchase of the delivery - origin of shipment) to the \"order customer\" (the entity who made the order - destination of shipment). Now let's dive deeper by first understanding what one row of observation represent, then understanding each of the features in our dataset, and understand, if any, how the features are related to each other."
   ]
  },
  {
   "cell_type": "markdown",
   "id": "ebebcfb0",
   "metadata": {},
   "source": [
    "##### What does each row of observation represent?"
   ]
  },
  {
   "cell_type": "markdown",
   "id": "6b9a0779",
   "metadata": {},
   "source": [
    "To answer this question, let's look at all our features and count the unique values of each: "
   ]
  },
  {
   "cell_type": "code",
   "execution_count": 10,
   "id": "4dbac1dd",
   "metadata": {},
   "outputs": [
    {
     "data": {
      "text/plain": [
       "Order Item Id                    180516\n",
       "order date (DateOrders)           65749\n",
       "Order Id                          65749\n",
       "shipping date (DateOrders)        63699\n",
       "Benefit per order                 21998\n",
       "Customer Id                       20649\n",
       "Latitude                          11248\n",
       "Customer Street                    7456\n",
       "Longitude                          4485\n",
       "Order City                         3597\n",
       "Order Item Total                   2927\n",
       "Sales per customer                 2927\n",
       "Order State                        1089\n",
       "Order Item Discount                1017\n",
       "Customer Zipcode                    995\n",
       "Customer City                       562\n",
       "Sales                               193\n",
       "Order Country                       164\n",
       "Order Item Profit Ratio             162\n",
       "Product Name                        118\n",
       "Product Price                        75\n",
       "Category Name                        50\n",
       "Customer State                       44\n",
       "Order Region                         23\n",
       "Order Item Discount Rate             18\n",
       "Department Name                      11\n",
       "Order Status                          9\n",
       "Days for shipping (real)              7\n",
       "Order Item Quantity                   5\n",
       "Market                                5\n",
       "Type                                  4\n",
       "Delivery Status                       4\n",
       "Days for shipment (scheduled)         4\n",
       "Shipping Mode                         4\n",
       "Customer Segment                      3\n",
       "Customer Country                      2\n",
       "Late_delivery_risk                    2\n",
       "dtype: int64"
      ]
     },
     "execution_count": 10,
     "metadata": {},
     "output_type": "execute_result"
    }
   ],
   "source": [
    "df.nunique().sort_values(ascending=False)"
   ]
  },
  {
   "cell_type": "markdown",
   "id": "e495b1ec",
   "metadata": {},
   "source": [
    "From here, I notice that `Order Item Id` has the same number of unique values as the number of rows the dataset has: **180,516**"
   ]
  },
  {
   "cell_type": "code",
   "execution_count": 11,
   "id": "8da78e03",
   "metadata": {},
   "outputs": [
    {
     "data": {
      "text/plain": [
       "(180516, 37)"
      ]
     },
     "execution_count": 11,
     "metadata": {},
     "output_type": "execute_result"
    }
   ],
   "source": [
    "df.shape"
   ]
  },
  {
   "cell_type": "markdown",
   "id": "b838b21d",
   "metadata": {},
   "source": [
    "This means that the `Order Item Id` can be the index of the dataset, and one row represents one `Order Item Id`. I am going to set the index to that column."
   ]
  },
  {
   "cell_type": "code",
   "execution_count": 12,
   "id": "e2162b03",
   "metadata": {},
   "outputs": [],
   "source": [
    "#setting the index of the dataset to order item id\n",
    "df = df.set_index(\"Order Item Id\")"
   ]
  },
  {
   "cell_type": "code",
   "execution_count": 13,
   "id": "70f50eb6",
   "metadata": {},
   "outputs": [
    {
     "data": {
      "text/html": [
       "<div>\n",
       "<style scoped>\n",
       "    .dataframe tbody tr th:only-of-type {\n",
       "        vertical-align: middle;\n",
       "    }\n",
       "\n",
       "    .dataframe tbody tr th {\n",
       "        vertical-align: top;\n",
       "    }\n",
       "\n",
       "    .dataframe thead th {\n",
       "        text-align: right;\n",
       "    }\n",
       "</style>\n",
       "<table border=\"1\" class=\"dataframe\">\n",
       "  <thead>\n",
       "    <tr style=\"text-align: right;\">\n",
       "      <th></th>\n",
       "      <th>Type</th>\n",
       "      <th>Days for shipping (real)</th>\n",
       "      <th>Days for shipment (scheduled)</th>\n",
       "      <th>Benefit per order</th>\n",
       "      <th>Sales per customer</th>\n",
       "      <th>Delivery Status</th>\n",
       "      <th>Late_delivery_risk</th>\n",
       "      <th>Category Name</th>\n",
       "      <th>Customer City</th>\n",
       "      <th>Customer Country</th>\n",
       "      <th>...</th>\n",
       "      <th>Order Item Quantity</th>\n",
       "      <th>Sales</th>\n",
       "      <th>Order Item Total</th>\n",
       "      <th>Order Region</th>\n",
       "      <th>Order State</th>\n",
       "      <th>Order Status</th>\n",
       "      <th>Product Name</th>\n",
       "      <th>Product Price</th>\n",
       "      <th>shipping date (DateOrders)</th>\n",
       "      <th>Shipping Mode</th>\n",
       "    </tr>\n",
       "    <tr>\n",
       "      <th>Order Item Id</th>\n",
       "      <th></th>\n",
       "      <th></th>\n",
       "      <th></th>\n",
       "      <th></th>\n",
       "      <th></th>\n",
       "      <th></th>\n",
       "      <th></th>\n",
       "      <th></th>\n",
       "      <th></th>\n",
       "      <th></th>\n",
       "      <th></th>\n",
       "      <th></th>\n",
       "      <th></th>\n",
       "      <th></th>\n",
       "      <th></th>\n",
       "      <th></th>\n",
       "      <th></th>\n",
       "      <th></th>\n",
       "      <th></th>\n",
       "      <th></th>\n",
       "      <th></th>\n",
       "    </tr>\n",
       "  </thead>\n",
       "  <tbody>\n",
       "    <tr>\n",
       "      <th>180517</th>\n",
       "      <td>DEBIT</td>\n",
       "      <td>3</td>\n",
       "      <td>4</td>\n",
       "      <td>91.250000</td>\n",
       "      <td>314.640015</td>\n",
       "      <td>Advance shipping</td>\n",
       "      <td>0</td>\n",
       "      <td>Sporting Goods</td>\n",
       "      <td>Caguas</td>\n",
       "      <td>Puerto Rico</td>\n",
       "      <td>...</td>\n",
       "      <td>1</td>\n",
       "      <td>327.75</td>\n",
       "      <td>314.640015</td>\n",
       "      <td>Southeast Asia</td>\n",
       "      <td>Java Occidental</td>\n",
       "      <td>COMPLETE</td>\n",
       "      <td>Smart watch</td>\n",
       "      <td>327.75</td>\n",
       "      <td>2018-02-03 22:56:00</td>\n",
       "      <td>Standard Class</td>\n",
       "    </tr>\n",
       "    <tr>\n",
       "      <th>179254</th>\n",
       "      <td>TRANSFER</td>\n",
       "      <td>5</td>\n",
       "      <td>4</td>\n",
       "      <td>-249.089996</td>\n",
       "      <td>311.359985</td>\n",
       "      <td>Late delivery</td>\n",
       "      <td>1</td>\n",
       "      <td>Sporting Goods</td>\n",
       "      <td>Caguas</td>\n",
       "      <td>Puerto Rico</td>\n",
       "      <td>...</td>\n",
       "      <td>1</td>\n",
       "      <td>327.75</td>\n",
       "      <td>311.359985</td>\n",
       "      <td>South Asia</td>\n",
       "      <td>Rajastán</td>\n",
       "      <td>PENDING</td>\n",
       "      <td>Smart watch</td>\n",
       "      <td>327.75</td>\n",
       "      <td>2018-01-18 12:27:00</td>\n",
       "      <td>Standard Class</td>\n",
       "    </tr>\n",
       "    <tr>\n",
       "      <th>179253</th>\n",
       "      <td>CASH</td>\n",
       "      <td>4</td>\n",
       "      <td>4</td>\n",
       "      <td>-247.779999</td>\n",
       "      <td>309.720001</td>\n",
       "      <td>Shipping on time</td>\n",
       "      <td>0</td>\n",
       "      <td>Sporting Goods</td>\n",
       "      <td>San Jose</td>\n",
       "      <td>EE. UU.</td>\n",
       "      <td>...</td>\n",
       "      <td>1</td>\n",
       "      <td>327.75</td>\n",
       "      <td>309.720001</td>\n",
       "      <td>South Asia</td>\n",
       "      <td>Rajastán</td>\n",
       "      <td>CLOSED</td>\n",
       "      <td>Smart watch</td>\n",
       "      <td>327.75</td>\n",
       "      <td>2018-01-17 12:06:00</td>\n",
       "      <td>Standard Class</td>\n",
       "    </tr>\n",
       "  </tbody>\n",
       "</table>\n",
       "<p>3 rows × 36 columns</p>\n",
       "</div>"
      ],
      "text/plain": [
       "                   Type  Days for shipping (real)  \\\n",
       "Order Item Id                                       \n",
       "180517            DEBIT                         3   \n",
       "179254         TRANSFER                         5   \n",
       "179253             CASH                         4   \n",
       "\n",
       "               Days for shipment (scheduled)  Benefit per order  \\\n",
       "Order Item Id                                                     \n",
       "180517                                     4          91.250000   \n",
       "179254                                     4        -249.089996   \n",
       "179253                                     4        -247.779999   \n",
       "\n",
       "               Sales per customer   Delivery Status  Late_delivery_risk  \\\n",
       "Order Item Id                                                             \n",
       "180517                 314.640015  Advance shipping                   0   \n",
       "179254                 311.359985     Late delivery                   1   \n",
       "179253                 309.720001  Shipping on time                   0   \n",
       "\n",
       "                Category Name Customer City Customer Country  ...  \\\n",
       "Order Item Id                                                 ...   \n",
       "180517         Sporting Goods        Caguas      Puerto Rico  ...   \n",
       "179254         Sporting Goods        Caguas      Puerto Rico  ...   \n",
       "179253         Sporting Goods      San Jose          EE. UU.  ...   \n",
       "\n",
       "              Order Item Quantity   Sales Order Item Total    Order Region  \\\n",
       "Order Item Id                                                                \n",
       "180517                          1  327.75       314.640015  Southeast Asia   \n",
       "179254                          1  327.75       311.359985      South Asia   \n",
       "179253                          1  327.75       309.720001      South Asia   \n",
       "\n",
       "                   Order State Order Status  Product Name  Product Price  \\\n",
       "Order Item Id                                                              \n",
       "180517         Java Occidental     COMPLETE  Smart watch          327.75   \n",
       "179254                Rajastán      PENDING  Smart watch          327.75   \n",
       "179253                Rajastán       CLOSED  Smart watch          327.75   \n",
       "\n",
       "              shipping date (DateOrders)   Shipping Mode  \n",
       "Order Item Id                                             \n",
       "180517               2018-02-03 22:56:00  Standard Class  \n",
       "179254               2018-01-18 12:27:00  Standard Class  \n",
       "179253               2018-01-17 12:06:00  Standard Class  \n",
       "\n",
       "[3 rows x 36 columns]"
      ]
     },
     "execution_count": 13,
     "metadata": {},
     "output_type": "execute_result"
    }
   ],
   "source": [
    "#sanity check: now the index is the order item id\n",
    "df.head(3)"
   ]
  },
  {
   "cell_type": "markdown",
   "id": "66c217cd",
   "metadata": {},
   "source": [
    "We haven't answered the question of what each row mean yet. In a glance, one might think that each row may represent one order. That cannot be true because there is a seperate Id for the orders, `Order Id`, and the number of unique values of that column does not match the number of observations of the dataset. To answer the question, we have to know what `Order Item Id` exactly means. According to the data dictionary, it just means the \"code of the order item\". *An \"order item\" is an individual unique item within an order placed*. This means that one order can contain multiple order items. With that, we now know that **one row of observation in our dataset represents one unique item of an order**."
   ]
  },
  {
   "cell_type": "markdown",
   "id": "6a1ae89b",
   "metadata": {},
   "source": [
    "##### What do the Features Mean and How are They Related?"
   ]
  },
  {
   "cell_type": "markdown",
   "id": "2e13be20",
   "metadata": {},
   "source": [
    "Some of the features are very straightforward where the feature name and description from the data dictionary is very descriptive of the feature itself. We are not interested in those. Let's instead identify which features needs further elaboration of what it actually means."
   ]
  },
  {
   "cell_type": "markdown",
   "id": "6c3c328c",
   "metadata": {},
   "source": [
    "These are the features and its dictionary meaning that I want to explore more on due to its ambiguity:\n",
    "\n",
    "- `Days for shipping (real)` - Actual shipping days of the purchased product\n",
    "- `Days for shipment (scheduled)` - Days of scheduled delivery of the purchased product\n",
    "- `Delivery Status` - Delivery status of orders: Advance shipping , Late delivery , Shipping canceled , Shipping on time\n",
    "- `Late_delivery_risk` - Categorical variable that indicates if sending is late (1), it is not late (0).\n",
    "- `Order Item Total` - Total amount per order \n",
    "- `Sales per customer` - Total sales per customer made per customer                                        \n",
    "- `Sales` - Value in sales     "
   ]
  },
  {
   "cell_type": "markdown",
   "id": "8f519faf",
   "metadata": {},
   "source": [
    "#### Days for shipping (real) vs. Days for shipment (scheduled) -> Delivery Status"
   ]
  },
  {
   "cell_type": "markdown",
   "id": "e80ea70b",
   "metadata": {},
   "source": [
    "From my understanding of the dictionary definition, `Days for shipping (real)` is the actual number of days the order shipment took to arrive to the destination. On the other hand `Days for shipment (scheduled)` is the scheduled number of days the order shipment will take to arrive to the destination. If my understanding is correct, then if **real days > scheduled days, then delivery is late** because the delivery cannot be on time or arrive earlier than scheduled. Let's test that hypothesis by looking whether that condition would always give a **\"Late delivery\"** in the `Delivery Status` variable."
   ]
  },
  {
   "cell_type": "code",
   "execution_count": 14,
   "id": "db9e5c3c",
   "metadata": {},
   "outputs": [
    {
     "data": {
      "text/plain": [
       "array(['Late delivery', 'Shipping canceled'], dtype=object)"
      ]
     },
     "execution_count": 14,
     "metadata": {},
     "output_type": "execute_result"
    }
   ],
   "source": [
    "#returns unique variables of Delivery Status where real>scheduled\n",
    "df[((df[\"Days for shipping (real)\"] - df[\"Days for shipment (scheduled)\"]) > 0)][\"Delivery Status\"].unique() "
   ]
  },
  {
   "cell_type": "markdown",
   "id": "a4b9e6f5",
   "metadata": {},
   "source": [
    "My hypothesis is correct! **When real days > scheduled days, the delivery is late**. However, it **can also be canceled**. Therefore, it is true that the meaning of `Days for shipping (real)` is the actual number of days the order shipment took to arrive to the destination and `Days for shipment (scheduled)` is the scheduled number of days the order shipment will take to arrive to the destination."
   ]
  },
  {
   "cell_type": "markdown",
   "id": "bbf3357c",
   "metadata": {},
   "source": [
    "#### Delivery Status: What is \"Advance shipping\" and \"Shipping on time\"?"
   ]
  },
  {
   "cell_type": "markdown",
   "id": "f2dc4320",
   "metadata": {},
   "source": [
    "We now know that late delivery or canceled shipping occurs when the actual number of days for shipping exceeds the number of sheduled days for the shipment. Now, what does the other two `Delivery Status` mean? Let's attempt using `Days for shipping (real)` and `Days for shipment (scheduled)` again to understand what **\"Advance shipping\"** and **\"Shipping on time\"** actually mean."
   ]
  },
  {
   "cell_type": "code",
   "execution_count": 15,
   "id": "a1fc6216",
   "metadata": {},
   "outputs": [],
   "source": [
    "#make a copy of original df\n",
    "df_temp = df.copy()\n",
    "#makes a column for real - shipment in temporary dataframe\n",
    "df_temp[\"Real-Scheduled\"] = df[\"Days for shipping (real)\"] - df[\"Days for shipment (scheduled)\"]"
   ]
  },
  {
   "cell_type": "code",
   "execution_count": 16,
   "id": "a9907124",
   "metadata": {},
   "outputs": [
    {
     "data": {
      "text/plain": [
       "Order Item Id\n",
       "40509    -2\n",
       "155434   -1\n",
       "23391    -2\n",
       "135495   -1\n",
       "170019   -2\n",
       "146203   -2\n",
       "111931   -1\n",
       "158952   -2\n",
       "81324    -1\n",
       "37163    -2\n",
       "33947    -2\n",
       "160476   -1\n",
       "76581    -1\n",
       "8711     -1\n",
       "163607   -2\n",
       "Name: Real-Scheduled, dtype: int64"
      ]
     },
     "execution_count": 16,
     "metadata": {},
     "output_type": "execute_result"
    }
   ],
   "source": [
    "#shows real-scheduled of only advance shipping \n",
    "df_temp[df_temp[\"Delivery Status\"] == \"Advance shipping\"][\"Real-Scheduled\"].sample(15)"
   ]
  },
  {
   "cell_type": "markdown",
   "id": "5240120a",
   "metadata": {},
   "source": [
    "From here, we can see that **Advance shipping** occurs when real days is less than scheduled days (the negative values shows real < scheduled) meaning the the order is delivered at least a day early. Let's verify this by looking whether this is always true."
   ]
  },
  {
   "cell_type": "code",
   "execution_count": 17,
   "id": "c360e68a",
   "metadata": {},
   "outputs": [
    {
     "data": {
      "text/plain": [
       "array(['Advance shipping', 'Shipping canceled'], dtype=object)"
      ]
     },
     "execution_count": 17,
     "metadata": {},
     "output_type": "execute_result"
    }
   ],
   "source": [
    "#returns unique variables of Delivery Status where real<scheduled\n",
    "df[((df[\"Days for shipping (real)\"] - df[\"Days for shipment (scheduled)\"]) < 0)][\"Delivery Status\"].unique() "
   ]
  },
  {
   "cell_type": "markdown",
   "id": "3867ff17",
   "metadata": {},
   "source": [
    "We found that **Advance shipping** only occurs when real days is less than scheduled days. We also made a surprising finding that when real days is less than scheduled days, **shipping can also be canceled**."
   ]
  },
  {
   "cell_type": "code",
   "execution_count": 18,
   "id": "edc3596e",
   "metadata": {},
   "outputs": [
    {
     "data": {
      "text/plain": [
       "Order Item Id\n",
       "59164     0\n",
       "118992    0\n",
       "112686    0\n",
       "127562    0\n",
       "137369    0\n",
       "68887     0\n",
       "14923     0\n",
       "103829    0\n",
       "147662    0\n",
       "164458    0\n",
       "70587     0\n",
       "145370    0\n",
       "170268    0\n",
       "58397     0\n",
       "77776     0\n",
       "Name: Real-Scheduled, dtype: int64"
      ]
     },
     "execution_count": 18,
     "metadata": {},
     "output_type": "execute_result"
    }
   ],
   "source": [
    "#shows real-scheduled of only shipping on time \n",
    "df_temp[df_temp[\"Delivery Status\"] == \"Shipping on time\"][\"Real-Scheduled\"].sample(15)"
   ]
  },
  {
   "cell_type": "markdown",
   "id": "eaae2c9e",
   "metadata": {},
   "source": [
    "From here, we can see that **Shipping on time** occurs when real days is equls to scheduled days (the 0 values shows real = scheduled) meaning the the order is delivered at on the day it was scheduled to. Let's verify this by looking whether this is always true."
   ]
  },
  {
   "cell_type": "code",
   "execution_count": 19,
   "id": "955553ed",
   "metadata": {},
   "outputs": [
    {
     "data": {
      "text/plain": [
       "array(['Shipping on time', 'Shipping canceled'], dtype=object)"
      ]
     },
     "execution_count": 19,
     "metadata": {},
     "output_type": "execute_result"
    }
   ],
   "source": [
    "#returns unique variables of Delivery Status where real=scheduled\n",
    "df[((df[\"Days for shipping (real)\"] - df[\"Days for shipment (scheduled)\"]) == 0)][\"Delivery Status\"].unique() "
   ]
  },
  {
   "cell_type": "markdown",
   "id": "765502d5",
   "metadata": {},
   "source": [
    "We found that **Shipping on time** only occurs when real days is equals to the scheduled days. We also made a surprising finding that **shipping can also be canceled** when real days is equals to the scheduled days."
   ]
  },
  {
   "cell_type": "markdown",
   "id": "84eed574",
   "metadata": {},
   "source": [
    "On this note, it would not be possible to use **Days for shipping (real)**  as a feature variable, since it is only known after the delivery is completed. Hence, **`Days for shipping (real)` should be dropped.**"
   ]
  },
  {
   "cell_type": "code",
   "execution_count": 20,
   "id": "1a939fe9",
   "metadata": {},
   "outputs": [],
   "source": [
    "df.drop(\"Days for shipping (real)\", inplace=True, axis=1)"
   ]
  },
  {
   "cell_type": "markdown",
   "id": "929ee39f",
   "metadata": {},
   "source": [
    "#### Is Late_delivery_risk Related to Delivery Status?"
   ]
  },
  {
   "cell_type": "markdown",
   "id": "16c66289",
   "metadata": {},
   "source": [
    "From the EDA document, we saw that `Late_delivery_risk` is always 1 when `Delivery Status` is \"Late delivery\" and 0 otherwise. Let's verify that."
   ]
  },
  {
   "cell_type": "code",
   "execution_count": 21,
   "id": "f37eaa45",
   "metadata": {},
   "outputs": [
    {
     "data": {
      "text/plain": [
       "array(['Late delivery'], dtype=object)"
      ]
     },
     "execution_count": 21,
     "metadata": {},
     "output_type": "execute_result"
    }
   ],
   "source": [
    "#returns unique variables of Delivery Status where late delivery risk is 1\n",
    "df[(df[\"Late_delivery_risk\"] == 1)][\"Delivery Status\"].unique() "
   ]
  },
  {
   "cell_type": "markdown",
   "id": "3dd37512",
   "metadata": {},
   "source": [
    "`Late_delivery_risk is`, in fact, always 1 when `Delivery Status` is \"Late delivery\""
   ]
  },
  {
   "cell_type": "code",
   "execution_count": 22,
   "id": "181f93eb",
   "metadata": {},
   "outputs": [
    {
     "data": {
      "text/plain": [
       "array(['Advance shipping', 'Shipping on time', 'Shipping canceled'],\n",
       "      dtype=object)"
      ]
     },
     "execution_count": 22,
     "metadata": {},
     "output_type": "execute_result"
    }
   ],
   "source": [
    "#returns unique variables of Delivery Status where late delivery risk is 0\n",
    "df[(df[\"Late_delivery_risk\"] == 0)][\"Delivery Status\"].unique() "
   ]
  },
  {
   "cell_type": "markdown",
   "id": "3cb342f0",
   "metadata": {},
   "source": [
    "`Late_delivery_risk` is, in fact, always 0 when Delivery Status is **not** \"Late delivery\""
   ]
  },
  {
   "cell_type": "markdown",
   "id": "6d4859c6",
   "metadata": {},
   "source": [
    "Because the feature directly derives from our target, **this column should be dropped!** It is not a predictor of the target variable at all if it is a derivated of the target."
   ]
  },
  {
   "cell_type": "code",
   "execution_count": 23,
   "id": "f4c83f09",
   "metadata": {},
   "outputs": [],
   "source": [
    "#dropping Late_delivery_risk column\n",
    "df.drop(\"Late_delivery_risk\", inplace=True, axis=1)"
   ]
  },
  {
   "cell_type": "markdown",
   "id": "44d0afcb",
   "metadata": {},
   "source": [
    "#### Order Item Total"
   ]
  },
  {
   "cell_type": "markdown",
   "id": "3079d442",
   "metadata": {},
   "source": [
    "The dictionary definition of this feature is \"Total amount per order\". This does not really explain a lot. Let's see how it relates to other features that also has \"Order Item\" in its feature name as well as other money-related columns."
   ]
  },
  {
   "cell_type": "code",
   "execution_count": 24,
   "id": "e02b1033",
   "metadata": {},
   "outputs": [
    {
     "data": {
      "text/html": [
       "<div>\n",
       "<style scoped>\n",
       "    .dataframe tbody tr th:only-of-type {\n",
       "        vertical-align: middle;\n",
       "    }\n",
       "\n",
       "    .dataframe tbody tr th {\n",
       "        vertical-align: top;\n",
       "    }\n",
       "\n",
       "    .dataframe thead th {\n",
       "        text-align: right;\n",
       "    }\n",
       "</style>\n",
       "<table border=\"1\" class=\"dataframe\">\n",
       "  <thead>\n",
       "    <tr style=\"text-align: right;\">\n",
       "      <th></th>\n",
       "      <th>Order Item Total</th>\n",
       "      <th>Order Item Discount Rate</th>\n",
       "      <th>Order Item Discount</th>\n",
       "      <th>Order Item Quantity</th>\n",
       "      <th>Order Item Profit Ratio</th>\n",
       "      <th>Product Price</th>\n",
       "    </tr>\n",
       "    <tr>\n",
       "      <th>Order Item Id</th>\n",
       "      <th></th>\n",
       "      <th></th>\n",
       "      <th></th>\n",
       "      <th></th>\n",
       "      <th></th>\n",
       "      <th></th>\n",
       "    </tr>\n",
       "  </thead>\n",
       "  <tbody>\n",
       "    <tr>\n",
       "      <th>171423</th>\n",
       "      <td>173.990005</td>\n",
       "      <td>0.13</td>\n",
       "      <td>26.000000</td>\n",
       "      <td>1</td>\n",
       "      <td>0.50</td>\n",
       "      <td>199.990005</td>\n",
       "    </tr>\n",
       "    <tr>\n",
       "      <th>114600</th>\n",
       "      <td>371.980011</td>\n",
       "      <td>0.07</td>\n",
       "      <td>28.000000</td>\n",
       "      <td>1</td>\n",
       "      <td>-0.48</td>\n",
       "      <td>399.980011</td>\n",
       "    </tr>\n",
       "    <tr>\n",
       "      <th>103898</th>\n",
       "      <td>224.910004</td>\n",
       "      <td>0.10</td>\n",
       "      <td>24.990000</td>\n",
       "      <td>5</td>\n",
       "      <td>-0.42</td>\n",
       "      <td>49.980000</td>\n",
       "    </tr>\n",
       "    <tr>\n",
       "      <th>39196</th>\n",
       "      <td>118.290001</td>\n",
       "      <td>0.09</td>\n",
       "      <td>11.700000</td>\n",
       "      <td>1</td>\n",
       "      <td>0.33</td>\n",
       "      <td>129.990005</td>\n",
       "    </tr>\n",
       "    <tr>\n",
       "      <th>79211</th>\n",
       "      <td>181.949997</td>\n",
       "      <td>0.09</td>\n",
       "      <td>18.000000</td>\n",
       "      <td>5</td>\n",
       "      <td>0.11</td>\n",
       "      <td>39.990002</td>\n",
       "    </tr>\n",
       "    <tr>\n",
       "      <th>101779</th>\n",
       "      <td>43.480000</td>\n",
       "      <td>0.13</td>\n",
       "      <td>6.500000</td>\n",
       "      <td>1</td>\n",
       "      <td>-1.55</td>\n",
       "      <td>49.980000</td>\n",
       "    </tr>\n",
       "    <tr>\n",
       "      <th>19894</th>\n",
       "      <td>383.980011</td>\n",
       "      <td>0.04</td>\n",
       "      <td>16.000000</td>\n",
       "      <td>1</td>\n",
       "      <td>0.42</td>\n",
       "      <td>399.980011</td>\n",
       "    </tr>\n",
       "    <tr>\n",
       "      <th>172105</th>\n",
       "      <td>959.989990</td>\n",
       "      <td>0.04</td>\n",
       "      <td>40.000000</td>\n",
       "      <td>1</td>\n",
       "      <td>0.36</td>\n",
       "      <td>999.989990</td>\n",
       "    </tr>\n",
       "    <tr>\n",
       "      <th>162112</th>\n",
       "      <td>81.989998</td>\n",
       "      <td>0.18</td>\n",
       "      <td>18.000000</td>\n",
       "      <td>1</td>\n",
       "      <td>0.10</td>\n",
       "      <td>99.989998</td>\n",
       "    </tr>\n",
       "    <tr>\n",
       "      <th>86691</th>\n",
       "      <td>203.970001</td>\n",
       "      <td>0.15</td>\n",
       "      <td>35.990002</td>\n",
       "      <td>4</td>\n",
       "      <td>0.09</td>\n",
       "      <td>59.990002</td>\n",
       "    </tr>\n",
       "  </tbody>\n",
       "</table>\n",
       "</div>"
      ],
      "text/plain": [
       "               Order Item Total  Order Item Discount Rate  \\\n",
       "Order Item Id                                               \n",
       "171423               173.990005                      0.13   \n",
       "114600               371.980011                      0.07   \n",
       "103898               224.910004                      0.10   \n",
       "39196                118.290001                      0.09   \n",
       "79211                181.949997                      0.09   \n",
       "101779                43.480000                      0.13   \n",
       "19894                383.980011                      0.04   \n",
       "172105               959.989990                      0.04   \n",
       "162112                81.989998                      0.18   \n",
       "86691                203.970001                      0.15   \n",
       "\n",
       "               Order Item Discount  Order Item Quantity  \\\n",
       "Order Item Id                                             \n",
       "171423                   26.000000                    1   \n",
       "114600                   28.000000                    1   \n",
       "103898                   24.990000                    5   \n",
       "39196                    11.700000                    1   \n",
       "79211                    18.000000                    5   \n",
       "101779                    6.500000                    1   \n",
       "19894                    16.000000                    1   \n",
       "172105                   40.000000                    1   \n",
       "162112                   18.000000                    1   \n",
       "86691                    35.990002                    4   \n",
       "\n",
       "               Order Item Profit Ratio  Product Price  \n",
       "Order Item Id                                          \n",
       "171423                            0.50     199.990005  \n",
       "114600                           -0.48     399.980011  \n",
       "103898                           -0.42      49.980000  \n",
       "39196                             0.33     129.990005  \n",
       "79211                             0.11      39.990002  \n",
       "101779                           -1.55      49.980000  \n",
       "19894                             0.42     399.980011  \n",
       "172105                            0.36     999.989990  \n",
       "162112                            0.10      99.989998  \n",
       "86691                             0.09      59.990002  "
      ]
     },
     "execution_count": 24,
     "metadata": {},
     "output_type": "execute_result"
    }
   ],
   "source": [
    "df[[\"Order Item Total\", \"Order Item Discount Rate\", \"Order Item Discount\", \"Order Item Quantity\", \"Order Item Profit Ratio\", \"Product Price\"]].sample(10)"
   ]
  },
  {
   "cell_type": "markdown",
   "id": "92dda917",
   "metadata": {},
   "source": [
    "From here, I notice that the `Product Price` multplied by the `Order Item Quantity` then subtracted by `Order Item Discount` gets us the `Order Item Total`. In other words:\n",
    "\n",
    "**Order Item Total = (Product Price x Order Item Quantity) - Order Item Discount**"
   ]
  },
  {
   "cell_type": "markdown",
   "id": "91276c2e",
   "metadata": {},
   "source": [
    "Let's test that out:"
   ]
  },
  {
   "cell_type": "code",
   "execution_count": 25,
   "id": "d07137a3",
   "metadata": {},
   "outputs": [
    {
     "data": {
      "text/html": [
       "<div>\n",
       "<style scoped>\n",
       "    .dataframe tbody tr th:only-of-type {\n",
       "        vertical-align: middle;\n",
       "    }\n",
       "\n",
       "    .dataframe tbody tr th {\n",
       "        vertical-align: top;\n",
       "    }\n",
       "\n",
       "    .dataframe thead th {\n",
       "        text-align: right;\n",
       "    }\n",
       "</style>\n",
       "<table border=\"1\" class=\"dataframe\">\n",
       "  <thead>\n",
       "    <tr style=\"text-align: right;\">\n",
       "      <th></th>\n",
       "      <th>Order Item Total</th>\n",
       "      <th>(PP*OIQ)-OID</th>\n",
       "    </tr>\n",
       "    <tr>\n",
       "      <th>Order Item Id</th>\n",
       "      <th></th>\n",
       "      <th></th>\n",
       "    </tr>\n",
       "  </thead>\n",
       "  <tbody>\n",
       "    <tr>\n",
       "      <th>40006</th>\n",
       "      <td>165.979996</td>\n",
       "      <td>165.979996</td>\n",
       "    </tr>\n",
       "    <tr>\n",
       "      <th>120500</th>\n",
       "      <td>191.979996</td>\n",
       "      <td>191.979996</td>\n",
       "    </tr>\n",
       "    <tr>\n",
       "      <th>163232</th>\n",
       "      <td>87.959999</td>\n",
       "      <td>87.959999</td>\n",
       "    </tr>\n",
       "    <tr>\n",
       "      <th>169537</th>\n",
       "      <td>80.000000</td>\n",
       "      <td>80.000000</td>\n",
       "    </tr>\n",
       "    <tr>\n",
       "      <th>157991</th>\n",
       "      <td>185.979996</td>\n",
       "      <td>185.979996</td>\n",
       "    </tr>\n",
       "    <tr>\n",
       "      <th>104910</th>\n",
       "      <td>94.459999</td>\n",
       "      <td>94.459999</td>\n",
       "    </tr>\n",
       "    <tr>\n",
       "      <th>132295</th>\n",
       "      <td>181.979996</td>\n",
       "      <td>181.979996</td>\n",
       "    </tr>\n",
       "    <tr>\n",
       "      <th>18876</th>\n",
       "      <td>115.180000</td>\n",
       "      <td>115.180003</td>\n",
       "    </tr>\n",
       "    <tr>\n",
       "      <th>123328</th>\n",
       "      <td>77.580002</td>\n",
       "      <td>77.580003</td>\n",
       "    </tr>\n",
       "    <tr>\n",
       "      <th>135826</th>\n",
       "      <td>109.180000</td>\n",
       "      <td>109.180003</td>\n",
       "    </tr>\n",
       "  </tbody>\n",
       "</table>\n",
       "</div>"
      ],
      "text/plain": [
       "               Order Item Total  (PP*OIQ)-OID\n",
       "Order Item Id                                \n",
       "40006                165.979996    165.979996\n",
       "120500               191.979996    191.979996\n",
       "163232                87.959999     87.959999\n",
       "169537                80.000000     80.000000\n",
       "157991               185.979996    185.979996\n",
       "104910                94.459999     94.459999\n",
       "132295               181.979996    181.979996\n",
       "18876                115.180000    115.180003\n",
       "123328                77.580002     77.580003\n",
       "135826               109.180000    109.180003"
      ]
     },
     "execution_count": 25,
     "metadata": {},
     "output_type": "execute_result"
    }
   ],
   "source": [
    "#temporary df\n",
    "df_temp = df.copy()\n",
    "\n",
    "df_temp[\"(PP*OIQ)-OID\"] = (df[\"Product Price\"] * df[\"Order Item Quantity\"]) - df[\"Order Item Discount\"]\n",
    "\n",
    "df_temp[df_temp[\"Order Item Quantity\"] == 2][[\"Order Item Total\", \"(PP*OIQ)-OID\"]].sample(10)"
   ]
  },
  {
   "cell_type": "markdown",
   "id": "0479acb1",
   "metadata": {},
   "source": [
    "We get equal numbers using the equation I discovered and the actual `Order Item Total`. Therefore, `Product Price`, `Order Item Discount`, and `Order Item Quantity` are directly related to `Order Item Total`."
   ]
  },
  {
   "cell_type": "markdown",
   "id": "738deda6",
   "metadata": {},
   "source": [
    "**What is Sales and Sales per customer?**"
   ]
  },
  {
   "cell_type": "markdown",
   "id": "928ca959",
   "metadata": {},
   "source": [
    "Here, I want to undestand what `Sales` means and how it differs with `Sales per customer`"
   ]
  },
  {
   "cell_type": "code",
   "execution_count": 26,
   "id": "3812c82c",
   "metadata": {},
   "outputs": [
    {
     "data": {
      "text/html": [
       "<div>\n",
       "<style scoped>\n",
       "    .dataframe tbody tr th:only-of-type {\n",
       "        vertical-align: middle;\n",
       "    }\n",
       "\n",
       "    .dataframe tbody tr th {\n",
       "        vertical-align: top;\n",
       "    }\n",
       "\n",
       "    .dataframe thead th {\n",
       "        text-align: right;\n",
       "    }\n",
       "</style>\n",
       "<table border=\"1\" class=\"dataframe\">\n",
       "  <thead>\n",
       "    <tr style=\"text-align: right;\">\n",
       "      <th></th>\n",
       "      <th>Sales</th>\n",
       "      <th>Product Price</th>\n",
       "      <th>Order Item Quantity</th>\n",
       "    </tr>\n",
       "    <tr>\n",
       "      <th>Order Item Id</th>\n",
       "      <th></th>\n",
       "      <th></th>\n",
       "      <th></th>\n",
       "    </tr>\n",
       "  </thead>\n",
       "  <tbody>\n",
       "    <tr>\n",
       "      <th>71956</th>\n",
       "      <td>119.980003</td>\n",
       "      <td>59.990002</td>\n",
       "      <td>2</td>\n",
       "    </tr>\n",
       "    <tr>\n",
       "      <th>113598</th>\n",
       "      <td>79.980003</td>\n",
       "      <td>39.990002</td>\n",
       "      <td>2</td>\n",
       "    </tr>\n",
       "    <tr>\n",
       "      <th>77757</th>\n",
       "      <td>100.000000</td>\n",
       "      <td>50.000000</td>\n",
       "      <td>2</td>\n",
       "    </tr>\n",
       "    <tr>\n",
       "      <th>114401</th>\n",
       "      <td>79.980003</td>\n",
       "      <td>39.990002</td>\n",
       "      <td>2</td>\n",
       "    </tr>\n",
       "    <tr>\n",
       "      <th>119405</th>\n",
       "      <td>100.000000</td>\n",
       "      <td>50.000000</td>\n",
       "      <td>2</td>\n",
       "    </tr>\n",
       "    <tr>\n",
       "      <th>...</th>\n",
       "      <td>...</td>\n",
       "      <td>...</td>\n",
       "      <td>...</td>\n",
       "    </tr>\n",
       "    <tr>\n",
       "      <th>146878</th>\n",
       "      <td>299.950012</td>\n",
       "      <td>59.990002</td>\n",
       "      <td>5</td>\n",
       "    </tr>\n",
       "    <tr>\n",
       "      <th>140507</th>\n",
       "      <td>299.950012</td>\n",
       "      <td>59.990002</td>\n",
       "      <td>5</td>\n",
       "    </tr>\n",
       "    <tr>\n",
       "      <th>149029</th>\n",
       "      <td>299.950012</td>\n",
       "      <td>59.990002</td>\n",
       "      <td>5</td>\n",
       "    </tr>\n",
       "    <tr>\n",
       "      <th>141241</th>\n",
       "      <td>199.949997</td>\n",
       "      <td>39.990002</td>\n",
       "      <td>5</td>\n",
       "    </tr>\n",
       "    <tr>\n",
       "      <th>22448</th>\n",
       "      <td>350.000000</td>\n",
       "      <td>70.000000</td>\n",
       "      <td>5</td>\n",
       "    </tr>\n",
       "  </tbody>\n",
       "</table>\n",
       "<p>81385 rows × 3 columns</p>\n",
       "</div>"
      ],
      "text/plain": [
       "                    Sales  Product Price  Order Item Quantity\n",
       "Order Item Id                                                \n",
       "71956          119.980003      59.990002                    2\n",
       "113598          79.980003      39.990002                    2\n",
       "77757          100.000000      50.000000                    2\n",
       "114401          79.980003      39.990002                    2\n",
       "119405         100.000000      50.000000                    2\n",
       "...                   ...            ...                  ...\n",
       "146878         299.950012      59.990002                    5\n",
       "140507         299.950012      59.990002                    5\n",
       "149029         299.950012      59.990002                    5\n",
       "141241         199.949997      39.990002                    5\n",
       "22448          350.000000      70.000000                    5\n",
       "\n",
       "[81385 rows x 3 columns]"
      ]
     },
     "execution_count": 26,
     "metadata": {},
     "output_type": "execute_result"
    }
   ],
   "source": [
    "df[df[\"Sales\"] != df[\"Product Price\"]][[\"Sales\", \"Product Price\", \"Order Item Quantity\"]]"
   ]
  },
  {
   "cell_type": "markdown",
   "id": "cff1e6c9",
   "metadata": {},
   "source": [
    "I noticed that `Product Price` and `Order Item Quantity` has a relation to `Sales`. When Order Item Quantity is 1, Product Price is always equals to Sales. So, I went to look at instances where Sales does not equal to Product Price. It turns out that Order Item Quantity is a multiplier of Product Price to get to Sales. Here is the equation of this relationship:"
   ]
  },
  {
   "cell_type": "markdown",
   "id": "4391d5b6",
   "metadata": {},
   "source": [
    "**Sales =  Product Price x Order Item Quantity**"
   ]
  },
  {
   "cell_type": "markdown",
   "id": "85f8a337",
   "metadata": {},
   "source": [
    "Now, how is Sales different with Sales per customer?"
   ]
  },
  {
   "cell_type": "code",
   "execution_count": 27,
   "id": "75bfa86e",
   "metadata": {},
   "outputs": [
    {
     "data": {
      "text/html": [
       "<div>\n",
       "<style scoped>\n",
       "    .dataframe tbody tr th:only-of-type {\n",
       "        vertical-align: middle;\n",
       "    }\n",
       "\n",
       "    .dataframe tbody tr th {\n",
       "        vertical-align: top;\n",
       "    }\n",
       "\n",
       "    .dataframe thead th {\n",
       "        text-align: right;\n",
       "    }\n",
       "</style>\n",
       "<table border=\"1\" class=\"dataframe\">\n",
       "  <thead>\n",
       "    <tr style=\"text-align: right;\">\n",
       "      <th></th>\n",
       "      <th>Sales per customer</th>\n",
       "      <th>Sales</th>\n",
       "      <th>Order Item Discount</th>\n",
       "    </tr>\n",
       "    <tr>\n",
       "      <th>Order Item Id</th>\n",
       "      <th></th>\n",
       "      <th></th>\n",
       "      <th></th>\n",
       "    </tr>\n",
       "  </thead>\n",
       "  <tbody>\n",
       "    <tr>\n",
       "      <th>180517</th>\n",
       "      <td>314.640015</td>\n",
       "      <td>327.750000</td>\n",
       "      <td>13.110000</td>\n",
       "    </tr>\n",
       "    <tr>\n",
       "      <th>179254</th>\n",
       "      <td>311.359985</td>\n",
       "      <td>327.750000</td>\n",
       "      <td>16.389999</td>\n",
       "    </tr>\n",
       "    <tr>\n",
       "      <th>179253</th>\n",
       "      <td>309.720001</td>\n",
       "      <td>327.750000</td>\n",
       "      <td>18.030001</td>\n",
       "    </tr>\n",
       "    <tr>\n",
       "      <th>179252</th>\n",
       "      <td>304.809998</td>\n",
       "      <td>327.750000</td>\n",
       "      <td>22.940001</td>\n",
       "    </tr>\n",
       "    <tr>\n",
       "      <th>179251</th>\n",
       "      <td>298.250000</td>\n",
       "      <td>327.750000</td>\n",
       "      <td>29.500000</td>\n",
       "    </tr>\n",
       "    <tr>\n",
       "      <th>...</th>\n",
       "      <td>...</td>\n",
       "      <td>...</td>\n",
       "      <td>...</td>\n",
       "    </tr>\n",
       "    <tr>\n",
       "      <th>65177</th>\n",
       "      <td>399.980011</td>\n",
       "      <td>399.980011</td>\n",
       "      <td>0.000000</td>\n",
       "    </tr>\n",
       "    <tr>\n",
       "      <th>65161</th>\n",
       "      <td>395.980011</td>\n",
       "      <td>399.980011</td>\n",
       "      <td>4.000000</td>\n",
       "    </tr>\n",
       "    <tr>\n",
       "      <th>65129</th>\n",
       "      <td>391.980011</td>\n",
       "      <td>399.980011</td>\n",
       "      <td>8.000000</td>\n",
       "    </tr>\n",
       "    <tr>\n",
       "      <th>65126</th>\n",
       "      <td>387.980011</td>\n",
       "      <td>399.980011</td>\n",
       "      <td>12.000000</td>\n",
       "    </tr>\n",
       "    <tr>\n",
       "      <th>65113</th>\n",
       "      <td>383.980011</td>\n",
       "      <td>399.980011</td>\n",
       "      <td>16.000000</td>\n",
       "    </tr>\n",
       "  </tbody>\n",
       "</table>\n",
       "<p>180516 rows × 3 columns</p>\n",
       "</div>"
      ],
      "text/plain": [
       "               Sales per customer       Sales  Order Item Discount\n",
       "Order Item Id                                                     \n",
       "180517                 314.640015  327.750000            13.110000\n",
       "179254                 311.359985  327.750000            16.389999\n",
       "179253                 309.720001  327.750000            18.030001\n",
       "179252                 304.809998  327.750000            22.940001\n",
       "179251                 298.250000  327.750000            29.500000\n",
       "...                           ...         ...                  ...\n",
       "65177                  399.980011  399.980011             0.000000\n",
       "65161                  395.980011  399.980011             4.000000\n",
       "65129                  391.980011  399.980011             8.000000\n",
       "65126                  387.980011  399.980011            12.000000\n",
       "65113                  383.980011  399.980011            16.000000\n",
       "\n",
       "[180516 rows x 3 columns]"
      ]
     },
     "execution_count": 27,
     "metadata": {},
     "output_type": "execute_result"
    }
   ],
   "source": [
    "df[[\"Sales per customer\", \"Sales\", \"Order Item Discount\"]]"
   ]
  },
  {
   "cell_type": "markdown",
   "id": "d558ccc1",
   "metadata": {},
   "source": [
    "I found out that Sales and Sales per customer is different in that **Sales per customer is always less than Sales**. So, I took a discount feature in the dataset, Order Item Discount, and quickly discover that Sales per customer is just `Sales` minus the `Order Item Discount`. Here is an equation of this relationship:"
   ]
  },
  {
   "cell_type": "markdown",
   "id": "4aa7b769",
   "metadata": {},
   "source": [
    "**Sales per customer = Sales - Order Item Discount**"
   ]
  },
  {
   "cell_type": "markdown",
   "id": "f112f9b7",
   "metadata": {},
   "source": [
    "## Data Preprocessing"
   ]
  },
  {
   "cell_type": "markdown",
   "id": "6b98e980",
   "metadata": {},
   "source": [
    "Now that we have a general understanding of the dataset, we can start to preprocess our data in order to start modeling our baseline. The baseline model will be one that is the simplest and aim to be at least better than a \"wild guess\".\n",
    "\n",
    "Here is the general approach of creating the **baseline model**:\n",
    "1. Have a binary target variable\n",
    "3. Have all features represented in numbers\n",
    "2. Run a basic Logistic Regression model"
   ]
  },
  {
   "cell_type": "markdown",
   "id": "1ebc17ae",
   "metadata": {},
   "source": [
    "### Feature Engineering"
   ]
  },
  {
   "cell_type": "code",
   "execution_count": 28,
   "id": "431d1dd6",
   "metadata": {
    "scrolled": false
   },
   "outputs": [
    {
     "name": "stdout",
     "output_type": "stream",
     "text": [
      "<class 'pandas.core.frame.DataFrame'>\n",
      "Int64Index: 180516 entries, 180517 to 65113\n",
      "Data columns (total 34 columns):\n",
      " #   Column                         Non-Null Count   Dtype         \n",
      "---  ------                         --------------   -----         \n",
      " 0   Type                           180516 non-null  object        \n",
      " 1   Days for shipment (scheduled)  180516 non-null  int64         \n",
      " 2   Benefit per order              180516 non-null  float64       \n",
      " 3   Sales per customer             180516 non-null  float64       \n",
      " 4   Delivery Status                180516 non-null  object        \n",
      " 5   Category Name                  180516 non-null  object        \n",
      " 6   Customer City                  180516 non-null  object        \n",
      " 7   Customer Country               180516 non-null  object        \n",
      " 8   Customer Id                    180516 non-null  object        \n",
      " 9   Customer Segment               180516 non-null  object        \n",
      " 10  Customer State                 180516 non-null  object        \n",
      " 11  Customer Street                180516 non-null  object        \n",
      " 12  Customer Zipcode               180516 non-null  object        \n",
      " 13  Department Name                180516 non-null  object        \n",
      " 14  Latitude                       180516 non-null  float64       \n",
      " 15  Longitude                      180516 non-null  float64       \n",
      " 16  Market                         180516 non-null  object        \n",
      " 17  Order City                     180516 non-null  object        \n",
      " 18  Order Country                  180516 non-null  object        \n",
      " 19  order date (DateOrders)        180516 non-null  datetime64[ns]\n",
      " 20  Order Id                       180516 non-null  object        \n",
      " 21  Order Item Discount            180516 non-null  float64       \n",
      " 22  Order Item Discount Rate       180516 non-null  float64       \n",
      " 23  Order Item Profit Ratio        180516 non-null  float64       \n",
      " 24  Order Item Quantity            180516 non-null  int64         \n",
      " 25  Sales                          180516 non-null  float64       \n",
      " 26  Order Item Total               180516 non-null  float64       \n",
      " 27  Order Region                   180516 non-null  object        \n",
      " 28  Order State                    180516 non-null  object        \n",
      " 29  Order Status                   180516 non-null  object        \n",
      " 30  Product Name                   180516 non-null  object        \n",
      " 31  Product Price                  180516 non-null  float64       \n",
      " 32  shipping date (DateOrders)     180516 non-null  datetime64[ns]\n",
      " 33  Shipping Mode                  180516 non-null  object        \n",
      "dtypes: datetime64[ns](2), float64(10), int64(2), object(20)\n",
      "memory usage: 48.2+ MB\n"
     ]
    }
   ],
   "source": [
    "df.info()"
   ]
  },
  {
   "cell_type": "markdown",
   "id": "8da78ea2",
   "metadata": {},
   "source": [
    "As we can see, even though our data are clean, we are dealing with a large number of categorical variables (stored as object type). We will need to convert these to numerical representations such that we can apply statistical modeling.\n",
    "\n",
    "First we will take a look at the `Delivery Status` column - this is the field of interest (target variable) that we would like to predict."
   ]
  },
  {
   "cell_type": "markdown",
   "id": "47696113",
   "metadata": {},
   "source": [
    "##### Delivery Status"
   ]
  },
  {
   "cell_type": "code",
   "execution_count": 29,
   "id": "e63c9d89",
   "metadata": {},
   "outputs": [
    {
     "data": {
      "text/plain": [
       "<AxesSubplot:title={'center':'Delivery Status'}, ylabel='Count'>"
      ]
     },
     "execution_count": 29,
     "metadata": {},
     "output_type": "execute_result"
    },
    {
     "data": {
      "image/png": "[encoded data removed]",
      "text/plain": [
       "<Figure size 640x480 with 1 Axes>"
      ]
     },
     "metadata": {},
     "output_type": "display_data"
    }
   ],
   "source": [
    "df[\"Delivery Status\"].value_counts().plot(kind='bar', title=\"Delivery Status\", ylabel=\"Count\")"
   ]
  },
  {
   "cell_type": "markdown",
   "id": "530b2c63",
   "metadata": {},
   "source": [
    "For the baseline model, I will want a binary variable. From understanding the target variables, we can modify the four variables into two: **Successful Delivery** and **Failed Delivery**\n",
    "\n",
    "To elaborate, a **Successful Delivery** is defined as **an order delivered by the promised time** meaning that it can be early, representing `Advance shipping`, or right on the promised day, representing `Shipping on time`. On the other hand, a **Failed Delivery** is defined as **an order delivered pass the promised time or not delivered at all** meaning that it is delivered late, representing `Late delivery`, or it got canceled, representing `Shipping canceled`. \n",
    "\n",
    "Hence, I am going to combine the target variables like such:\n",
    "1. `Successful Delivery` = Advance shipping + Shipping on time\n",
    "2. `Failed Delivery` = Late delivery + Shipping canceled"
   ]
  },
  {
   "cell_type": "code",
   "execution_count": 30,
   "id": "23c4f319",
   "metadata": {},
   "outputs": [],
   "source": [
    "#using map function to replace the variable names to its new identity.\n",
    "df[\"Delivery Status\"] = df[\"Delivery Status\"].map({'Advance shipping': 'Succesful Delivery', \n",
    "                                                   'Shipping on time': 'Succesful Delivery',\n",
    "                                                   'Late delivery' : 'Failed Delivery',\n",
    "                                                   'Shipping canceled' : 'Failed Delivery'\n",
    "                                                  })"
   ]
  },
  {
   "cell_type": "code",
   "execution_count": 31,
   "id": "c3a2cf7d",
   "metadata": {},
   "outputs": [
    {
     "data": {
      "text/plain": [
       "array(['Succesful Delivery', 'Failed Delivery'], dtype=object)"
      ]
     },
     "execution_count": 31,
     "metadata": {},
     "output_type": "execute_result"
    }
   ],
   "source": [
    "#sanity check: now delivery status has only two unique variables: Successful Delivery and Failed Delivery\n",
    "df[\"Delivery Status\"].unique()"
   ]
  },
  {
   "cell_type": "markdown",
   "id": "58421dbf",
   "metadata": {},
   "source": [
    "We have successfuly made out target variable binary! Now, I am going to represent the variable numerically by converting it to 0s and 1.\n",
    "\n",
    "- Successful Delivery = 1\n",
    "- Failed Delivery = 0"
   ]
  },
  {
   "cell_type": "code",
   "execution_count": 32,
   "id": "cf77211a",
   "metadata": {},
   "outputs": [],
   "source": [
    "#using map function to convert Delivery Status column into binary numbers of 0s and 1s.\n",
    "df[\"Delivery Status\"] = df[\"Delivery Status\"].map({'Succesful Delivery': 1, \n",
    "                                                   'Failed Delivery' : 0})"
   ]
  },
  {
   "cell_type": "code",
   "execution_count": 33,
   "id": "a64ced96",
   "metadata": {},
   "outputs": [
    {
     "data": {
      "text/plain": [
       "array([1, 0], dtype=int64)"
      ]
     },
     "execution_count": 33,
     "metadata": {},
     "output_type": "execute_result"
    }
   ],
   "source": [
    "#sanity check: only 1 and 0.\n",
    "df[\"Delivery Status\"].unique()"
   ]
  },
  {
   "cell_type": "markdown",
   "id": "8f0f8423",
   "metadata": {},
   "source": [
    "Now, the `Delivery Status` column is represented in binary numbers where 1s represent Successful Delivery and 0s represent Failed Delivery. The column is also now an **int64 data type**!"
   ]
  },
  {
   "cell_type": "code",
   "execution_count": 34,
   "id": "523622d7",
   "metadata": {},
   "outputs": [
    {
     "data": {
      "text/plain": [
       "<AxesSubplot:title={'center':'Proportion of Delivery Status'}, ylabel='Proportion'>"
      ]
     },
     "execution_count": 34,
     "metadata": {},
     "output_type": "execute_result"
    },
    {
     "data": {
      "image/png": "[encoded data removed]",
      "text/plain": [
       "<Figure size 640x480 with 1 Axes>"
      ]
     },
     "metadata": {},
     "output_type": "display_data"
    }
   ],
   "source": [
    "#plot the proportion of Delivery Status\n",
    "(df[\"Delivery Status\"].value_counts()/df.shape[0]).plot(kind='bar', title=\"Proportion of Delivery Status\", ylabel=\"Proportion\")"
   ]
  },
  {
   "cell_type": "code",
   "execution_count": 35,
   "id": "6c1a40c2",
   "metadata": {},
   "outputs": [
    {
     "data": {
      "text/plain": [
       "0    0.59125\n",
       "1    0.40875\n",
       "Name: Delivery Status, dtype: float64"
      ]
     },
     "execution_count": 35,
     "metadata": {},
     "output_type": "execute_result"
    }
   ],
   "source": [
    "#getting the porportion values\n",
    "df[\"Delivery Status\"].value_counts()/df.shape[0]"
   ]
  },
  {
   "cell_type": "markdown",
   "id": "ada4786b",
   "metadata": {},
   "source": [
    "Now, out target variable looks more balanced than before where we had class imbalances! About **59% of the order items are successfully delivered and about 41% are failed to be delivered**. Though, there is still some class imbalance here!"
   ]
  },
  {
   "cell_type": "markdown",
   "id": "690a3855",
   "metadata": {},
   "source": [
    "##### Features"
   ]
  },
  {
   "cell_type": "markdown",
   "id": "ee43261d",
   "metadata": {},
   "source": [
    "Now, I am going to represent all columns numerically.\n",
    "\n",
    "Let's extract the column names of non-numeric columns"
   ]
  },
  {
   "cell_type": "code",
   "execution_count": 36,
   "id": "a6a07088",
   "metadata": {},
   "outputs": [
    {
     "data": {
      "text/plain": [
       "Index(['Type', 'Category Name', 'Customer City', 'Customer Country',\n",
       "       'Customer Id', 'Customer Segment', 'Customer State', 'Customer Street',\n",
       "       'Customer Zipcode', 'Department Name', 'Market', 'Order City',\n",
       "       'Order Country', 'Order Id', 'Order Region', 'Order State',\n",
       "       'Order Status', 'Product Name', 'Shipping Mode'],\n",
       "      dtype='object')"
      ]
     },
     "execution_count": 36,
     "metadata": {},
     "output_type": "execute_result"
    }
   ],
   "source": [
    "#return only non-numeric column names\n",
    "non_numeric = df.select_dtypes(\"object\").columns\n",
    "non_numeric"
   ]
  },
  {
   "cell_type": "code",
   "execution_count": 37,
   "id": "f52575b8",
   "metadata": {},
   "outputs": [
    {
     "data": {
      "text/plain": [
       "Customer Country        2\n",
       "Customer Segment        3\n",
       "Type                    4\n",
       "Shipping Mode           4\n",
       "Market                  5\n",
       "Order Status            9\n",
       "Department Name        11\n",
       "Order Region           23\n",
       "Customer State         44\n",
       "Category Name          50\n",
       "Product Name          118\n",
       "Order Country         164\n",
       "Customer City         562\n",
       "Customer Zipcode      995\n",
       "Order State          1089\n",
       "Order City           3597\n",
       "Customer Street      7456\n",
       "Customer Id         20649\n",
       "Order Id            65749\n",
       "dtype: int64"
      ]
     },
     "execution_count": 37,
     "metadata": {},
     "output_type": "execute_result"
    }
   ],
   "source": [
    "#gets the number of unique values in each non_numeric columns\n",
    "df[non_numeric].nunique().sort_values()"
   ]
  },
  {
   "cell_type": "markdown",
   "id": "68e22ef9",
   "metadata": {},
   "source": [
    "I will drop `Customer Id` and `Order Id` due to its redundancy and number of unique values that it has which makes it hard to represent numerically. I am also going to drop `Product Name`, `Customer Street` `Order State`, `Order City`, `Order Country`, `Customer Zipcode`, and `Customer City` because it also holds a lot of unique values and there are other columns generalizes the details those columns entail such as Category Name, Customer State, and Order Region."
   ]
  },
  {
   "cell_type": "code",
   "execution_count": 38,
   "id": "4c36433b",
   "metadata": {},
   "outputs": [],
   "source": [
    "#dropping the nine features\n",
    "df.drop([\"Product Name\", \"Customer Id\", \"Order Id\", \"Customer Street\", \"Order City\", \"Order State\", \"Customer Zipcode\", \"Customer City\", \"Order Country\"], inplace=True, axis=1)"
   ]
  },
  {
   "cell_type": "code",
   "execution_count": 39,
   "id": "c2444871",
   "metadata": {},
   "outputs": [
    {
     "data": {
      "text/plain": [
       "Customer Country     2\n",
       "Customer Segment     3\n",
       "Type                 4\n",
       "Shipping Mode        4\n",
       "Market               5\n",
       "Order Status         9\n",
       "Department Name     11\n",
       "Order Region        23\n",
       "Customer State      44\n",
       "Category Name       50\n",
       "dtype: int64"
      ]
     },
     "execution_count": 39,
     "metadata": {},
     "output_type": "execute_result"
    }
   ],
   "source": [
    "#view non-numeric columns\n",
    "non_numeric = df.select_dtypes(\"object\").columns\n",
    "df[non_numeric].nunique().sort_values()"
   ]
  },
  {
   "cell_type": "markdown",
   "id": "8ca7199a",
   "metadata": {},
   "source": [
    "We are left with 10 non-numeric features. I am going to try to reduce the number of unique values in features that has more than 10 unique values. I am going to start with `Category Name`."
   ]
  },
  {
   "cell_type": "code",
   "execution_count": 40,
   "id": "26e6a38a",
   "metadata": {},
   "outputs": [
    {
     "data": {
      "text/plain": [
       "<AxesSubplot:title={'center':'Top 15 Category Names Ordered'}, ylabel='Count'>"
      ]
     },
     "execution_count": 40,
     "metadata": {},
     "output_type": "execute_result"
    },
    {
     "data": {
      "image/png": "[encoded data removed]",
      "text/plain": [
       "<Figure size 640x480 with 1 Axes>"
      ]
     },
     "metadata": {},
     "output_type": "display_data"
    }
   ],
   "source": [
    "#view top 15 category names in terms of count.\n",
    "df[\"Category Name\"].value_counts().head(15).plot(kind=\"bar\", title=\"Top 15 Category Names Ordered\", ylabel=\"Count\")"
   ]
  },
  {
   "cell_type": "markdown",
   "id": "a5c35a8e",
   "metadata": {},
   "source": [
    "As you can see, after the top 9th product, the count of order items drop significantly. I will consolidate the variables with small frequencies into a variable called \"Other Categories\"."
   ]
  },
  {
   "cell_type": "markdown",
   "id": "556f287d",
   "metadata": {},
   "source": [
    "Let's view the categories above top 9:"
   ]
  },
  {
   "cell_type": "code",
   "execution_count": 41,
   "id": "0cb0efbc",
   "metadata": {},
   "outputs": [
    {
     "data": {
      "text/plain": [
       "Golf Bags & Carts         61\n",
       "Basketball                67\n",
       "As Seen on  TV!           68\n",
       "Strength Training        111\n",
       "Soccer                   138\n",
       "Women's Golf Clubs       181\n",
       "Baby                     207\n",
       "Men's Clothing           208\n",
       "CDs                      271\n",
       "Men's Golf Clubs         283\n",
       "Fitness Accessories      309\n",
       "Tennis & Racquet         328\n",
       "Lacrosse                 343\n",
       "Sporting Goods           357\n",
       "Health and Beauty        362\n",
       "Kids' Golf Clubs         384\n",
       "Books                    405\n",
       "Boxing & MMA             423\n",
       "Consumer Electronics     430\n",
       "Music                    434\n",
       "Hunting & Shooting       440\n",
       "Golf Apparel             441\n",
       "Computers                442\n",
       "DVDs                     483\n",
       "Garden                   484\n",
       "Crafts                   484\n",
       "Pet Supplies             492\n",
       "Golf Shoes               524\n",
       "Toys                     529\n",
       "Cameras                  592\n",
       "Hockey                   614\n",
       "Baseball & Softball      632\n",
       "Women's Clothing         650\n",
       "Children's Clothing      651\n",
       "Video Games              837\n",
       "Trade-In                 974\n",
       "Golf Gloves             1070\n",
       "Girls' Apparel          1201\n",
       "Golf Balls              1475\n",
       "Accessories             1780\n",
       "Electronics             3156\n",
       "Name: Category Name, dtype: int64"
      ]
     },
     "execution_count": 41,
     "metadata": {},
     "output_type": "execute_result"
    }
   ],
   "source": [
    "#viewing categories above top 9\n",
    "other = df[\"Category Name\"].value_counts(ascending=True).head(50-9)\n",
    "other"
   ]
  },
  {
   "cell_type": "code",
   "execution_count": 42,
   "id": "c2906104",
   "metadata": {},
   "outputs": [],
   "source": [
    "#consolidate the 41 category names into \"Others\"\n",
    "df[\"Category Name\"] = np.where(df[\"Category Name\"].isin(other.index),\"Others Categories\", df['Category Name'])"
   ]
  },
  {
   "cell_type": "code",
   "execution_count": 43,
   "id": "0e9d49d1",
   "metadata": {},
   "outputs": [
    {
     "data": {
      "text/plain": [
       "<AxesSubplot:title={'center':'Category Names'}, ylabel='Count'>"
      ]
     },
     "execution_count": 43,
     "metadata": {},
     "output_type": "execute_result"
    },
    {
     "data": {
      "image/png": "[encoded data removed]",
      "text/plain": [
       "<Figure size 640x480 with 1 Axes>"
      ]
     },
     "metadata": {},
     "output_type": "display_data"
    }
   ],
   "source": [
    "#view all category names in terms of count.\n",
    "df[\"Category Name\"].value_counts().plot(kind=\"bar\", title=\"Category Names\", ylabel=\"Count\")"
   ]
  },
  {
   "cell_type": "markdown",
   "id": "7a0b7759",
   "metadata": {},
   "source": [
    "Now we have 10 categories for the `Category Name` feature, and the **Other Categories** variable that we just made is the second most frequent."
   ]
  },
  {
   "cell_type": "code",
   "execution_count": 44,
   "id": "6c1e5737",
   "metadata": {},
   "outputs": [
    {
     "data": {
      "text/plain": [
       "Customer Country     2\n",
       "Customer Segment     3\n",
       "Type                 4\n",
       "Shipping Mode        4\n",
       "Market               5\n",
       "Order Status         9\n",
       "Category Name       10\n",
       "Department Name     11\n",
       "Order Region        23\n",
       "Customer State      44\n",
       "dtype: int64"
      ]
     },
     "execution_count": 44,
     "metadata": {},
     "output_type": "execute_result"
    }
   ],
   "source": [
    "#view non-numeric columns\n",
    "non_numeric = df.select_dtypes(\"object\").columns\n",
    "df[non_numeric].nunique().sort_values()"
   ]
  },
  {
   "cell_type": "markdown",
   "id": "0755bcf2",
   "metadata": {},
   "source": [
    "Let's do the same thing to `Customer State`"
   ]
  },
  {
   "cell_type": "code",
   "execution_count": 45,
   "id": "615b7e48",
   "metadata": {},
   "outputs": [
    {
     "data": {
      "text/plain": [
       "<AxesSubplot:title={'center':'Top 15 Customer States'}, ylabel='Count'>"
      ]
     },
     "execution_count": 45,
     "metadata": {},
     "output_type": "execute_result"
    },
    {
     "data": {
      "image/png": "[encoded data removed]",
      "text/plain": [
       "<Figure size 640x480 with 1 Axes>"
      ]
     },
     "metadata": {},
     "output_type": "display_data"
    }
   ],
   "source": [
    "df[\"Customer State\"].value_counts().head(15).plot(kind='bar',title=\"Top 15 Customer States\", ylabel='Count')"
   ]
  },
  {
   "cell_type": "code",
   "execution_count": 46,
   "id": "4186921e",
   "metadata": {},
   "outputs": [
    {
     "data": {
      "text/plain": [
       "AL       35\n",
       "IA       67\n",
       "MT       87\n",
       "AR      164\n",
       "ID      167\n",
       "ND      215\n",
       "OK      232\n",
       "WV      241\n",
       "RI      243\n",
       "DE      269\n",
       "KS      458\n",
       "KY      487\n",
       "DC      579\n",
       "IN      581\n",
       "SC      665\n",
       "MN      672\n",
       "WI      850\n",
       "WA      920\n",
       "LA      948\n",
       "NM      949\n",
       "UT      968\n",
       "CT     1094\n",
       "HI     1248\n",
       "MO     1354\n",
       "NV     1440\n",
       "TN     1582\n",
       "MA     1607\n",
       "OR     1668\n",
       "VA     1849\n",
       "CO     1914\n",
       "NC     1992\n",
       "MD     2415\n",
       "GA     2503\n",
       "AZ     3026\n",
       "NJ     3191\n",
       "MI     3804\n",
       "PA     3824\n",
       "OH     4095\n",
       "FL     5456\n",
       "IL     7631\n",
       "TX     9103\n",
       "NY    11327\n",
       "Name: Customer State, dtype: int64"
      ]
     },
     "execution_count": 46,
     "metadata": {},
     "output_type": "execute_result"
    }
   ],
   "source": [
    "#viewing customer states above top 2\n",
    "other = df[\"Customer State\"].value_counts(ascending=True).head(44-2)\n",
    "other"
   ]
  },
  {
   "cell_type": "code",
   "execution_count": 47,
   "id": "3e362210",
   "metadata": {},
   "outputs": [],
   "source": [
    "#consolidate the 42 customer states into \"Others\"\n",
    "df[\"Customer State\"] = np.where(df[\"Customer State\"].isin(other.index),\"Others States\", df['Customer State'])"
   ]
  },
  {
   "cell_type": "code",
   "execution_count": 48,
   "id": "7da63cf3",
   "metadata": {},
   "outputs": [
    {
     "data": {
      "text/plain": [
       "<AxesSubplot:title={'center':'Customer States'}, ylabel='Count'>"
      ]
     },
     "execution_count": 48,
     "metadata": {},
     "output_type": "execute_result"
    },
    {
     "data": {
      "image/png": "[encoded data removed]",
      "text/plain": [
       "<Figure size 640x480 with 1 Axes>"
      ]
     },
     "metadata": {},
     "output_type": "display_data"
    }
   ],
   "source": [
    "#view all category names in terms of count.\n",
    "df[\"Customer State\"].value_counts().plot(kind=\"bar\", title=\"Customer States\", ylabel=\"Count\")"
   ]
  },
  {
   "cell_type": "markdown",
   "id": "2b840202",
   "metadata": {},
   "source": [
    "Now we have 3 state for the `Customer State` feature, and the **Other States** variable that we just made is the most frequent."
   ]
  },
  {
   "cell_type": "code",
   "execution_count": 49,
   "id": "20c1ef44",
   "metadata": {},
   "outputs": [
    {
     "data": {
      "text/plain": [
       "Customer Country     2\n",
       "Customer Segment     3\n",
       "Customer State       3\n",
       "Type                 4\n",
       "Shipping Mode        4\n",
       "Market               5\n",
       "Order Status         9\n",
       "Category Name       10\n",
       "Department Name     11\n",
       "Order Region        23\n",
       "dtype: int64"
      ]
     },
     "execution_count": 49,
     "metadata": {},
     "output_type": "execute_result"
    }
   ],
   "source": [
    "#view non-numeric columns\n",
    "non_numeric = df.select_dtypes(\"object\").columns\n",
    "df[non_numeric].nunique().sort_values()"
   ]
  },
  {
   "cell_type": "code",
   "execution_count": 50,
   "id": "08755454",
   "metadata": {},
   "outputs": [
    {
     "data": {
      "text/plain": [
       "<AxesSubplot:title={'center':'Order Region'}, ylabel='Count'>"
      ]
     },
     "execution_count": 50,
     "metadata": {},
     "output_type": "execute_result"
    },
    {
     "data": {
      "image/png": "[encoded data removed]",
      "text/plain": [
       "<Figure size 640x480 with 1 Axes>"
      ]
     },
     "metadata": {},
     "output_type": "display_data"
    }
   ],
   "source": [
    "#view all order regions in terms of count.\n",
    "df[\"Order Region\"].value_counts().plot(kind=\"bar\", title=\"Order Region\", ylabel=\"Count\")"
   ]
  },
  {
   "cell_type": "markdown",
   "id": "83a6cfb5",
   "metadata": {},
   "source": [
    "Here I notice that we can consolidate the variables into continental regions. For example, East Africa, Central Africa, and other African regions can be made into one variable, \"Africa\"."
   ]
  },
  {
   "cell_type": "code",
   "execution_count": 51,
   "id": "484d8402",
   "metadata": {},
   "outputs": [],
   "source": [
    "#lists all african region\n",
    "africa = [\"Central Africa\",\"East Africa\",\"Southern Africa\",\"North Africa\",\"West Africa\"]\n",
    "#lists all north american region\n",
    "na = [\"West of USA \", \"East of USA\", \"South of  USA \", \"US Center \", \"Canada\"]\n",
    "#lists all asian region\n",
    "asia = [\"Southeast Asia\", \"Eastern Asia\", \"West Asia\", \"Central Asia\", \"South Asia\"]\n",
    "#lists all central america region\n",
    "ca = [\"Caribbean\"]"
   ]
  },
  {
   "cell_type": "code",
   "execution_count": 52,
   "id": "d5eba910",
   "metadata": {},
   "outputs": [],
   "source": [
    "#consolidate the african regions into \"Africa\"\n",
    "df[\"Order Region\"] = np.where(df[\"Order Region\"].isin(africa), \"Africa\",df[\"Order Region\"])\n",
    "#consolidate the north american regions into \"North America\"\n",
    "df[\"Order Region\"] = np.where(df[\"Order Region\"].isin(na), \"North America\",df[\"Order Region\"])\n",
    "#consolidate the asian regions into \"Asia\"\n",
    "df[\"Order Region\"] = np.where(df[\"Order Region\"].isin(asia), \"Asia\",df[\"Order Region\"])\n",
    "#consolidate the central america regions into \"Central America\"\n",
    "df[\"Order Region\"] = np.where(df[\"Order Region\"].isin(ca), \"Central America\",df[\"Order Region\"])"
   ]
  },
  {
   "cell_type": "code",
   "execution_count": 53,
   "id": "7465adc7",
   "metadata": {},
   "outputs": [
    {
     "data": {
      "text/plain": [
       "<AxesSubplot:title={'center':'Order Region'}, ylabel='Count'>"
      ]
     },
     "execution_count": 53,
     "metadata": {},
     "output_type": "execute_result"
    },
    {
     "data": {
      "image/png": "[encoded data removed]",
      "text/plain": [
       "<Figure size 640x480 with 1 Axes>"
      ]
     },
     "metadata": {},
     "output_type": "display_data"
    }
   ],
   "source": [
    "#view all order regions in terms of count.\n",
    "df[\"Order Region\"].value_counts().plot(kind=\"bar\", title=\"Order Region\", ylabel=\"Count\")"
   ]
  },
  {
   "cell_type": "markdown",
   "id": "d0fadef3",
   "metadata": {},
   "source": [
    "After consolidating the variables, we now have 10 unique variables in the `Order Region` column!"
   ]
  },
  {
   "cell_type": "code",
   "execution_count": 54,
   "id": "85df403d",
   "metadata": {},
   "outputs": [
    {
     "data": {
      "text/plain": [
       "Customer Country     2\n",
       "Customer Segment     3\n",
       "Customer State       3\n",
       "Type                 4\n",
       "Shipping Mode        4\n",
       "Market               5\n",
       "Order Status         9\n",
       "Category Name       10\n",
       "Order Region        10\n",
       "Department Name     11\n",
       "dtype: int64"
      ]
     },
     "execution_count": 54,
     "metadata": {},
     "output_type": "execute_result"
    }
   ],
   "source": [
    "#view non-numeric columns\n",
    "non_numeric = df.select_dtypes(\"object\").columns\n",
    "df[non_numeric].nunique().sort_values()"
   ]
  },
  {
   "cell_type": "markdown",
   "id": "d431073d",
   "metadata": {},
   "source": [
    "Let's move on to `Department Name`"
   ]
  },
  {
   "cell_type": "code",
   "execution_count": 55,
   "id": "26d9e9fb",
   "metadata": {},
   "outputs": [
    {
     "data": {
      "text/plain": [
       "<AxesSubplot:title={'center':'Department Name'}, ylabel='Count'>"
      ]
     },
     "execution_count": 55,
     "metadata": {},
     "output_type": "execute_result"
    },
    {
     "data": {
      "image/png": "[encoded data removed]",
      "text/plain": [
       "<Figure size 640x480 with 1 Axes>"
      ]
     },
     "metadata": {},
     "output_type": "display_data"
    }
   ],
   "source": [
    "#view all Department Names in terms of count.\n",
    "df[\"Department Name\"].value_counts().plot(kind='bar', title=\"Department Name\", ylabel=\"Count\")"
   ]
  },
  {
   "cell_type": "markdown",
   "id": "fba2a3c1",
   "metadata": {},
   "source": [
    "Here, I am going to consolidate the variables above the top 4"
   ]
  },
  {
   "cell_type": "code",
   "execution_count": 56,
   "id": "32521674",
   "metadata": {},
   "outputs": [
    {
     "data": {
      "text/plain": [
       "Health and Beauty      362\n",
       "Book Shop              405\n",
       "Pet Shop               492\n",
       "Technology            1464\n",
       "Discs Shop            2025\n",
       "Fitness               2479\n",
       "Name: Department Name, dtype: int64"
      ]
     },
     "execution_count": 56,
     "metadata": {},
     "output_type": "execute_result"
    }
   ],
   "source": [
    "#viewing Department Name above top 5\n",
    "other = df[\"Department Name\"].value_counts(ascending=True).head(11-5)\n",
    "other"
   ]
  },
  {
   "cell_type": "code",
   "execution_count": 57,
   "id": "8b5a813a",
   "metadata": {},
   "outputs": [],
   "source": [
    "#consolidate the variables above top 5\n",
    "df[\"Department Name\"] = np.where(df[\"Department Name\"].isin(other.index), \"Other Departments\",df[\"Department Name\"])"
   ]
  },
  {
   "cell_type": "code",
   "execution_count": 58,
   "id": "fe80756d",
   "metadata": {},
   "outputs": [
    {
     "data": {
      "text/plain": [
       "<AxesSubplot:title={'center':'Department Name'}, ylabel='Count'>"
      ]
     },
     "execution_count": 58,
     "metadata": {},
     "output_type": "execute_result"
    },
    {
     "data": {
      "image/png": "[encoded data removed]",
      "text/plain": [
       "<Figure size 640x480 with 1 Axes>"
      ]
     },
     "metadata": {},
     "output_type": "display_data"
    }
   ],
   "source": [
    "#view all Department Names in terms of count.\n",
    "df[\"Department Name\"].value_counts().plot(kind='bar', title=\"Department Name\", ylabel=\"Count\")"
   ]
  },
  {
   "cell_type": "markdown",
   "id": "a5804be8",
   "metadata": {},
   "source": [
    "Now we have only 6 variables for `Department Name`"
   ]
  },
  {
   "cell_type": "code",
   "execution_count": 59,
   "id": "e68f1e03",
   "metadata": {},
   "outputs": [
    {
     "data": {
      "text/html": [
       "<div>\n",
       "<style scoped>\n",
       "    .dataframe tbody tr th:only-of-type {\n",
       "        vertical-align: middle;\n",
       "    }\n",
       "\n",
       "    .dataframe tbody tr th {\n",
       "        vertical-align: top;\n",
       "    }\n",
       "\n",
       "    .dataframe thead th {\n",
       "        text-align: right;\n",
       "    }\n",
       "</style>\n",
       "<table border=\"1\" class=\"dataframe\">\n",
       "  <thead>\n",
       "    <tr style=\"text-align: right;\">\n",
       "      <th></th>\n",
       "      <th>Type</th>\n",
       "      <th>Category Name</th>\n",
       "      <th>Customer Country</th>\n",
       "      <th>Customer Segment</th>\n",
       "      <th>Customer State</th>\n",
       "      <th>Department Name</th>\n",
       "      <th>Market</th>\n",
       "      <th>Order Region</th>\n",
       "      <th>Order Status</th>\n",
       "      <th>Shipping Mode</th>\n",
       "    </tr>\n",
       "    <tr>\n",
       "      <th>Order Item Id</th>\n",
       "      <th></th>\n",
       "      <th></th>\n",
       "      <th></th>\n",
       "      <th></th>\n",
       "      <th></th>\n",
       "      <th></th>\n",
       "      <th></th>\n",
       "      <th></th>\n",
       "      <th></th>\n",
       "      <th></th>\n",
       "    </tr>\n",
       "  </thead>\n",
       "  <tbody>\n",
       "    <tr>\n",
       "      <th>180517</th>\n",
       "      <td>DEBIT</td>\n",
       "      <td>Others Categories</td>\n",
       "      <td>Puerto Rico</td>\n",
       "      <td>Consumer</td>\n",
       "      <td>PR</td>\n",
       "      <td>Other Departments</td>\n",
       "      <td>Pacific Asia</td>\n",
       "      <td>Asia</td>\n",
       "      <td>COMPLETE</td>\n",
       "      <td>Standard Class</td>\n",
       "    </tr>\n",
       "    <tr>\n",
       "      <th>179254</th>\n",
       "      <td>TRANSFER</td>\n",
       "      <td>Others Categories</td>\n",
       "      <td>Puerto Rico</td>\n",
       "      <td>Consumer</td>\n",
       "      <td>PR</td>\n",
       "      <td>Other Departments</td>\n",
       "      <td>Pacific Asia</td>\n",
       "      <td>Asia</td>\n",
       "      <td>PENDING</td>\n",
       "      <td>Standard Class</td>\n",
       "    </tr>\n",
       "    <tr>\n",
       "      <th>179253</th>\n",
       "      <td>CASH</td>\n",
       "      <td>Others Categories</td>\n",
       "      <td>EE. UU.</td>\n",
       "      <td>Consumer</td>\n",
       "      <td>CA</td>\n",
       "      <td>Other Departments</td>\n",
       "      <td>Pacific Asia</td>\n",
       "      <td>Asia</td>\n",
       "      <td>CLOSED</td>\n",
       "      <td>Standard Class</td>\n",
       "    </tr>\n",
       "    <tr>\n",
       "      <th>179252</th>\n",
       "      <td>DEBIT</td>\n",
       "      <td>Others Categories</td>\n",
       "      <td>EE. UU.</td>\n",
       "      <td>Home Office</td>\n",
       "      <td>CA</td>\n",
       "      <td>Other Departments</td>\n",
       "      <td>Pacific Asia</td>\n",
       "      <td>Oceania</td>\n",
       "      <td>COMPLETE</td>\n",
       "      <td>Standard Class</td>\n",
       "    </tr>\n",
       "    <tr>\n",
       "      <th>179251</th>\n",
       "      <td>PAYMENT</td>\n",
       "      <td>Others Categories</td>\n",
       "      <td>Puerto Rico</td>\n",
       "      <td>Corporate</td>\n",
       "      <td>PR</td>\n",
       "      <td>Other Departments</td>\n",
       "      <td>Pacific Asia</td>\n",
       "      <td>Oceania</td>\n",
       "      <td>PENDING_PAYMENT</td>\n",
       "      <td>Standard Class</td>\n",
       "    </tr>\n",
       "    <tr>\n",
       "      <th>...</th>\n",
       "      <td>...</td>\n",
       "      <td>...</td>\n",
       "      <td>...</td>\n",
       "      <td>...</td>\n",
       "      <td>...</td>\n",
       "      <td>...</td>\n",
       "      <td>...</td>\n",
       "      <td>...</td>\n",
       "      <td>...</td>\n",
       "      <td>...</td>\n",
       "    </tr>\n",
       "    <tr>\n",
       "      <th>65177</th>\n",
       "      <td>CASH</td>\n",
       "      <td>Fishing</td>\n",
       "      <td>EE. UU.</td>\n",
       "      <td>Home Office</td>\n",
       "      <td>Others States</td>\n",
       "      <td>Fan Shop</td>\n",
       "      <td>Pacific Asia</td>\n",
       "      <td>Asia</td>\n",
       "      <td>CLOSED</td>\n",
       "      <td>Standard Class</td>\n",
       "    </tr>\n",
       "    <tr>\n",
       "      <th>65161</th>\n",
       "      <td>DEBIT</td>\n",
       "      <td>Fishing</td>\n",
       "      <td>EE. UU.</td>\n",
       "      <td>Corporate</td>\n",
       "      <td>CA</td>\n",
       "      <td>Fan Shop</td>\n",
       "      <td>Pacific Asia</td>\n",
       "      <td>Asia</td>\n",
       "      <td>COMPLETE</td>\n",
       "      <td>Second Class</td>\n",
       "    </tr>\n",
       "    <tr>\n",
       "      <th>65129</th>\n",
       "      <td>TRANSFER</td>\n",
       "      <td>Fishing</td>\n",
       "      <td>EE. UU.</td>\n",
       "      <td>Corporate</td>\n",
       "      <td>Others States</td>\n",
       "      <td>Fan Shop</td>\n",
       "      <td>Pacific Asia</td>\n",
       "      <td>Oceania</td>\n",
       "      <td>PENDING</td>\n",
       "      <td>Standard Class</td>\n",
       "    </tr>\n",
       "    <tr>\n",
       "      <th>65126</th>\n",
       "      <td>PAYMENT</td>\n",
       "      <td>Fishing</td>\n",
       "      <td>Puerto Rico</td>\n",
       "      <td>Consumer</td>\n",
       "      <td>PR</td>\n",
       "      <td>Fan Shop</td>\n",
       "      <td>Pacific Asia</td>\n",
       "      <td>Oceania</td>\n",
       "      <td>PENDING_PAYMENT</td>\n",
       "      <td>Standard Class</td>\n",
       "    </tr>\n",
       "    <tr>\n",
       "      <th>65113</th>\n",
       "      <td>PAYMENT</td>\n",
       "      <td>Fishing</td>\n",
       "      <td>Puerto Rico</td>\n",
       "      <td>Consumer</td>\n",
       "      <td>PR</td>\n",
       "      <td>Fan Shop</td>\n",
       "      <td>Pacific Asia</td>\n",
       "      <td>Asia</td>\n",
       "      <td>PENDING_PAYMENT</td>\n",
       "      <td>Standard Class</td>\n",
       "    </tr>\n",
       "  </tbody>\n",
       "</table>\n",
       "<p>180516 rows × 10 columns</p>\n",
       "</div>"
      ],
      "text/plain": [
       "                   Type      Category Name Customer Country Customer Segment  \\\n",
       "Order Item Id                                                                  \n",
       "180517            DEBIT  Others Categories      Puerto Rico         Consumer   \n",
       "179254         TRANSFER  Others Categories      Puerto Rico         Consumer   \n",
       "179253             CASH  Others Categories          EE. UU.         Consumer   \n",
       "179252            DEBIT  Others Categories          EE. UU.      Home Office   \n",
       "179251          PAYMENT  Others Categories      Puerto Rico        Corporate   \n",
       "...                 ...                ...              ...              ...   \n",
       "65177              CASH            Fishing          EE. UU.      Home Office   \n",
       "65161             DEBIT            Fishing          EE. UU.        Corporate   \n",
       "65129          TRANSFER            Fishing          EE. UU.        Corporate   \n",
       "65126           PAYMENT            Fishing      Puerto Rico         Consumer   \n",
       "65113           PAYMENT            Fishing      Puerto Rico         Consumer   \n",
       "\n",
       "              Customer State    Department Name        Market Order Region  \\\n",
       "Order Item Id                                                                \n",
       "180517                    PR  Other Departments  Pacific Asia         Asia   \n",
       "179254                    PR  Other Departments  Pacific Asia         Asia   \n",
       "179253                    CA  Other Departments  Pacific Asia         Asia   \n",
       "179252                    CA  Other Departments  Pacific Asia      Oceania   \n",
       "179251                    PR  Other Departments  Pacific Asia      Oceania   \n",
       "...                      ...                ...           ...          ...   \n",
       "65177          Others States           Fan Shop  Pacific Asia         Asia   \n",
       "65161                     CA           Fan Shop  Pacific Asia         Asia   \n",
       "65129          Others States           Fan Shop  Pacific Asia      Oceania   \n",
       "65126                     PR           Fan Shop  Pacific Asia      Oceania   \n",
       "65113                     PR           Fan Shop  Pacific Asia         Asia   \n",
       "\n",
       "                  Order Status   Shipping Mode  \n",
       "Order Item Id                                   \n",
       "180517                COMPLETE  Standard Class  \n",
       "179254                 PENDING  Standard Class  \n",
       "179253                  CLOSED  Standard Class  \n",
       "179252                COMPLETE  Standard Class  \n",
       "179251         PENDING_PAYMENT  Standard Class  \n",
       "...                        ...             ...  \n",
       "65177                   CLOSED  Standard Class  \n",
       "65161                 COMPLETE    Second Class  \n",
       "65129                  PENDING  Standard Class  \n",
       "65126          PENDING_PAYMENT  Standard Class  \n",
       "65113          PENDING_PAYMENT  Standard Class  \n",
       "\n",
       "[180516 rows x 10 columns]"
      ]
     },
     "execution_count": 59,
     "metadata": {},
     "output_type": "execute_result"
    }
   ],
   "source": [
    "#view all non_numeric columns\n",
    "non_numeric = df.select_dtypes(\"object\").columns\n",
    "df[non_numeric]"
   ]
  },
  {
   "cell_type": "code",
   "execution_count": 60,
   "id": "8138cb40",
   "metadata": {},
   "outputs": [
    {
     "data": {
      "text/plain": [
       "Customer Country     2\n",
       "Customer Segment     3\n",
       "Customer State       3\n",
       "Type                 4\n",
       "Shipping Mode        4\n",
       "Market               5\n",
       "Department Name      6\n",
       "Order Status         9\n",
       "Category Name       10\n",
       "Order Region        10\n",
       "dtype: int64"
      ]
     },
     "execution_count": 60,
     "metadata": {},
     "output_type": "execute_result"
    }
   ],
   "source": [
    "df[non_numeric].nunique().sort_values()"
   ]
  },
  {
   "cell_type": "markdown",
   "id": "5b0f563c",
   "metadata": {},
   "source": [
    "##### Representing the Non-Numerical Features in Numbers "
   ]
  },
  {
   "cell_type": "markdown",
   "id": "dcd1f940",
   "metadata": {},
   "source": [
    "Here, I am going to represent each non-numerical features with 1s and 0s by using the `get_dummies` function."
   ]
  },
  {
   "cell_type": "code",
   "execution_count": 61,
   "id": "a7d07000",
   "metadata": {},
   "outputs": [],
   "source": [
    "df = pd.get_dummies(data=df,columns=non_numeric, drop_first=True)"
   ]
  },
  {
   "cell_type": "code",
   "execution_count": 62,
   "id": "df44b620",
   "metadata": {},
   "outputs": [
    {
     "data": {
      "text/html": [
       "<div>\n",
       "<style scoped>\n",
       "    .dataframe tbody tr th:only-of-type {\n",
       "        vertical-align: middle;\n",
       "    }\n",
       "\n",
       "    .dataframe tbody tr th {\n",
       "        vertical-align: top;\n",
       "    }\n",
       "\n",
       "    .dataframe thead th {\n",
       "        text-align: right;\n",
       "    }\n",
       "</style>\n",
       "<table border=\"1\" class=\"dataframe\">\n",
       "  <thead>\n",
       "    <tr style=\"text-align: right;\">\n",
       "      <th></th>\n",
       "      <th>Days for shipment (scheduled)</th>\n",
       "      <th>Benefit per order</th>\n",
       "      <th>Sales per customer</th>\n",
       "      <th>Delivery Status</th>\n",
       "      <th>Latitude</th>\n",
       "      <th>Longitude</th>\n",
       "      <th>order date (DateOrders)</th>\n",
       "      <th>Order Item Discount</th>\n",
       "      <th>Order Item Discount Rate</th>\n",
       "      <th>Order Item Profit Ratio</th>\n",
       "      <th>...</th>\n",
       "      <th>Order Status_COMPLETE</th>\n",
       "      <th>Order Status_ON_HOLD</th>\n",
       "      <th>Order Status_PAYMENT_REVIEW</th>\n",
       "      <th>Order Status_PENDING</th>\n",
       "      <th>Order Status_PENDING_PAYMENT</th>\n",
       "      <th>Order Status_PROCESSING</th>\n",
       "      <th>Order Status_SUSPECTED_FRAUD</th>\n",
       "      <th>Shipping Mode_Same Day</th>\n",
       "      <th>Shipping Mode_Second Class</th>\n",
       "      <th>Shipping Mode_Standard Class</th>\n",
       "    </tr>\n",
       "    <tr>\n",
       "      <th>Order Item Id</th>\n",
       "      <th></th>\n",
       "      <th></th>\n",
       "      <th></th>\n",
       "      <th></th>\n",
       "      <th></th>\n",
       "      <th></th>\n",
       "      <th></th>\n",
       "      <th></th>\n",
       "      <th></th>\n",
       "      <th></th>\n",
       "      <th></th>\n",
       "      <th></th>\n",
       "      <th></th>\n",
       "      <th></th>\n",
       "      <th></th>\n",
       "      <th></th>\n",
       "      <th></th>\n",
       "      <th></th>\n",
       "      <th></th>\n",
       "      <th></th>\n",
       "      <th></th>\n",
       "    </tr>\n",
       "  </thead>\n",
       "  <tbody>\n",
       "    <tr>\n",
       "      <th>180517</th>\n",
       "      <td>4</td>\n",
       "      <td>91.250000</td>\n",
       "      <td>314.640015</td>\n",
       "      <td>1</td>\n",
       "      <td>18.251453</td>\n",
       "      <td>-66.037056</td>\n",
       "      <td>2018-01-31 22:56:00</td>\n",
       "      <td>13.110000</td>\n",
       "      <td>0.04</td>\n",
       "      <td>0.29</td>\n",
       "      <td>...</td>\n",
       "      <td>1</td>\n",
       "      <td>0</td>\n",
       "      <td>0</td>\n",
       "      <td>0</td>\n",
       "      <td>0</td>\n",
       "      <td>0</td>\n",
       "      <td>0</td>\n",
       "      <td>0</td>\n",
       "      <td>0</td>\n",
       "      <td>1</td>\n",
       "    </tr>\n",
       "    <tr>\n",
       "      <th>179254</th>\n",
       "      <td>4</td>\n",
       "      <td>-249.089996</td>\n",
       "      <td>311.359985</td>\n",
       "      <td>0</td>\n",
       "      <td>18.279451</td>\n",
       "      <td>-66.037064</td>\n",
       "      <td>2018-01-13 12:27:00</td>\n",
       "      <td>16.389999</td>\n",
       "      <td>0.05</td>\n",
       "      <td>-0.80</td>\n",
       "      <td>...</td>\n",
       "      <td>0</td>\n",
       "      <td>0</td>\n",
       "      <td>0</td>\n",
       "      <td>1</td>\n",
       "      <td>0</td>\n",
       "      <td>0</td>\n",
       "      <td>0</td>\n",
       "      <td>0</td>\n",
       "      <td>0</td>\n",
       "      <td>1</td>\n",
       "    </tr>\n",
       "    <tr>\n",
       "      <th>179253</th>\n",
       "      <td>4</td>\n",
       "      <td>-247.779999</td>\n",
       "      <td>309.720001</td>\n",
       "      <td>1</td>\n",
       "      <td>37.292233</td>\n",
       "      <td>-121.881279</td>\n",
       "      <td>2018-01-13 12:06:00</td>\n",
       "      <td>18.030001</td>\n",
       "      <td>0.06</td>\n",
       "      <td>-0.80</td>\n",
       "      <td>...</td>\n",
       "      <td>0</td>\n",
       "      <td>0</td>\n",
       "      <td>0</td>\n",
       "      <td>0</td>\n",
       "      <td>0</td>\n",
       "      <td>0</td>\n",
       "      <td>0</td>\n",
       "      <td>0</td>\n",
       "      <td>0</td>\n",
       "      <td>1</td>\n",
       "    </tr>\n",
       "    <tr>\n",
       "      <th>179252</th>\n",
       "      <td>4</td>\n",
       "      <td>22.860001</td>\n",
       "      <td>304.809998</td>\n",
       "      <td>1</td>\n",
       "      <td>34.125946</td>\n",
       "      <td>-118.291016</td>\n",
       "      <td>2018-01-13 11:45:00</td>\n",
       "      <td>22.940001</td>\n",
       "      <td>0.07</td>\n",
       "      <td>0.08</td>\n",
       "      <td>...</td>\n",
       "      <td>1</td>\n",
       "      <td>0</td>\n",
       "      <td>0</td>\n",
       "      <td>0</td>\n",
       "      <td>0</td>\n",
       "      <td>0</td>\n",
       "      <td>0</td>\n",
       "      <td>0</td>\n",
       "      <td>0</td>\n",
       "      <td>1</td>\n",
       "    </tr>\n",
       "    <tr>\n",
       "      <th>179251</th>\n",
       "      <td>4</td>\n",
       "      <td>134.210007</td>\n",
       "      <td>298.250000</td>\n",
       "      <td>1</td>\n",
       "      <td>18.253769</td>\n",
       "      <td>-66.037048</td>\n",
       "      <td>2018-01-13 11:24:00</td>\n",
       "      <td>29.500000</td>\n",
       "      <td>0.09</td>\n",
       "      <td>0.45</td>\n",
       "      <td>...</td>\n",
       "      <td>0</td>\n",
       "      <td>0</td>\n",
       "      <td>0</td>\n",
       "      <td>0</td>\n",
       "      <td>1</td>\n",
       "      <td>0</td>\n",
       "      <td>0</td>\n",
       "      <td>0</td>\n",
       "      <td>0</td>\n",
       "      <td>1</td>\n",
       "    </tr>\n",
       "    <tr>\n",
       "      <th>...</th>\n",
       "      <td>...</td>\n",
       "      <td>...</td>\n",
       "      <td>...</td>\n",
       "      <td>...</td>\n",
       "      <td>...</td>\n",
       "      <td>...</td>\n",
       "      <td>...</td>\n",
       "      <td>...</td>\n",
       "      <td>...</td>\n",
       "      <td>...</td>\n",
       "      <td>...</td>\n",
       "      <td>...</td>\n",
       "      <td>...</td>\n",
       "      <td>...</td>\n",
       "      <td>...</td>\n",
       "      <td>...</td>\n",
       "      <td>...</td>\n",
       "      <td>...</td>\n",
       "      <td>...</td>\n",
       "      <td>...</td>\n",
       "      <td>...</td>\n",
       "    </tr>\n",
       "    <tr>\n",
       "      <th>65177</th>\n",
       "      <td>4</td>\n",
       "      <td>40.000000</td>\n",
       "      <td>399.980011</td>\n",
       "      <td>1</td>\n",
       "      <td>40.640930</td>\n",
       "      <td>-73.942711</td>\n",
       "      <td>2016-01-16 03:40:00</td>\n",
       "      <td>0.000000</td>\n",
       "      <td>0.00</td>\n",
       "      <td>0.10</td>\n",
       "      <td>...</td>\n",
       "      <td>0</td>\n",
       "      <td>0</td>\n",
       "      <td>0</td>\n",
       "      <td>0</td>\n",
       "      <td>0</td>\n",
       "      <td>0</td>\n",
       "      <td>0</td>\n",
       "      <td>0</td>\n",
       "      <td>0</td>\n",
       "      <td>1</td>\n",
       "    </tr>\n",
       "    <tr>\n",
       "      <th>65161</th>\n",
       "      <td>2</td>\n",
       "      <td>-613.770019</td>\n",
       "      <td>395.980011</td>\n",
       "      <td>0</td>\n",
       "      <td>35.362545</td>\n",
       "      <td>-119.018700</td>\n",
       "      <td>2016-01-16 01:34:00</td>\n",
       "      <td>4.000000</td>\n",
       "      <td>0.01</td>\n",
       "      <td>-1.55</td>\n",
       "      <td>...</td>\n",
       "      <td>1</td>\n",
       "      <td>0</td>\n",
       "      <td>0</td>\n",
       "      <td>0</td>\n",
       "      <td>0</td>\n",
       "      <td>0</td>\n",
       "      <td>0</td>\n",
       "      <td>0</td>\n",
       "      <td>1</td>\n",
       "      <td>0</td>\n",
       "    </tr>\n",
       "    <tr>\n",
       "      <th>65129</th>\n",
       "      <td>4</td>\n",
       "      <td>141.110001</td>\n",
       "      <td>391.980011</td>\n",
       "      <td>0</td>\n",
       "      <td>41.629959</td>\n",
       "      <td>-72.967155</td>\n",
       "      <td>2016-01-15 21:00:00</td>\n",
       "      <td>8.000000</td>\n",
       "      <td>0.02</td>\n",
       "      <td>0.36</td>\n",
       "      <td>...</td>\n",
       "      <td>0</td>\n",
       "      <td>0</td>\n",
       "      <td>0</td>\n",
       "      <td>1</td>\n",
       "      <td>0</td>\n",
       "      <td>0</td>\n",
       "      <td>0</td>\n",
       "      <td>0</td>\n",
       "      <td>0</td>\n",
       "      <td>1</td>\n",
       "    </tr>\n",
       "    <tr>\n",
       "      <th>65126</th>\n",
       "      <td>4</td>\n",
       "      <td>186.229996</td>\n",
       "      <td>387.980011</td>\n",
       "      <td>1</td>\n",
       "      <td>18.213350</td>\n",
       "      <td>-66.370575</td>\n",
       "      <td>2016-01-15 20:18:00</td>\n",
       "      <td>12.000000</td>\n",
       "      <td>0.03</td>\n",
       "      <td>0.48</td>\n",
       "      <td>...</td>\n",
       "      <td>0</td>\n",
       "      <td>0</td>\n",
       "      <td>0</td>\n",
       "      <td>0</td>\n",
       "      <td>1</td>\n",
       "      <td>0</td>\n",
       "      <td>0</td>\n",
       "      <td>0</td>\n",
       "      <td>0</td>\n",
       "      <td>1</td>\n",
       "    </tr>\n",
       "    <tr>\n",
       "      <th>65113</th>\n",
       "      <td>4</td>\n",
       "      <td>168.949997</td>\n",
       "      <td>383.980011</td>\n",
       "      <td>1</td>\n",
       "      <td>18.290380</td>\n",
       "      <td>-66.370613</td>\n",
       "      <td>2016-01-15 18:54:00</td>\n",
       "      <td>16.000000</td>\n",
       "      <td>0.04</td>\n",
       "      <td>0.44</td>\n",
       "      <td>...</td>\n",
       "      <td>0</td>\n",
       "      <td>0</td>\n",
       "      <td>0</td>\n",
       "      <td>0</td>\n",
       "      <td>1</td>\n",
       "      <td>0</td>\n",
       "      <td>0</td>\n",
       "      <td>0</td>\n",
       "      <td>0</td>\n",
       "      <td>1</td>\n",
       "    </tr>\n",
       "  </tbody>\n",
       "</table>\n",
       "<p>180516 rows × 61 columns</p>\n",
       "</div>"
      ],
      "text/plain": [
       "               Days for shipment (scheduled)  Benefit per order  \\\n",
       "Order Item Id                                                     \n",
       "180517                                     4          91.250000   \n",
       "179254                                     4        -249.089996   \n",
       "179253                                     4        -247.779999   \n",
       "179252                                     4          22.860001   \n",
       "179251                                     4         134.210007   \n",
       "...                                      ...                ...   \n",
       "65177                                      4          40.000000   \n",
       "65161                                      2        -613.770019   \n",
       "65129                                      4         141.110001   \n",
       "65126                                      4         186.229996   \n",
       "65113                                      4         168.949997   \n",
       "\n",
       "               Sales per customer  Delivery Status   Latitude   Longitude  \\\n",
       "Order Item Id                                                               \n",
       "180517                 314.640015                1  18.251453  -66.037056   \n",
       "179254                 311.359985                0  18.279451  -66.037064   \n",
       "179253                 309.720001                1  37.292233 -121.881279   \n",
       "179252                 304.809998                1  34.125946 -118.291016   \n",
       "179251                 298.250000                1  18.253769  -66.037048   \n",
       "...                           ...              ...        ...         ...   \n",
       "65177                  399.980011                1  40.640930  -73.942711   \n",
       "65161                  395.980011                0  35.362545 -119.018700   \n",
       "65129                  391.980011                0  41.629959  -72.967155   \n",
       "65126                  387.980011                1  18.213350  -66.370575   \n",
       "65113                  383.980011                1  18.290380  -66.370613   \n",
       "\n",
       "              order date (DateOrders)  Order Item Discount  \\\n",
       "Order Item Id                                                \n",
       "180517            2018-01-31 22:56:00            13.110000   \n",
       "179254            2018-01-13 12:27:00            16.389999   \n",
       "179253            2018-01-13 12:06:00            18.030001   \n",
       "179252            2018-01-13 11:45:00            22.940001   \n",
       "179251            2018-01-13 11:24:00            29.500000   \n",
       "...                               ...                  ...   \n",
       "65177             2016-01-16 03:40:00             0.000000   \n",
       "65161             2016-01-16 01:34:00             4.000000   \n",
       "65129             2016-01-15 21:00:00             8.000000   \n",
       "65126             2016-01-15 20:18:00            12.000000   \n",
       "65113             2016-01-15 18:54:00            16.000000   \n",
       "\n",
       "               Order Item Discount Rate  Order Item Profit Ratio  ...  \\\n",
       "Order Item Id                                                     ...   \n",
       "180517                             0.04                     0.29  ...   \n",
       "179254                             0.05                    -0.80  ...   \n",
       "179253                             0.06                    -0.80  ...   \n",
       "179252                             0.07                     0.08  ...   \n",
       "179251                             0.09                     0.45  ...   \n",
       "...                                 ...                      ...  ...   \n",
       "65177                              0.00                     0.10  ...   \n",
       "65161                              0.01                    -1.55  ...   \n",
       "65129                              0.02                     0.36  ...   \n",
       "65126                              0.03                     0.48  ...   \n",
       "65113                              0.04                     0.44  ...   \n",
       "\n",
       "               Order Status_COMPLETE  Order Status_ON_HOLD  \\\n",
       "Order Item Id                                                \n",
       "180517                             1                     0   \n",
       "179254                             0                     0   \n",
       "179253                             0                     0   \n",
       "179252                             1                     0   \n",
       "179251                             0                     0   \n",
       "...                              ...                   ...   \n",
       "65177                              0                     0   \n",
       "65161                              1                     0   \n",
       "65129                              0                     0   \n",
       "65126                              0                     0   \n",
       "65113                              0                     0   \n",
       "\n",
       "               Order Status_PAYMENT_REVIEW  Order Status_PENDING  \\\n",
       "Order Item Id                                                      \n",
       "180517                                   0                     0   \n",
       "179254                                   0                     1   \n",
       "179253                                   0                     0   \n",
       "179252                                   0                     0   \n",
       "179251                                   0                     0   \n",
       "...                                    ...                   ...   \n",
       "65177                                    0                     0   \n",
       "65161                                    0                     0   \n",
       "65129                                    0                     1   \n",
       "65126                                    0                     0   \n",
       "65113                                    0                     0   \n",
       "\n",
       "              Order Status_PENDING_PAYMENT  Order Status_PROCESSING  \\\n",
       "Order Item Id                                                         \n",
       "180517                                   0                        0   \n",
       "179254                                   0                        0   \n",
       "179253                                   0                        0   \n",
       "179252                                   0                        0   \n",
       "179251                                   1                        0   \n",
       "...                                    ...                      ...   \n",
       "65177                                    0                        0   \n",
       "65161                                    0                        0   \n",
       "65129                                    0                        0   \n",
       "65126                                    1                        0   \n",
       "65113                                    1                        0   \n",
       "\n",
       "               Order Status_SUSPECTED_FRAUD  Shipping Mode_Same Day  \\\n",
       "Order Item Id                                                         \n",
       "180517                                    0                       0   \n",
       "179254                                    0                       0   \n",
       "179253                                    0                       0   \n",
       "179252                                    0                       0   \n",
       "179251                                    0                       0   \n",
       "...                                     ...                     ...   \n",
       "65177                                     0                       0   \n",
       "65161                                     0                       0   \n",
       "65129                                     0                       0   \n",
       "65126                                     0                       0   \n",
       "65113                                     0                       0   \n",
       "\n",
       "               Shipping Mode_Second Class  Shipping Mode_Standard Class  \n",
       "Order Item Id                                                            \n",
       "180517                                  0                             1  \n",
       "179254                                  0                             1  \n",
       "179253                                  0                             1  \n",
       "179252                                  0                             1  \n",
       "179251                                  0                             1  \n",
       "...                                   ...                           ...  \n",
       "65177                                   0                             1  \n",
       "65161                                   1                             0  \n",
       "65129                                   0                             1  \n",
       "65126                                   0                             1  \n",
       "65113                                   0                             1  \n",
       "\n",
       "[180516 rows x 61 columns]"
      ]
     },
     "execution_count": 62,
     "metadata": {},
     "output_type": "execute_result"
    }
   ],
   "source": [
    "df"
   ]
  },
  {
   "cell_type": "code",
   "execution_count": 63,
   "id": "c27fe2c5",
   "metadata": {},
   "outputs": [
    {
     "name": "stdout",
     "output_type": "stream",
     "text": [
      "<class 'pandas.core.frame.DataFrame'>\n",
      "Int64Index: 180516 entries, 180517 to 65113\n",
      "Data columns (total 61 columns):\n",
      " #   Column                              Non-Null Count   Dtype         \n",
      "---  ------                              --------------   -----         \n",
      " 0   Days for shipment (scheduled)       180516 non-null  int64         \n",
      " 1   Benefit per order                   180516 non-null  float64       \n",
      " 2   Sales per customer                  180516 non-null  float64       \n",
      " 3   Delivery Status                     180516 non-null  int64         \n",
      " 4   Latitude                            180516 non-null  float64       \n",
      " 5   Longitude                           180516 non-null  float64       \n",
      " 6   order date (DateOrders)             180516 non-null  datetime64[ns]\n",
      " 7   Order Item Discount                 180516 non-null  float64       \n",
      " 8   Order Item Discount Rate            180516 non-null  float64       \n",
      " 9   Order Item Profit Ratio             180516 non-null  float64       \n",
      " 10  Order Item Quantity                 180516 non-null  int64         \n",
      " 11  Sales                               180516 non-null  float64       \n",
      " 12  Order Item Total                    180516 non-null  float64       \n",
      " 13  Product Price                       180516 non-null  float64       \n",
      " 14  shipping date (DateOrders)          180516 non-null  datetime64[ns]\n",
      " 15  Type_DEBIT                          180516 non-null  uint8         \n",
      " 16  Type_PAYMENT                        180516 non-null  uint8         \n",
      " 17  Type_TRANSFER                       180516 non-null  uint8         \n",
      " 18  Category Name_Cardio Equipment      180516 non-null  uint8         \n",
      " 19  Category Name_Cleats                180516 non-null  uint8         \n",
      " 20  Category Name_Fishing               180516 non-null  uint8         \n",
      " 21  Category Name_Indoor/Outdoor Games  180516 non-null  uint8         \n",
      " 22  Category Name_Men's Footwear        180516 non-null  uint8         \n",
      " 23  Category Name_Others Categories     180516 non-null  uint8         \n",
      " 24  Category Name_Shop By Sport         180516 non-null  uint8         \n",
      " 25  Category Name_Water Sports          180516 non-null  uint8         \n",
      " 26  Category Name_Women's Apparel       180516 non-null  uint8         \n",
      " 27  Customer Country_Puerto Rico        180516 non-null  uint8         \n",
      " 28  Customer Segment_Corporate          180516 non-null  uint8         \n",
      " 29  Customer Segment_Home Office        180516 non-null  uint8         \n",
      " 30  Customer State_Others States        180516 non-null  uint8         \n",
      " 31  Customer State_PR                   180516 non-null  uint8         \n",
      " 32  Department Name_Fan Shop            180516 non-null  uint8         \n",
      " 33  Department Name_Footwear            180516 non-null  uint8         \n",
      " 34  Department Name_Golf                180516 non-null  uint8         \n",
      " 35  Department Name_Other Departments   180516 non-null  uint8         \n",
      " 36  Department Name_Outdoors            180516 non-null  uint8         \n",
      " 37  Market_Europe                       180516 non-null  uint8         \n",
      " 38  Market_LATAM                        180516 non-null  uint8         \n",
      " 39  Market_Pacific Asia                 180516 non-null  uint8         \n",
      " 40  Market_USCA                         180516 non-null  uint8         \n",
      " 41  Order Region_Asia                   180516 non-null  uint8         \n",
      " 42  Order Region_Central America        180516 non-null  uint8         \n",
      " 43  Order Region_Eastern Europe         180516 non-null  uint8         \n",
      " 44  Order Region_North America          180516 non-null  uint8         \n",
      " 45  Order Region_Northern Europe        180516 non-null  uint8         \n",
      " 46  Order Region_Oceania                180516 non-null  uint8         \n",
      " 47  Order Region_South America          180516 non-null  uint8         \n",
      " 48  Order Region_Southern Europe        180516 non-null  uint8         \n",
      " 49  Order Region_Western Europe         180516 non-null  uint8         \n",
      " 50  Order Status_CLOSED                 180516 non-null  uint8         \n",
      " 51  Order Status_COMPLETE               180516 non-null  uint8         \n",
      " 52  Order Status_ON_HOLD                180516 non-null  uint8         \n",
      " 53  Order Status_PAYMENT_REVIEW         180516 non-null  uint8         \n",
      " 54  Order Status_PENDING                180516 non-null  uint8         \n",
      " 55  Order Status_PENDING_PAYMENT        180516 non-null  uint8         \n",
      " 56  Order Status_PROCESSING             180516 non-null  uint8         \n",
      " 57  Order Status_SUSPECTED_FRAUD        180516 non-null  uint8         \n",
      " 58  Shipping Mode_Same Day              180516 non-null  uint8         \n",
      " 59  Shipping Mode_Second Class          180516 non-null  uint8         \n",
      " 60  Shipping Mode_Standard Class        180516 non-null  uint8         \n",
      "dtypes: datetime64[ns](2), float64(10), int64(3), uint8(46)\n",
      "memory usage: 30.0 MB\n"
     ]
    }
   ],
   "source": [
    "df.info()"
   ]
  },
  {
   "cell_type": "markdown",
   "id": "acfc49f9",
   "metadata": {},
   "source": [
    "Now I am going to deal with the **datetime** columns"
   ]
  },
  {
   "cell_type": "markdown",
   "id": "ccdb387b",
   "metadata": {},
   "source": [
    "##### Datetime"
   ]
  },
  {
   "cell_type": "markdown",
   "id": "a11cf2a6",
   "metadata": {},
   "source": [
    "We have two datetime columns: `order date (DateOrders)` and `shipping date (DateOrders)`. We have to drop `shipping date (DateOrders)` because it is the exact date and time of the shipment. We want to have the model that is able to predict the outcome of the deliveries before it is shipped, so, in practice, we would not have the actual information of the shipment in our prediction."
   ]
  },
  {
   "cell_type": "code",
   "execution_count": 64,
   "id": "ca2dd66e",
   "metadata": {},
   "outputs": [],
   "source": [
    "#drops the shipping date feature\n",
    "df.drop(\"shipping date (DateOrders)\", inplace=True, axis=1)"
   ]
  },
  {
   "cell_type": "markdown",
   "id": "d4d0d84d",
   "metadata": {},
   "source": [
    "For the `order date (DateOrders)` column, I am going make **month and year** features out of it."
   ]
  },
  {
   "cell_type": "code",
   "execution_count": 65,
   "id": "a45511ad",
   "metadata": {},
   "outputs": [],
   "source": [
    "#makes order month feature\n",
    "df[\"order_month\"] = df[\"order date (DateOrders)\"].dt.month\n",
    "#makes order year feature\n",
    "df[\"order_year\"] = df[\"order date (DateOrders)\"].dt.year"
   ]
  },
  {
   "cell_type": "code",
   "execution_count": 71,
   "id": "13c46b4d",
   "metadata": {},
   "outputs": [],
   "source": [
    "#dropping order date (DateOrders) because it is not redundant\n",
    "df.drop(\"order date (DateOrders)\", axis=1, inplace=True)"
   ]
  },
  {
   "cell_type": "code",
   "execution_count": 72,
   "id": "89ca2e88",
   "metadata": {},
   "outputs": [
    {
     "data": {
      "text/plain": [
       "(180516, 61)"
      ]
     },
     "execution_count": 72,
     "metadata": {},
     "output_type": "execute_result"
    }
   ],
   "source": [
    "#sanity check: 61 columns\n",
    "df.shape"
   ]
  },
  {
   "cell_type": "code",
   "execution_count": 73,
   "id": "ed3a4561",
   "metadata": {},
   "outputs": [
    {
     "name": "stdout",
     "output_type": "stream",
     "text": [
      "<class 'pandas.core.frame.DataFrame'>\n",
      "Int64Index: 180516 entries, 180517 to 65113\n",
      "Data columns (total 61 columns):\n",
      " #   Column                              Non-Null Count   Dtype  \n",
      "---  ------                              --------------   -----  \n",
      " 0   Days for shipment (scheduled)       180516 non-null  int64  \n",
      " 1   Benefit per order                   180516 non-null  float64\n",
      " 2   Sales per customer                  180516 non-null  float64\n",
      " 3   Delivery Status                     180516 non-null  int64  \n",
      " 4   Latitude                            180516 non-null  float64\n",
      " 5   Longitude                           180516 non-null  float64\n",
      " 6   Order Item Discount                 180516 non-null  float64\n",
      " 7   Order Item Discount Rate            180516 non-null  float64\n",
      " 8   Order Item Profit Ratio             180516 non-null  float64\n",
      " 9   Order Item Quantity                 180516 non-null  int64  \n",
      " 10  Sales                               180516 non-null  float64\n",
      " 11  Order Item Total                    180516 non-null  float64\n",
      " 12  Product Price                       180516 non-null  float64\n",
      " 13  Type_DEBIT                          180516 non-null  uint8  \n",
      " 14  Type_PAYMENT                        180516 non-null  uint8  \n",
      " 15  Type_TRANSFER                       180516 non-null  uint8  \n",
      " 16  Category Name_Cardio Equipment      180516 non-null  uint8  \n",
      " 17  Category Name_Cleats                180516 non-null  uint8  \n",
      " 18  Category Name_Fishing               180516 non-null  uint8  \n",
      " 19  Category Name_Indoor/Outdoor Games  180516 non-null  uint8  \n",
      " 20  Category Name_Men's Footwear        180516 non-null  uint8  \n",
      " 21  Category Name_Others Categories     180516 non-null  uint8  \n",
      " 22  Category Name_Shop By Sport         180516 non-null  uint8  \n",
      " 23  Category Name_Water Sports          180516 non-null  uint8  \n",
      " 24  Category Name_Women's Apparel       180516 non-null  uint8  \n",
      " 25  Customer Country_Puerto Rico        180516 non-null  uint8  \n",
      " 26  Customer Segment_Corporate          180516 non-null  uint8  \n",
      " 27  Customer Segment_Home Office        180516 non-null  uint8  \n",
      " 28  Customer State_Others States        180516 non-null  uint8  \n",
      " 29  Customer State_PR                   180516 non-null  uint8  \n",
      " 30  Department Name_Fan Shop            180516 non-null  uint8  \n",
      " 31  Department Name_Footwear            180516 non-null  uint8  \n",
      " 32  Department Name_Golf                180516 non-null  uint8  \n",
      " 33  Department Name_Other Departments   180516 non-null  uint8  \n",
      " 34  Department Name_Outdoors            180516 non-null  uint8  \n",
      " 35  Market_Europe                       180516 non-null  uint8  \n",
      " 36  Market_LATAM                        180516 non-null  uint8  \n",
      " 37  Market_Pacific Asia                 180516 non-null  uint8  \n",
      " 38  Market_USCA                         180516 non-null  uint8  \n",
      " 39  Order Region_Asia                   180516 non-null  uint8  \n",
      " 40  Order Region_Central America        180516 non-null  uint8  \n",
      " 41  Order Region_Eastern Europe         180516 non-null  uint8  \n",
      " 42  Order Region_North America          180516 non-null  uint8  \n",
      " 43  Order Region_Northern Europe        180516 non-null  uint8  \n",
      " 44  Order Region_Oceania                180516 non-null  uint8  \n",
      " 45  Order Region_South America          180516 non-null  uint8  \n",
      " 46  Order Region_Southern Europe        180516 non-null  uint8  \n",
      " 47  Order Region_Western Europe         180516 non-null  uint8  \n",
      " 48  Order Status_CLOSED                 180516 non-null  uint8  \n",
      " 49  Order Status_COMPLETE               180516 non-null  uint8  \n",
      " 50  Order Status_ON_HOLD                180516 non-null  uint8  \n",
      " 51  Order Status_PAYMENT_REVIEW         180516 non-null  uint8  \n",
      " 52  Order Status_PENDING                180516 non-null  uint8  \n",
      " 53  Order Status_PENDING_PAYMENT        180516 non-null  uint8  \n",
      " 54  Order Status_PROCESSING             180516 non-null  uint8  \n",
      " 55  Order Status_SUSPECTED_FRAUD        180516 non-null  uint8  \n",
      " 56  Shipping Mode_Same Day              180516 non-null  uint8  \n",
      " 57  Shipping Mode_Second Class          180516 non-null  uint8  \n",
      " 58  Shipping Mode_Standard Class        180516 non-null  uint8  \n",
      " 59  order_month                         180516 non-null  int64  \n",
      " 60  order_year                          180516 non-null  int64  \n",
      "dtypes: float64(10), int64(5), uint8(46)\n",
      "memory usage: 30.0 MB\n"
     ]
    }
   ],
   "source": [
    "#view data types\n",
    "df.info()"
   ]
  },
  {
   "cell_type": "markdown",
   "id": "26422f59",
   "metadata": {},
   "source": [
    "Now, all of our features are represented numerically!"
   ]
  },
  {
   "cell_type": "markdown",
   "id": "3f2e4c72",
   "metadata": {},
   "source": [
    "## Saving the Data"
   ]
  },
  {
   "cell_type": "markdown",
   "id": "2710da2b",
   "metadata": {},
   "source": [
    "Now that we have processed our data for baseline modelling, we can move on to the actual modelling!"
   ]
  },
  {
   "cell_type": "code",
   "execution_count": 74,
   "id": "c235c2be",
   "metadata": {},
   "outputs": [],
   "source": [
    "df.to_csv('Datasets\\preprocessed_DataCoSupplyChainDataset.csv', index=False)"
   ]
  }
 ],
 "metadata": {
  "kernelspec": {
   "display_name": "Python 3 (ipykernel)",
   "language": "python",
   "name": "python3"
  },
  "language_info": {
   "codemirror_mode": {
    "name": "ipython",
    "version": 3
   },
   "file_extension": ".py",
   "mimetype": "text/x-python",
   "name": "python",
   "nbconvert_exporter": "python",
   "pygments_lexer": "ipython3",
   "version": "3.8.16"
  }
 },
 "nbformat": 4,
 "nbformat_minor": 5
}
