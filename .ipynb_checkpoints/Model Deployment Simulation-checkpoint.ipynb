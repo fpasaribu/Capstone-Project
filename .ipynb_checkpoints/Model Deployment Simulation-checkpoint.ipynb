{
 "cells": [
  {
   "cell_type": "markdown",
   "id": "8268d538",
   "metadata": {},
   "source": [
    "# Model Deployment Simulation"
   ]
  },
  {
   "cell_type": "markdown",
   "id": "dd1c7ef8",
   "metadata": {},
   "source": [
    "Project: **Predicting Shipment Outcomes and Inferring Causes of Potential Disruptions**  \n",
    "Created by: **Fauzan Pasaribu**\n",
    "\n",
    "The objective of the project is to create a model that can predict the shipment outcome of a particular order item. If the model predicts that the shipment of the order item encounters disruptions, the model would then deduce the causes of such disruption.\n",
    "\n",
    "**In this notebook, we will demonstrate how the machine learning model we created will be used in practice.**"
   ]
  },
  {
   "cell_type": "markdown",
   "id": "eec1798d",
   "metadata": {},
   "source": [
    "# Contents\n",
    "1. [Chosen Models](#Chosen-Models)<br>\n",
    "2. [How the Models are Used in Practice](#How-the-Models-are-Used-in-Practice)<br>\n",
    "    a.[Demonstration](#Demonstration)<br>"
   ]
  },
  {
   "cell_type": "markdown",
   "id": "2ff0afd4",
   "metadata": {},
   "source": [
    "## Chosen Models"
   ]
  },
  {
   "cell_type": "markdown",
   "id": "af9f319d",
   "metadata": {},
   "source": [
    "The models that we have chosen were:\n",
    "1. Binary Classification: Model 5.0\n",
    "    - RandomForestClassifier(n_estimators = 95, max_depth = 10)\n",
    "    - Highest AUC score, high interpretability, third in accuracy.\n",
    "2. Multiclass Classifcation: Model 8.1\n",
    "    - RandomForestClassifier(n_estimators = 30, max_depth = 15)\n",
    "        - Second in AUC score and accuracy, high interpretability\n",
    "    - XGBClassifier(n_estimators = 40, max_depth = 8)\n",
    "        - Highest AUC score and accuracy"
   ]
  },
  {
   "cell_type": "markdown",
   "id": "2a39d090",
   "metadata": {},
   "source": [
    "## How the Models are Used in Practice"
   ]
  },
  {
   "cell_type": "markdown",
   "id": "52600918",
   "metadata": {},
   "source": [
    "The binary classification model is used as a high-level predictor of whether the shipment of the order item will be successful or not and provides the reasoning behind why the shipment will **fail** if predicted as such."
   ]
  },
  {
   "cell_type": "markdown",
   "id": "9524157f",
   "metadata": {},
   "source": [
    "The multiclass classification model gives a more detailed prediction of what the status of the shipment will be for that particular order item and provides the reasoning behind why the shipment will be **late or canceled** if predicted as such."
   ]
  },
  {
   "cell_type": "markdown",
   "id": "60d57c4a",
   "metadata": {},
   "source": [
    "### Demonstration"
   ]
  },
  {
   "cell_type": "markdown",
   "id": "0c01c220",
   "metadata": {},
   "source": [
    "A third-party logistics company, SHIP.inc, ships order items from Customer A to Buyer B. Here is how SHIP.inc fulfills a shipment order: \n",
    "1. Buyer B makes an order to buy products from Customer A \n",
    "2. Customer A initiates a shipment order to SHIP.inc to ship the order items to Buyer B\n",
    "3. SHIP.inc processes the order and picks up the order items\n",
    "4. SHIP.inc delivers the order items to Buyer B."
   ]
  },
  {
   "cell_type": "markdown",
   "id": "ec65c886",
   "metadata": {},
   "source": [
    "Most of the time, SHIP.inc sees shipments not being fulfilled succesfully due to unforseen reasons. SHIP.inc wants to be able to predict which order items will potentially fail to be delivered and determine what the potential causes are so that SHIP.inc could anticipate and prevent the order items from failing to be delivered."
   ]
  },
  {
   "cell_type": "markdown",
   "id": "ed782d38",
   "metadata": {},
   "source": [
    "SHIP.inc decides to use machine learning models that I created to do just that!"
   ]
  },
  {
   "cell_type": "markdown",
   "id": "4e7b8b7d",
   "metadata": {},
   "source": [
    "**Here is a demo of how it would work:**"
   ]
  },
  {
   "cell_type": "code",
   "execution_count": 61,
   "id": "28d7061f",
   "metadata": {
    "scrolled": false
   },
   "outputs": [],
   "source": [
    "import pandas as pd\n",
    "import numpy as np\n",
    "#ignores warnings\n",
    "import warnings\n",
    "warnings.filterwarnings(\"ignore\")\n",
    "\n",
    "#loading clean and processed data\n",
    "df = pd.read_csv(\"Datasets\\simulation_DataCoSupplyChainDataset.csv\")\n",
    "\n",
    "#split data into train and test\n",
    "#180,000 rows for train\n",
    "#516 rows for test\n",
    "df_train = df.iloc[:180000,:]\n",
    "df_test = df.iloc[180000:,:]\n",
    "\n",
    "#making a new column for binary\n",
    "df_train[\"Delivery Status_Binary\"] = df_train[\"Delivery Status\"].map({0:1, 3:1, 1:0, 2:0})\n",
    "\n",
    "#dropping delivery status for df_test because this is the target variable\n",
    "df_test.drop(\"Delivery Status\", axis=1, inplace=True)"
   ]
  },
  {
   "cell_type": "markdown",
   "id": "f06d9ff6",
   "metadata": {},
   "source": [
    "Here, the model gets access to the database of SHIP.inc in its raw form. Then the data are processed and cleaned in the background before the model works it magic!"
   ]
  },
  {
   "cell_type": "markdown",
   "id": "3ccb17f2",
   "metadata": {},
   "source": [
    "**1. An order item of an order arrives from Customer A (a random row from the raw dataset)**"
   ]
  },
  {
   "cell_type": "code",
   "execution_count": 96,
   "id": "8afe484f",
   "metadata": {},
   "outputs": [
    {
     "data": {
      "text/html": [
       "<div>\n",
       "<style scoped>\n",
       "    .dataframe tbody tr th:only-of-type {\n",
       "        vertical-align: middle;\n",
       "    }\n",
       "\n",
       "    .dataframe tbody tr th {\n",
       "        vertical-align: top;\n",
       "    }\n",
       "\n",
       "    .dataframe thead th {\n",
       "        text-align: right;\n",
       "    }\n",
       "</style>\n",
       "<table border=\"1\" class=\"dataframe\">\n",
       "  <thead>\n",
       "    <tr style=\"text-align: right;\">\n",
       "      <th></th>\n",
       "      <th>Sales per customer</th>\n",
       "      <th>Longitude</th>\n",
       "      <th>Order Item Discount Rate</th>\n",
       "      <th>Order Item Profit Ratio</th>\n",
       "      <th>Order Item Quantity</th>\n",
       "      <th>order_month</th>\n",
       "      <th>order_year</th>\n",
       "      <th>Type_TRANSFER</th>\n",
       "      <th>Category Name_Cardio Equipment</th>\n",
       "      <th>Category Name_Cleats</th>\n",
       "      <th>...</th>\n",
       "      <th>Order Status_COMPLETE</th>\n",
       "      <th>Order Status_ON_HOLD</th>\n",
       "      <th>Order Status_PAYMENT_REVIEW</th>\n",
       "      <th>Order Status_PENDING</th>\n",
       "      <th>Order Status_PENDING_PAYMENT</th>\n",
       "      <th>Order Status_PROCESSING</th>\n",
       "      <th>Order Status_SUSPECTED_FRAUD</th>\n",
       "      <th>Shipping Mode_Same Day</th>\n",
       "      <th>Shipping Mode_Second Class</th>\n",
       "      <th>Shipping Mode_Standard Class</th>\n",
       "    </tr>\n",
       "  </thead>\n",
       "  <tbody>\n",
       "    <tr>\n",
       "      <th>180427</th>\n",
       "      <td>377.980011</td>\n",
       "      <td>-84.112473</td>\n",
       "      <td>0.06</td>\n",
       "      <td>0.18</td>\n",
       "      <td>1.0</td>\n",
       "      <td>1.0</td>\n",
       "      <td>2016.0</td>\n",
       "      <td>0.0</td>\n",
       "      <td>0.0</td>\n",
       "      <td>0.0</td>\n",
       "      <td>...</td>\n",
       "      <td>0.0</td>\n",
       "      <td>0.0</td>\n",
       "      <td>0.0</td>\n",
       "      <td>0.0</td>\n",
       "      <td>0.0</td>\n",
       "      <td>0.0</td>\n",
       "      <td>0.0</td>\n",
       "      <td>0.0</td>\n",
       "      <td>1.0</td>\n",
       "      <td>0.0</td>\n",
       "    </tr>\n",
       "  </tbody>\n",
       "</table>\n",
       "<p>1 rows × 42 columns</p>\n",
       "</div>"
      ],
      "text/plain": [
       "        Sales per customer  Longitude  Order Item Discount Rate  \\\n",
       "180427          377.980011 -84.112473                      0.06   \n",
       "\n",
       "        Order Item Profit Ratio  Order Item Quantity  order_month  order_year  \\\n",
       "180427                     0.18                  1.0          1.0      2016.0   \n",
       "\n",
       "        Type_TRANSFER  Category Name_Cardio Equipment  Category Name_Cleats  \\\n",
       "180427            0.0                             0.0                   0.0   \n",
       "\n",
       "        ...  Order Status_COMPLETE  Order Status_ON_HOLD  \\\n",
       "180427  ...                    0.0                   0.0   \n",
       "\n",
       "        Order Status_PAYMENT_REVIEW  Order Status_PENDING  \\\n",
       "180427                          0.0                   0.0   \n",
       "\n",
       "        Order Status_PENDING_PAYMENT  Order Status_PROCESSING  \\\n",
       "180427                           0.0                      0.0   \n",
       "\n",
       "        Order Status_SUSPECTED_FRAUD  Shipping Mode_Same Day  \\\n",
       "180427                           0.0                     0.0   \n",
       "\n",
       "        Shipping Mode_Second Class  Shipping Mode_Standard Class  \n",
       "180427                         1.0                           0.0  \n",
       "\n",
       "[1 rows x 42 columns]"
      ]
     },
     "execution_count": 96,
     "metadata": {},
     "output_type": "execute_result"
    }
   ],
   "source": [
    "#a random row from the raw dataset\n",
    "random_num = np.random.randint(0, 516) #generates a random integer between 0 and 516 because there are 180518 rows\n",
    "\n",
    "orderitem = pd.DataFrame(df_test.iloc[random_num]).transpose() #gets a random row from test data\n",
    "orderitem"
   ]
  },
  {
   "cell_type": "markdown",
   "id": "6d2234ca",
   "metadata": {},
   "source": [
    "**2. Then, the model takes the row and work its magic!**"
   ]
  },
  {
   "cell_type": "code",
   "execution_count": 97,
   "id": "1b81cb1d",
   "metadata": {
    "scrolled": true
   },
   "outputs": [
    {
     "name": "stdout",
     "output_type": "stream",
     "text": [
      "SHIPMENT OUTCOME PREDICTION\n",
      "-------------------------------\n",
      "\n",
      "The shipment of this order item is predicted to \u001b[1mfail\u001b[0m with a 82.42% confidence.\n",
      "\n",
      "Specifically, the shipment of this order item will be \u001b[1mcanceled\u001b[0m with a 80.43% probability of this being true.\n",
      "\n",
      "The top three factors leading to this shipment failure are:\n",
      "\n",
      "\u001b[1mShipping Mode_Standard Class\u001b[0m\n",
      "\u001b[1mShipping Mode_Same Day\u001b[0m\n",
      "\u001b[1mOrder Status_PENDING\u001b[0m\n"
     ]
    }
   ],
   "source": [
    "from sklearn.ensemble import RandomForestClassifier\n",
    "from xgboost import XGBClassifier\n",
    "import shap #Shapely used for inference\n",
    "\n",
    "#binary x and y\n",
    "X_binary = df_train.drop([\"Delivery Status\", \"Delivery Status_Binary\"], axis=1)\n",
    "y_binary = df_train[\"Delivery Status_Binary\"]\n",
    "\n",
    "#multiclass x and y\n",
    "X_mc = df_train.drop([\"Delivery Status\", \"Delivery Status_Binary\"], axis=1)\n",
    "y_mc = df_train[\"Delivery Status_Binary\"]\n",
    "\n",
    "########\n",
    "#binary#\n",
    "########\n",
    "binary_model = RandomForestClassifier(n_estimators = 95, max_depth = 10)\n",
    "binary_model.fit(X_binary, y_binary)\n",
    "hard_prediction_b = binary_model.predict(orderitem) #hard prediction \n",
    "soft_prediction_b = binary_model.predict_proba(orderitem) #soft prediction\n",
    "    \n",
    "############\n",
    "#multiclass#\n",
    "############\n",
    "\n",
    "#for prediction\n",
    "mc_model = XGBClassifier(n_estimators = 40, max_depth = 8)\n",
    "mc_model.fit(X_mc, y_mc)\n",
    "hard_prediction_mc = mc_model.predict(orderitem) #hard prediction\n",
    "soft_prediction_mc = mc_model.predict_proba(orderitem) #soft prediction\n",
    "\n",
    "#for inference\n",
    "rf = RandomForestClassifier(n_estimators = 30, max_depth = 15)\n",
    "rf.fit(X_mc, y_mc)\n",
    "\n",
    "print(\"SHIPMENT OUTCOME PREDICTION\")\n",
    "print(\"-------------------------------\\n\")\n",
    "\n",
    "###################\n",
    "####PREDICTIONS####\n",
    "###################\n",
    "\n",
    "#failed delivery\n",
    "if hard_prediction_b == 0:\n",
    "    print(f\"The shipment of this order item is predicted to \\033[1mfail\\033[0m with a {round(100*soft_prediction_b[0][0],2)}% confidence.\")\n",
    "    \n",
    "    if hard_prediction_mc == 1: #for Late delivery (1)\n",
    "        print(f\"\\nSpecifically, the shipment of this order item will be \\033[1mdelivered late\\033[0m with a {round(100*soft_prediction_mc[0][0],2)}% probability of this being true.\")\n",
    "    else: #for Shipping canceled (2)\n",
    "        print(f\"\\nSpecifically, the shipment of this order item will be \\033[1mcanceled\\033[0m with a {round(100*soft_prediction_mc[0][0],2)}% probability of this being true.\")\n",
    "\n",
    "    ######################################\n",
    "    ####INFERRING CAUSES OF DISRUPTION####\n",
    "    ######################################\n",
    "    \n",
    "    #only infer if delivery failed\n",
    "    \n",
    "    # Initialize the TreeExplainer with the Random Forest model\n",
    "    explainer = shap.TreeExplainer(rf)\n",
    "\n",
    "    # Calculate the feature contributions for the selected instance\n",
    "    shap_values = explainer.shap_values(orderitem)\n",
    "\n",
    "    feature_names = list(orderitem.columns)\n",
    "\n",
    "    # Get contributions of each feature\n",
    "    contributions = {}\n",
    "    for feature, contribution in zip(feature_names, shap_values[0][0]):\n",
    "        contributions[feature] = contribution #appending to the dictionary\n",
    "\n",
    "    sorted_contributions = sorted(contributions.items(), key=lambda x:x[1], reverse=True)\n",
    "    \n",
    "    print(f\"\\nThe top three factors leading to this shipment failure are:\\n\") \n",
    "    print(f\"\\033[1m{sorted_contributions[0][0]}\\033[0m\")\n",
    "    print(f\"\\033[1m{sorted_contributions[1][0]}\\033[0m\")\n",
    "    print(f\"\\033[1m{sorted_contributions[2][0]}\\033[0m\")\n",
    "\n",
    "        \n",
    "#successful delivery\n",
    "else:\n",
    "    print(f\"This order item is predicted to be \\033[1msuccessfully delivered\\033[0m with a {round(100*soft_prediction_b[0][1],2)}% confidence!\")\n",
    "    \n",
    "    if hard_prediction_mc == 0: #for Advanced shipping (0)\n",
    "        print(f\"\\nSpecifically, the shipment of this order item will be \\033[1mdelivered early than promised\\033[0m with a {round(100*soft_prediction_mc[0][0],2)}% probability of this being true.\")\n",
    "    else: #for Shipping on time (3)\n",
    "        print(f\"\\nSpecifically, the shipment of this order item will be \\033[1mdelivered exactly on the day promised\\033[0m with a {round(100*soft_prediction_mc[0][0],2)}% probability of this being true.\")"
   ]
  },
  {
   "cell_type": "markdown",
   "id": "f0333608",
   "metadata": {},
   "source": [
    "**3. SHIP.inc can act on the predictions especially when the model predicts a failed delivery**"
   ]
  }
 ],
 "metadata": {
  "kernelspec": {
   "display_name": "capstone",
   "language": "python",
   "name": "capstone"
  },
  "language_info": {
   "codemirror_mode": {
    "name": "ipython",
    "version": 3
   },
   "file_extension": ".py",
   "mimetype": "text/x-python",
   "name": "python",
   "nbconvert_exporter": "python",
   "pygments_lexer": "ipython3",
   "version": "3.8.16"
  }
 },
 "nbformat": 4,
 "nbformat_minor": 5
}
